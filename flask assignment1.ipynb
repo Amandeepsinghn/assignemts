{
 "cells": [
  {
   "cell_type": "markdown",
   "id": "8cbe2e15-60c1-4404-b9a0-378af1b81742",
   "metadata": {},
   "source": [
    "### ANS 1\n",
    "flask is a web framework which is used to make lightweighted web application easily from the falsk library.\n",
    "### ADVANTAGES:\n",
    "1) flask framework is very easy to use.\n",
    "2) flask can be used with any database like sql,nosql etc.\n",
    "3) flask is useful in making lightweigthed web application.\n",
    "\n"
   ]
  },
  {
   "cell_type": "markdown",
   "id": "89b451f8-916a-4977-bc2f-d9b99015d1dc",
   "metadata": {},
   "source": [
    "\n",
    "### ANS 2"
   ]
  },
  {
   "cell_type": "code",
   "execution_count": 2,
   "id": "e3162472-30ea-4b26-962c-1a5a5020e81e",
   "metadata": {},
   "outputs": [
    {
     "name": "stdout",
     "output_type": "stream",
     "text": [
      "Collecting Flask\n",
      "  Downloading Flask-2.3.2-py3-none-any.whl (96 kB)\n",
      "\u001b[2K     \u001b[90m━━━━━━━━━━━━━━━━━━━━━━━━━━━━━━━━━━━━━━━━\u001b[0m \u001b[32m96.9/96.9 kB\u001b[0m \u001b[31m3.9 MB/s\u001b[0m eta \u001b[36m0:00:00\u001b[0m\n",
      "\u001b[?25hRequirement already satisfied: Jinja2>=3.1.2 in /opt/conda/lib/python3.10/site-packages (from Flask) (3.1.2)\n",
      "Requirement already satisfied: click>=8.1.3 in /opt/conda/lib/python3.10/site-packages (from Flask) (8.1.3)\n",
      "Collecting blinker>=1.6.2\n",
      "  Downloading blinker-1.6.2-py3-none-any.whl (13 kB)\n",
      "Collecting itsdangerous>=2.1.2\n",
      "  Downloading itsdangerous-2.1.2-py3-none-any.whl (15 kB)\n",
      "Collecting Werkzeug>=2.3.3\n",
      "  Downloading Werkzeug-2.3.6-py3-none-any.whl (242 kB)\n",
      "\u001b[2K     \u001b[90m━━━━━━━━━━━━━━━━━━━━━━━━━━━━━━━━━━━━━━\u001b[0m \u001b[32m242.5/242.5 kB\u001b[0m \u001b[31m30.8 MB/s\u001b[0m eta \u001b[36m0:00:00\u001b[0m\n",
      "\u001b[?25hRequirement already satisfied: MarkupSafe>=2.0 in /opt/conda/lib/python3.10/site-packages (from Jinja2>=3.1.2->Flask) (2.1.1)\n",
      "Installing collected packages: Werkzeug, itsdangerous, blinker, Flask\n",
      "  Attempting uninstall: blinker\n",
      "    Found existing installation: blinker 1.5\n",
      "    Uninstalling blinker-1.5:\n",
      "      Successfully uninstalled blinker-1.5\n",
      "Successfully installed Flask-2.3.2 Werkzeug-2.3.6 blinker-1.6.2 itsdangerous-2.1.2\n",
      "Note: you may need to restart the kernel to use updated packages.\n"
     ]
    }
   ],
   "source": [
    "pip install Flask"
   ]
  },
  {
   "cell_type": "code",
   "execution_count": null,
   "id": "365cc8f1-0753-4ed4-9d6e-c0a130a5bed3",
   "metadata": {},
   "outputs": [],
   "source": [
    "from flask import Flask\n",
    "\n",
    "app=Flask(__name__) \n",
    "\n",
    "@app.route('/')\n",
    "def fun():\n",
    "    return( 'hello world')\n",
    "\n",
    "if __name__==\"__main__\":\n",
    "    app.run(host=\"0.0.0.0\")\n",
    "    "
   ]
  },
  {
   "cell_type": "markdown",
   "id": "fcd8c647-c960-446b-9c57-a1449fde8453",
   "metadata": {},
   "source": [
    "![](hello_world.jpg)"
   ]
  },
  {
   "cell_type": "markdown",
   "id": "a7e5dcb7-f6d3-49ec-83d8-c14ad5be4182",
   "metadata": {},
   "source": [
    "### ANS 3\n",
    "app routing is way to provide a url to a client to access the function. app routes is used to give the address or shwos the path to access the function of the program.\n",
    "@app.route('/',mehtods=[\"GET]"
   ]
  },
  {
   "cell_type": "markdown",
   "id": "9d93d6fa-6db7-4610-8f5f-cbe95b8e439f",
   "metadata": {},
   "source": [
    "Q4. Create a “/welcome” route to display the welcome message “Welcome to ABC Corporation” and a “/”\n",
    "route to show the following details:\n",
    "Company Name: ABC Corporation\n",
    "Location: India\n",
    "Contact Detail: 999-999-9999\n",
    "### ANS 4"
   ]
  },
  {
   "cell_type": "code",
   "execution_count": null,
   "id": "9b525871-502b-4eb0-98bf-30f66b8e05d1",
   "metadata": {},
   "outputs": [],
   "source": [
    "from flask import Flask\n",
    "\n",
    "app=Flask(__name__)\n",
    "\n",
    "@app.route('/')\n",
    "def msg():\n",
    "    return('WELCOME TO ABC Corporation')\n",
    "\n",
    "@app.route('/lo')\n",
    "def name():\n",
    "    a=str('name : abc corporation')\n",
    "    b=str('location:india')\n",
    "    c=str('contacts_details:999-999-9999')\n",
    "    \n",
    "    return('details'+a+b+c)\n",
    "             \n",
    "if __name__==\"__main__\":\n",
    "             app.run(host=\"0.0.0.0\")"
   ]
  },
  {
   "cell_type": "markdown",
   "id": "c9b33874-cfbb-4608-8664-ad761744f817",
   "metadata": {},
   "source": [
    "![](abc.jpg)"
   ]
  },
  {
   "cell_type": "markdown",
   "id": "22ce2ea6-de98-423f-8561-290ab02e0c3c",
   "metadata": {},
   "source": [
    "Q5. What function is used in Flask for URL Building? Write a Python code to demonstrate the working of the\n",
    "url_for() function.\n",
    "### ANS 5 \n",
    "1) url binding helpus us to define a funciton which should be used given it url which is bind to it. \n",
    "@app.route('/')  we can say / is url binding.\n",
    "2) url_for() function is used to get the url whiich is used for the routing for that specific fucntion.\n"
   ]
  },
  {
   "cell_type": "code",
   "execution_count": null,
   "id": "7c166526-9ff1-40bb-80b7-e83b3f42eb75",
   "metadata": {},
   "outputs": [],
   "source": [
    "from flask import Flask,url_for\n",
    "\n",
    "app=Flask(__name__)\n",
    "\n",
    "@app.route('/')\n",
    "def aman():\n",
    "    return('aman')\n",
    "\n",
    "if __name__==\"__main__\":\n",
    "    app.run(host=\"0.0.0.0\")\n",
    "    print(url_for('aman'))"
   ]
  }
 ],
 "metadata": {
  "kernelspec": {
   "display_name": "Python 3 (ipykernel)",
   "language": "python",
   "name": "python3"
  },
  "language_info": {
   "codemirror_mode": {
    "name": "ipython",
    "version": 3
   },
   "file_extension": ".py",
   "mimetype": "text/x-python",
   "name": "python",
   "nbconvert_exporter": "python",
   "pygments_lexer": "ipython3",
   "version": "3.10.8"
  }
 },
 "nbformat": 4,
 "nbformat_minor": 5
}
