{
 "cells": [
  {
   "cell_type": "markdown",
   "id": "3863901e-f1ed-411d-9d27-608006449e4b",
   "metadata": {},
   "source": [
    "### ANS 1\n",
    "1) pmf stands for the probability mass fucntion it is used to compute the probability of specific point and its cmf tells us the probability of less than or equals to specific point\n",
    "2) pdf stands for the probability denisuty fucntion it tells us the density of probabilities of ranges of  point and its cmf tells us the proabaility of less or equals to specific point"
   ]
  },
  {
   "cell_type": "markdown",
   "id": "f35c36d8-9900-4ef2-98a1-ba5c972a0d0a",
   "metadata": {},
   "source": [
    "### ANS 2\n",
    "cdf stabds for the cumulative density function wwhich shows us the the cumulative proabability of pdf and pmf function. cdf is used to find the probability of specific point less than or equals to. for example let say there are n number of students present in class and we want to find the average of height of people less than or equals to the age of 40 then we will first convert the pdf of height of classroom student then we will convert it into cdf and we will select the age on the x axis which will shows the height of the student."
   ]
  },
  {
   "cell_type": "markdown",
   "id": "5666821b-c1df-43de-8666-bc63017fa90d",
   "metadata": {},
   "source": [
    "### ANS 3\n",
    "normal distribution is a pdf examples would be\n",
    "******\n",
    "1) finding height of student in classroom.\n",
    "2) finding the speed  of the n cars.\n",
    "*****\n",
    "1) mean is the middle point as the mean increases the graph becomes more narrow.\n",
    "2) standard deviation is the the deviation of data from the mean. as the standard deviation increases the graph becomes more wider \n"
   ]
  },
  {
   "cell_type": "markdown",
   "id": "767fa148-7227-42c4-bf41-a29e3716ea8a",
   "metadata": {},
   "source": [
    "### ANS 4\n",
    "normal distribution is the pdf graph it is very useful in the real world as it helps us  in  the analyizing the data and helops in making estimates and probability of something.\n",
    "*****\n",
    "Real world examples would be:\n",
    "1) finding the speed of the car for example if we want to find the probability of cars whose speed is between some range than we can integrate the area to find probability.\n"
   ]
  },
  {
   "cell_type": "markdown",
   "id": "e2dbf4f1-9cbc-4bc5-9385-58068fea00a8",
   "metadata": {},
   "source": [
    "### ANS 5\n",
    "Bernaouli distribution is the pmf and it used to model of single outcome one outcome can be q and the other will be 1-p.\n",
    "for example tossing a coin it will have only two outcome on can be termed as success and the other is failure. It will have only two points 1 and 0 in the x-axis and proability in Y-axis.\n",
    "****\n",
    "Bionomial distribution is also pmf which is used to model the number of success over a finite number of trails for example tossing a coin 10 times and each outcome having two probabilities.\n",
    "\n"
   ]
  },
  {
   "cell_type": "markdown",
   "id": "22024e87-624d-46a1-8158-b2e1ef0e6628",
   "metadata": {},
   "source": [
    "### ANS 7\n",
    "uniform distribution is said to be unform if it is y-axis value is uniform throughout all the values.There are two types of uniform distribution \n",
    "1) conitnous unform distribution:\n",
    "where f(x) is 1/b-a\n",
    "2) discrete uniform distribution:\n",
    "where the probaility of selection every random varaible is same and its f(x) is 1/n"
   ]
  },
  {
   "cell_type": "markdown",
   "id": "3bba9ce7-5113-44d8-89f5-6ae0fd52e48d",
   "metadata": {},
   "source": [
    "### ANS 8\n",
    "z score tells us the standard deviation of any point away from the mean. it also helps us in the finding of prabability of a point."
   ]
  },
  {
   "cell_type": "markdown",
   "id": "10ffbfbf-6c3f-4210-a2d4-8cd50681e798",
   "metadata": {},
   "source": [
    "### ANS 9\n",
    "central limit thereom state that mean of various sample data of population will always be normal distribution regardless of the distribution of population data.apart from normal distribution n value needs to 30 or greater than 30 in order make the noraml distribuion of various sample mean. it is difficult to obtain the mean of the population and in order to reslove it we use mean distribuiton of sample data. "
   ]
  },
  {
   "cell_type": "markdown",
   "id": "64de6c42-853b-4793-8b83-712d76957a70",
   "metadata": {},
   "source": [
    "### ANS 10\n",
    "1) if the population data is noraml distribution then n value can be anything and the distribution data of varous mean will be noraml distribution \n",
    "2) if the population data is not noraml distribution than n value will be alteast 30 and the distribution of varous mean will be noraml distributed.\n"
   ]
  },
  {
   "cell_type": "markdown",
   "id": "6d891b83-b19a-44f2-97ce-91a841cd55d0",
   "metadata": {},
   "source": [
    "### ANS 6\n",
    "\n"
   ]
  },
  {
   "cell_type": "code",
   "execution_count": 3,
   "id": "9caf8adb-9a6c-4429-8285-1c155b315df9",
   "metadata": {},
   "outputs": [],
   "source": [
    "xi=50\n",
    "std=10\n",
    "u=60"
   ]
  },
  {
   "cell_type": "code",
   "execution_count": 1,
   "id": "0d3ddab0-bcce-49d7-897e-9ac3171a867f",
   "metadata": {},
   "outputs": [],
   "source": [
    "from scipy import stats"
   ]
  },
  {
   "cell_type": "code",
   "execution_count": 9,
   "id": "833ebe16-57a0-4042-8c1d-8686537c1cdd",
   "metadata": {},
   "outputs": [],
   "source": [
    "z_score=(xi-u)/10"
   ]
  },
  {
   "cell_type": "code",
   "execution_count": 10,
   "id": "23bc2a22-d18d-43b3-87e7-8746b5d55322",
   "metadata": {},
   "outputs": [
    {
     "name": "stdout",
     "output_type": "stream",
     "text": [
      "-1.0\n"
     ]
    }
   ],
   "source": [
    "print(z_score)"
   ]
  },
  {
   "cell_type": "code",
   "execution_count": 11,
   "id": "633a122f-6c38-4739-a251-48e426cd41dd",
   "metadata": {},
   "outputs": [],
   "source": [
    "prob_greater=1-0.1587"
   ]
  },
  {
   "cell_type": "code",
   "execution_count": 12,
   "id": "e0bf2227-89ac-4492-85ac-6b6b9d35e38c",
   "metadata": {},
   "outputs": [
    {
     "name": "stdout",
     "output_type": "stream",
     "text": [
      "0.8412999999999999\n"
     ]
    }
   ],
   "source": [
    "print(prob_greater)"
   ]
  },
  {
   "cell_type": "markdown",
   "id": "0c3fb47d-8bae-4e2d-9f96-ae13d22f0c07",
   "metadata": {},
   "source": [
    "### ANS 84% "
   ]
  },
  {
   "cell_type": "code",
   "execution_count": 15,
   "id": "ac469468-67fc-4e17-a576-d42490632c07",
   "metadata": {},
   "outputs": [
    {
     "data": {
      "text/plain": [
       "array([-1.,  1.])"
      ]
     },
     "execution_count": 15,
     "metadata": {},
     "output_type": "execute_result"
    }
   ],
   "source": [
    "l=[50,60]\n",
    "stats.zscore(l)"
   ]
  },
  {
   "cell_type": "code",
   "execution_count": null,
   "id": "75dfcee5-1c88-41ef-bbe8-834675162353",
   "metadata": {},
   "outputs": [],
   "source": []
  }
 ],
 "metadata": {
  "kernelspec": {
   "display_name": "Python 3 (ipykernel)",
   "language": "python",
   "name": "python3"
  },
  "language_info": {
   "codemirror_mode": {
    "name": "ipython",
    "version": 3
   },
   "file_extension": ".py",
   "mimetype": "text/x-python",
   "name": "python",
   "nbconvert_exporter": "python",
   "pygments_lexer": "ipython3",
   "version": "3.10.8"
  }
 },
 "nbformat": 4,
 "nbformat_minor": 5
}
