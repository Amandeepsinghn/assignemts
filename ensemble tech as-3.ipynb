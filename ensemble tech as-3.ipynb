{
 "cells": [
  {
   "cell_type": "markdown",
   "id": "f5558ba8",
   "metadata": {},
   "source": [
    "### ANS 1\n",
    "Random Forest Regressor is a type of bagging technique which decision tree as a base learner."
   ]
  },
  {
   "cell_type": "markdown",
   "id": "ffad07ba",
   "metadata": {},
   "source": [
    "### ANS 2\n",
    "random forest regressor reduce the risk of overfitting of the data. as multiple base learner are trained each given different feature and data point beacause of less feature given to base learner leaf node usually get found in the upper length of the tree avoding the risk of overfitting. finally aggerigating the output of differnt base learner as the final prediction."
   ]
  },
  {
   "cell_type": "markdown",
   "id": "670de204",
   "metadata": {},
   "source": [
    "### ANS 3\n",
    "lets suppose there are n base learner each giving different result for regression we calculate the mean of all output of base learner as the average of all the output is used for the prediciton."
   ]
  },
  {
   "cell_type": "markdown",
   "id": "1e7df252",
   "metadata": {},
   "source": [
    "### ANS 5\n",
    "difference between random forest regressor and decision tree regressor:\n",
    "1) random forest regressor use multiple decision tree and decision tree uses only one tree\n",
    "2) random forest regressor solve the overfitting problem and decision tree it is a major concern and we have to use different technique like pronning and post.\n",
    "3) random forest regressor ouput is the  average of all base learner result while decision tree do not use any averaging concept. \n"
   ]
  },
  {
   "cell_type": "markdown",
   "id": "46e369e7",
   "metadata": {},
   "source": [
    "### ANS 7\n",
    "output of random forest regressor is the mean of all base learner ouput or we can say aggregate of the base learner."
   ]
  },
  {
   "cell_type": "markdown",
   "id": "708606e3",
   "metadata": {},
   "source": [
    "### ANS 8\n",
    "no we cannot use forest regressor for the classification task because mean of ouput of different base learner can be in decimal which cannot be used for the predicittion because there can be definite."
   ]
  },
  {
   "cell_type": "markdown",
   "id": "e6e55c32",
   "metadata": {},
   "source": [
    "### ANS 4\n",
    "there are many hyperparameter in forest fire:\n",
    "1) n_estimator= this is used to give the number of decision trees.\n",
    "2) max_feature= this control the number of feature given each tree when splitting a node for  example: auto,sqrt,log2 sqrt means it is the square root of al total number of feautre given each tree.\n",
    "3) bootsrap= if it set to false it will each tree the entire dataset.\n",
    "4) oob_score= it indicates whether to use sample which are not used in the base laerner to estimate the model performace or r2 score.\n",
    "5) max_depth= limiting the depth can prevent overfitng. this parameter set depth of each deicsion tree."
   ]
  },
  {
   "cell_type": "markdown",
   "id": "142d6639",
   "metadata": {},
   "source": [
    "### ANS 6\n",
    "advantages of random forest Regressor:\n",
    "1) high accuracy of the model.\n",
    "2) it helps in reducing overfitting.\n",
    "3) it can handle missing value.\n",
    "4) no need for feature scallin means we do not need to nomalize or standardize input feature.\n",
    "disadvantages of random forest Regressor:\n",
    "1) random forest may be computationally expensive\n",
    "2) parameter tunning can be time consuming finding the the hyperparameter is takes time.\n",
    "3) if the dataset is imbalanced it may additional technique to handle the tehc ique.\n",
    "4) random forest model can use siginificant amount of memory."
   ]
  },
  {
   "cell_type": "code",
   "execution_count": null,
   "id": "58c57b43",
   "metadata": {},
   "outputs": [],
   "source": []
  }
 ],
 "metadata": {
  "kernelspec": {
   "display_name": "Python 3 (ipykernel)",
   "language": "python",
   "name": "python3"
  },
  "language_info": {
   "codemirror_mode": {
    "name": "ipython",
    "version": 3
   },
   "file_extension": ".py",
   "mimetype": "text/x-python",
   "name": "python",
   "nbconvert_exporter": "python",
   "pygments_lexer": "ipython3",
   "version": "3.11.4"
  }
 },
 "nbformat": 4,
 "nbformat_minor": 5
}
