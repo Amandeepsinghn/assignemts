{
 "cells": [
  {
   "cell_type": "markdown",
   "id": "61a250a5",
   "metadata": {},
   "source": [
    "### ANS 1\n",
    "role of feature selection:\n",
    "It helps in selecting feature which are important which helps us finding important outlier of different feature."
   ]
  },
  {
   "cell_type": "markdown",
   "id": "ffa40350",
   "metadata": {},
   "source": [
    "### ANS 2\n",
    "common evaluation metrices for anomaly detection:\n",
    "1) Accuracy matrix\n",
    "2) precison \n",
    "3) recall \n",
    "4) f1 score "
   ]
  },
  {
   "cell_type": "markdown",
   "id": "7b6bd2df",
   "metadata": {},
   "source": [
    "### ANS 3 \n",
    "DBSCAn is clustering algorithim which are used to make cluster. \n",
    "Working of DBSCAN:\n",
    "1) first it takes two important parameter like minipoins and epsilon radius \n",
    "2) if the a particular radius contains points greater than minpoints then it is consider as red point(clustring) if it contains points less than number of minpoints then it is considered as blue point(if they are close to red points then these can also include in clusting) if a data point radius do not contain any point then it consdiered as outlier."
   ]
  },
  {
   "cell_type": "markdown",
   "id": "2226ebec",
   "metadata": {},
   "source": [
    "### ANS 4\n",
    "parameter epsilon greatly affect the performance finding right epsilon value is very crucial. finding right epsilon value can lead to better finding of outlier."
   ]
  },
  {
   "cell_type": "markdown",
   "id": "17bbb1da",
   "metadata": {},
   "source": [
    "### ANS 5\n",
    "1) core points are use for clustring.These are considered as red points. they form the core of cluster.\n",
    "2) border points are the points which contains points less than the minipoints in thier border. A border is assigned to the cluster of a core point if it is within the neighborhood of a core point. they define the shape of the cluster. and are genrally regarded as yellow points.\n",
    "3) noise point are the outlier and are genrally regarded as blue data point."
   ]
  },
  {
   "cell_type": "markdown",
   "id": "47310e57",
   "metadata": {},
   "source": [
    "### ANS 6\n",
    "DBSCAN detect outlier by noise point for a particular point if in its epsilon radius no data point is present then it is regarded as outlier. epsilon paramter plays an crucial role in identifying outlier."
   ]
  },
  {
   "cell_type": "markdown",
   "id": "0ad83ae9",
   "metadata": {},
   "source": [
    "### ANS 7\n",
    "make_cirlce package are used to generate dataset on which we can expirement different algorithim."
   ]
  },
  {
   "cell_type": "markdown",
   "id": "216bdcce",
   "metadata": {},
   "source": [
    "### ANS 8\n",
    "local outlier are the outlier which are close to normal instance but global outlier are very far away from normal datasets as well as local outlier. global outlier can be considered as exception."
   ]
  },
  {
   "cell_type": "markdown",
   "id": "40e6c001",
   "metadata": {},
   "source": [
    "### ANS 10\n",
    "using isloation forest algorithm for global outliers is the most wise choice. usually global outlier are present in the upper nodes of isolated tree which reduces the time for finding outlier.Or we can also make predict otulier using model to predict the outlier."
   ]
  },
  {
   "cell_type": "markdown",
   "id": "f45482d7",
   "metadata": {},
   "source": [
    "### ANS 9\n",
    "LOF algorithim can be used for the detection for local outlier. for each point reachability distance is calculated from its k-nearest neighbors. the local reachability density of each point is determined by comparing its reachability distance form k neighbour a low density compared to ites neighbors signifies point is an outlier. "
   ]
  },
  {
   "cell_type": "markdown",
   "id": "7331a72d",
   "metadata": {},
   "source": [
    "### ANS 11\n",
    "some real world application outlier detection:\n",
    "1) lets suppose china detected corona of many people of different age group so it is considered under one cluster and a few nepal people have corona they are defined as local outlier and one person from america has corona so he can be identified as global outlier.\n",
    "2) let suppose most of the frauds happen from different region of delhi but some happend from sonipat(local outlier) and very few from other country (glbaol outlier)\n",
    "3) let suppose there are planets of 4 colour with no or very less minimum rings(satelite) these are normal instances now suppose a planet with very big ring( local oultier) and very plant of differnt colour and very big big rings(global outlier)."
   ]
  },
  {
   "cell_type": "code",
   "execution_count": null,
   "id": "096cbec7",
   "metadata": {},
   "outputs": [],
   "source": []
  }
 ],
 "metadata": {
  "kernelspec": {
   "display_name": "Python 3 (ipykernel)",
   "language": "python",
   "name": "python3"
  },
  "language_info": {
   "codemirror_mode": {
    "name": "ipython",
    "version": 3
   },
   "file_extension": ".py",
   "mimetype": "text/x-python",
   "name": "python",
   "nbconvert_exporter": "python",
   "pygments_lexer": "ipython3",
   "version": "3.11.4"
  }
 },
 "nbformat": 4,
 "nbformat_minor": 5
}
