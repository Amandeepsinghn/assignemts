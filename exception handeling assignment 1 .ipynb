{
 "cells": [
  {
   "cell_type": "markdown",
   "id": "e9186c86-b0d1-4028-ae14-a17720595b0f",
   "metadata": {},
   "source": [
    "### ans 1 \n",
    "exception is a superclass which is called when try is not executed\n",
    "syntax error occues when the there is an error with code and it stops the excetion while in exception we can modufy the error."
   ]
  },
  {
   "cell_type": "code",
   "execution_count": 4,
   "id": "64a047bd-4e2c-4322-a369-13fa06bbff44",
   "metadata": {},
   "outputs": [
    {
     "ename": "SyntaxError",
     "evalue": "incomplete input (3054387751.py, line 11)",
     "output_type": "error",
     "traceback": [
      "\u001b[0;36m  Cell \u001b[0;32mIn[4], line 11\u001b[0;36m\u001b[0m\n\u001b[0;31m    \u001b[0m\n\u001b[0m    ^\u001b[0m\n\u001b[0;31mSyntaxError\u001b[0m\u001b[0;31m:\u001b[0m incomplete input\n"
     ]
    }
   ],
   "source": [
    "#ans 2\n",
    "#when exception is not handled the excution is not stopped it shows syntax error \n",
    "#for example \n",
    "try:\n",
    "    f=open('cos.txt','w')\n",
    "    f.wrtie('everyhting is dama dol')\n",
    "    \n",
    "\n",
    "\n",
    "\n",
    "\n"
   ]
  },
  {
   "cell_type": "code",
   "execution_count": 3,
   "id": "02498233-3492-407c-bd13-6d05aff1ef45",
   "metadata": {},
   "outputs": [
    {
     "ename": "SyntaxError",
     "evalue": "expected 'except' or 'finally' block (4173100619.py, line 9)",
     "output_type": "error",
     "traceback": [
      "\u001b[0;36m  Cell \u001b[0;32mIn[3], line 9\u001b[0;36m\u001b[0m\n\u001b[0;31m    else:\u001b[0m\n\u001b[0m    ^\u001b[0m\n\u001b[0;31mSyntaxError\u001b[0m\u001b[0;31m:\u001b[0m expected 'except' or 'finally' block\n"
     ]
    }
   ],
   "source": [
    "\n",
    "#ans 4\n",
    "#a) try and else cannot be excuted withoutn except \n",
    "\n",
    "try:\n",
    "    f=open('copy_new.txt','r') \n",
    "    f.read()\n",
    "        \n",
    "\n",
    "else:\n",
    "    f.close()\n",
    "\n",
    "    "
   ]
  },
  {
   "cell_type": "markdown",
   "id": "dd55a163-22f2-40f1-ba6d-d371810d9870",
   "metadata": {},
   "source": [
    "### b) finally statement is excuted if program is workinng or not working\n",
    "\n",
    "try:\n",
    "    f=open('copy.txt','w')\n",
    "    f.read()\n",
    "    \n",
    "finally:\n",
    "    print('everything is going to work')"
   ]
  },
  {
   "cell_type": "markdown",
   "id": "567b82ff-fd6d-4ed3-afc8-4f8919298564",
   "metadata": {},
   "source": [
    "### b) raise\n",
    "raise is used to raise exception.raise is generally used with csutom exception handeling."
   ]
  },
  {
   "cell_type": "code",
   "execution_count": 7,
   "id": "b213043a-12e7-42de-9ffc-f6461ee59c85",
   "metadata": {},
   "outputs": [
    {
     "name": "stdin",
     "output_type": "stream",
     "text": [
      " 23\n"
     ]
    },
    {
     "ename": "Exception",
     "evalue": "your score is too much low",
     "output_type": "error",
     "traceback": [
      "\u001b[0;31m---------------------------------------------------------------------------\u001b[0m",
      "\u001b[0;31mException\u001b[0m                                 Traceback (most recent call last)",
      "Cell \u001b[0;32mIn[7], line 5\u001b[0m\n\u001b[1;32m      3\u001b[0m     \u001b[38;5;28mprint\u001b[39m(\u001b[38;5;124m'\u001b[39m\u001b[38;5;124mon\u001b[39m\u001b[38;5;124m'\u001b[39m)\n\u001b[1;32m      4\u001b[0m \u001b[38;5;28;01mif\u001b[39;00m x\u001b[38;5;241m>\u001b[39m\u001b[38;5;241m10\u001b[39m:\n\u001b[0;32m----> 5\u001b[0m     \u001b[38;5;28;01mraise\u001b[39;00m \u001b[38;5;167;01mException\u001b[39;00m(\u001b[38;5;124m'\u001b[39m\u001b[38;5;124myour score is too much low\u001b[39m\u001b[38;5;124m'\u001b[39m)\n",
      "\u001b[0;31mException\u001b[0m: your score is too much low"
     ]
    }
   ],
   "source": [
    "x=int(input())\n",
    "if x<10:\n",
    "    print('on')\n",
    "if x>10:\n",
    "    raise Exception('your score is too much low')"
   ]
  },
  {
   "cell_type": "markdown",
   "id": "f0289d31-4e80-4c7f-b447-bf8eda42ebeb",
   "metadata": {},
   "source": [
    "### ANS 5 \n",
    "Custom exception are used to show to an error in user define function. we create custom exception by defining a new class. we need custom exception beacuse some times we dont want to use Exception as a superclass or any other classes because it is not necessarily means the user may understand the error to mititgate this problem we use custome exception."
   ]
  },
  {
   "cell_type": "code",
   "execution_count": 3,
   "id": "d073f7d9-9498-4284-8627-1b8d677c2052",
   "metadata": {},
   "outputs": [],
   "source": [
    "class Invalid_age(Exception):\n",
    "    def __int__(self,msg):\n",
    "        self.msg=msg\n"
   ]
  },
  {
   "cell_type": "code",
   "execution_count": 4,
   "id": "cef4ed97-3f19-4947-a9c9-bd4de88111cc",
   "metadata": {},
   "outputs": [
    {
     "name": "stdin",
     "output_type": "stream",
     "text": [
      " 2\n"
     ]
    },
    {
     "name": "stdout",
     "output_type": "stream",
     "text": [
      "age is not valid\n"
     ]
    }
   ],
   "source": [
    "num=18\n",
    "try:\n",
    "    int_num=int(input())\n",
    "    if int_num<num:\n",
    "        raise Invalid_age('age is not valid')\n",
    "    else:\n",
    "        print('age is valid')\n",
    "\n",
    "except Invalid_age as e:\n",
    "    print(e)\n",
    "    "
   ]
  },
  {
   "cell_type": "markdown",
   "id": "2094fee1-7935-4a2f-a142-78f042a810dd",
   "metadata": {},
   "source": [
    "### ANS 6\n"
   ]
  },
  {
   "cell_type": "code",
   "execution_count": 6,
   "id": "41ff726d-3458-49f9-bcfc-48cd7f0ecb3a",
   "metadata": {},
   "outputs": [],
   "source": [
    "class enough_salary(Exception):\n",
    "    def __init__(self,msg,bonus):\n",
    "        self.msg=msg\n",
    "        self.bonus=bonus\n",
    "    "
   ]
  },
  {
   "cell_type": "code",
   "execution_count": 10,
   "id": "880a1dc6-31c0-4ada-bec1-fd905cab110d",
   "metadata": {},
   "outputs": [
    {
     "name": "stdin",
     "output_type": "stream",
     "text": [
      " 666666666\n"
     ]
    },
    {
     "name": "stdout",
     "output_type": "stream",
     "text": [
      "your bonus is 766666\n"
     ]
    }
   ],
   "source": [
    "try:\n",
    "    salary=int(input())\n",
    "    if salary<3000:\n",
    "        print('salary is not enough')\n",
    "    else:\n",
    "        if salary>40000:\n",
    "            raise enough_salary('your bonus is 766666',)\n",
    "            \n",
    "except enough_salary as e:\n",
    "    print(e)\n",
    "        "
   ]
  },
  {
   "cell_type": "markdown",
   "id": "5455a960-12de-473e-afd9-b4c17f5c46ee",
   "metadata": {},
   "source": [
    "### ans 3\n",
    "\n",
    "try and except statement are used for exception handeling"
   ]
  },
  {
   "cell_type": "code",
   "execution_count": 11,
   "id": "1c762947-a6d9-486d-8492-bc49c0f67c7a",
   "metadata": {},
   "outputs": [
    {
     "name": "stdout",
     "output_type": "stream",
     "text": [
      "[Errno 2] No such file or directory: 'test.txt'\n"
     ]
    }
   ],
   "source": [
    "try:\n",
    "    f=open('test.txt','r')\n",
    "    f.read()\n",
    "except Exception as e:\n",
    "    print(e)"
   ]
  },
  {
   "cell_type": "code",
   "execution_count": null,
   "id": "92928e82-b931-4515-903c-6f89e443571d",
   "metadata": {},
   "outputs": [],
   "source": []
  }
 ],
 "metadata": {
  "kernelspec": {
   "display_name": "Python 3 (ipykernel)",
   "language": "python",
   "name": "python3"
  },
  "language_info": {
   "codemirror_mode": {
    "name": "ipython",
    "version": 3
   },
   "file_extension": ".py",
   "mimetype": "text/x-python",
   "name": "python",
   "nbconvert_exporter": "python",
   "pygments_lexer": "ipython3",
   "version": "3.10.8"
  }
 },
 "nbformat": 4,
 "nbformat_minor": 5
}
