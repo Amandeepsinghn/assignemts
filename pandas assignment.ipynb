{
 "cells": [
  {
   "cell_type": "markdown",
   "id": "2cb60a9f-3bf0-4ace-9c32-456504d65544",
   "metadata": {},
   "source": [
    "### ANS 1"
   ]
  },
  {
   "cell_type": "code",
   "execution_count": 1,
   "id": "e217e5fb-110c-4d45-a85c-ebaf4d3ea34e",
   "metadata": {},
   "outputs": [],
   "source": [
    "data=[['application_number'],\n",
    "      [4],\n",
    "      [8],\n",
    "      [15],\n",
    "      [16],\n",
    "      [23],\n",
    "      [42]\n",
    "     ]"
   ]
  },
  {
   "cell_type": "code",
   "execution_count": 18,
   "id": "90679da5-203e-4428-b357-eabd22abe84d",
   "metadata": {},
   "outputs": [],
   "source": [
    "import pandas as pd \n",
    "import csv"
   ]
  },
  {
   "cell_type": "code",
   "execution_count": 3,
   "id": "be5df596-2e58-45fc-a732-f7a6a91c850d",
   "metadata": {},
   "outputs": [],
   "source": [
    "f=open('data.csv','w')"
   ]
  },
  {
   "cell_type": "code",
   "execution_count": 4,
   "id": "29d79916-6d46-4469-b748-cd4b4127aa87",
   "metadata": {},
   "outputs": [],
   "source": [
    "with open('data.csv','w') as f:\n",
    "    writer=csv.writer(f)\n",
    "    \n",
    "    for i in data:\n",
    "        writer.writerow(i)"
   ]
  },
  {
   "cell_type": "code",
   "execution_count": 5,
   "id": "b89dc5eb-8451-45e0-9d7a-c747edeeba5a",
   "metadata": {},
   "outputs": [],
   "source": [
    "f.close()"
   ]
  },
  {
   "cell_type": "code",
   "execution_count": 6,
   "id": "ed19f83b-a6d1-4f36-ae74-92c9e18e0c65",
   "metadata": {},
   "outputs": [],
   "source": [
    "df=pd.read_csv('data.csv')"
   ]
  },
  {
   "cell_type": "code",
   "execution_count": 7,
   "id": "d03c185a-8ac8-456a-81a7-3710f4a2aec9",
   "metadata": {},
   "outputs": [
    {
     "data": {
      "text/plain": [
       "Index(['application_number'], dtype='object')"
      ]
     },
     "execution_count": 7,
     "metadata": {},
     "output_type": "execute_result"
    }
   ],
   "source": [
    "df.columns"
   ]
  },
  {
   "cell_type": "code",
   "execution_count": 8,
   "id": "f84fae63-8652-4e0b-92a9-bc376f0ad8dd",
   "metadata": {},
   "outputs": [
    {
     "data": {
      "text/plain": [
       "0     4\n",
       "1     8\n",
       "2    15\n",
       "3    16\n",
       "4    23\n",
       "5    42\n",
       "Name: application_number, dtype: int64"
      ]
     },
     "execution_count": 8,
     "metadata": {},
     "output_type": "execute_result"
    }
   ],
   "source": [
    "df['application_number']"
   ]
  },
  {
   "cell_type": "markdown",
   "id": "91a3c625-99e6-4685-8723-df71ca4a1854",
   "metadata": {},
   "source": [
    "### ANS 2"
   ]
  },
  {
   "cell_type": "code",
   "execution_count": 9,
   "id": "1f22f0cf-403e-4653-a0c0-154d6cdb4047",
   "metadata": {},
   "outputs": [
    {
     "name": "stdout",
     "output_type": "stream",
     "text": [
      "0    0\n",
      "1    1\n",
      "2    2\n",
      "3    3\n",
      "4    4\n",
      "5    5\n",
      "6    6\n",
      "7    7\n",
      "8    8\n",
      "9    9\n",
      "dtype: int64\n"
     ]
    }
   ],
   "source": [
    "l=[0,1,2,3,4,5,6,7,8,9]\n",
    "my_series=pd.Series(l)\n",
    "print(my_series)"
   ]
  },
  {
   "cell_type": "markdown",
   "id": "f5210b7d-026c-451b-8740-6c4933a422a4",
   "metadata": {},
   "source": [
    "### ANS 3"
   ]
  },
  {
   "cell_type": "code",
   "execution_count": 10,
   "id": "2f61c4f3-6271-4bcb-ad9c-ef1ece5f1a41",
   "metadata": {},
   "outputs": [],
   "source": [
    "data_1=[[\"Name\",\"Age\",\"Gender\"],\n",
    "       \n",
    "        ['Allice',25,'Female'],\n",
    "        [\"bob\",30,'male'],\n",
    "        ['claire',27,'female']\n",
    "        \n",
    "        \n",
    "       ]"
   ]
  },
  {
   "cell_type": "code",
   "execution_count": 11,
   "id": "0bc00ae0-7405-431d-b9f2-6e4f90991034",
   "metadata": {},
   "outputs": [],
   "source": [
    "with open('data_1.csv','w') as f:\n",
    "    writer=csv.writer(f)\n",
    "    \n",
    "    for i in data_1:\n",
    "        writer.writerow(i)"
   ]
  },
  {
   "cell_type": "code",
   "execution_count": 13,
   "id": "7e0fd589-40ff-4bb4-89df-13b14d656743",
   "metadata": {},
   "outputs": [
    {
     "data": {
      "text/html": [
       "<div>\n",
       "<style scoped>\n",
       "    .dataframe tbody tr th:only-of-type {\n",
       "        vertical-align: middle;\n",
       "    }\n",
       "\n",
       "    .dataframe tbody tr th {\n",
       "        vertical-align: top;\n",
       "    }\n",
       "\n",
       "    .dataframe thead th {\n",
       "        text-align: right;\n",
       "    }\n",
       "</style>\n",
       "<table border=\"1\" class=\"dataframe\">\n",
       "  <thead>\n",
       "    <tr style=\"text-align: right;\">\n",
       "      <th></th>\n",
       "      <th>Name</th>\n",
       "      <th>Age</th>\n",
       "      <th>Gender</th>\n",
       "    </tr>\n",
       "  </thead>\n",
       "  <tbody>\n",
       "    <tr>\n",
       "      <th>0</th>\n",
       "      <td>Allice</td>\n",
       "      <td>25</td>\n",
       "      <td>Female</td>\n",
       "    </tr>\n",
       "    <tr>\n",
       "      <th>1</th>\n",
       "      <td>bob</td>\n",
       "      <td>30</td>\n",
       "      <td>male</td>\n",
       "    </tr>\n",
       "    <tr>\n",
       "      <th>2</th>\n",
       "      <td>claire</td>\n",
       "      <td>27</td>\n",
       "      <td>female</td>\n",
       "    </tr>\n",
       "  </tbody>\n",
       "</table>\n",
       "</div>"
      ],
      "text/plain": [
       "     Name  Age  Gender\n",
       "0  Allice   25  Female\n",
       "1     bob   30    male\n",
       "2  claire   27  female"
      ]
     },
     "execution_count": 13,
     "metadata": {},
     "output_type": "execute_result"
    }
   ],
   "source": [
    "pd.read_csv(\"data_1.csv\")"
   ]
  },
  {
   "cell_type": "markdown",
   "id": "843005f6-80dc-4505-8fcf-b450935a15b6",
   "metadata": {},
   "source": [
    "### ANS 4 \n",
    "dataframe in pandas is the representation of 2-d rows and coloumn it is the representation of multiple rows and coloumn, while series the reprenstation of only one rows it is used to represent only one row.\n",
    "### for example"
   ]
  },
  {
   "cell_type": "code",
   "execution_count": 14,
   "id": "538a54b4-9ba4-4ecc-b89d-a4274d49f98f",
   "metadata": {},
   "outputs": [],
   "source": [
    "pf1=pd.read_csv(\"data_1.csv\")"
   ]
  },
  {
   "cell_type": "code",
   "execution_count": 15,
   "id": "fd971aaa-ce9a-4dca-beb2-b1a7e5bd7c15",
   "metadata": {},
   "outputs": [
    {
     "data": {
      "text/plain": [
       "0    Allice\n",
       "1       bob\n",
       "2    claire\n",
       "Name: Name, dtype: object"
      ]
     },
     "execution_count": 15,
     "metadata": {},
     "output_type": "execute_result"
    }
   ],
   "source": [
    "pf1['Name']"
   ]
  },
  {
   "cell_type": "code",
   "execution_count": 16,
   "id": "fc42543f-0942-4b5a-9fc8-34eb787cae4e",
   "metadata": {},
   "outputs": [
    {
     "data": {
      "text/html": [
       "<div>\n",
       "<style scoped>\n",
       "    .dataframe tbody tr th:only-of-type {\n",
       "        vertical-align: middle;\n",
       "    }\n",
       "\n",
       "    .dataframe tbody tr th {\n",
       "        vertical-align: top;\n",
       "    }\n",
       "\n",
       "    .dataframe thead th {\n",
       "        text-align: right;\n",
       "    }\n",
       "</style>\n",
       "<table border=\"1\" class=\"dataframe\">\n",
       "  <thead>\n",
       "    <tr style=\"text-align: right;\">\n",
       "      <th></th>\n",
       "      <th>Name</th>\n",
       "      <th>Age</th>\n",
       "    </tr>\n",
       "  </thead>\n",
       "  <tbody>\n",
       "    <tr>\n",
       "      <th>0</th>\n",
       "      <td>Allice</td>\n",
       "      <td>25</td>\n",
       "    </tr>\n",
       "    <tr>\n",
       "      <th>1</th>\n",
       "      <td>bob</td>\n",
       "      <td>30</td>\n",
       "    </tr>\n",
       "    <tr>\n",
       "      <th>2</th>\n",
       "      <td>claire</td>\n",
       "      <td>27</td>\n",
       "    </tr>\n",
       "  </tbody>\n",
       "</table>\n",
       "</div>"
      ],
      "text/plain": [
       "     Name  Age\n",
       "0  Allice   25\n",
       "1     bob   30\n",
       "2  claire   27"
      ]
     },
     "execution_count": 16,
     "metadata": {},
     "output_type": "execute_result"
    }
   ],
   "source": [
    "pf1[[\"Name\",\"Age\"]]"
   ]
  },
  {
   "cell_type": "markdown",
   "id": "2fe1205b-c41a-49fe-ae79-8d048ead8d10",
   "metadata": {},
   "source": [
    "### ANS 5\n",
    "some of the function which help us in the manupluation of data is:\n",
    "1) tail=it is used to get some last  element of the data \n",
    "2) head=it is used to get some top element of the data \n",
    "3) column= it provides us the heading of the coloumn \n",
    "4) dtype= it tells us the data type of the coloumns \n"
   ]
  },
  {
   "cell_type": "markdown",
   "id": "cd7a573b-09f6-4c3a-afbb-85b117fec11b",
   "metadata": {},
   "source": [
    "### ANS 6\n",
    "mutable objects are those objects which are iterable.data frame is mutable in nature because it allows us to perform many operation like updation,deletion etc"
   ]
  },
  {
   "cell_type": "markdown",
   "id": "a5a900d3-04f7-4a23-ab1e-a71a6e64b57d",
   "metadata": {},
   "source": [
    "### ANS 7\n",
    "collection of multiple series is know as dataframe. "
   ]
  },
  {
   "cell_type": "code",
   "execution_count": 27,
   "id": "742187c7-11bf-42c4-9091-1a7f10ad7b87",
   "metadata": {},
   "outputs": [
    {
     "data": {
      "text/html": [
       "<div>\n",
       "<style scoped>\n",
       "    .dataframe tbody tr th:only-of-type {\n",
       "        vertical-align: middle;\n",
       "    }\n",
       "\n",
       "    .dataframe tbody tr th {\n",
       "        vertical-align: top;\n",
       "    }\n",
       "\n",
       "    .dataframe thead th {\n",
       "        text-align: right;\n",
       "    }\n",
       "</style>\n",
       "<table border=\"1\" class=\"dataframe\">\n",
       "  <thead>\n",
       "    <tr style=\"text-align: right;\">\n",
       "      <th></th>\n",
       "      <th>Name</th>\n",
       "      <th>Age</th>\n",
       "      <th>Scores</th>\n",
       "    </tr>\n",
       "  </thead>\n",
       "  <tbody>\n",
       "    <tr>\n",
       "      <th>0</th>\n",
       "      <td>aman</td>\n",
       "      <td>44</td>\n",
       "      <td>98</td>\n",
       "    </tr>\n",
       "    <tr>\n",
       "      <th>1</th>\n",
       "      <td>shomiya</td>\n",
       "      <td>43</td>\n",
       "      <td>99</td>\n",
       "    </tr>\n",
       "    <tr>\n",
       "      <th>2</th>\n",
       "      <td>deepak</td>\n",
       "      <td>42</td>\n",
       "      <td>97</td>\n",
       "    </tr>\n",
       "  </tbody>\n",
       "</table>\n",
       "</div>"
      ],
      "text/plain": [
       "      Name  Age  Scores\n",
       "0     aman   44      98\n",
       "1  shomiya   43      99\n",
       "2   deepak   42      97"
      ]
     },
     "execution_count": 27,
     "metadata": {},
     "output_type": "execute_result"
    }
   ],
   "source": [
    "name=pd.Series(['aman','shomiya','deepak'])\n",
    "age=pd.Series([44,43,42])\n",
    "scores=pd.Series([98,99,97])\n",
    "\n",
    "data={'Name':name,\"Age\":age, \"Scores\":scores}\n",
    "pd.DataFrame(data)"
   ]
  },
  {
   "cell_type": "code",
   "execution_count": null,
   "id": "e837aceb-f665-4596-bc28-895e1a21a1b8",
   "metadata": {},
   "outputs": [],
   "source": []
  },
  {
   "cell_type": "code",
   "execution_count": null,
   "id": "33feaba4-564e-4103-bb6f-a2bb3f2bafe0",
   "metadata": {},
   "outputs": [],
   "source": []
  }
 ],
 "metadata": {
  "kernelspec": {
   "display_name": "Python 3 (ipykernel)",
   "language": "python",
   "name": "python3"
  },
  "language_info": {
   "codemirror_mode": {
    "name": "ipython",
    "version": 3
   },
   "file_extension": ".py",
   "mimetype": "text/x-python",
   "name": "python",
   "nbconvert_exporter": "python",
   "pygments_lexer": "ipython3",
   "version": "3.10.8"
  }
 },
 "nbformat": 4,
 "nbformat_minor": 5
}
