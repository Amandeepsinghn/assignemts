{
 "cells": [
  {
   "cell_type": "code",
   "execution_count": 1,
   "id": "3be704bc-6036-4ccc-962a-6dec643dc8ed",
   "metadata": {},
   "outputs": [],
   "source": [
    "import math"
   ]
  },
  {
   "cell_type": "markdown",
   "id": "3f460948-ee7a-47bd-bb02-310bdc193133",
   "metadata": {},
   "source": [
    "### ANS1\n",
    "estimate statics is an observed numerical value used to estimate the unkown population paremeter.There are two types of estimate parameter.\n",
    "****\n",
    "1) point estimate:\n",
    "single numerical value used to estimate the unkown population paremeter.\n",
    "2) interval estimate:\n",
    "range of values used to estimate the unknown population paremeter.\n",
    "interval estimate of population data are knows as confidence range."
   ]
  },
  {
   "cell_type": "markdown",
   "id": "edf6147d-cb73-462e-bcdd-b35788f94bd6",
   "metadata": {},
   "source": [
    "### ANS 3\n",
    "hypothesis testing is used to draw conclusion about population data from the sample data.\n",
    "hypothesis tesing contains 4 steps:\n",
    "1) null hypothesis \n",
    "2) alternate hypothesis \n",
    "3) Experiments \n",
    "4) accept or reject the null hypothesis based on the expirements.\n"
   ]
  },
  {
   "cell_type": "markdown",
   "id": "4d0ac1bd-46de-4c08-93ac-d625246826b9",
   "metadata": {},
   "source": [
    "### ANS 6 \n",
    "null hypothesis is the assumption about something and alternate hypothesis is the reverse of assumption of null hypothesis."
   ]
  },
  {
   "cell_type": "markdown",
   "id": "a465e763-8d67-4880-9fd9-619eb15fce39",
   "metadata": {},
   "source": [
    "### ANS 7\n",
    "1) null hypothesis \n",
    "2) alternate hypothesis \n",
    "3) Expirements \n",
    "4) accept or reject the null hypothesis based on the expirements."
   ]
  },
  {
   "cell_type": "markdown",
   "id": "ee520465-fcdb-4bd2-a0d8-3b8d00fd683d",
   "metadata": {},
   "source": [
    "### ANS 8\n",
    "p-value is a number that tells us how likely you are to have found a particular set of observation if the null hypothesis were true.These are used in hypothesis testing to help decide whether to reject the null hypothesis or not."
   ]
  },
  {
   "cell_type": "markdown",
   "id": "58fc65a3-dcf6-48d0-94b1-7566ab353858",
   "metadata": {},
   "source": [
    "### ANS 11\n",
    "student's t distribution is used when we do not know the population standard deviation. It is also used for the annalyzing the data and finding the paremeter of population data."
   ]
  },
  {
   "cell_type": "markdown",
   "id": "805b541e-d8e6-4c85-ab03-737651b9caf6",
   "metadata": {},
   "source": [
    "### ANS 12\n",
    "t-statics is the stat which are used to draw conclusion for the null hypothesis. there are two types of t test one tail and two tial.\n",
    "**** \n",
    "formula to calcuate the t-stat:\n",
    "x= sample mean \n",
    "u=population mean \n",
    "s=std of sample data \n",
    "n=number of sample data \n",
    "t=(x-u)/s/rootn"
   ]
  },
  {
   "cell_type": "markdown",
   "id": "d07f1693-1bb9-43f9-970c-02f86695b05b",
   "metadata": {},
   "source": [
    "### ANS 10"
   ]
  },
  {
   "cell_type": "code",
   "execution_count": 1,
   "id": "d2690da7-8563-4616-a44a-af2f6b4182e0",
   "metadata": {},
   "outputs": [],
   "source": [
    "import scipy.stats as stats "
   ]
  },
  {
   "cell_type": "code",
   "execution_count": 2,
   "id": "d3cdc6ae-b61b-4c46-a54f-6413056e69ea",
   "metadata": {},
   "outputs": [],
   "source": [
    "s=[1,2,3,4,5]\n",
    "g=[6,7,8,9,10]\n",
    "result=stats.ttest_ind(a=s,b=g)"
   ]
  },
  {
   "cell_type": "code",
   "execution_count": 3,
   "id": "ded3fe90-c759-4445-acbc-94be9da573de",
   "metadata": {},
   "outputs": [
    {
     "name": "stdout",
     "output_type": "stream",
     "text": [
      "Ttest_indResult(statistic=-5.0, pvalue=0.001052825793366539)\n"
     ]
    }
   ],
   "source": [
    "print(result)"
   ]
  },
  {
   "cell_type": "markdown",
   "id": "58e89322-74df-48ca-8c05-74e75099ed98",
   "metadata": {},
   "source": [
    "### ANS 14"
   ]
  },
  {
   "cell_type": "code",
   "execution_count": 9,
   "id": "23202bc0-a1ae-47d0-aa94-466d00f49664",
   "metadata": {},
   "outputs": [
    {
     "name": "stdout",
     "output_type": "stream",
     "text": [
      "-6.666666666666666\n",
      "it is decreased\n"
     ]
    }
   ],
   "source": [
    "p=(8-10)/3\n",
    "t=p*10\n",
    "print(t)\n",
    "confidence_range=1-0.5\n",
    "decision_rule=2.045\n",
    "if decision_rule<t and decision_rule>t:\n",
    "    print('we reject the null hypothesis')\n",
    "else:\n",
    "    print('it is decreased')"
   ]
  },
  {
   "cell_type": "markdown",
   "id": "dac87d90-537d-4abb-8dbd-c956645459ad",
   "metadata": {},
   "source": [
    "### ANS 15"
   ]
  },
  {
   "cell_type": "code",
   "execution_count": 19,
   "id": "95058e3d-d65a-462a-b481-b2d5b5545dc5",
   "metadata": {},
   "outputs": [],
   "source": [
    "def hy():\n",
    "    u=int(input('enter u'))\n",
    "    s=float(input('enter s'))\n",
    "    n=int(input('enter n'))\n",
    "    x=float(input('enter x'))\n",
    "    z=(x-u)/s\n",
    "    z_test=z*math.sqrt(n)\n",
    "    area_under_z_test=0.0228\n",
    "    significance_value=0.01\n",
    "    if area_under_z_test<significance_value:\n",
    "        print('we reject the null hypothesis')\n",
    "    else:\n",
    "        print('we accept the null hypothesis')\n",
    "    \n",
    "    \n",
    "    \n",
    "    "
   ]
  },
  {
   "cell_type": "code",
   "execution_count": null,
   "id": "f107342b-8ac0-41f4-829b-c1e9b8e3f4d9",
   "metadata": {
    "tags": []
   },
   "outputs": [],
   "source": []
  },
  {
   "cell_type": "markdown",
   "id": "b1c7c3c7-49c9-495b-8e98-7b6a88267c0e",
   "metadata": {},
   "source": [
    "### ANS 17\n",
    "C.I=sample_mean +- (Z*(standard Deviation/sqrt(sample size))\n",
    "\n"
   ]
  },
  {
   "cell_type": "code",
   "execution_count": 7,
   "id": "88d76601-6deb-4fa6-907b-af8f7395af94",
   "metadata": {},
   "outputs": [
    {
     "name": "stdout",
     "output_type": "stream",
     "text": [
      "(3.453547879499036, 4.546452120500964)\n"
     ]
    }
   ],
   "source": [
    "x=4\n",
    "s=1.5\n",
    "n=50\n",
    "z_score=2.576\n",
    "moe=1.5/math.sqrt(50)\n",
    "score=float(x)-z_score*(moe)\n",
    "score2=float(x)+z_score*(moe)\n",
    "range_score=(score,score2)\n",
    "print(range_score)"
   ]
  },
  {
   "cell_type": "markdown",
   "id": "7eb4c600-3356-41ac-8428-b0c19ec0a6dc",
   "metadata": {},
   "source": [
    "### ANS 2\n",
    "to calculate population mean we can use the formula:\n",
    "****\n",
    "c.i=sample_mean-+(Z*(standard Deviation/sqrt(sample_size))"
   ]
  },
  {
   "cell_type": "markdown",
   "id": "fa3d4687-baff-4b7c-a188-00ffad2d8c6d",
   "metadata": {},
   "source": [
    "### ANS 4\n",
    "1) NUll HYPOTHESIS= avergae height of male is greater \n",
    "2) ALTERNATE HYPOTHESIS= average height of male is less than female\n",
    "3) Experiments= proof count(p value)\n",
    "4) p value is greater than significance value we accept the null hypothesis "
   ]
  },
  {
   "cell_type": "markdown",
   "id": "adc26e25-ddf1-4d06-81be-3446abff204c",
   "metadata": {},
   "source": [
    "### ANS 13 \n",
    "c.i=sample_mean-+(Z*(standard Deviation/sqrt(sample_size))"
   ]
  },
  {
   "cell_type": "markdown",
   "id": "410dc345-bcce-4e7d-9584-a9a891c8b6f6",
   "metadata": {},
   "source": [
    "###### x=500\n",
    "s=50\n",
    "n=50\n",
    "z_score=1.605\n",
    "moe=30/math.sqrt(50)\n",
    "score=float(x)-z_score*(moe)\n",
    "score_2=float(x)+z_score*(moe)\n",
    "range_score=(score,score_2)\n",
    "print(range_score)"
   ]
  },
  {
   "cell_type": "markdown",
   "id": "a69a0c74-5bc3-4ce2-a5fa-57a63eae8f8a",
   "metadata": {},
   "source": [
    "### ANS 16\n",
    "Null Hpothesis=H0: the population of two group are equal.\n",
    "Alternate Hypothesis=Ha the population of two group are not equal.\n",
    "****\n",
    "significance value=0.01\n"
   ]
  },
  {
   "cell_type": "code",
   "execution_count": 14,
   "id": "158d93c5-7396-4cd5-84cd-061d5108c6a1",
   "metadata": {},
   "outputs": [],
   "source": [
    "x1=80\n",
    "x2=75\n",
    "s1=10\n",
    "s2=8\n",
    "n1=30\n",
    "n2=40"
   ]
  },
  {
   "cell_type": "markdown",
   "id": "d704b95a-a66a-40cd-bc41-397ee2cca01d",
   "metadata": {},
   "source": [
    "u=x1-x2\n",
    "l=(s1**2/n1) + (s2**2/n2)\n",
    "t=u/math.sqrt(l)\n",
    "print(t)"
   ]
  },
  {
   "cell_type": "markdown",
   "id": "5ce0a800-8f49-4f9a-8083-e9c02222ce8d",
   "metadata": {},
   "source": [
    "dof=(s1**2/n1 +s2**2/n2)**2/((s1**2/n1)**2/n1-1)+((s2**2/n2)**2/n2-1)"
   ]
  },
  {
   "cell_type": "code",
   "execution_count": 27,
   "id": "09f0c748-85a6-4ea3-a7b4-77f88a2fe846",
   "metadata": {},
   "outputs": [],
   "source": [
    "dof =67.67"
   ]
  },
  {
   "cell_type": "markdown",
   "id": "fbfed1e5-69e0-44a8-835c-2e95d8602ed5",
   "metadata": {},
   "source": [
    "critical_t_value=2.2621"
   ]
  },
  {
   "cell_type": "markdown",
   "id": "d518c3a2-fed3-4553-890c-7551c8a1af14",
   "metadata": {},
   "source": [
    "t< critical_value \n",
    "***\n",
    "we failed to reject the null hypothesis"
   ]
  },
  {
   "cell_type": "markdown",
   "id": "e3a4c985-7f9a-44de-8d13-6fef239ad1ac",
   "metadata": {},
   "source": [
    "### ANS 5\n",
    "1) Null_hypothesis= h0=population of two mean are equal \n",
    "2) Alternate_hypothesis=ha=population of two mean are not equal\n",
    "3) expirements=p_value(test)\n",
    "4) if significance_value<p<significance_value= we rejct the null hypothesis "
   ]
  },
  {
   "cell_type": "markdown",
   "id": "88e6ba9e-438d-4f4c-9ab6-16ca8c65b857",
   "metadata": {},
   "source": [
    "### ANS 9"
   ]
  },
  {
   "cell_type": "code",
   "execution_count": 9,
   "id": "a61b77ff-fd2f-439d-b905-9efa7d27ea2a",
   "metadata": {},
   "outputs": [],
   "source": [
    "import numpy as np \n",
    "import matplotlib.pyplot as plt \n",
    "from scipy.stats import t"
   ]
  },
  {
   "cell_type": "code",
   "execution_count": 10,
   "id": "c9619177-a963-4f13-af35-408eeb74f4f0",
   "metadata": {},
   "outputs": [
    {
     "data": {
      "image/png": "[encoded data removed]",
      "text/plain": [
       "<Figure size 500x500 with 1 Axes>"
      ]
     },
     "metadata": {},
     "output_type": "display_data"
    }
   ],
   "source": [
    "degree_of_freedom=10\n",
    "\n",
    "x=np.linspace(2,20,100)\n",
    "pdf=t.pdf(x,df=degree_of_freedom)\n",
    "\n",
    "plt.figure(figsize=(5,5))\n",
    "plt.plot(x,pdf)\n",
    "plt.xlabel('x')\n",
    "plt.ylabel('y')\n",
    "plt.show()\n"
   ]
  },
  {
   "cell_type": "code",
   "execution_count": null,
   "id": "290773f9-cc3e-4d51-a903-c3710d170927",
   "metadata": {},
   "outputs": [],
   "source": []
  }
 ],
 "metadata": {
  "kernelspec": {
   "display_name": "Python 3 (ipykernel)",
   "language": "python",
   "name": "python3"
  },
  "language_info": {
   "codemirror_mode": {
    "name": "ipython",
    "version": 3
   },
   "file_extension": ".py",
   "mimetype": "text/x-python",
   "name": "python",
   "nbconvert_exporter": "python",
   "pygments_lexer": "ipython3",
   "version": "3.10.8"
  }
 },
 "nbformat": 4,
 "nbformat_minor": 5
}
