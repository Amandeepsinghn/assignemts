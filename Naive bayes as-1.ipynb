{
 "cells": [
  {
   "cell_type": "markdown",
   "id": "af6cf81d",
   "metadata": {},
   "source": [
    "### ANS 1\n",
    "it is a mathematical formula used for the calcuation of condition probability.it provide us a way to probability a event based on new evidence of data.formula P(A/B)=P(A)*P(B/A)/P(B)"
   ]
  },
  {
   "cell_type": "markdown",
   "id": "12a94c6c",
   "metadata": {},
   "source": [
    "### ANS 2\n",
    "fromula:\n",
    "P(A/B)=P(A)*P(B/A)/P(B)"
   ]
  },
  {
   "cell_type": "markdown",
   "id": "49a4fdbc",
   "metadata": {},
   "source": [
    "### ANS 3\n",
    "bayes theorem is used in machine learning it is used for classification model it tells us the probability of yes or no whichever probability is higher that will be used as output."
   ]
  },
  {
   "cell_type": "markdown",
   "id": "5da2c678",
   "metadata": {},
   "source": [
    "### ANS 4\n",
    "bayes thereom is used for the calculation of conditionla probability based on the new events."
   ]
  },
  {
   "cell_type": "markdown",
   "id": "1e4431e0",
   "metadata": {},
   "source": [
    "### ANS 5\n",
    "there are 3 types of variants used for naive baye's:\n",
    "1) Bernoulli Naive bayes: it is used when our each feature have only two outcome or if our features follows bernoulli distribution.\n",
    "2) Multinomial Naive bayes: it is used when our input is text because it uses nlp to check the feature and gives its feature in the form of 0,1,2_ _ .\n",
    "3) Guassian Naive Bayes: it is used to when our feature are continous and each feature follows guassian distribution.\n"
   ]
  },
  {
   "cell_type": "markdown",
   "id": "149af11a",
   "metadata": {},
   "source": [
    "### ANS 6\n",
    "class a has higher probability(0.12)  which is greater than 0.37 of class b  according to the naive bayes."
   ]
  },
  {
   "cell_type": "code",
   "execution_count": null,
   "id": "2aadf93d",
   "metadata": {},
   "outputs": [],
   "source": []
  }
 ],
 "metadata": {
  "kernelspec": {
   "display_name": "Python 3 (ipykernel)",
   "language": "python",
   "name": "python3"
  },
  "language_info": {
   "codemirror_mode": {
    "name": "ipython",
    "version": 3
   },
   "file_extension": ".py",
   "mimetype": "text/x-python",
   "name": "python",
   "nbconvert_exporter": "python",
   "pygments_lexer": "ipython3",
   "version": "3.11.4"
  }
 },
 "nbformat": 4,
 "nbformat_minor": 5
}
