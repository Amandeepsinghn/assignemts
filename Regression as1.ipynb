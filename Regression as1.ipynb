{
 "cells": [
  {
   "cell_type": "markdown",
   "id": "de4bc5f5-1986-4856-b339-647c6fc70e92",
   "metadata": {},
   "source": [
    "### ANS 1\n",
    "1) we use simple linear regression we have only one dependent and independent feature. for example class student makrs and class student grades\n",
    "2) when we have multiple independent feature then we use multiple linear regression. for example class stdent marks,class student study hour, class student grades."
   ]
  },
  {
   "cell_type": "markdown",
   "id": "a38e4d70-7738-42d6-af79-dcde452f7d2d",
   "metadata": {},
   "source": [
    "### ANS 2\n",
    "1) linearity:\n",
    "realtionship between the independent variables and the dependent varaible is linear.\n",
    "2) the error from one data point should not provide information about the rror from another data point.\n",
    "3) the spread of the residuals should not change as the independent varaibles change.\n",
    "4) the independent varaibles should not be highly correlated with each other."
   ]
  },
  {
   "cell_type": "markdown",
   "id": "b65bdc63-9899-4741-83fd-f5862af01380",
   "metadata": {},
   "source": [
    "### ANS 4\n",
    "gradient descent is the curve between cost fucntion value and theata 1.gradient descent is used to find global minima. it used to find the theata 0 and theata 1 value in such a way that the error is least."
   ]
  },
  {
   "cell_type": "markdown",
   "id": "07c1b442-9dbe-491a-8aa2-178bc25df8d1",
   "metadata": {},
   "source": [
    "### ANS 5\n",
    "multiple linear regression model is used when there are more than 1 or more independent varaible are present in multilinear regression model if there are two independent variable and one dependent variable then three dimensional figure will be made to find slope. linear regression is a model of only one independent varaible and one dependent varaible."
   ]
  },
  {
   "cell_type": "markdown",
   "id": "cb96c2a2-acbe-43d9-8e21-aeaf471dc3bf",
   "metadata": {},
   "source": [
    "### ANS 6\n",
    "multicollinearity means when two or more independent varaibles are highly correlated with each other.  it can lead to several problems like:\n",
    "1) it becomes hard for model to distinguish individual effect of each correlated variable on the dependent variable.\n",
    "2) it become difficult to interpret the impact of individual independent varaible.\n",
    "*****\n",
    "\n",
    "There are several methods to detect multicollinearity:\n",
    "1) Corrleation Matrix: calcuate the correlation cofficients between pairs of independent vataibles.\n",
    "2) VIF: if VIF is greater than 1 it suggest multicollinearity with hgiher value indicating more severe multicollinearity.\n",
    "3) Tolerance: value close to 0 suggest high multicollinearity and 1 indicates low multicollinearity.\n"
   ]
  },
  {
   "cell_type": "markdown",
   "id": "9b66cc8b-7053-439c-99ae-6a04db61914c",
   "metadata": {},
   "source": [
    "### ANS 7\n",
    "polynomial regression model is used when there is non liner relationship between variables and it models relationship between dependent varaible and one or more independent varaibles. there are two types of polynomial regression: 1) simple polynomial regression 2) multiple polynomial regression  both are used to find best fit line for non linear relationsip.\n",
    "**** \n",
    "simple regression is used to find best fit line for linear realtiionship but polynomial regression is used to find best fit for non linear relationship."
   ]
  },
  {
   "cell_type": "markdown",
   "id": "cb993552-dc51-4595-8222-dea1d79771b7",
   "metadata": {},
   "source": [
    "###  ANS 8\n",
    "Advantages of polynomial regression:\n",
    "1) it can capture more complex realtionship between varaibles.\n",
    "2) when realitonship is  non linear polynomial regression provides better fit.\n",
    "***\n",
    "Disadvantages of polynomial regression:\n",
    "1) Overfitting:\n",
    "polynomial regression with high degrees are prone to overfitting,which occour when the model fites the noise in the data.\n",
    "2) Lack of Extrapolation: \n",
    "extrapolation or making prediciton outside the range of the observed data can be problematic in polynomial regression.\n",
    "3) model selection:\n",
    "determining the appropriate degree of the polynomial can be challenging.chossing too low a degree may result in underfitting,while chossing too high a degree may lead to overfitting."
   ]
  },
  {
   "cell_type": "markdown",
   "id": "efe7b2f8-dd2c-43f5-9169-2b3adc7fccc9",
   "metadata": {},
   "source": [
    "### ANS 3\n",
    "1) Slope: it represent the change in dependent varialbe for a one unit change in independent varaible.it indicates the direction and strength of linear relationship between the idnependet and dependent varaobel.\n",
    "3) Intercept: it is the value of dependent variable when all indpendent variable are equal to zero. it is the point where line intersects the y axis.\n",
    "*** \n",
    "for example:\n",
    "prediction of price of house:\n",
    "let intercept is 50 means when the area is zero the price is 50 rs of house. "
   ]
  },
  {
   "cell_type": "code",
   "execution_count": null,
   "id": "74a3f099-b71c-4f92-8ed9-8c2808d16f9a",
   "metadata": {},
   "outputs": [],
   "source": []
  }
 ],
 "metadata": {
  "kernelspec": {
   "display_name": "Python 3 (ipykernel)",
   "language": "python",
   "name": "python3"
  },
  "language_info": {
   "codemirror_mode": {
    "name": "ipython",
    "version": 3
   },
   "file_extension": ".py",
   "mimetype": "text/x-python",
   "name": "python",
   "nbconvert_exporter": "python",
   "pygments_lexer": "ipython3",
   "version": "3.10.8"
  }
 },
 "nbformat": 4,
 "nbformat_minor": 5
}
