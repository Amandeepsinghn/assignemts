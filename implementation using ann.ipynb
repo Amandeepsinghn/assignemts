{
 "cells": [
  {
   "cell_type": "code",
   "execution_count": 3,
   "id": "e0b73c72-f3e6-4e27-80aa-b8ccad7f3bc7",
   "metadata": {
    "tags": []
   },
   "outputs": [],
   "source": [
    "import tensorflow as tf \n",
    "import matplotlib.pyplot as plt \n",
    "import numpy as np \n",
    "import pandas as pd \n",
    "import seaborn as sns\n",
    "import os \n",
    "import keras as kf"
   ]
  },
  {
   "cell_type": "markdown",
   "id": "f4b9c87e-e0c2-42a6-8aed-80c44a34e261",
   "metadata": {},
   "source": [
    "# ANS 1"
   ]
  },
  {
   "cell_type": "code",
   "execution_count": 4,
   "id": "e35b5ecf-1252-4f1e-ab71-e98a4fbeb61c",
   "metadata": {
    "tags": []
   },
   "outputs": [
    {
     "name": "stdout",
     "output_type": "stream",
     "text": [
      "2.15.0\n",
      "2.15.0\n"
     ]
    }
   ],
   "source": [
    "print(tf.__version__)\n",
    "print(kf.__version__)"
   ]
  },
  {
   "cell_type": "markdown",
   "id": "ccf9c1f7-b623-4ee1-8c69-b528788ea671",
   "metadata": {},
   "source": [
    "# ANS 2"
   ]
  },
  {
   "cell_type": "code",
   "execution_count": 5,
   "id": "fd7efbf3-129d-4be9-8d9f-608ee2cdab2c",
   "metadata": {
    "tags": []
   },
   "outputs": [],
   "source": [
    "df=pd.read_csv('Wine.csv')"
   ]
  },
  {
   "cell_type": "code",
   "execution_count": 6,
   "id": "91e2cd29-392a-4d6c-8ffc-491e68359301",
   "metadata": {
    "tags": []
   },
   "outputs": [
    {
     "name": "stdout",
     "output_type": "stream",
     "text": [
      "(1599, 12)\n",
      "no of rows=1599\n",
      "no of columns=12\n"
     ]
    }
   ],
   "source": [
    "print(df.shape)\n",
    "print(f'no of rows={df.shape[0]}')\n",
    "print(f'no of columns={df.shape[1]}')"
   ]
  },
  {
   "cell_type": "markdown",
   "id": "4b53c668-0d5a-4339-a8b2-d4908000cf60",
   "metadata": {},
   "source": [
    "# ANS 3"
   ]
  },
  {
   "cell_type": "code",
   "execution_count": 7,
   "id": "8b8fd74f-5974-4a24-806e-915bafef5f23",
   "metadata": {
    "tags": []
   },
   "outputs": [
    {
     "data": {
      "text/plain": [
       "fixed acidity           0\n",
       "volatile acidity        0\n",
       "citric acid             0\n",
       "residual sugar          0\n",
       "chlorides               0\n",
       "free sulfur dioxide     0\n",
       "total sulfur dioxide    0\n",
       "density                 0\n",
       "pH                      0\n",
       "sulphates               0\n",
       "alcohol                 0\n",
       "quality                 0\n",
       "dtype: int64"
      ]
     },
     "execution_count": 7,
     "metadata": {},
     "output_type": "execute_result"
    }
   ],
   "source": [
    "df.isnull().sum()"
   ]
  },
  {
   "cell_type": "code",
   "execution_count": 8,
   "id": "8f6ac166-4326-412a-850f-a2f39f1045d8",
   "metadata": {
    "tags": []
   },
   "outputs": [],
   "source": [
    "from sklearn.preprocessing import OneHotEncoder\n",
    "from sklearn.preprocessing import LabelEncoder"
   ]
  },
  {
   "cell_type": "code",
   "execution_count": 9,
   "id": "f42a03b5-406e-4b16-9dd8-05bac2707b2a",
   "metadata": {
    "tags": []
   },
   "outputs": [],
   "source": [
    "encoder=LabelEncoder()"
   ]
  },
  {
   "cell_type": "code",
   "execution_count": 10,
   "id": "f68042a6-9bc4-4960-aa96-e4e0dba19709",
   "metadata": {
    "tags": []
   },
   "outputs": [
    {
     "name": "stderr",
     "output_type": "stream",
     "text": [
      "C:\\Users\\amand\\anaconda3\\Lib\\site-packages\\sklearn\\preprocessing\\_label.py:114: DataConversionWarning: A column-vector y was passed when a 1d array was expected. Please change the shape of y to (n_samples, ), for example using ravel().\n",
      "  y = column_or_1d(y, warn=True)\n"
     ]
    }
   ],
   "source": [
    "df['quality']=encoder.fit_transform(df[['quality']])"
   ]
  },
  {
   "cell_type": "code",
   "execution_count": 11,
   "id": "c2ebc88b-2b83-4403-b335-fb15b65bbd63",
   "metadata": {
    "tags": []
   },
   "outputs": [
    {
     "data": {
      "text/html": [
       "<div>\n",
       "<style scoped>\n",
       "    .dataframe tbody tr th:only-of-type {\n",
       "        vertical-align: middle;\n",
       "    }\n",
       "\n",
       "    .dataframe tbody tr th {\n",
       "        vertical-align: top;\n",
       "    }\n",
       "\n",
       "    .dataframe thead th {\n",
       "        text-align: right;\n",
       "    }\n",
       "</style>\n",
       "<table border=\"1\" class=\"dataframe\">\n",
       "  <thead>\n",
       "    <tr style=\"text-align: right;\">\n",
       "      <th></th>\n",
       "      <th>fixed acidity</th>\n",
       "      <th>volatile acidity</th>\n",
       "      <th>citric acid</th>\n",
       "      <th>residual sugar</th>\n",
       "      <th>chlorides</th>\n",
       "      <th>free sulfur dioxide</th>\n",
       "      <th>total sulfur dioxide</th>\n",
       "      <th>density</th>\n",
       "      <th>pH</th>\n",
       "      <th>sulphates</th>\n",
       "      <th>alcohol</th>\n",
       "      <th>quality</th>\n",
       "    </tr>\n",
       "  </thead>\n",
       "  <tbody>\n",
       "    <tr>\n",
       "      <th>0</th>\n",
       "      <td>7.4</td>\n",
       "      <td>0.70</td>\n",
       "      <td>0.00</td>\n",
       "      <td>1.9</td>\n",
       "      <td>0.076</td>\n",
       "      <td>11.0</td>\n",
       "      <td>34.0</td>\n",
       "      <td>0.9978</td>\n",
       "      <td>3.51</td>\n",
       "      <td>0.56</td>\n",
       "      <td>9.4</td>\n",
       "      <td>0</td>\n",
       "    </tr>\n",
       "    <tr>\n",
       "      <th>1</th>\n",
       "      <td>7.8</td>\n",
       "      <td>0.88</td>\n",
       "      <td>0.00</td>\n",
       "      <td>2.6</td>\n",
       "      <td>0.098</td>\n",
       "      <td>25.0</td>\n",
       "      <td>67.0</td>\n",
       "      <td>0.9968</td>\n",
       "      <td>3.20</td>\n",
       "      <td>0.68</td>\n",
       "      <td>9.8</td>\n",
       "      <td>0</td>\n",
       "    </tr>\n",
       "    <tr>\n",
       "      <th>2</th>\n",
       "      <td>7.8</td>\n",
       "      <td>0.76</td>\n",
       "      <td>0.04</td>\n",
       "      <td>2.3</td>\n",
       "      <td>0.092</td>\n",
       "      <td>15.0</td>\n",
       "      <td>54.0</td>\n",
       "      <td>0.9970</td>\n",
       "      <td>3.26</td>\n",
       "      <td>0.65</td>\n",
       "      <td>9.8</td>\n",
       "      <td>0</td>\n",
       "    </tr>\n",
       "    <tr>\n",
       "      <th>3</th>\n",
       "      <td>11.2</td>\n",
       "      <td>0.28</td>\n",
       "      <td>0.56</td>\n",
       "      <td>1.9</td>\n",
       "      <td>0.075</td>\n",
       "      <td>17.0</td>\n",
       "      <td>60.0</td>\n",
       "      <td>0.9980</td>\n",
       "      <td>3.16</td>\n",
       "      <td>0.58</td>\n",
       "      <td>9.8</td>\n",
       "      <td>1</td>\n",
       "    </tr>\n",
       "    <tr>\n",
       "      <th>4</th>\n",
       "      <td>7.4</td>\n",
       "      <td>0.70</td>\n",
       "      <td>0.00</td>\n",
       "      <td>1.9</td>\n",
       "      <td>0.076</td>\n",
       "      <td>11.0</td>\n",
       "      <td>34.0</td>\n",
       "      <td>0.9978</td>\n",
       "      <td>3.51</td>\n",
       "      <td>0.56</td>\n",
       "      <td>9.4</td>\n",
       "      <td>0</td>\n",
       "    </tr>\n",
       "  </tbody>\n",
       "</table>\n",
       "</div>"
      ],
      "text/plain": [
       "   fixed acidity  volatile acidity  citric acid  residual sugar  chlorides  \\\n",
       "0            7.4              0.70         0.00             1.9      0.076   \n",
       "1            7.8              0.88         0.00             2.6      0.098   \n",
       "2            7.8              0.76         0.04             2.3      0.092   \n",
       "3           11.2              0.28         0.56             1.9      0.075   \n",
       "4            7.4              0.70         0.00             1.9      0.076   \n",
       "\n",
       "   free sulfur dioxide  total sulfur dioxide  density    pH  sulphates  \\\n",
       "0                 11.0                  34.0   0.9978  3.51       0.56   \n",
       "1                 25.0                  67.0   0.9968  3.20       0.68   \n",
       "2                 15.0                  54.0   0.9970  3.26       0.65   \n",
       "3                 17.0                  60.0   0.9980  3.16       0.58   \n",
       "4                 11.0                  34.0   0.9978  3.51       0.56   \n",
       "\n",
       "   alcohol  quality  \n",
       "0      9.4        0  \n",
       "1      9.8        0  \n",
       "2      9.8        0  \n",
       "3      9.8        1  \n",
       "4      9.4        0  "
      ]
     },
     "execution_count": 11,
     "metadata": {},
     "output_type": "execute_result"
    }
   ],
   "source": [
    "df.head()"
   ]
  },
  {
   "cell_type": "code",
   "execution_count": 12,
   "id": "701b0207-4e13-4758-9893-00347d292674",
   "metadata": {
    "tags": []
   },
   "outputs": [],
   "source": [
    "from sklearn.model_selection import train_test_split\n",
    "from sklearn.preprocessing import StandardScaler"
   ]
  },
  {
   "cell_type": "markdown",
   "id": "7ea438a7-56a0-49ad-96c1-2685b62b79a7",
   "metadata": {},
   "source": [
    "# ANS 4"
   ]
  },
  {
   "cell_type": "code",
   "execution_count": 13,
   "id": "fecdc38e-ac86-49c1-8b43-2cfc7079eb52",
   "metadata": {
    "tags": []
   },
   "outputs": [],
   "source": [
    "X=df.drop('quality',axis=1)\n",
    "y=df[['quality']]"
   ]
  },
  {
   "cell_type": "markdown",
   "id": "0b997187-ede0-4cbd-a82d-2e404d27da31",
   "metadata": {},
   "source": [
    "# ANS 5"
   ]
  },
  {
   "cell_type": "code",
   "execution_count": 14,
   "id": "d158d44f-3e67-4938-b845-1cbfdcae4cb4",
   "metadata": {
    "tags": []
   },
   "outputs": [],
   "source": [
    "X_train_full,X_test,y_train_full,y_test=train_test_split(X,y,random_state=42)\n",
    "X_train,X_valid,y_train,y_valid=train_test_split(X_train_full,y_train_full,random_state=42)"
   ]
  },
  {
   "cell_type": "markdown",
   "id": "3f49a2cf-aba1-498d-b62a-4569d84ad256",
   "metadata": {},
   "source": [
    "# ANS 6"
   ]
  },
  {
   "cell_type": "code",
   "execution_count": 15,
   "id": "16c8ce86-6c69-4af9-b1fc-4cfaf15acc0b",
   "metadata": {
    "tags": []
   },
   "outputs": [],
   "source": [
    "scaler=StandardScaler()"
   ]
  },
  {
   "cell_type": "code",
   "execution_count": 16,
   "id": "4f334cd1-1f18-4efa-86ed-25de0177c40d",
   "metadata": {
    "tags": []
   },
   "outputs": [],
   "source": [
    "X_train=scaler.fit_transform(X_train)\n",
    "X_valid=scaler.transform(X_valid)\n",
    "X_test=scaler.transform(X_test)"
   ]
  },
  {
   "cell_type": "markdown",
   "id": "e09e6dad-9975-4f50-96a7-6533de7aee7b",
   "metadata": {},
   "source": [
    "# ANS 7"
   ]
  },
  {
   "cell_type": "code",
   "execution_count": 17,
   "id": "07f3dc33-4d8b-4067-914d-64f9db23fb7c",
   "metadata": {
    "tags": []
   },
   "outputs": [
    {
     "name": "stdout",
     "output_type": "stream",
     "text": [
      "WARNING:tensorflow:From C:\\Users\\amand\\anaconda3\\Lib\\site-packages\\keras\\src\\backend.py:873: The name tf.get_default_graph is deprecated. Please use tf.compat.v1.get_default_graph instead.\n",
      "\n"
     ]
    }
   ],
   "source": [
    "LAYERS= [\n",
    "    tf.keras.layers.Dense(40,activation='relu',input_shape=X_train.shape[1:]),\n",
    "    tf.keras.layers.Dense(20,activation='relu'),\n",
    "    tf.keras.layers.Dense(10,activation='relu'),\n",
    "    tf.keras.layers.Dense(1,activation='sigmoid')]\n"
   ]
  },
  {
   "cell_type": "markdown",
   "id": "0c7e432b-0b85-496d-868a-0c19213a36a5",
   "metadata": {},
   "source": [
    "# ANS 8"
   ]
  },
  {
   "cell_type": "code",
   "execution_count": 18,
   "id": "9fbf00fe-30e6-4f1a-8211-84e62e35074b",
   "metadata": {
    "tags": []
   },
   "outputs": [],
   "source": [
    "model=tf.keras.models.Sequential(LAYERS)"
   ]
  },
  {
   "cell_type": "markdown",
   "id": "072b6cef-ede8-4455-9b0e-04535092fd0e",
   "metadata": {},
   "source": [
    "# ANS 9"
   ]
  },
  {
   "cell_type": "code",
   "execution_count": 19,
   "id": "5f5a64a0-56de-4d6e-8550-0abaf0bbeda4",
   "metadata": {
    "tags": []
   },
   "outputs": [
    {
     "name": "stdout",
     "output_type": "stream",
     "text": [
      "Model: \"sequential\"\n",
      "_________________________________________________________________\n",
      " Layer (type)                Output Shape              Param #   \n",
      "=================================================================\n",
      " dense (Dense)               (None, 40)                480       \n",
      "                                                                 \n",
      " dense_1 (Dense)             (None, 20)                820       \n",
      "                                                                 \n",
      " dense_2 (Dense)             (None, 10)                210       \n",
      "                                                                 \n",
      " dense_3 (Dense)             (None, 1)                 11        \n",
      "                                                                 \n",
      "=================================================================\n",
      "Total params: 1521 (5.94 KB)\n",
      "Trainable params: 1521 (5.94 KB)\n",
      "Non-trainable params: 0 (0.00 Byte)\n",
      "_________________________________________________________________\n"
     ]
    }
   ],
   "source": [
    "model.summary()"
   ]
  },
  {
   "cell_type": "markdown",
   "id": "cbb11f14-9d9f-489b-827b-f6d09d66374d",
   "metadata": {},
   "source": [
    "# ANS 10"
   ]
  },
  {
   "cell_type": "code",
   "execution_count": 20,
   "id": "6410c6c0-1e58-4fdb-a994-078793fdd687",
   "metadata": {
    "tags": []
   },
   "outputs": [],
   "source": [
    "Loss_function='binary_crossentropy'\n",
    "Optimizer='adam'\n",
    "Metrices='accuracy'"
   ]
  },
  {
   "cell_type": "markdown",
   "id": "2edc92e3-5218-4e6f-91ee-5cf57c2eea25",
   "metadata": {},
   "source": [
    "# ANS 11"
   ]
  },
  {
   "cell_type": "code",
   "execution_count": 21,
   "id": "b65b46bd-420a-4fd0-9ef9-ad363a187a8d",
   "metadata": {
    "tags": []
   },
   "outputs": [
    {
     "name": "stdout",
     "output_type": "stream",
     "text": [
      "WARNING:tensorflow:From C:\\Users\\amand\\anaconda3\\Lib\\site-packages\\keras\\src\\optimizers\\__init__.py:309: The name tf.train.Optimizer is deprecated. Please use tf.compat.v1.train.Optimizer instead.\n",
      "\n"
     ]
    }
   ],
   "source": [
    "model.compile(optimizer=Optimizer,loss=Loss_function,metrics=Metrices)"
   ]
  },
  {
   "cell_type": "markdown",
   "id": "50291bd8-f014-475e-8302-82a333f3241a",
   "metadata": {},
   "source": [
    "# ANS 12"
   ]
  },
  {
   "cell_type": "code",
   "execution_count": 24,
   "id": "b65444ec-ca91-4450-b443-a4494da6579a",
   "metadata": {
    "tags": []
   },
   "outputs": [
    {
     "name": "stdout",
     "output_type": "stream",
     "text": [
      "Epoch 1/30\n",
      "29/29 [==============================] - 0s 7ms/step - loss: 0.4148 - accuracy: 0.7964 - val_loss: 0.5851 - val_accuracy: 0.7333\n",
      "Epoch 2/30\n",
      "29/29 [==============================] - 0s 5ms/step - loss: 0.4138 - accuracy: 0.7964 - val_loss: 0.5897 - val_accuracy: 0.7300\n",
      "Epoch 3/30\n",
      "29/29 [==============================] - 0s 5ms/step - loss: 0.4107 - accuracy: 0.8065 - val_loss: 0.5894 - val_accuracy: 0.7300\n",
      "Epoch 4/30\n",
      "29/29 [==============================] - 0s 5ms/step - loss: 0.4104 - accuracy: 0.7998 - val_loss: 0.5866 - val_accuracy: 0.7233\n",
      "Epoch 5/30\n",
      "29/29 [==============================] - 0s 6ms/step - loss: 0.4069 - accuracy: 0.8031 - val_loss: 0.5910 - val_accuracy: 0.7200\n",
      "Epoch 6/30\n",
      "29/29 [==============================] - 0s 5ms/step - loss: 0.4050 - accuracy: 0.8087 - val_loss: 0.5948 - val_accuracy: 0.7300\n",
      "Epoch 7/30\n",
      "29/29 [==============================] - 0s 5ms/step - loss: 0.4044 - accuracy: 0.8087 - val_loss: 0.5919 - val_accuracy: 0.7400\n",
      "Epoch 8/30\n",
      "29/29 [==============================] - 0s 6ms/step - loss: 0.4040 - accuracy: 0.8076 - val_loss: 0.5953 - val_accuracy: 0.7267\n",
      "Epoch 9/30\n",
      "29/29 [==============================] - 0s 5ms/step - loss: 0.4003 - accuracy: 0.8098 - val_loss: 0.5972 - val_accuracy: 0.7267\n",
      "Epoch 10/30\n",
      "29/29 [==============================] - 0s 5ms/step - loss: 0.3961 - accuracy: 0.8098 - val_loss: 0.5989 - val_accuracy: 0.7433\n",
      "Epoch 11/30\n",
      "29/29 [==============================] - 0s 5ms/step - loss: 0.3931 - accuracy: 0.8154 - val_loss: 0.5986 - val_accuracy: 0.7300\n",
      "Epoch 12/30\n",
      "29/29 [==============================] - 0s 5ms/step - loss: 0.3922 - accuracy: 0.8087 - val_loss: 0.5966 - val_accuracy: 0.7333\n",
      "Epoch 13/30\n",
      "29/29 [==============================] - 0s 5ms/step - loss: 0.3905 - accuracy: 0.8120 - val_loss: 0.5981 - val_accuracy: 0.7367\n",
      "Epoch 14/30\n",
      "29/29 [==============================] - 0s 5ms/step - loss: 0.3898 - accuracy: 0.8242 - val_loss: 0.6052 - val_accuracy: 0.7300\n",
      "Epoch 15/30\n",
      "29/29 [==============================] - 0s 5ms/step - loss: 0.3889 - accuracy: 0.8131 - val_loss: 0.6033 - val_accuracy: 0.7300\n",
      "Epoch 16/30\n",
      "29/29 [==============================] - 0s 5ms/step - loss: 0.3860 - accuracy: 0.8142 - val_loss: 0.6062 - val_accuracy: 0.7267\n",
      "Epoch 17/30\n",
      "29/29 [==============================] - 0s 5ms/step - loss: 0.3833 - accuracy: 0.8187 - val_loss: 0.6070 - val_accuracy: 0.7333\n",
      "Epoch 18/30\n",
      "29/29 [==============================] - 0s 5ms/step - loss: 0.3816 - accuracy: 0.8276 - val_loss: 0.6100 - val_accuracy: 0.7367\n",
      "Epoch 19/30\n",
      "29/29 [==============================] - 0s 5ms/step - loss: 0.3787 - accuracy: 0.8242 - val_loss: 0.6217 - val_accuracy: 0.7233\n",
      "Epoch 20/30\n",
      "29/29 [==============================] - 0s 5ms/step - loss: 0.3775 - accuracy: 0.8254 - val_loss: 0.6100 - val_accuracy: 0.7367\n",
      "Epoch 21/30\n",
      "29/29 [==============================] - 0s 5ms/step - loss: 0.3740 - accuracy: 0.8287 - val_loss: 0.6133 - val_accuracy: 0.7333\n",
      "Epoch 22/30\n",
      "29/29 [==============================] - 0s 5ms/step - loss: 0.3758 - accuracy: 0.8276 - val_loss: 0.6170 - val_accuracy: 0.7367\n",
      "Epoch 23/30\n",
      "29/29 [==============================] - 0s 5ms/step - loss: 0.3731 - accuracy: 0.8109 - val_loss: 0.6030 - val_accuracy: 0.7333\n",
      "Epoch 24/30\n",
      "29/29 [==============================] - 0s 5ms/step - loss: 0.3686 - accuracy: 0.8265 - val_loss: 0.6169 - val_accuracy: 0.7433\n",
      "Epoch 25/30\n",
      "29/29 [==============================] - 0s 5ms/step - loss: 0.3685 - accuracy: 0.8354 - val_loss: 0.6149 - val_accuracy: 0.7333\n",
      "Epoch 26/30\n",
      "29/29 [==============================] - 0s 5ms/step - loss: 0.3633 - accuracy: 0.8409 - val_loss: 0.6202 - val_accuracy: 0.7300\n",
      "Epoch 27/30\n",
      "29/29 [==============================] - 0s 5ms/step - loss: 0.3615 - accuracy: 0.8343 - val_loss: 0.6237 - val_accuracy: 0.7333\n",
      "Epoch 28/30\n",
      "29/29 [==============================] - 0s 5ms/step - loss: 0.3599 - accuracy: 0.8376 - val_loss: 0.6211 - val_accuracy: 0.7400\n",
      "Epoch 29/30\n",
      "29/29 [==============================] - 0s 5ms/step - loss: 0.3612 - accuracy: 0.8276 - val_loss: 0.6188 - val_accuracy: 0.7400\n",
      "Epoch 30/30\n",
      "29/29 [==============================] - 0s 5ms/step - loss: 0.3561 - accuracy: 0.8343 - val_loss: 0.6179 - val_accuracy: 0.7267\n"
     ]
    }
   ],
   "source": [
    "EPOCHS=30\n",
    "Validation_set=(X_valid, y_valid)\n",
    "history=model.fit(X_train, y_train, epochs=EPOCHS, validation_data=Validation_set,batch_size=32)"
   ]
  },
  {
   "cell_type": "markdown",
   "id": "f97708b8-ac63-4151-aff0-ffdced2f2622",
   "metadata": {},
   "source": [
    "# ANS 13"
   ]
  },
  {
   "cell_type": "code",
   "execution_count": null,
   "id": "756959e4-f38b-41d4-9f76-cb621eafaccf",
   "metadata": {},
   "outputs": [],
   "source": []
  }
 ],
 "metadata": {
  "kernelspec": {
   "display_name": "Python 3 (ipykernel)",
   "language": "python",
   "name": "python3"
  },
  "language_info": {
   "codemirror_mode": {
    "name": "ipython",
    "version": 3
   },
   "file_extension": ".py",
   "mimetype": "text/x-python",
   "name": "python",
   "nbconvert_exporter": "python",
   "pygments_lexer": "ipython3",
   "version": "3.11.4"
  }
 },
 "nbformat": 4,
 "nbformat_minor": 5
}
