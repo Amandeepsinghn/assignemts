{
 "cells": [
  {
   "cell_type": "markdown",
   "id": "4848bd25-abf7-421e-825a-7b404f2e4332",
   "metadata": {},
   "source": [
    "### ANS 1\n",
    "1) overfitting:overfitting is a condition happens when model  accuracy is high on train dataset but low in test dataset.\n",
    "2) underfiting: it is a condition which happens when model accuracy is low on train dataset and also low in test dataset.\n",
    "***\n",
    "to solve overlifting:\n",
    "1) increase the amount of training data \n",
    "2) use simpler models with fewer parameter \n",
    "3) use cross-validation to assess model performance more robustly\n",
    "***\n",
    "to solve underlifting:\n",
    "1) increase model complexity by using more feature or a more comples model archiecture.\n",
    "2) using different machine learning algorithms \n",
    "3) gather more relevant data if possible to help the model learn the underlying patterns."
   ]
  },
  {
   "cell_type": "markdown",
   "id": "7fb54e8b-6364-441c-821c-e668bd7940af",
   "metadata": {},
   "source": [
    "### ANS 2\n",
    "To solve overfitting:\n",
    "1) More data: increasing the size of your dataset can help the model generalize better.\n",
    "2) cross-validation: using technique like k-fold-cross-validation assess the model performance on multiple splits of the data.cross validation hepls you get a better estimate of how well your model will generalize to unseen data.\n",
    "3) simpler models: choosing simpler model over complex models tend to have higher risk of overlifting.\n"
   ]
  },
  {
   "cell_type": "markdown",
   "id": "abb89d0c-cf5a-488b-9757-a8570fd62cc8",
   "metadata": {},
   "source": [
    "### ANS 4\n",
    "1) bias: it measure how closly the predicted values match the true values on average.\n",
    "2) varaince : varaince refers to error due to model sensitivity to small fluctuation or noise in the training data.\n",
    "****\n",
    "Realtionship between bais and varaince \n",
    "1) as we reduce bias(by increasing model complexity or adding more features), we ten to increase varaince \n",
    "2) as we reduce varaince(by simplyfying the model or using fewer features), you tend to increase bias.\n",
    "*** \n",
    "it affect the model performance because low bias data will not perfrom better on test data and high varaince data me use simple data because of which model is not performing well. to make generalized data we must take balanced bias.\n",
    "\n"
   ]
  },
  {
   "cell_type": "markdown",
   "id": "0361ee5e-ed1b-4d1d-b303-a18f79d274fc",
   "metadata": {},
   "source": [
    "### ANS 3\n",
    "underlifting is a condition which happens when model perform bad in train dataset and also bad in test dataset.\n",
    "***\n",
    "scenarios where underlfiting occur in ml:\n",
    "1) when bias is high occour in machine learning when model is too simplistic.\n",
    "2) linear model for non_linear data: using linera regression or other models to predict outcomes when the true realionship between feature and the targer in non-linear\n",
    "3) small traning dataset \n",
    "4) using wrong algoritihim "
   ]
  },
  {
   "cell_type": "markdown",
   "id": "dacdcec0-1a4f-49c6-9cd6-9d6a01ef565b",
   "metadata": {},
   "source": [
    "### ANS 5\n",
    "common methods to detect the overlifting and underlifting:\n",
    "1) learning curves: visualize the training and validation performance of a model as a fucntion of the number of training iteration.\n",
    "underlifting: learning curves will show high training and validation error that do not improve significantly with more training.\n",
    "overlifting: learning vurves will show a gap between the traning and validation curves where training error continues to decrease while validation error increases.\n",
    "2) cross validation \n",
    "3) regularization technique \n",
    "\n",
    "\n",
    "****\n",
    "identitfying overlifting and underlifting:\n",
    "1) if the model perfrom better on train dataset but poor in test dataset then it is a sign of overlifing \n",
    "2) if the model perform bad on train dataset and poor in test dataset then it is sign of underlifting.\n"
   ]
  },
  {
   "cell_type": "markdown",
   "id": "47c6b837-be00-4a3b-89b4-9da1d8765901",
   "metadata": {},
   "source": [
    "### ANS 7\n",
    "regularization in machine learning is used to identify the underlifting or overlifting. if the regularization does not improve validation performace it indicates underlfiting.\n",
    "if it is overlifting then regularization mitigate the overlifting\n",
    "***\n",
    "some common regularization technique:\n",
    "1) L1 regularization\n",
    "2) L2 regularization \n",
    "3) elastic net regularization \n",
    "4) Dropout "
   ]
  },
  {
   "cell_type": "markdown",
   "id": "10d4abef-0473-46ed-ae55-be04f93bfe25",
   "metadata": {},
   "source": [
    "### ANS 6\n",
    "bias it measure how closly the predicted value match the true values on average.\n",
    "varaince refer to error due to model sensitivity to small flactution and noise \n",
    "****\n",
    "examples \n",
    "underlifting:\n",
    "1) linear regression on non-linear data \n",
    "2) extreme regularization \n",
    "overlifting:\n",
    "1) noisy data with complex model \n",
    "2) decision trees with deep branches"
   ]
  },
  {
   "cell_type": "code",
   "execution_count": null,
   "id": "e306d1d3-5fa7-4924-958d-141ecbab315f",
   "metadata": {},
   "outputs": [],
   "source": []
  }
 ],
 "metadata": {
  "kernelspec": {
   "display_name": "Python 3 (ipykernel)",
   "language": "python",
   "name": "python3"
  },
  "language_info": {
   "codemirror_mode": {
    "name": "ipython",
    "version": 3
   },
   "file_extension": ".py",
   "mimetype": "text/x-python",
   "name": "python",
   "nbconvert_exporter": "python",
   "pygments_lexer": "ipython3",
   "version": "3.11.4"
  }
 },
 "nbformat": 4,
 "nbformat_minor": 5
}
