{
 "cells": [
  {
   "cell_type": "markdown",
   "id": "b2e38716-743f-421c-9c3b-98f713a4e189",
   "metadata": {},
   "source": [
    "### ANS 1\n",
    "assumptions are:\n",
    "1) There should be no outliners.\n",
    "2) samples must be imdependent and random.\n",
    "3) varaince of different level must be equal.\n",
    "4) distribution of sample mean must be normally distributed."
   ]
  },
  {
   "cell_type": "markdown",
   "id": "b153290b-2379-434c-9ca7-21b82ad3ef06",
   "metadata": {},
   "source": [
    "### ANS 2\n",
    "three types of anova are:\n",
    "1) one way annova: it is used if atleast two level are independent to each other\n",
    "2) repeated measure annova: it is used if the atleast two level are dependent on each other.\n",
    "3) factorial Anova: it is used when tow or more factor and levels are eihter dependent or independent to each other."
   ]
  },
  {
   "cell_type": "markdown",
   "id": "2a3adaad-9aca-4920-bee3-650b9596698b",
   "metadata": {},
   "source": [
    "### ANS 3\n",
    "variance between groups and varaince within groups both comprised to form partition of varaince is annova. it is important to understand this concept because it is used in the measurement of f_test."
   ]
  },
  {
   "cell_type": "markdown",
   "id": "7669289b-b2c8-4f96-bf6f-e83fbbba67e5",
   "metadata": {},
   "source": [
    "### ANS 4\n",
    "n=number of values in each value \n",
    "N=total number of values every coloumn \n",
    "a= number of levels\n",
    "T=sum(ai)\n",
    "\n",
    "1) sse=sum((ai**2)/n -T**2/N\n",
    "2) ssr=sum(Y**2) -sum((ai**2)/n\n",
    "3) sst=sse+ssr or sum(Y**2) -T**2/N"
   ]
  },
  {
   "cell_type": "markdown",
   "id": "a2d92103-b93d-4baa-899a-4874d9ec3067",
   "metadata": {},
   "source": [
    "### ANS 9"
   ]
  },
  {
   "cell_type": "code",
   "execution_count": 21,
   "id": "05eabfe0-7118-41f4-b298-28620aaa0095",
   "metadata": {
    "tags": []
   },
   "outputs": [],
   "source": [
    "import scipy.stats as stat\n",
    "import numpy as np\n"
   ]
  },
  {
   "cell_type": "code",
   "execution_count": 32,
   "id": "114c7e49-a20a-44e8-af7f-8cf5ab6039c6",
   "metadata": {
    "tags": []
   },
   "outputs": [
    {
     "name": "stdout",
     "output_type": "stream",
     "text": [
      "2 147\n"
     ]
    }
   ],
   "source": [
    "diet1=np.random.randint(1,10,50)\n",
    "diet2=np.random.randint(1,10,50)\n",
    "diet3=np.random.randint(1,10,50)\n",
    "sign=0.05\n",
    "N=150\n",
    "n=50\n",
    "a=3\n",
    "dof_between=2\n",
    "dof_within=N-a\n",
    "print(dof_between, dof_within)"
   ]
  },
  {
   "cell_type": "code",
   "execution_count": 33,
   "id": "6badc365-e9fb-48e6-9583-375ebcbcd1e7",
   "metadata": {
    "tags": []
   },
   "outputs": [],
   "source": [
    "f_statics,p_value=stat.f_oneway(diet1,diet2,diet3)"
   ]
  },
  {
   "cell_type": "code",
   "execution_count": 34,
   "id": "9e29f3af-44bc-4785-bb7e-34c11e66eed8",
   "metadata": {
    "tags": []
   },
   "outputs": [],
   "source": [
    "f_critical_value=3.057"
   ]
  },
  {
   "cell_type": "code",
   "execution_count": 35,
   "id": "7d897012-1fe0-4f53-81ea-a1f178a2ce2b",
   "metadata": {
    "tags": []
   },
   "outputs": [
    {
     "name": "stdout",
     "output_type": "stream",
     "text": [
      "we accept the null hypothesis\n"
     ]
    }
   ],
   "source": [
    "if f_statics>f_critical_value:\n",
    "    print('we reject the null hypothesis')\n",
    "else:\n",
    "    print('we accept the null hypothesis')\n",
    "    "
   ]
  },
  {
   "cell_type": "markdown",
   "id": "062480ec-47bd-4417-9621-4e50a08fbfd6",
   "metadata": {},
   "source": [
    "### ANS 7\n",
    "1) by palcing mean in the missing value. it can lead to wrong realtionship between data. \n",
    "2) multiple impulation: it generates multiple imputed dataset each with each with different value for the missing value.\n",
    "3) pattern mixing module: these are used as different pattern for missing data. it is very complex to understand.\n",
    "4) complete case anaylysis: it simply include the case in which data is present it result in smaller sample size. this method is biased if data is not completly random.\n"
   ]
  },
  {
   "cell_type": "markdown",
   "id": "3a323a5c-a072-4a42-88bb-5d01198c2095",
   "metadata": {},
   "source": [
    "### ANS 8\n",
    "after performing annnova if p_value is the less than siginficance calculation it suggest there is one group which differ from another one. since it not tells us the which group is significantly different we use post hoc test to determine it.\n",
    "***\n",
    "types of annova test:\n",
    "1) HSD: suitalbe for comparing all pairs of groups when the sample size is equal.\n",
    "2) Scheffe_test: suitalbe for situation when you have unequal size of data and unequal varaince.\n",
    "3) bonferrorni coree: it is used to adjust the family wise error rate. by adjusting the significance level of each compersion. it is more conservative but effective in reducing type 1 error \n",
    "4) scheffe test: it is also used to adjust the family wise error rate but it less conservative.\n",
    "\n"
   ]
  },
  {
   "cell_type": "markdown",
   "id": "49757757-459a-4b3b-b6ff-3ead18712045",
   "metadata": {},
   "source": [
    "### ANS 5\n"
   ]
  },
  {
   "cell_type": "code",
   "execution_count": 8,
   "id": "42def284-b605-4da4-b1e7-0a1c8edb55c8",
   "metadata": {
    "tags": []
   },
   "outputs": [],
   "source": [
    "import pandas as pd \n",
    "import statsmodels.api as sm\n",
    "from statsmodels.formula.api import ols\n"
   ]
  },
  {
   "cell_type": "code",
   "execution_count": 6,
   "id": "9cb8585d-9172-45c6-8c9f-4d8e2f57fd05",
   "metadata": {
    "tags": []
   },
   "outputs": [
    {
     "name": "stdout",
     "output_type": "stream",
     "text": [
      "Requirement already satisfied: statsmodels in c:\\users\\amand\\anaconda3\\lib\\site-packages (0.14.0)\n",
      "Requirement already satisfied: numpy>=1.18 in c:\\users\\amand\\anaconda3\\lib\\site-packages (from statsmodels) (1.24.3)\n",
      "Requirement already satisfied: scipy!=1.9.2,>=1.4 in c:\\users\\amand\\anaconda3\\lib\\site-packages (from statsmodels) (1.10.1)\n",
      "Requirement already satisfied: pandas>=1.0 in c:\\users\\amand\\anaconda3\\lib\\site-packages (from statsmodels) (1.5.3)\n",
      "Requirement already satisfied: patsy>=0.5.2 in c:\\users\\amand\\anaconda3\\lib\\site-packages (from statsmodels) (0.5.3)\n",
      "Requirement already satisfied: packaging>=21.3 in c:\\users\\amand\\anaconda3\\lib\\site-packages (from statsmodels) (23.0)\n",
      "Requirement already satisfied: python-dateutil>=2.8.1 in c:\\users\\amand\\anaconda3\\lib\\site-packages (from pandas>=1.0->statsmodels) (2.8.2)\n",
      "Requirement already satisfied: pytz>=2020.1 in c:\\users\\amand\\anaconda3\\lib\\site-packages (from pandas>=1.0->statsmodels) (2022.7)\n",
      "Requirement already satisfied: six in c:\\users\\amand\\anaconda3\\lib\\site-packages (from patsy>=0.5.2->statsmodels) (1.16.0)\n",
      "Note: you may need to restart the kernel to use updated packages.\n"
     ]
    }
   ],
   "source": [
    "pip install statsmodels"
   ]
  },
  {
   "cell_type": "code",
   "execution_count": 13,
   "id": "53f8b4b2-06b3-4193-8b80-eb776595bf83",
   "metadata": {
    "tags": []
   },
   "outputs": [
    {
     "name": "stdout",
     "output_type": "stream",
     "text": [
      "Main Effect of A: 0.15490004316295392\n",
      "Main Effect of B: 0.12211191308033609\n",
      "Interaction Effect: 0.4645590543975385\n"
     ]
    }
   ],
   "source": [
    "data={'A':[1,2,3,4],\n",
    "      'B':[5,6,7,8],\n",
    "      'Y':[9,6,1,2]\n",
    "     }\n",
    "df=pd.DataFrame(data)\n",
    "\n",
    "model=ols('Y ~ A * B', data=df).fit()\n",
    "anova_table = sm.stats.anova_lm(model, typ=2)\n",
    "main_effect_A = anova_table.loc['A', 'PR(>F)']\n",
    "main_effect_B = anova_table.loc['B', 'PR(>F)']\n",
    "interaction_effect = anova_table.loc['A:B', 'PR(>F)']\n",
    "          \n",
    "print(\"Main Effect of A:\", main_effect_A)\n",
    "print(\"Main Effect of B:\", main_effect_B)\n",
    "print(\"Interaction Effect:\", interaction_effect)\n",
    "          "
   ]
  },
  {
   "cell_type": "markdown",
   "id": "9559c9f3-b490-4c40-b254-a69c62d84552",
   "metadata": {},
   "source": [
    "### ANS 6\n",
    "if F-statistic of 5.23 and p_value is 0.02. here p-value is less than 0.05 the we reject the null hypotheis and accept the null hypothesis. and if f-statistic value is greater than than f-value then we can reject the null hypothesis."
   ]
  },
  {
   "cell_type": "markdown",
   "id": "30aba1b7-784d-4733-9f02-43207904a947",
   "metadata": {},
   "source": [
    "### ANS 11"
   ]
  },
  {
   "cell_type": "code",
   "execution_count": 14,
   "id": "16ea036e-1c95-475e-90e2-907a746f761e",
   "metadata": {
    "tags": []
   },
   "outputs": [],
   "source": [
    "import numpy as np "
   ]
  },
  {
   "cell_type": "code",
   "execution_count": 25,
   "id": "cc790074-9d6c-4cc4-afb1-e2599ebe3312",
   "metadata": {
    "tags": []
   },
   "outputs": [],
   "source": [
    "trad_test_method=np.random.randint(1,100,100)\n",
    "experiment_method=np.random.randint(1,70,100)"
   ]
  },
  {
   "cell_type": "code",
   "execution_count": 26,
   "id": "72ee2aff-32f2-44f2-92b9-b01f6fb4fcba",
   "metadata": {
    "tags": []
   },
   "outputs": [],
   "source": [
    "mean_trad_test_method=np.mean(trad_test_method)\n",
    "mean_xperiment_test=np.mean(experiment_method)"
   ]
  },
  {
   "cell_type": "code",
   "execution_count": 27,
   "id": "cd23665a-7cfe-42da-b605-4506caf65f80",
   "metadata": {
    "tags": []
   },
   "outputs": [],
   "source": [
    "std_trad_test_std=np.std(trad_test_method,ddof=1)\n",
    "experiment_method_std=np.std(experiment_method,ddof=1)"
   ]
  },
  {
   "cell_type": "code",
   "execution_count": 28,
   "id": "b8d0c481-b198-4285-ae67-12f71c8f6bbd",
   "metadata": {
    "tags": []
   },
   "outputs": [],
   "source": [
    "trad_test_method_n=len(trad_test_method)\n",
    "experiment_method_n=len(experiment_method)"
   ]
  },
  {
   "cell_type": "code",
   "execution_count": 29,
   "id": "f22730d5-83a5-40dc-b4c5-2aa40ff09e5c",
   "metadata": {
    "tags": []
   },
   "outputs": [],
   "source": [
    "t_stat,p_value=stat.ttest_ind(trad_test_method,experiment_method,equal_var=False)"
   ]
  },
  {
   "cell_type": "code",
   "execution_count": 31,
   "id": "46fd11d2-0d15-401a-b70a-43e2d7bab47d",
   "metadata": {
    "tags": []
   },
   "outputs": [
    {
     "name": "stdout",
     "output_type": "stream",
     "text": [
      "we reject the null hypothesis\n"
     ]
    }
   ],
   "source": [
    "if p_value<0.05:\n",
    "    print('we reject the null hypothesis')\n",
    "    \n",
    "else:\n",
    "    print('we accept the null hypothesis')"
   ]
  },
  {
   "cell_type": "markdown",
   "id": "fea0056c-7573-4470-bf12-4a1ccac8852a",
   "metadata": {},
   "source": [
    "### ANS 10"
   ]
  },
  {
   "cell_type": "code",
   "execution_count": 32,
   "id": "ed6d8701-ad46-4e09-9497-712ad3bc01da",
   "metadata": {
    "tags": []
   },
   "outputs": [],
   "source": [
    "import numpy as np\n",
    "import pandas as pd\n",
    "import statsmodels.api as sm\n",
    "from statsmodels.formula.api import ols\n",
    "from statsmodels.stats.anova import anova_lm\n"
   ]
  },
  {
   "cell_type": "code",
   "execution_count": 34,
   "id": "705cd00d-2114-4e24-8288-a7d0af6f1924",
   "metadata": {
    "tags": []
   },
   "outputs": [],
   "source": [
    "data=pd.DataFrame({\n",
    "    'program': np.random.choice(['a','b','c'],size=30),\n",
    "    'experience': np.random.choice(['novice','experienced'],size=30),\n",
    "    'time_difference':np.random.randint(1,16,30)\n",
    "})"
   ]
  },
  {
   "cell_type": "code",
   "execution_count": 41,
   "id": "204887b4-57c9-44c7-9999-f63409c36c11",
   "metadata": {
    "tags": []
   },
   "outputs": [
    {
     "name": "stdout",
     "output_type": "stream",
     "text": [
      "                              sum_sq    df         F    PR(>F)\n",
      "C(program)                  8.175124   2.0  0.258123  0.774617\n",
      "C(experience)               9.124510   1.0  0.576198  0.455198\n",
      "C(program):C(experience)   61.116150   2.0  1.929693  0.167061\n",
      "Residual                  380.057143  24.0       NaN       NaN\n"
     ]
    }
   ],
   "source": [
    "formula='time_difference ~C(program)*C(experience)'\n",
    "model=ols(formula,data=data).fit()\n",
    "annova_table=anova_lm(model,typ=2)\n",
    "print(annova_table)\n",
    "p_value_program=annova_table['PR(>F)']['C(program)']\n",
    "p_value_experience=annova_table['PR(>F)']['C(experience)']\n",
    "p_value_program=annova_table['PR(>F)']['C(program):C(experience)']\n"
   ]
  },
  {
   "cell_type": "raw",
   "id": "ac8584a2-6c73-42ad-84b0-3d76439d8430",
   "metadata": {},
   "source": [
    "if p_value_program is less than 0.05 it shows that there is significant effect on the software program on the time \n",
    "if p_value_program is less than 0.05 it shows that there is significant effect on the software program on the time completion.\n",
    "if p_value_program is less than 0.05 it shows that there is significant effect of different program on time completion is different for expereience "
   ]
  },
  {
   "cell_type": "markdown",
   "id": "5ac350a7-a4a6-4ee2-83be-68e621e6a887",
   "metadata": {},
   "source": [
    "### ANS 12"
   ]
  },
  {
   "cell_type": "code",
   "execution_count": 50,
   "id": "f844c7af-b5ad-44e7-9484-d935581bdf4a",
   "metadata": {
    "tags": []
   },
   "outputs": [],
   "source": [
    "import pandas as pd\n",
    "import statsmodels.api as sm\n",
    "from statsmodels.formula.api import ols\n",
    "from statsmodels.stats.anova import AnovaRM\n",
    "from statsmodels.stats.multicomp import MultiComparison"
   ]
  },
  {
   "cell_type": "code",
   "execution_count": 58,
   "id": "21c40250-8b61-44b4-9463-9a889af606ea",
   "metadata": {
    "tags": []
   },
   "outputs": [],
   "source": [
    "\n",
    "    data = pd.DataFrame({\n",
    "    'Store': ['Store A', 'Store B', 'Store C'] * 10,  # Three stores repeated ten times\n",
    "    'Day': list(range(1, 11)) * 3,  # 10 days repeated three times\n",
    "    'Sales': np.random.randint(100,1000,30)\n",
    "})"
   ]
  },
  {
   "cell_type": "code",
   "execution_count": 59,
   "id": "9352e4ea-dddc-4bff-bbf5-9077f0c05a06",
   "metadata": {
    "tags": []
   },
   "outputs": [
    {
     "name": "stdout",
     "output_type": "stream",
     "text": [
      "      Store  Day  Sales\n",
      "0   Store A    1    744\n",
      "1   Store B    2    900\n",
      "2   Store C    3    272\n",
      "3   Store A    4    962\n",
      "4   Store B    5    962\n",
      "5   Store C    6    249\n",
      "6   Store A    7    479\n",
      "7   Store B    8    807\n",
      "8   Store C    9    500\n",
      "9   Store A   10    181\n",
      "10  Store B    1    314\n",
      "11  Store C    2    747\n",
      "12  Store A    3    432\n",
      "13  Store B    4    513\n",
      "14  Store C    5    198\n",
      "15  Store A    6    981\n",
      "16  Store B    7    570\n",
      "17  Store C    8    258\n",
      "18  Store A    9    966\n",
      "19  Store B   10    278\n",
      "20  Store C    1    435\n",
      "21  Store A    2    220\n",
      "22  Store B    3    595\n",
      "23  Store C    4    998\n",
      "24  Store A    5    256\n",
      "25  Store B    6    730\n",
      "26  Store C    7    843\n",
      "27  Store A    8    583\n",
      "28  Store B    9    785\n",
      "29  Store C   10    727\n"
     ]
    }
   ],
   "source": [
    "print(data)"
   ]
  },
  {
   "cell_type": "code",
   "execution_count": 64,
   "id": "353350ce-74f1-4f50-b214-ba179a89e5b4",
   "metadata": {
    "tags": []
   },
   "outputs": [
    {
     "name": "stdout",
     "output_type": "stream",
     "text": [
      "              Anova\n",
      "=================================\n",
      "    F Value Num DF  Den DF Pr > F\n",
      "---------------------------------\n",
      "Day  0.2028 9.0000 18.0000 0.9905\n",
      "=================================\n",
      "\n"
     ]
    }
   ],
   "source": [
    "model=ols('Sales ~ Store + Day + Store:Day', data=data).fit()\n",
    "annova_table=AnovaRM(data,'Sales','Store',within=['Day']).fit()\n",
    "print(annova_table)"
   ]
  },
  {
   "cell_type": "code",
   "execution_count": 65,
   "id": "1d97a70f-d442-4af6-92e6-f6c68b24f603",
   "metadata": {
    "tags": []
   },
   "outputs": [
    {
     "name": "stdout",
     "output_type": "stream",
     "text": [
      "  Multiple Comparison of Means - Tukey HSD, FWER=0.05  \n",
      "=======================================================\n",
      " group1  group2 meandiff p-adj   lower    upper  reject\n",
      "-------------------------------------------------------\n",
      "Store A Store B     17.0 0.9674 -154.794 188.794  False\n",
      "Store A Store C    -11.5 0.9849 -183.294 160.294  False\n",
      "Store B Store C    -28.5 0.9113 -200.294 143.294  False\n",
      "-------------------------------------------------------\n"
     ]
    }
   ],
   "source": [
    "mc=MultiComparison(data['Sales'],data['Store'])\n",
    "\n",
    "posthoc_result=mc.tukeyhsd()\n",
    "print(posthoc_result)"
   ]
  },
  {
   "cell_type": "code",
   "execution_count": null,
   "id": "6903dda8-6485-4d0d-95d7-df1965a948ca",
   "metadata": {},
   "outputs": [],
   "source": []
  },
  {
   "cell_type": "code",
   "execution_count": null,
   "id": "76b43f91-64bd-4fca-b226-35100aac4676",
   "metadata": {},
   "outputs": [],
   "source": []
  }
 ],
 "metadata": {
  "kernelspec": {
   "display_name": "Python 3 (ipykernel)",
   "language": "python",
   "name": "python3"
  },
  "language_info": {
   "codemirror_mode": {
    "name": "ipython",
    "version": 3
   },
   "file_extension": ".py",
   "mimetype": "text/x-python",
   "name": "python",
   "nbconvert_exporter": "python",
   "pygments_lexer": "ipython3",
   "version": "3.11.4"
  }
 },
 "nbformat": 4,
 "nbformat_minor": 5
}
