{
 "cells": [
  {
   "cell_type": "markdown",
   "id": "a8bc03ec-b314-4ad8-a919-98630a6f81db",
   "metadata": {},
   "source": [
    "### ANS 1\n",
    "precison is used when false positive is important. \n",
    "recall  is used then false negative is important. classification report is tells us about precision,recall,f1-score and support"
   ]
  },
  {
   "cell_type": "markdown",
   "id": "12b003e6-38d5-4a51-a95b-0ddd32e155e0",
   "metadata": {},
   "source": [
    "### ANS 2\n",
    "F1 score is used when fp and fn are both important in model:\n",
    "f1 score=2*(harmonic mean). it different because f1 is used when fp adn fn are both important. "
   ]
  },
  {
   "cell_type": "markdown",
   "id": "c372b02a-5a8a-443e-ad40-581755d4a0f4",
   "metadata": {},
   "source": [
    "### ANS 3\n",
    "ROC is the trade off between fpr(false positive/false positive+true negative) and tpr(true positive/true positive+ false negative).AUC is the area under roc which tells us the accuracy of the model more towards value to 1 better the accuracy of the model."
   ]
  },
  {
   "cell_type": "markdown",
   "id": "f6ac22d6-d086-4c8e-a82b-38f9e3a2c5fe",
   "metadata": {},
   "source": [
    "### ANS 4\n",
    "we can choose best metric by analyzising it true postive false negativ e true negative false positive.\n",
    "1) accuracy \n",
    "2) precision \n",
    "3) recall \n",
    "4) ROC and AUC\n",
    "5) F1 score\n",
    "****\n",
    "in multicalass classification we use we make new feature according to the number of classifcaiton but in binary classification we do not do this "
   ]
  },
  {
   "cell_type": "markdown",
   "id": "3253dbda-7e45-4bca-a44e-6440bba87cd8",
   "metadata": {},
   "source": [
    "### ANS 5\n",
    "just like in one hot head encoding each value of feature allocated to new feature we allocate each feature result to new feature. "
   ]
  },
  {
   "cell_type": "markdown",
   "id": "a7599e09-3b43-42bb-b23f-d0e9db21a188",
   "metadata": {},
   "source": [
    "### ANS 6\n",
    "steps to involve in end to end project:\n",
    "1) data entry \n",
    "2) EDA \n",
    "3) feature engineering \n",
    "4) feature selection \n",
    "5) train model \n",
    "6) host model on cloud computing\n"
   ]
  },
  {
   "cell_type": "markdown",
   "id": "ca06334e-7c16-40ba-9b5f-13c0e9ca5b86",
   "metadata": {},
   "source": [
    "### ANS 7\n",
    "model deployement is the deployment of the model on website to predict the ouput based on the input we provide. it is very to deploy model because we train it using different parameter so that it can predict rightlly."
   ]
  },
  {
   "cell_type": "markdown",
   "id": "016b62eb-8bcd-455e-8451-6c9b99f06146",
   "metadata": {},
   "source": [
    "### ANS 8\n",
    "there are many multi-cloud platform we use to deploy model like azure and aws.\n",
    "first we environment for the model to deploy then we create pipeline to connenct git hub to environment because all the code are present in github which will be deployed on environment."
   ]
  },
  {
   "cell_type": "markdown",
   "id": "63c62baf-9722-4806-a423-2f93267f059a",
   "metadata": {},
   "source": [
    "### ANS 9\n",
    "benefits of multi-cloud environment:\n",
    "1) it allows them to select the best service availabe in the cloud.\n",
    "2) if one cloud shutdown then we can swithc to another cloud.\n",
    "3) it helps in selecting model cost efficient\n",
    "4) data recovery becomes easy because each time new project added replica of that model will also be availabe at another cloud \n",
    "****\n",
    "challenges in multi-cloud environment:\n",
    "1) it can be very expensive considering many cloud environment are deployed \n",
    "2) can be difficult in maniging data in multi cloud \n",
    "3) different cloud may use different technologies,api we may need to rewire code according to the multi cloud environment."
   ]
  },
  {
   "cell_type": "code",
   "execution_count": null,
   "id": "a8f5dece-5d76-4f68-9956-c5cf0980ecb9",
   "metadata": {},
   "outputs": [],
   "source": []
  }
 ],
 "metadata": {
  "kernelspec": {
   "display_name": "Python 3 (ipykernel)",
   "language": "python",
   "name": "python3"
  },
  "language_info": {
   "codemirror_mode": {
    "name": "ipython",
    "version": 3
   },
   "file_extension": ".py",
   "mimetype": "text/x-python",
   "name": "python",
   "nbconvert_exporter": "python",
   "pygments_lexer": "ipython3",
   "version": "3.10.8"
  }
 },
 "nbformat": 4,
 "nbformat_minor": 5
}
