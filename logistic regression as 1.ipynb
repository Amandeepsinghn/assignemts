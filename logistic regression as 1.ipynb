{
 "cells": [
  {
   "cell_type": "markdown",
   "id": "c3b55abc-7ea4-462e-aa61-2527f15d6896",
   "metadata": {},
   "source": [
    "### ANS 1\n",
    "difference between linear regression and logistic regression \n",
    "1) linear regression is suitable for continous dependent feature and logistic regression is used to solve classification porblem.\n",
    "2) both uses different cost function \n",
    "3) logistic regression squash the value to prevent getting negative value and linear regression do not perform squashing \n"
   ]
  },
  {
   "cell_type": "markdown",
   "id": "25b592a1-d39a-46ff-9fc4-1532b4f23947",
   "metadata": {},
   "source": [
    "### ANS 2\n",
    "there are two types of cost fucntion is used in logistic regression \n",
    "1) sigmoid activation fucntion \n",
    "2) log loss \n",
    "***\n",
    "sigmoid activation function is not used because grpah of cost fucntion and theta have many local minima and very local minima slope is zero making it hard to find global minima to solve this problem we used log loss which is convex function meaning it make gradient descent having only one global minima."
   ]
  },
  {
   "cell_type": "markdown",
   "id": "f3dff9ae-9ce3-4f56-8670-b0ba8e842678",
   "metadata": {},
   "source": [
    "### ANS 3\n",
    "l2 regularization is used to reduce overfitting. it adds lambda(slope)**2  to the cost fucntion  adjusting lambda and performing it on train dataset and testing on multiple test dataset helps in finding manda value whichever the value perform better in model that lambda value is used."
   ]
  },
  {
   "cell_type": "markdown",
   "id": "4f282295-2966-411f-80ca-99af9931e731",
   "metadata": {},
   "source": [
    "### ANS 5\n",
    "1) we use l1 regularization it makes coefficient of the feature which are important to the model and coef zero feature is deleted because it is does not impact dependent feature that much.\n",
    "2) we can also use corr() to find the corrleation between classification value and other independent feature.\n",
    "3) we can also manualally select feature by having domain knowldege.\n"
   ]
  },
  {
   "cell_type": "markdown",
   "id": "b1b55ad6-50f7-4980-bafe-c808600c28e4",
   "metadata": {},
   "source": [
    "### ANS 6\n",
    "if our dataset is not balanced then we can balance it by using class feature parameter and giving it suitable ratio to balance our dataset."
   ]
  },
  {
   "cell_type": "markdown",
   "id": "70e7eff0-6fa4-4e58-8572-7c6118dff304",
   "metadata": {},
   "source": [
    "### ANS 7\n",
    "common issue while implementing logistic regression can be:\n",
    "1) logistic regression performing better in train dataset but less in test dataset \n",
    "2) logistic regression performing better in test dataset but less in train dataset\n",
    "3) using binary classification logistic regression in case of multiple classification can also cause problem in the model vice and versa.\n",
    "4) not using scaler proper scaler for defined dataset.\n",
    "5) if data is not balanced it can also raise problem in the logistic regression model.\n",
    "****\n",
    "if there is multicollinearity among the independent varaible then we can use l2 regurlaiztion which help in reduce in overfitting the model or we can also elimate feature which are correlated with each other.\n"
   ]
  },
  {
   "cell_type": "markdown",
   "id": "9f2e8dec-7296-4720-9a40-2171332b991c",
   "metadata": {},
   "source": [
    "### ANS 4\n",
    "roc stands for recieve operating characteristic is a graphical tool used to evaluate the performance of classificaiton models, including logistic regression models. it makes the graph of fpr(ratio of incorrectly positve preidctve instance/actaul positive instance) and tpr(correctly positve predicted/total actual positive instances)  for different thershold value. area under roc measure the model perforamce closer the value to 1 better the model performance vice and versa. it is primarly used for binary classification."
   ]
  },
  {
   "cell_type": "code",
   "execution_count": null,
   "id": "55d0df2d-d485-4c13-9e35-6590e4ffff0b",
   "metadata": {},
   "outputs": [],
   "source": []
  }
 ],
 "metadata": {
  "kernelspec": {
   "display_name": "Python 3 (ipykernel)",
   "language": "python",
   "name": "python3"
  },
  "language_info": {
   "codemirror_mode": {
    "name": "ipython",
    "version": 3
   },
   "file_extension": ".py",
   "mimetype": "text/x-python",
   "name": "python",
   "nbconvert_exporter": "python",
   "pygments_lexer": "ipython3",
   "version": "3.11.4"
  }
 },
 "nbformat": 4,
 "nbformat_minor": 5
}
