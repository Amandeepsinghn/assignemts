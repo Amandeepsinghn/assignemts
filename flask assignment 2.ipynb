{
 "cells": [
  {
   "cell_type": "markdown",
   "id": "24655204-3690-45ff-9641-f7e86f6c5e41",
   "metadata": {},
   "source": [
    "\n",
    "### ANS 1\n",
    "### GET\n",
    "get method is used for the sending of the inforamation. Get method is not is secured as every information you are going to enter in the form or anyting is going to be visible on the url. \n",
    "### POST \n",
    "post method is also used for the sending of the inforamtion. post mehtod is secured as it passes the inforamtion through the body. "
   ]
  },
  {
   "cell_type": "markdown",
   "id": "b620a3d2-9845-45a7-8d1d-80aa8a58f8f6",
   "metadata": {},
   "source": [
    "### ANS 2\n",
    "request is a object which is used to access and handle the component of the form."
   ]
  },
  {
   "cell_type": "markdown",
   "id": "07f0a137-7cd8-42ca-afab-c0a99dd2896b",
   "metadata": {},
   "source": [
    "Q3. Why is redirect() used in Flask?\n",
    "### ANS 3\n",
    "redirect is used to direct one route to another by using it with return statment\n"
   ]
  },
  {
   "cell_type": "code",
   "execution_count": 1,
   "id": "addaf075-ba96-4c61-84d2-e60b0e933df1",
   "metadata": {},
   "outputs": [
    {
     "name": "stdout",
     "output_type": "stream",
     "text": [
      "Collecting flask\n",
      "  Downloading Flask-2.3.2-py3-none-any.whl (96 kB)\n",
      "\u001b[2K     \u001b[90m━━━━━━━━━━━━━━━━━━━━━━━━━━━━━━━━━━━━━━━━\u001b[0m \u001b[32m96.9/96.9 kB\u001b[0m \u001b[31m3.8 MB/s\u001b[0m eta \u001b[36m0:00:00\u001b[0m\n",
      "\u001b[?25hCollecting blinker>=1.6.2\n",
      "  Downloading blinker-1.6.2-py3-none-any.whl (13 kB)\n",
      "Collecting itsdangerous>=2.1.2\n",
      "  Downloading itsdangerous-2.1.2-py3-none-any.whl (15 kB)\n",
      "Requirement already satisfied: Jinja2>=3.1.2 in /opt/conda/lib/python3.10/site-packages (from flask) (3.1.2)\n",
      "Requirement already satisfied: click>=8.1.3 in /opt/conda/lib/python3.10/site-packages (from flask) (8.1.3)\n",
      "Collecting Werkzeug>=2.3.3\n",
      "  Downloading Werkzeug-2.3.6-py3-none-any.whl (242 kB)\n",
      "\u001b[2K     \u001b[90m━━━━━━━━━━━━━━━━━━━━━━━━━━━━━━━━━━━━━━\u001b[0m \u001b[32m242.5/242.5 kB\u001b[0m \u001b[31m25.9 MB/s\u001b[0m eta \u001b[36m0:00:00\u001b[0m\n",
      "\u001b[?25hRequirement already satisfied: MarkupSafe>=2.0 in /opt/conda/lib/python3.10/site-packages (from Jinja2>=3.1.2->flask) (2.1.1)\n",
      "Installing collected packages: Werkzeug, itsdangerous, blinker, flask\n",
      "  Attempting uninstall: blinker\n",
      "    Found existing installation: blinker 1.5\n",
      "    Uninstalling blinker-1.5:\n",
      "      Successfully uninstalled blinker-1.5\n",
      "Successfully installed Werkzeug-2.3.6 blinker-1.6.2 flask-2.3.2 itsdangerous-2.1.2\n",
      "Note: you may need to restart the kernel to use updated packages.\n"
     ]
    }
   ],
   "source": [
    "pip install flask"
   ]
  },
  {
   "cell_type": "code",
   "execution_count": null,
   "id": "7d9839c8-ef75-46cb-bd36-7d55283d0124",
   "metadata": {},
   "outputs": [],
   "source": [
    "from flask import Flask,url_for,redirect\n",
    "\n",
    "app=Flask(__name__)\n",
    "\n",
    "@app.route('/')\n",
    "def msg():\n",
    "    return('WELCOME TO ABC Corporation')\n",
    "\n",
    "@app.route('/lo')\n",
    "def name():\n",
    "    a=[{\n",
    "        'Company Name': 'ABC Corporation',\n",
    "        'Location': 'India',\n",
    "        'Contact Detail': 999-999-9999\n",
    "    }]\n",
    "    return(a)\n",
    "\n",
    "@app.route('/g')\n",
    "def game():\n",
    "    return redirect('/lo')\n",
    "\n",
    "\n",
    "\n",
    "\n",
    "\n",
    "             \n",
    "if __name__==\"__main__\":\n",
    "             app.run(host=\"0.0.0.0\")\n",
    "        "
   ]
  },
  {
   "cell_type": "markdown",
   "id": "3713ed18-cb24-4769-b643-1c747383dc69",
   "metadata": {},
   "source": [
    "Q4. What are templates in Flask? Why is the render_template() function used?\n",
    "### ANS 4\n",
    "1)templates in flask are used to generate html pages or other type of pages for the client. This templates are build using jinja programming language.\n",
    "\n",
    "2) render_template is a object which is used to render the template taking essentail argument. render_template('index.html) it wil render the index.html and will a template and will send it over the client.\n"
   ]
  },
  {
   "cell_type": "markdown",
   "id": "aa1e296b-390b-4f23-9eb0-bfce37831b9d",
   "metadata": {},
   "source": [
    "Q5. Create a simple API. Use Postman to test it. Attach the screenshot of the output in the Jupyter Notebook.\n",
    "### ANS 5"
   ]
  },
  {
   "cell_type": "code",
   "execution_count": null,
   "id": "6c34dd00-9e53-4042-b232-e46741d9adf8",
   "metadata": {},
   "outputs": [],
   "source": [
    "from flask import Flask,url_for,redirect,request,jsonify\n",
    "\n",
    "app=Flask(__name__)\n",
    "\n",
    "@app.route('/',methods=[\"POST\"])\n",
    "def am():\n",
    "    if(request.method==\"POST\"):\n",
    "        ops=request.json['operation']\n",
    "        num1=request.json['num1']\n",
    "        num2=request.json['num2']\n",
    "        if(ops=='multiply'):\n",
    "            r=num1*num2\n",
    "        \n",
    "    return jsonify(r)\n",
    "\n",
    "\n",
    "if __name__=='__main__':\n",
    "    app.run(host='0.0.0.0')\n",
    "\n",
    "\n",
    "\n",
    "  "
   ]
  },
  {
   "cell_type": "code",
   "execution_count": null,
   "id": "64cc3e77-4e0a-4cf8-862a-3fc3bd4b05da",
   "metadata": {},
   "outputs": [],
   "source": []
  }
 ],
 "metadata": {
  "kernelspec": {
   "display_name": "Python 3 (ipykernel)",
   "language": "python",
   "name": "python3"
  },
  "language_info": {
   "codemirror_mode": {
    "name": "ipython",
    "version": 3
   },
   "file_extension": ".py",
   "mimetype": "text/x-python",
   "name": "python",
   "nbconvert_exporter": "python",
   "pygments_lexer": "ipython3",
   "version": "3.10.8"
  }
 },
 "nbformat": 4,
 "nbformat_minor": 5
}
