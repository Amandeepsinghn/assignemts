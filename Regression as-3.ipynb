{
 "cells": [
  {
   "cell_type": "markdown",
   "id": "25aeb551-7cfb-4d2d-bd1e-55fb3870f595",
   "metadata": {},
   "source": [
    "### ANS 1\n",
    "Ridge regression is a regression which is used to reducd the ovefitting of the model. when we have a large number of indpendent varaibles or when these are highly correlated ols lead to ustable and unreliable coefficient estimates.in ols we find the coefficients for linear equation that minimzes the sum of squared differences. to prevent this we use ridge regression."
   ]
  },
  {
   "cell_type": "markdown",
   "id": "a37add2a-f11f-4bb5-8ae6-e1d70acbf562",
   "metadata": {},
   "source": [
    "### ANS 2\n",
    "Assumption of Ridge Regression:\n",
    "1) realtion between independent varaibles and dependent variable is linear. \n",
    "2) error of different observations should not be correlated.\n",
    "3) ridge regression state that there is no perfect multicollinearity among the independent varaibles."
   ]
  },
  {
   "cell_type": "markdown",
   "id": "27b46462-fc21-412e-80c9-f8762867836e",
   "metadata": {},
   "source": [
    "### ANS 3\n",
    "we select the value of lambda tuning parameter in ridge regression by cross-validation dataset is splitted into various training dataset and one fold validation set and we train the ridge regression model with various lambda value and note the performance on the validation set which fit validation set that lambda value is used or that regression model is particulary used."
   ]
  },
  {
   "cell_type": "markdown",
   "id": "38655b2d-9610-4bb9-b65b-8d69dc5f39b3",
   "metadata": {},
   "source": [
    "### ANS 4\n",
    "we can use ridge regression for feature selection as lambda increases ridge regression will shrink the coefficients toward zero and some coefficients may become very small or even effectively zero feature with less coefficients are less important and can be deleted and feature with larger coefficients are considered more important."
   ]
  },
  {
   "cell_type": "markdown",
   "id": "8b9c730f-344d-4901-acdf-41bf3e2dfc07",
   "metadata": {},
   "source": [
    "### ANS 7\n",
    "we interpert the coefficients of ridge regression by chaning the value of the lambda as the lambda value increases the slope or coefficient decreases so coefficients of ridge regression is found on the basis of lambda as the final value of the lambda is found the coefficient also get selceted."
   ]
  },
  {
   "cell_type": "markdown",
   "id": "e6d646cf-8a90-48ef-93b7-3d8e3d9c4d63",
   "metadata": {},
   "source": [
    "### ANS 6\n",
    "yes ridge regression can handle both categorical and continous independent variables we can use appropraite lambda value for better  fucntioning of the model."
   ]
  },
  {
   "cell_type": "markdown",
   "id": "d4625f74-1b42-44f4-a114-1f9fdcdb77f8",
   "metadata": {},
   "source": [
    "### ANS 8\n",
    "yes ridge regression can be used for time-series data it will make the best fit line on the basis of lambda value."
   ]
  },
  {
   "cell_type": "markdown",
   "id": "9ec0a51d-b82c-4250-9dae-d4aa556c720c",
   "metadata": {},
   "source": [
    "### ANS 5\n",
    "Ridge Regression is basically used when there is multicollinearity. it basically sum the ols +lambda(slope). as ols gives false assumption of multicollinearity making bad best fit line but lambda value is adjusted on the basis of training dataset and selecting the best fitting line as lambda increases cofficient decreases making it suitable for the accurate model. "
   ]
  },
  {
   "cell_type": "code",
   "execution_count": null,
   "id": "1d97fdc2-6838-4ecf-a358-dc1b5722e312",
   "metadata": {},
   "outputs": [],
   "source": []
  }
 ],
 "metadata": {
  "kernelspec": {
   "display_name": "Python 3 (ipykernel)",
   "language": "python",
   "name": "python3"
  },
  "language_info": {
   "codemirror_mode": {
    "name": "ipython",
    "version": 3
   },
   "file_extension": ".py",
   "mimetype": "text/x-python",
   "name": "python",
   "nbconvert_exporter": "python",
   "pygments_lexer": "ipython3",
   "version": "3.11.4"
  }
 },
 "nbformat": 4,
 "nbformat_minor": 5
}
