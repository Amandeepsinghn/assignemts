{
 "cells": [
  {
   "cell_type": "markdown",
   "id": "0f30a5eb-f0e8-488d-9607-644f4a385919",
   "metadata": {},
   "source": [
    "\n",
    "### ANS 1\n",
    "database is a storage which is used to store the data arranged or not arranged.\n",
    "sql= it only stores strucutred data like excel sheet and it has many queries by which we can manuplate the data.\n",
    "NO SQL= not only sql can be used to arrange unstrucutred data like document based data or json or directory type data."
   ]
  },
  {
   "cell_type": "raw",
   "id": "3ba9a59c-5587-45b0-bd1f-db53d18ccd2d",
   "metadata": {},
   "source": [
    "\n",
    "### ANS 2\n",
    "DDL stands for data defination language \n",
    "1) CREATE= it is used to create table \n",
    "mycursor = mydb.cursor()\n",
    " mycursor.execute(\"CREATE TABLE  if not exists test2.test_table(c1 INT, c2 VARCHAR(10), c3 FLOAT, c4 INT, c5 VARCHAR(10))\")\n",
    " mydb.close()\n",
    "\n",
    "2) DROP= drop is used to delete entire table\n",
    "mycursor = mydb.cursor()\n",
    "mycursor.execute(\"drop table test2.test\")\n",
    " mydb.close()\n",
    "\n",
    "\n",
    "3) alter = alter query is used to modfiy data like adding data changing data type\n",
    " mycursor = mydb.cursor()\n",
    " mycursor.execute(\"alter table test2.test add x float\")\n",
    " mydb.close()\n",
    " \n",
    "4) truncate= truncate query is used to delete the values inside the table but not the template of the data.\n",
    " mycursor = mydb.cursor()\n",
    " mycursor.execute(\"truncate table test2.test\")\n",
    " mydb.close()\n"
   ]
  },
  {
   "cell_type": "raw",
   "id": "d2d9412e-ba37-4e9d-8d11-cf339ec71048",
   "metadata": {},
   "source": [
    "\n",
    "### ANS 3 \n",
    "DML it stands for data manuplation language\n",
    "\n",
    "1) insert= insert is used to add values in the table\n",
    "### insert\n",
    "\n",
    "mycursor = mydb.cursor()\n",
    "mycursor.execute(\"insert into databasename.tablename values(a int, b varchar(1), z char\")\n",
    "mydb.close()\n",
    "\n",
    "2) update= update is used to modify tha data by providing some condition update is used to update and set is used to select the specific coloum.\n",
    "### update\n",
    "mycursor = mydb.cursor()\n",
    "mycursor.execute(\"update test2.test set c=10 where a='aman'\")\n",
    "mydb.close()\n",
    "\n",
    "3) delete= it is used delete the table we can also delete specific coloumn but drop do not provide this function it is mainly used with alter.\n",
    "### delete\n",
    "mycursor = mydb.cursor()\n",
    "mycursor.execute(\"delete from test2.test where a='aman' \")\n",
    "mydb.close()\n",
    "\n"
   ]
  },
  {
   "cell_type": "raw",
   "id": "06728925-69ab-4920-9fa1-cb960a0770cc",
   "metadata": {},
   "source": [
    "ANS 4\n",
    "DQL= it stands for data query language\n",
    "\n",
    "select command is used to select the data form the table.\n",
    "mycursor = mydb.cursor()\n",
    "mycursor.execute(\"select * from test2.test\")\n",
    "mydb.close()\n"
   ]
  },
  {
   "cell_type": "raw",
   "id": "d21a0756-be6b-48aa-a26b-197f109b607b",
   "metadata": {},
   "source": [
    "ANS 5\n",
    "primary key= primary key is used to uniquely identity the table it tells the uniqueness of the table it can pnly be one.\n",
    "foreign key= foreign key is used to connect atleast two table foreign key which is connected to the other key must be primary key.\n"
   ]
  },
  {
   "cell_type": "raw",
   "id": "79b80aa4-0225-4ce9-bb7a-4f16e860d539",
   "metadata": {},
   "source": [
    "ANS 6\n",
    "import mysql.connector\n",
    "\n",
    "mydb=mysql.connector.connect(\n",
    "\n",
    "    host='localhost'\n",
    "    user='abc'\n",
    "    password='password'\n",
    "\n",
    ")\n",
    "\n",
    "mycursor=mydb.cursor()\n",
    "mycursor.execute()\n",
    "mydb()"
   ]
  },
  {
   "cell_type": "raw",
   "id": "ac32b479-0808-44a0-b134-7ba8a81e879f",
   "metadata": {},
   "source": [
    "ANS 7\n",
    "FROM (including joins: INNER JOIN, LEFT JOIN, RIGHT JOIN, OUTER JOIN, CROSS JOIN, etc.)\n",
    "WHERE\n",
    "GROUP BY\n",
    "HAVING\n",
    "SELECT\n",
    "ORDER BY\n",
    "LIMIT"
   ]
  }
 ],
 "metadata": {
  "kernelspec": {
   "display_name": "Python 3 (ipykernel)",
   "language": "python",
   "name": "python3"
  },
  "language_info": {
   "codemirror_mode": {
    "name": "ipython",
    "version": 3
   },
   "file_extension": ".py",
   "mimetype": "text/x-python",
   "name": "python",
   "nbconvert_exporter": "python",
   "pygments_lexer": "ipython3",
   "version": "3.10.8"
  }
 },
 "nbformat": 4,
 "nbformat_minor": 5
}
