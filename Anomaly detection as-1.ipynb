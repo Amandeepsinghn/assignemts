{
 "cells": [
  {
   "cell_type": "markdown",
   "id": "2ce8b24e",
   "metadata": {},
   "source": [
    "### ANS 1\n",
    "Anamoly detection are used to identify the outleirs. Sometimes identifying outleers are crucial which carries the important information about the dataset for this, different types of anamoly dtection are used."
   ]
  },
  {
   "cell_type": "markdown",
   "id": "091ba839",
   "metadata": {},
   "source": [
    "### ANS 2\n",
    "1) choosing the right paramteres while anamoly detection is the most challenging task.\n",
    "2) using different anamoly detection technique according to the raltionship is also very important."
   ]
  },
  {
   "cell_type": "markdown",
   "id": "a37c1c20",
   "metadata": {},
   "source": [
    "### ANS 4\n",
    "Main categories of anamaly detection are:\n",
    "1) Isolation Forest\n",
    "2) DBSCAN anomaly detection\n",
    "3) Local outleir factor anamoly detection"
   ]
  },
  {
   "cell_type": "markdown",
   "id": "743f0c51",
   "metadata": {},
   "source": [
    "### ANS 6\n",
    "Working of LOF:\n",
    "1) first we give the k value. \n",
    "2) it computes distance to nearest neighbour if we give k value for example 5 it calcuate the distance for 5 nearest neighbour and also calculate the distance of 5 points to its preceeding 4 data points.\n",
    "3) then it checks the denisty\n",
    "4) if the density of particular point is less than its nearest neighbour then it is considered as outlier."
   ]
  },
  {
   "cell_type": "markdown",
   "id": "3f93ba2b",
   "metadata": {},
   "source": [
    "### ANS 7\n",
    "Key paramter for isloation forest algorithim:\n",
    "1) n_estimator= number of isloation tree to be used.\n",
    "2) max_sample=it is used to select the feature and split the dataset.\n",
    "3) contamination= Thrushold to declare wether the point is outlier or not."
   ]
  },
  {
   "cell_type": "markdown",
   "id": "e65a7c6a",
   "metadata": {},
   "source": [
    "### ANS 8\n",
    "1) k=10\n",
    "2) number of same neighbour=2\n",
    "3) anamoly score=10-2=8"
   ]
  },
  {
   "cell_type": "markdown",
   "id": "5fba5212",
   "metadata": {},
   "source": [
    "### ANS 3\n",
    "unsupersived anamoly:\n",
    "1) it does not required label \n",
    "2) usnupervised method can find anomalies that does might not have been seen or labeled before.\n",
    "***\n",
    "supervised anomaly:\n",
    "1) it required label data.\n",
    "2) a model can predict whether new,unseen data points are anomales based on learning pattern from the training data."
   ]
  },
  {
   "cell_type": "markdown",
   "id": "6f966dfd",
   "metadata": {},
   "source": [
    "### ANS 5\n",
    "1) normal data points will be close to each other.\n",
    "2) distance metrices are used like euclidean or manhattan.\n",
    "3) anomalies are assumed to be signficantly differnt from normal. points and are usually present at outskirts.\n",
    "4) anamolies are usually found in lower density region."
   ]
  },
  {
   "cell_type": "markdown",
   "id": "4e357d2d",
   "metadata": {},
   "source": [
    "### ANS 9"
   ]
  },
  {
   "cell_type": "code",
   "execution_count": 20,
   "id": "a22fe41a",
   "metadata": {},
   "outputs": [],
   "source": [
    "from sklearn.ensemble import IsolationForest\n",
    "import numpy as np\n",
    "\n",
    "\n",
    "np.random.seed(42)\n",
    "data = np.random.randn(3000, 2) \n",
    "\n",
    "clf=IsolationForest(n_estimators=100,contamination='auto',random_state=42)\n",
    "clf.fit(data)\n",
    "\n",
    "data_points=np.array([[0.4,0.1]])\n",
    "anomaly_score=clf.decision_function(data_points)\n"
   ]
  },
  {
   "cell_type": "code",
   "execution_count": 21,
   "id": "1174c286",
   "metadata": {},
   "outputs": [
    {
     "data": {
      "text/plain": [
       "array([0.09639416])"
      ]
     },
     "execution_count": 21,
     "metadata": {},
     "output_type": "execute_result"
    }
   ],
   "source": [
    "anomaly_score"
   ]
  },
  {
   "cell_type": "code",
   "execution_count": null,
   "id": "e75d3c3d",
   "metadata": {},
   "outputs": [],
   "source": []
  },
  {
   "cell_type": "code",
   "execution_count": null,
   "id": "e56f0715",
   "metadata": {},
   "outputs": [],
   "source": []
  }
 ],
 "metadata": {
  "kernelspec": {
   "display_name": "Python 3 (ipykernel)",
   "language": "python",
   "name": "python3"
  },
  "language_info": {
   "codemirror_mode": {
    "name": "ipython",
    "version": 3
   },
   "file_extension": ".py",
   "mimetype": "text/x-python",
   "name": "python",
   "nbconvert_exporter": "python",
   "pygments_lexer": "ipython3",
   "version": "3.11.4"
  }
 },
 "nbformat": 4,
 "nbformat_minor": 5
}
