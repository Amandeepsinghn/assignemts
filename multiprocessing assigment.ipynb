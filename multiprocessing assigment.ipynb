{
 "cells": [
  {
   "cell_type": "markdown",
   "id": "e4cc7dae-2d1b-407b-809f-25db070a4726",
   "metadata": {},
   "source": [
    "### ANS1\n",
    "multiprocessing is the way for allocating multiple proccess,single thread to programs such that to incerease the performance and mainly used in queue and pipe.\n"
   ]
  },
  {
   "cell_type": "markdown",
   "id": "33b3cf83-6dc3-4b4d-8caf-7eee698d990d",
   "metadata": {},
   "source": [
    "### ANS 2\n",
    "multiprocessing is the allocation of multiple process to the programs \n",
    "multithreading is the allocation of multiple threads to the programs in only single core"
   ]
  },
  {
   "cell_type": "markdown",
   "id": "849f8c23-3b81-4629-b51a-d88ab6a42796",
   "metadata": {},
   "source": [
    "### ANS 3\n"
   ]
  },
  {
   "cell_type": "code",
   "execution_count": 3,
   "id": "4dbbbad1-c1cd-42f5-b3f1-9c67d801b39b",
   "metadata": {},
   "outputs": [
    {
     "name": "stdout",
     "output_type": "stream",
     "text": [
      "this will print before the child program\n",
      "this is my program for the multiprocessing\n"
     ]
    }
   ],
   "source": [
    "import multiprocessing \n",
    "\n",
    "def test():\n",
    "    print('this is my program for the multiprocessing')\n",
    "    \n",
    "    \n",
    "if __name__=='__main__':\n",
    "    print('this will print before the child program')\n",
    "    m1=multiprocessing.Process(target=test)\n",
    "    m1.start()\n",
    "    m1.join()"
   ]
  },
  {
   "cell_type": "markdown",
   "id": "d0dd1850-0dfb-48cb-8747-ff0d87db63d9",
   "metadata": {},
   "source": [
    "### ANS 4\n",
    "multiprocessing.pool can be used for multiple task such map,i map and in multiprocessing.pool we can also allocate multiple process for the same program."
   ]
  },
  {
   "cell_type": "markdown",
   "id": "62a94a96-8a8d-45fd-8ab3-1524f068e2e5",
   "metadata": {},
   "source": [
    "### ANS 5\n"
   ]
  },
  {
   "cell_type": "code",
   "execution_count": 11,
   "id": "0f3f412b-62f3-4612-8889-0ca53b66e97c",
   "metadata": {},
   "outputs": [
    {
     "name": "stdout",
     "output_type": "stream",
     "text": [
      "data sciencemusic department\n",
      "competitive coding\n",
      "\n",
      "[None, None, None]\n"
     ]
    }
   ],
   "source": [
    "def worker(name):\n",
    "    if name=='rahul':\n",
    "        print('data science')\n",
    "    elif name=='aman':\n",
    "        print('music department')\n",
    "    else:\n",
    "        if name=='shomiya':\n",
    "            print('competitive coding')\n",
    "        \n",
    "\n",
    "if __name__=='__main__':\n",
    "    with multiprocessing.Pool(processes=2) as p:\n",
    "        t=p.map(worker,['rahul','aman','shomiya'])\n",
    "        print(t)\n",
    "    \n",
    "    "
   ]
  },
  {
   "cell_type": "markdown",
   "id": "b2171c02-50b1-4be0-ab7f-1ad078ea169c",
   "metadata": {},
   "source": [
    "### ANS 6"
   ]
  },
  {
   "cell_type": "code",
   "execution_count": 17,
   "id": "03c41d04-1068-41ce-91e1-bdbcc829511c",
   "metadata": {},
   "outputs": [],
   "source": [
    "def mi():\n",
    "    return(1)\n",
    "\n",
    "def ma():\n",
    "    return(10)\n",
    "\n",
    "def midd():\n",
    "    return(5)\n",
    "\n",
    "def flag():\n",
    "    return(8)\n",
    "\n",
    "if __name__=='__main__':\n",
    "    m1=multiprocessing.Process(target=mi)\n",
    "    m2=multiprocessing.Process(target=ma)\n",
    "    m3=multiprocessing.Process(target=midd)\n",
    "    m4=multiprocessing.Process(target=flag)\n",
    "    m1.start()\n",
    "    m2.start()\n",
    "    m3.start()\n",
    "    m4.start()\n",
    "    m1.join()\n",
    "    m2.join()\n",
    "    m3.join()\n",
    "    m4.join()"
   ]
  },
  {
   "cell_type": "code",
   "execution_count": null,
   "id": "a1179fc5-2a0a-4e2c-8172-d4fbc658a7dd",
   "metadata": {},
   "outputs": [],
   "source": []
  }
 ],
 "metadata": {
  "kernelspec": {
   "display_name": "Python 3 (ipykernel)",
   "language": "python",
   "name": "python3"
  },
  "language_info": {
   "codemirror_mode": {
    "name": "ipython",
    "version": 3
   },
   "file_extension": ".py",
   "mimetype": "text/x-python",
   "name": "python",
   "nbconvert_exporter": "python",
   "pygments_lexer": "ipython3",
   "version": "3.10.8"
  }
 },
 "nbformat": 4,
 "nbformat_minor": 5
}
