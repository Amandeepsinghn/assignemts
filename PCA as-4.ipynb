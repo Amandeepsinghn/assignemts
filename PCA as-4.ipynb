{
 "cells": [
  {
   "cell_type": "code",
   "execution_count": 1,
   "id": "3800ca42",
   "metadata": {},
   "outputs": [
    {
     "name": "stdout",
     "output_type": "stream",
     "text": [
      "Requirement already satisfied: ucimlrepo in c:\\users\\amand\\anaconda3\\lib\\site-packages (0.0.3)\n",
      "Note: you may need to restart the kernel to use updated packages.\n"
     ]
    }
   ],
   "source": [
    "pip install ucimlrepo"
   ]
  },
  {
   "cell_type": "markdown",
   "id": "95c999a1",
   "metadata": {},
   "source": [
    "# ANS 1"
   ]
  },
  {
   "cell_type": "code",
   "execution_count": 86,
   "id": "8064b8e2",
   "metadata": {},
   "outputs": [],
   "source": [
    "from ucimlrepo import fetch_ucirepo \n",
    "  \n",
    "# fetch dataset \n",
    "wine = fetch_ucirepo(id=109) \n",
    "  \n",
    "# data (as pandas dataframes) \n",
    "X = wine.data.features \n",
    "y = wine.data.targets \n",
    "  "
   ]
  },
  {
   "cell_type": "code",
   "execution_count": 87,
   "id": "29f7680f",
   "metadata": {},
   "outputs": [],
   "source": [
    "import pandas as pd \n",
    "import numpy as np \n",
    "import seaborn as sns "
   ]
  },
  {
   "cell_type": "code",
   "execution_count": 88,
   "id": "08b5c626",
   "metadata": {},
   "outputs": [],
   "source": [
    "df=pd.DataFrame(X)"
   ]
  },
  {
   "cell_type": "code",
   "execution_count": 89,
   "id": "a27ebe0f",
   "metadata": {},
   "outputs": [],
   "source": [
    "df['target']=y\n"
   ]
  },
  {
   "cell_type": "code",
   "execution_count": 91,
   "id": "39f745b5",
   "metadata": {},
   "outputs": [
    {
     "data": {
      "text/html": [
       "<div>\n",
       "<style scoped>\n",
       "    .dataframe tbody tr th:only-of-type {\n",
       "        vertical-align: middle;\n",
       "    }\n",
       "\n",
       "    .dataframe tbody tr th {\n",
       "        vertical-align: top;\n",
       "    }\n",
       "\n",
       "    .dataframe thead th {\n",
       "        text-align: right;\n",
       "    }\n",
       "</style>\n",
       "<table border=\"1\" class=\"dataframe\">\n",
       "  <thead>\n",
       "    <tr style=\"text-align: right;\">\n",
       "      <th></th>\n",
       "      <th>Alcohol</th>\n",
       "      <th>Malicacid</th>\n",
       "      <th>Ash</th>\n",
       "      <th>Alcalinity_of_ash</th>\n",
       "      <th>Magnesium</th>\n",
       "      <th>Total_phenols</th>\n",
       "      <th>Flavanoids</th>\n",
       "      <th>Nonflavanoid_phenols</th>\n",
       "      <th>Proanthocyanins</th>\n",
       "      <th>Color_intensity</th>\n",
       "      <th>Hue</th>\n",
       "      <th>0D280_0D315_of_diluted_wines</th>\n",
       "      <th>Proline</th>\n",
       "      <th>target</th>\n",
       "    </tr>\n",
       "  </thead>\n",
       "  <tbody>\n",
       "    <tr>\n",
       "      <th>0</th>\n",
       "      <td>14.23</td>\n",
       "      <td>1.71</td>\n",
       "      <td>2.43</td>\n",
       "      <td>15.6</td>\n",
       "      <td>127</td>\n",
       "      <td>2.80</td>\n",
       "      <td>3.06</td>\n",
       "      <td>0.28</td>\n",
       "      <td>2.29</td>\n",
       "      <td>5.64</td>\n",
       "      <td>1.04</td>\n",
       "      <td>3.92</td>\n",
       "      <td>1065</td>\n",
       "      <td>1</td>\n",
       "    </tr>\n",
       "    <tr>\n",
       "      <th>1</th>\n",
       "      <td>13.20</td>\n",
       "      <td>1.78</td>\n",
       "      <td>2.14</td>\n",
       "      <td>11.2</td>\n",
       "      <td>100</td>\n",
       "      <td>2.65</td>\n",
       "      <td>2.76</td>\n",
       "      <td>0.26</td>\n",
       "      <td>1.28</td>\n",
       "      <td>4.38</td>\n",
       "      <td>1.05</td>\n",
       "      <td>3.40</td>\n",
       "      <td>1050</td>\n",
       "      <td>1</td>\n",
       "    </tr>\n",
       "    <tr>\n",
       "      <th>2</th>\n",
       "      <td>13.16</td>\n",
       "      <td>2.36</td>\n",
       "      <td>2.67</td>\n",
       "      <td>18.6</td>\n",
       "      <td>101</td>\n",
       "      <td>2.80</td>\n",
       "      <td>3.24</td>\n",
       "      <td>0.30</td>\n",
       "      <td>2.81</td>\n",
       "      <td>5.68</td>\n",
       "      <td>1.03</td>\n",
       "      <td>3.17</td>\n",
       "      <td>1185</td>\n",
       "      <td>1</td>\n",
       "    </tr>\n",
       "    <tr>\n",
       "      <th>3</th>\n",
       "      <td>14.37</td>\n",
       "      <td>1.95</td>\n",
       "      <td>2.50</td>\n",
       "      <td>16.8</td>\n",
       "      <td>113</td>\n",
       "      <td>3.85</td>\n",
       "      <td>3.49</td>\n",
       "      <td>0.24</td>\n",
       "      <td>2.18</td>\n",
       "      <td>7.80</td>\n",
       "      <td>0.86</td>\n",
       "      <td>3.45</td>\n",
       "      <td>1480</td>\n",
       "      <td>1</td>\n",
       "    </tr>\n",
       "    <tr>\n",
       "      <th>4</th>\n",
       "      <td>13.24</td>\n",
       "      <td>2.59</td>\n",
       "      <td>2.87</td>\n",
       "      <td>21.0</td>\n",
       "      <td>118</td>\n",
       "      <td>2.80</td>\n",
       "      <td>2.69</td>\n",
       "      <td>0.39</td>\n",
       "      <td>1.82</td>\n",
       "      <td>4.32</td>\n",
       "      <td>1.04</td>\n",
       "      <td>2.93</td>\n",
       "      <td>735</td>\n",
       "      <td>1</td>\n",
       "    </tr>\n",
       "  </tbody>\n",
       "</table>\n",
       "</div>"
      ],
      "text/plain": [
       "   Alcohol  Malicacid   Ash  Alcalinity_of_ash  Magnesium  Total_phenols  \\\n",
       "0    14.23       1.71  2.43               15.6        127           2.80   \n",
       "1    13.20       1.78  2.14               11.2        100           2.65   \n",
       "2    13.16       2.36  2.67               18.6        101           2.80   \n",
       "3    14.37       1.95  2.50               16.8        113           3.85   \n",
       "4    13.24       2.59  2.87               21.0        118           2.80   \n",
       "\n",
       "   Flavanoids  Nonflavanoid_phenols  Proanthocyanins  Color_intensity   Hue  \\\n",
       "0        3.06                  0.28             2.29             5.64  1.04   \n",
       "1        2.76                  0.26             1.28             4.38  1.05   \n",
       "2        3.24                  0.30             2.81             5.68  1.03   \n",
       "3        3.49                  0.24             2.18             7.80  0.86   \n",
       "4        2.69                  0.39             1.82             4.32  1.04   \n",
       "\n",
       "   0D280_0D315_of_diluted_wines  Proline  target  \n",
       "0                          3.92     1065       1  \n",
       "1                          3.40     1050       1  \n",
       "2                          3.17     1185       1  \n",
       "3                          3.45     1480       1  \n",
       "4                          2.93      735       1  "
      ]
     },
     "execution_count": 91,
     "metadata": {},
     "output_type": "execute_result"
    }
   ],
   "source": [
    "df.head()"
   ]
  },
  {
   "cell_type": "code",
   "execution_count": 11,
   "id": "9cd0cb90",
   "metadata": {},
   "outputs": [
    {
     "data": {
      "text/plain": [
       "Alcohol                         0\n",
       "Malicacid                       0\n",
       "Ash                             0\n",
       "Alcalinity_of_ash               0\n",
       "Magnesium                       0\n",
       "Total_phenols                   0\n",
       "Flavanoids                      0\n",
       "Nonflavanoid_phenols            0\n",
       "Proanthocyanins                 0\n",
       "Color_intensity                 0\n",
       "Hue                             0\n",
       "0D280_0D315_of_diluted_wines    0\n",
       "Proline                         0\n",
       "target                          0\n",
       "dtype: int64"
      ]
     },
     "execution_count": 11,
     "metadata": {},
     "output_type": "execute_result"
    }
   ],
   "source": [
    "df.isnull().sum()"
   ]
  },
  {
   "cell_type": "code",
   "execution_count": 39,
   "id": "b5e662ba",
   "metadata": {},
   "outputs": [
    {
     "data": {
      "text/plain": [
       "0"
      ]
     },
     "execution_count": 39,
     "metadata": {},
     "output_type": "execute_result"
    }
   ],
   "source": [
    "df.duplicated().sum()\n"
   ]
  },
  {
   "cell_type": "code",
   "execution_count": 56,
   "id": "1646e7b5",
   "metadata": {},
   "outputs": [],
   "source": [
    "from sklearn.preprocessing import StandardScaler"
   ]
  },
  {
   "cell_type": "code",
   "execution_count": 92,
   "id": "9cfccd25",
   "metadata": {},
   "outputs": [],
   "source": [
    "scaler=Normalizer()\n"
   ]
  },
  {
   "cell_type": "code",
   "execution_count": 93,
   "id": "cad33599",
   "metadata": {},
   "outputs": [
    {
     "data": {
      "text/html": [
       "<style>#sk-container-id-6 {color: black;}#sk-container-id-6 pre{padding: 0;}#sk-container-id-6 div.sk-toggleable {background-color: white;}#sk-container-id-6 label.sk-toggleable__label {cursor: pointer;display: block;width: 100%;margin-bottom: 0;padding: 0.3em;box-sizing: border-box;text-align: center;}#sk-container-id-6 label.sk-toggleable__label-arrow:before {content: \"▸\";float: left;margin-right: 0.25em;color: #696969;}#sk-container-id-6 label.sk-toggleable__label-arrow:hover:before {color: black;}#sk-container-id-6 div.sk-estimator:hover label.sk-toggleable__label-arrow:before {color: black;}#sk-container-id-6 div.sk-toggleable__content {max-height: 0;max-width: 0;overflow: hidden;text-align: left;background-color: #f0f8ff;}#sk-container-id-6 div.sk-toggleable__content pre {margin: 0.2em;color: black;border-radius: 0.25em;background-color: #f0f8ff;}#sk-container-id-6 input.sk-toggleable__control:checked~div.sk-toggleable__content {max-height: 200px;max-width: 100%;overflow: auto;}#sk-container-id-6 input.sk-toggleable__control:checked~label.sk-toggleable__label-arrow:before {content: \"▾\";}#sk-container-id-6 div.sk-estimator input.sk-toggleable__control:checked~label.sk-toggleable__label {background-color: #d4ebff;}#sk-container-id-6 div.sk-label input.sk-toggleable__control:checked~label.sk-toggleable__label {background-color: #d4ebff;}#sk-container-id-6 input.sk-hidden--visually {border: 0;clip: rect(1px 1px 1px 1px);clip: rect(1px, 1px, 1px, 1px);height: 1px;margin: -1px;overflow: hidden;padding: 0;position: absolute;width: 1px;}#sk-container-id-6 div.sk-estimator {font-family: monospace;background-color: #f0f8ff;border: 1px dotted black;border-radius: 0.25em;box-sizing: border-box;margin-bottom: 0.5em;}#sk-container-id-6 div.sk-estimator:hover {background-color: #d4ebff;}#sk-container-id-6 div.sk-parallel-item::after {content: \"\";width: 100%;border-bottom: 1px solid gray;flex-grow: 1;}#sk-container-id-6 div.sk-label:hover label.sk-toggleable__label {background-color: #d4ebff;}#sk-container-id-6 div.sk-serial::before {content: \"\";position: absolute;border-left: 1px solid gray;box-sizing: border-box;top: 0;bottom: 0;left: 50%;z-index: 0;}#sk-container-id-6 div.sk-serial {display: flex;flex-direction: column;align-items: center;background-color: white;padding-right: 0.2em;padding-left: 0.2em;position: relative;}#sk-container-id-6 div.sk-item {position: relative;z-index: 1;}#sk-container-id-6 div.sk-parallel {display: flex;align-items: stretch;justify-content: center;background-color: white;position: relative;}#sk-container-id-6 div.sk-item::before, #sk-container-id-6 div.sk-parallel-item::before {content: \"\";position: absolute;border-left: 1px solid gray;box-sizing: border-box;top: 0;bottom: 0;left: 50%;z-index: -1;}#sk-container-id-6 div.sk-parallel-item {display: flex;flex-direction: column;z-index: 1;position: relative;background-color: white;}#sk-container-id-6 div.sk-parallel-item:first-child::after {align-self: flex-end;width: 50%;}#sk-container-id-6 div.sk-parallel-item:last-child::after {align-self: flex-start;width: 50%;}#sk-container-id-6 div.sk-parallel-item:only-child::after {width: 0;}#sk-container-id-6 div.sk-dashed-wrapped {border: 1px dashed gray;margin: 0 0.4em 0.5em 0.4em;box-sizing: border-box;padding-bottom: 0.4em;background-color: white;}#sk-container-id-6 div.sk-label label {font-family: monospace;font-weight: bold;display: inline-block;line-height: 1.2em;}#sk-container-id-6 div.sk-label-container {text-align: center;}#sk-container-id-6 div.sk-container {/* jupyter's `normalize.less` sets `[hidden] { display: none; }` but bootstrap.min.css set `[hidden] { display: none !important; }` so we also need the `!important` here to be able to override the default hidden behavior on the sphinx rendered scikit-learn.org. See: https://github.com/scikit-learn/scikit-learn/issues/21755 */display: inline-block !important;position: relative;}#sk-container-id-6 div.sk-text-repr-fallback {display: none;}</style><div id=\"sk-container-id-6\" class=\"sk-top-container\"><div class=\"sk-text-repr-fallback\"><pre>Normalizer()</pre><b>In a Jupyter environment, please rerun this cell to show the HTML representation or trust the notebook. <br />On GitHub, the HTML representation is unable to render, please try loading this page with nbviewer.org.</b></div><div class=\"sk-container\" hidden><div class=\"sk-item\"><div class=\"sk-estimator sk-toggleable\"><input class=\"sk-toggleable__control sk-hidden--visually\" id=\"sk-estimator-id-8\" type=\"checkbox\" checked><label for=\"sk-estimator-id-8\" class=\"sk-toggleable__label sk-toggleable__label-arrow\">Normalizer</label><div class=\"sk-toggleable__content\"><pre>Normalizer()</pre></div></div></div></div></div>"
      ],
      "text/plain": [
       "Normalizer()"
      ]
     },
     "execution_count": 93,
     "metadata": {},
     "output_type": "execute_result"
    }
   ],
   "source": [
    "scaler.fit(df[['Alcohol','Malicacid','Ash','Alcalinity_of_ash','Magnesium','Total_phenols','Flavanoids','Nonflavanoid_phenols','Proanthocyanins','Color_intensity','Hue','0D280_0D315_of_diluted_wines','Proline']])"
   ]
  },
  {
   "cell_type": "code",
   "execution_count": 94,
   "id": "e2cab8c6",
   "metadata": {},
   "outputs": [],
   "source": [
    "df=pd.DataFrame(scaler.transform(df[['Alcohol','Malicacid','Ash','Alcalinity_of_ash','Magnesium','Total_phenols','Flavanoids','Nonflavanoid_phenols','Proanthocyanins','Color_intensity','Hue','0D280_0D315_of_diluted_wines','Proline']]),columns=['Alcohol','Malicacid','Ash','Alcalinity_of_ash','Magnesium','Total_phenols','Flavanoids','Nonflavanoid_phenols','Proanthocyanins','Color_intensity','Hue','0D280_0D315_of_diluted_wines','Proline'])"
   ]
  },
  {
   "cell_type": "code",
   "execution_count": 95,
   "id": "c068366a",
   "metadata": {},
   "outputs": [],
   "source": [
    "df['target']=y"
   ]
  },
  {
   "cell_type": "code",
   "execution_count": 96,
   "id": "0b639d6e",
   "metadata": {},
   "outputs": [],
   "source": [
    "X=scaler.fit_transform(X)"
   ]
  },
  {
   "cell_type": "code",
   "execution_count": 97,
   "id": "e2670d8c",
   "metadata": {},
   "outputs": [],
   "source": [
    "from sklearn.model_selection import train_test_split"
   ]
  },
  {
   "cell_type": "code",
   "execution_count": 98,
   "id": "bfc4abcb",
   "metadata": {},
   "outputs": [],
   "source": [
    "X_train,X_test,y_train,y_test=train_test_split(X,y,test_size=0.33,random_state=42)"
   ]
  },
  {
   "cell_type": "code",
   "execution_count": 99,
   "id": "49996508",
   "metadata": {},
   "outputs": [],
   "source": [
    "from sklearn.model_selection import GridSearchCV"
   ]
  },
  {
   "cell_type": "code",
   "execution_count": 100,
   "id": "6826e0e8",
   "metadata": {},
   "outputs": [],
   "source": [
    "from sklearn.decomposition import PCA"
   ]
  },
  {
   "cell_type": "code",
   "execution_count": 101,
   "id": "18f08fee",
   "metadata": {},
   "outputs": [],
   "source": [
    "parameter={'n_components':[1,2,3,4,5,6,7,8,9]}"
   ]
  },
  {
   "cell_type": "code",
   "execution_count": 102,
   "id": "cf9070a9",
   "metadata": {},
   "outputs": [],
   "source": [
    "clf=GridSearchCV(PCA(),param_grid=parameter)"
   ]
  },
  {
   "cell_type": "code",
   "execution_count": 103,
   "id": "19448bf2",
   "metadata": {},
   "outputs": [
    {
     "data": {
      "text/html": [
       "<style>#sk-container-id-7 {color: black;}#sk-container-id-7 pre{padding: 0;}#sk-container-id-7 div.sk-toggleable {background-color: white;}#sk-container-id-7 label.sk-toggleable__label {cursor: pointer;display: block;width: 100%;margin-bottom: 0;padding: 0.3em;box-sizing: border-box;text-align: center;}#sk-container-id-7 label.sk-toggleable__label-arrow:before {content: \"▸\";float: left;margin-right: 0.25em;color: #696969;}#sk-container-id-7 label.sk-toggleable__label-arrow:hover:before {color: black;}#sk-container-id-7 div.sk-estimator:hover label.sk-toggleable__label-arrow:before {color: black;}#sk-container-id-7 div.sk-toggleable__content {max-height: 0;max-width: 0;overflow: hidden;text-align: left;background-color: #f0f8ff;}#sk-container-id-7 div.sk-toggleable__content pre {margin: 0.2em;color: black;border-radius: 0.25em;background-color: #f0f8ff;}#sk-container-id-7 input.sk-toggleable__control:checked~div.sk-toggleable__content {max-height: 200px;max-width: 100%;overflow: auto;}#sk-container-id-7 input.sk-toggleable__control:checked~label.sk-toggleable__label-arrow:before {content: \"▾\";}#sk-container-id-7 div.sk-estimator input.sk-toggleable__control:checked~label.sk-toggleable__label {background-color: #d4ebff;}#sk-container-id-7 div.sk-label input.sk-toggleable__control:checked~label.sk-toggleable__label {background-color: #d4ebff;}#sk-container-id-7 input.sk-hidden--visually {border: 0;clip: rect(1px 1px 1px 1px);clip: rect(1px, 1px, 1px, 1px);height: 1px;margin: -1px;overflow: hidden;padding: 0;position: absolute;width: 1px;}#sk-container-id-7 div.sk-estimator {font-family: monospace;background-color: #f0f8ff;border: 1px dotted black;border-radius: 0.25em;box-sizing: border-box;margin-bottom: 0.5em;}#sk-container-id-7 div.sk-estimator:hover {background-color: #d4ebff;}#sk-container-id-7 div.sk-parallel-item::after {content: \"\";width: 100%;border-bottom: 1px solid gray;flex-grow: 1;}#sk-container-id-7 div.sk-label:hover label.sk-toggleable__label {background-color: #d4ebff;}#sk-container-id-7 div.sk-serial::before {content: \"\";position: absolute;border-left: 1px solid gray;box-sizing: border-box;top: 0;bottom: 0;left: 50%;z-index: 0;}#sk-container-id-7 div.sk-serial {display: flex;flex-direction: column;align-items: center;background-color: white;padding-right: 0.2em;padding-left: 0.2em;position: relative;}#sk-container-id-7 div.sk-item {position: relative;z-index: 1;}#sk-container-id-7 div.sk-parallel {display: flex;align-items: stretch;justify-content: center;background-color: white;position: relative;}#sk-container-id-7 div.sk-item::before, #sk-container-id-7 div.sk-parallel-item::before {content: \"\";position: absolute;border-left: 1px solid gray;box-sizing: border-box;top: 0;bottom: 0;left: 50%;z-index: -1;}#sk-container-id-7 div.sk-parallel-item {display: flex;flex-direction: column;z-index: 1;position: relative;background-color: white;}#sk-container-id-7 div.sk-parallel-item:first-child::after {align-self: flex-end;width: 50%;}#sk-container-id-7 div.sk-parallel-item:last-child::after {align-self: flex-start;width: 50%;}#sk-container-id-7 div.sk-parallel-item:only-child::after {width: 0;}#sk-container-id-7 div.sk-dashed-wrapped {border: 1px dashed gray;margin: 0 0.4em 0.5em 0.4em;box-sizing: border-box;padding-bottom: 0.4em;background-color: white;}#sk-container-id-7 div.sk-label label {font-family: monospace;font-weight: bold;display: inline-block;line-height: 1.2em;}#sk-container-id-7 div.sk-label-container {text-align: center;}#sk-container-id-7 div.sk-container {/* jupyter's `normalize.less` sets `[hidden] { display: none; }` but bootstrap.min.css set `[hidden] { display: none !important; }` so we also need the `!important` here to be able to override the default hidden behavior on the sphinx rendered scikit-learn.org. See: https://github.com/scikit-learn/scikit-learn/issues/21755 */display: inline-block !important;position: relative;}#sk-container-id-7 div.sk-text-repr-fallback {display: none;}</style><div id=\"sk-container-id-7\" class=\"sk-top-container\"><div class=\"sk-text-repr-fallback\"><pre>GridSearchCV(estimator=PCA(),\n",
       "             param_grid={&#x27;n_components&#x27;: [1, 2, 3, 4, 5, 6, 7, 8, 9]})</pre><b>In a Jupyter environment, please rerun this cell to show the HTML representation or trust the notebook. <br />On GitHub, the HTML representation is unable to render, please try loading this page with nbviewer.org.</b></div><div class=\"sk-container\" hidden><div class=\"sk-item sk-dashed-wrapped\"><div class=\"sk-label-container\"><div class=\"sk-label sk-toggleable\"><input class=\"sk-toggleable__control sk-hidden--visually\" id=\"sk-estimator-id-9\" type=\"checkbox\" ><label for=\"sk-estimator-id-9\" class=\"sk-toggleable__label sk-toggleable__label-arrow\">GridSearchCV</label><div class=\"sk-toggleable__content\"><pre>GridSearchCV(estimator=PCA(),\n",
       "             param_grid={&#x27;n_components&#x27;: [1, 2, 3, 4, 5, 6, 7, 8, 9]})</pre></div></div></div><div class=\"sk-parallel\"><div class=\"sk-parallel-item\"><div class=\"sk-item\"><div class=\"sk-label-container\"><div class=\"sk-label sk-toggleable\"><input class=\"sk-toggleable__control sk-hidden--visually\" id=\"sk-estimator-id-10\" type=\"checkbox\" ><label for=\"sk-estimator-id-10\" class=\"sk-toggleable__label sk-toggleable__label-arrow\">estimator: PCA</label><div class=\"sk-toggleable__content\"><pre>PCA()</pre></div></div></div><div class=\"sk-serial\"><div class=\"sk-item\"><div class=\"sk-estimator sk-toggleable\"><input class=\"sk-toggleable__control sk-hidden--visually\" id=\"sk-estimator-id-11\" type=\"checkbox\" ><label for=\"sk-estimator-id-11\" class=\"sk-toggleable__label sk-toggleable__label-arrow\">PCA</label><div class=\"sk-toggleable__content\"><pre>PCA()</pre></div></div></div></div></div></div></div></div></div></div>"
      ],
      "text/plain": [
       "GridSearchCV(estimator=PCA(),\n",
       "             param_grid={'n_components': [1, 2, 3, 4, 5, 6, 7, 8, 9]})"
      ]
     },
     "execution_count": 103,
     "metadata": {},
     "output_type": "execute_result"
    }
   ],
   "source": [
    "clf.fit(X_train,y_train)"
   ]
  },
  {
   "cell_type": "code",
   "execution_count": 104,
   "id": "f063af2c",
   "metadata": {},
   "outputs": [
    {
     "data": {
      "text/plain": [
       "{'n_components': 7}"
      ]
     },
     "execution_count": 104,
     "metadata": {},
     "output_type": "execute_result"
    }
   ],
   "source": [
    "clf.best_params_"
   ]
  },
  {
   "cell_type": "code",
   "execution_count": 105,
   "id": "6a79deed",
   "metadata": {},
   "outputs": [],
   "source": [
    "pca=PCA(n_components=7)"
   ]
  },
  {
   "cell_type": "code",
   "execution_count": 106,
   "id": "bcea71df",
   "metadata": {},
   "outputs": [
    {
     "data": {
      "text/html": [
       "<style>#sk-container-id-8 {color: black;}#sk-container-id-8 pre{padding: 0;}#sk-container-id-8 div.sk-toggleable {background-color: white;}#sk-container-id-8 label.sk-toggleable__label {cursor: pointer;display: block;width: 100%;margin-bottom: 0;padding: 0.3em;box-sizing: border-box;text-align: center;}#sk-container-id-8 label.sk-toggleable__label-arrow:before {content: \"▸\";float: left;margin-right: 0.25em;color: #696969;}#sk-container-id-8 label.sk-toggleable__label-arrow:hover:before {color: black;}#sk-container-id-8 div.sk-estimator:hover label.sk-toggleable__label-arrow:before {color: black;}#sk-container-id-8 div.sk-toggleable__content {max-height: 0;max-width: 0;overflow: hidden;text-align: left;background-color: #f0f8ff;}#sk-container-id-8 div.sk-toggleable__content pre {margin: 0.2em;color: black;border-radius: 0.25em;background-color: #f0f8ff;}#sk-container-id-8 input.sk-toggleable__control:checked~div.sk-toggleable__content {max-height: 200px;max-width: 100%;overflow: auto;}#sk-container-id-8 input.sk-toggleable__control:checked~label.sk-toggleable__label-arrow:before {content: \"▾\";}#sk-container-id-8 div.sk-estimator input.sk-toggleable__control:checked~label.sk-toggleable__label {background-color: #d4ebff;}#sk-container-id-8 div.sk-label input.sk-toggleable__control:checked~label.sk-toggleable__label {background-color: #d4ebff;}#sk-container-id-8 input.sk-hidden--visually {border: 0;clip: rect(1px 1px 1px 1px);clip: rect(1px, 1px, 1px, 1px);height: 1px;margin: -1px;overflow: hidden;padding: 0;position: absolute;width: 1px;}#sk-container-id-8 div.sk-estimator {font-family: monospace;background-color: #f0f8ff;border: 1px dotted black;border-radius: 0.25em;box-sizing: border-box;margin-bottom: 0.5em;}#sk-container-id-8 div.sk-estimator:hover {background-color: #d4ebff;}#sk-container-id-8 div.sk-parallel-item::after {content: \"\";width: 100%;border-bottom: 1px solid gray;flex-grow: 1;}#sk-container-id-8 div.sk-label:hover label.sk-toggleable__label {background-color: #d4ebff;}#sk-container-id-8 div.sk-serial::before {content: \"\";position: absolute;border-left: 1px solid gray;box-sizing: border-box;top: 0;bottom: 0;left: 50%;z-index: 0;}#sk-container-id-8 div.sk-serial {display: flex;flex-direction: column;align-items: center;background-color: white;padding-right: 0.2em;padding-left: 0.2em;position: relative;}#sk-container-id-8 div.sk-item {position: relative;z-index: 1;}#sk-container-id-8 div.sk-parallel {display: flex;align-items: stretch;justify-content: center;background-color: white;position: relative;}#sk-container-id-8 div.sk-item::before, #sk-container-id-8 div.sk-parallel-item::before {content: \"\";position: absolute;border-left: 1px solid gray;box-sizing: border-box;top: 0;bottom: 0;left: 50%;z-index: -1;}#sk-container-id-8 div.sk-parallel-item {display: flex;flex-direction: column;z-index: 1;position: relative;background-color: white;}#sk-container-id-8 div.sk-parallel-item:first-child::after {align-self: flex-end;width: 50%;}#sk-container-id-8 div.sk-parallel-item:last-child::after {align-self: flex-start;width: 50%;}#sk-container-id-8 div.sk-parallel-item:only-child::after {width: 0;}#sk-container-id-8 div.sk-dashed-wrapped {border: 1px dashed gray;margin: 0 0.4em 0.5em 0.4em;box-sizing: border-box;padding-bottom: 0.4em;background-color: white;}#sk-container-id-8 div.sk-label label {font-family: monospace;font-weight: bold;display: inline-block;line-height: 1.2em;}#sk-container-id-8 div.sk-label-container {text-align: center;}#sk-container-id-8 div.sk-container {/* jupyter's `normalize.less` sets `[hidden] { display: none; }` but bootstrap.min.css set `[hidden] { display: none !important; }` so we also need the `!important` here to be able to override the default hidden behavior on the sphinx rendered scikit-learn.org. See: https://github.com/scikit-learn/scikit-learn/issues/21755 */display: inline-block !important;position: relative;}#sk-container-id-8 div.sk-text-repr-fallback {display: none;}</style><div id=\"sk-container-id-8\" class=\"sk-top-container\"><div class=\"sk-text-repr-fallback\"><pre>PCA(n_components=7)</pre><b>In a Jupyter environment, please rerun this cell to show the HTML representation or trust the notebook. <br />On GitHub, the HTML representation is unable to render, please try loading this page with nbviewer.org.</b></div><div class=\"sk-container\" hidden><div class=\"sk-item\"><div class=\"sk-estimator sk-toggleable\"><input class=\"sk-toggleable__control sk-hidden--visually\" id=\"sk-estimator-id-12\" type=\"checkbox\" checked><label for=\"sk-estimator-id-12\" class=\"sk-toggleable__label sk-toggleable__label-arrow\">PCA</label><div class=\"sk-toggleable__content\"><pre>PCA(n_components=7)</pre></div></div></div></div></div>"
      ],
      "text/plain": [
       "PCA(n_components=7)"
      ]
     },
     "execution_count": 106,
     "metadata": {},
     "output_type": "execute_result"
    }
   ],
   "source": [
    "pca"
   ]
  },
  {
   "cell_type": "code",
   "execution_count": 108,
   "id": "2df9f2f4",
   "metadata": {},
   "outputs": [],
   "source": [
    "X_train=pca.fit_transform(X_train)"
   ]
  },
  {
   "cell_type": "code",
   "execution_count": 109,
   "id": "d0f1a30b",
   "metadata": {},
   "outputs": [],
   "source": [
    "X_test=pca.transform(X_test)"
   ]
  },
  {
   "cell_type": "code",
   "execution_count": 110,
   "id": "7299403c",
   "metadata": {},
   "outputs": [
    {
     "data": {
      "text/plain": [
       "array([[-5.89710889e-02,  1.54231451e-03, -2.60803070e-03,\n",
       "         1.06433296e-03,  1.05377519e-04, -1.12074866e-04,\n",
       "         2.02202118e-04],\n",
       "       [ 4.08826534e-02, -9.80384832e-03,  6.27621737e-03,\n",
       "         3.99997258e-03, -5.86984411e-03, -1.25892360e-03,\n",
       "         3.26775796e-03],\n",
       "       [ 4.31064946e-02,  3.74055279e-03, -2.53919344e-03,\n",
       "         4.19611080e-03, -1.23075768e-03, -1.43884364e-03,\n",
       "        -2.81338540e-03],\n",
       "       [ 4.89365319e-02,  2.33220927e-02, -2.23832992e-03,\n",
       "        -3.93089638e-03, -1.35535753e-03, -4.75740447e-05,\n",
       "         7.98196945e-05],\n",
       "       [-2.57322107e-02, -4.37029938e-03,  8.24912581e-03,\n",
       "         9.72256140e-04,  1.31894989e-03,  7.10327877e-06,\n",
       "        -7.47630994e-04],\n",
       "       [-8.22462828e-02, -1.16803875e-03, -1.85012429e-03,\n",
       "         9.82164023e-04,  1.52815927e-03, -8.21814667e-04,\n",
       "         1.88464947e-03],\n",
       "       [-8.24286869e-02,  3.85808169e-04, -1.69528640e-03,\n",
       "         1.93260834e-03,  1.26714835e-03, -4.76352666e-04,\n",
       "         1.69524964e-03],\n",
       "       [-8.33455517e-02, -1.29740922e-03, -2.47305906e-03,\n",
       "         3.69371986e-04,  1.29563478e-03, -5.83482579e-04,\n",
       "         2.33927083e-03],\n",
       "       [-2.56740179e-02,  4.22090816e-03,  4.31495875e-03,\n",
       "        -1.52216554e-03, -4.69896628e-04,  9.81326037e-04,\n",
       "         4.44525520e-04],\n",
       "       [ 4.16020240e-03,  5.05906626e-03, -1.45351167e-03,\n",
       "        -1.41348182e-03, -7.24857012e-04,  1.27380231e-03,\n",
       "        -1.30766294e-03],\n",
       "       [-5.15114903e-02,  2.16919634e-03, -2.20418326e-03,\n",
       "         4.35307586e-04, -1.96125858e-04, -2.65343930e-04,\n",
       "         1.53878881e-05],\n",
       "       [ 1.30378645e-02,  1.75594081e-02, -2.90385528e-03,\n",
       "        -4.58242081e-03, -1.41265963e-03,  1.06096592e-03,\n",
       "        -5.26015934e-04],\n",
       "       [ 3.28726911e-02,  2.14784705e-03,  4.45545137e-03,\n",
       "        -8.91578645e-04, -1.83540646e-03, -1.03935246e-03,\n",
       "         7.07023508e-04],\n",
       "       [ 6.85947439e-02,  1.14184238e-02,  7.41301777e-04,\n",
       "         1.08751262e-03, -8.51461794e-04, -1.32312967e-03,\n",
       "         2.77293900e-05],\n",
       "       [-8.71823841e-02, -8.69469168e-04, -2.02826621e-03,\n",
       "         6.34965408e-04,  2.07508926e-03,  2.90241167e-04,\n",
       "         2.19337104e-03],\n",
       "       [-1.54871408e-02, -7.94424271e-03,  5.98604391e-03,\n",
       "         3.66093973e-04, -1.03355417e-03,  9.06988430e-04,\n",
       "         6.83528829e-04],\n",
       "       [ 7.38867332e-02, -8.98837884e-03, -2.38386447e-03,\n",
       "         5.15972047e-03, -5.13984949e-03,  5.79033399e-03,\n",
       "         2.86910841e-03],\n",
       "       [-3.86883853e-02,  8.37623474e-03, -9.86786413e-04,\n",
       "         4.83154577e-04, -6.67502449e-06,  4.04304347e-04,\n",
       "        -1.10390576e-03],\n",
       "       [ 3.33281432e-02, -5.80047794e-03,  1.60423158e-03,\n",
       "        -1.77504249e-03, -2.38313158e-03, -1.86783772e-03,\n",
       "         1.35011078e-03],\n",
       "       [ 9.12236044e-02, -7.69999081e-03, -2.41956889e-03,\n",
       "         3.24697596e-03,  3.76613457e-03,  1.00023744e-04,\n",
       "        -2.04068491e-03],\n",
       "       [ 1.32413450e-01,  1.23267956e-02, -2.59621228e-03,\n",
       "         9.98721072e-04,  2.85505932e-03, -2.59100860e-03,\n",
       "         4.18671359e-03],\n",
       "       [-3.58379124e-02,  4.20128931e-03, -1.21038404e-03,\n",
       "         5.24261532e-04,  2.81595468e-04,  6.26959757e-04,\n",
       "        -1.40035071e-03],\n",
       "       [ 5.54793033e-02,  1.38644396e-02, -2.38442306e-03,\n",
       "        -5.91260715e-03, -1.42806971e-03,  1.57982930e-04,\n",
       "         1.59666706e-03],\n",
       "       [-3.90900808e-02,  1.27745530e-03, -1.96197921e-03,\n",
       "         2.49808445e-04,  9.75200100e-05,  1.73013387e-04,\n",
       "        -9.14651582e-04],\n",
       "       [-1.03887142e-02,  9.16497475e-03,  1.51687024e-04,\n",
       "         1.28949325e-03,  3.27977760e-04,  9.62950243e-04,\n",
       "        -2.80992387e-03],\n",
       "       [ 4.70046750e-02, -1.67439473e-02, -4.12445590e-03,\n",
       "        -5.89304770e-03,  1.61475126e-03,  9.06467229e-04,\n",
       "        -2.31937563e-05],\n",
       "       [-6.30256386e-03,  1.63965541e-03, -3.01248632e-03,\n",
       "        -3.77664878e-03, -1.04583833e-04,  1.03907631e-03,\n",
       "        -8.83691110e-04],\n",
       "       [-6.24933072e-02, -6.75664744e-04, -2.47214383e-03,\n",
       "         2.04805348e-04,  6.70162126e-04, -2.59333732e-04,\n",
       "         5.52227574e-04],\n",
       "       [ 2.16442011e-02, -5.68718669e-03,  2.97377999e-03,\n",
       "        -3.30456926e-03,  1.56598283e-07, -1.55778188e-03,\n",
       "         3.80286106e-05],\n",
       "       [-3.41566891e-02, -3.40159687e-03, -1.81085968e-03,\n",
       "         9.21457124e-04, -2.24235900e-04, -4.32462358e-04,\n",
       "        -1.10384441e-03],\n",
       "       [ 6.37931889e-02, -2.13399735e-03, -3.71878541e-03,\n",
       "        -1.88628746e-04, -1.98693888e-03,  2.99957421e-03,\n",
       "         9.01430734e-04],\n",
       "       [ 2.51179609e-02,  3.49779970e-03, -2.82522107e-03,\n",
       "        -1.36871663e-05, -2.74992507e-04, -8.06123877e-04,\n",
       "        -2.65087812e-03],\n",
       "       [ 9.09737525e-03,  1.66788485e-02,  4.45601485e-04,\n",
       "         2.83951463e-03, -2.68957285e-03,  2.23024541e-03,\n",
       "        -1.39287442e-03],\n",
       "       [ 1.92709625e-03, -9.36085362e-04, -2.63622762e-03,\n",
       "        -1.38828036e-04, -2.16045833e-03, -2.61617852e-03,\n",
       "        -9.21161254e-04],\n",
       "       [ 2.88713263e-02, -6.85447336e-03, -3.49836715e-03,\n",
       "        -2.74813153e-03, -8.91272233e-04, -1.54261538e-03,\n",
       "        -5.66060554e-04],\n",
       "       [-1.40984565e-03, -1.70486548e-04, -2.73533387e-03,\n",
       "        -1.11609424e-03, -5.96395210e-04,  1.81963368e-03,\n",
       "        -1.52127296e-03],\n",
       "       [-2.60928035e-02, -3.57409728e-03,  5.22317654e-03,\n",
       "         8.16676692e-04, -2.09823928e-03,  1.30173704e-03,\n",
       "         1.41419851e-03],\n",
       "       [ 3.08879608e-02,  8.39982307e-04,  3.14848981e-03,\n",
       "        -2.19904425e-03, -1.46336738e-03, -3.39916011e-04,\n",
       "         6.92618103e-04],\n",
       "       [-5.40329101e-02,  2.23435739e-03, -6.64664816e-04,\n",
       "         1.96836043e-03,  1.05710698e-03,  2.70851273e-04,\n",
       "        -1.01524704e-03],\n",
       "       [ 1.24447293e-01,  1.08614723e-02, -2.67674409e-03,\n",
       "         3.38705151e-03,  2.89034379e-03,  6.78460910e-04,\n",
       "         2.10110276e-03],\n",
       "       [-2.00044068e-02, -2.11476476e-04,  4.27020869e-03,\n",
       "        -3.68707681e-04, -2.35485549e-04, -1.13520102e-03,\n",
       "        -3.64109129e-04],\n",
       "       [ 4.84280831e-03, -5.17123414e-04,  8.21297200e-03,\n",
       "        -1.26625949e-03,  1.36070064e-03,  1.01254899e-03,\n",
       "        -9.97891863e-04],\n",
       "       [ 6.46647771e-02,  1.00616763e-02,  4.22591266e-03,\n",
       "         1.68350997e-03,  9.95062464e-04, -2.75086801e-03,\n",
       "        -1.16451761e-03],\n",
       "       [-1.43737170e-02,  3.64388003e-05, -3.79223603e-03,\n",
       "        -5.77562274e-03,  5.81341426e-04,  1.15890339e-03,\n",
       "        -5.39692572e-04],\n",
       "       [-5.05064671e-02,  4.92779988e-03, -1.49476834e-03,\n",
       "        -1.61076689e-03,  6.72025446e-04,  1.60620397e-04,\n",
       "         1.48786528e-04],\n",
       "       [ 7.18565422e-02, -6.81091100e-03, -4.12861751e-03,\n",
       "         1.83653152e-03,  3.26649379e-04,  4.49611538e-04,\n",
       "        -9.20602594e-04],\n",
       "       [ 2.13679355e-02,  1.44620440e-03,  2.39455066e-03,\n",
       "        -2.37069396e-03, -2.00263840e-03,  1.22245474e-04,\n",
       "         8.73920380e-04],\n",
       "       [ 1.74839817e-02, -4.51159689e-03,  1.42868438e-03,\n",
       "        -2.93870794e-03, -1.15927982e-03, -6.06309517e-04,\n",
       "         4.34584090e-04],\n",
       "       [-6.08698079e-03,  1.21266843e-03, -8.79418893e-04,\n",
       "         1.07391459e-03, -1.34146084e-03, -2.75081496e-03,\n",
       "        -1.49669330e-03],\n",
       "       [-1.38119158e-02,  5.07209715e-03,  5.14264752e-03,\n",
       "        -1.87791827e-03,  5.69514752e-04, -7.97490589e-05,\n",
       "        -6.96032051e-04],\n",
       "       [ 1.39590418e-02,  2.89392342e-03, -7.19202722e-04,\n",
       "        -2.22657437e-03, -1.30099417e-03,  6.80351436e-04,\n",
       "        -3.04479318e-04],\n",
       "       [ 5.58733191e-02, -6.80736861e-03, -5.94211033e-03,\n",
       "        -1.87930708e-03,  2.37658127e-04,  2.04721900e-06,\n",
       "        -1.11537933e-03],\n",
       "       [ 1.30415478e-01, -5.82267014e-03, -4.11163836e-03,\n",
       "         2.33304450e-03,  1.78991260e-03, -5.61129730e-04,\n",
       "         4.62969986e-03],\n",
       "       [-7.35291529e-02,  2.12538006e-03, -1.15229942e-03,\n",
       "         4.07080587e-05,  1.52272298e-03,  1.84007074e-04,\n",
       "         1.25247867e-03],\n",
       "       [-8.01050220e-02,  2.28855117e-03, -1.11178581e-03,\n",
       "         9.81273932e-04,  1.89473202e-03,  1.62379522e-04,\n",
       "         1.36169068e-03],\n",
       "       [ 1.60883175e-02, -6.13243730e-03,  7.23569608e-03,\n",
       "         4.29343320e-04, -5.31047113e-05,  1.04311027e-03,\n",
       "        -4.54434623e-04],\n",
       "       [-8.07229199e-02,  1.20385912e-03, -8.38415838e-04,\n",
       "         1.01521192e-03,  2.34590336e-03,  5.43481082e-04,\n",
       "         1.17802649e-03],\n",
       "       [ 1.69844253e-02, -9.30926378e-03,  6.03609050e-03,\n",
       "         8.34923218e-04, -2.23655902e-03, -3.42805523e-04,\n",
       "         9.35095083e-04],\n",
       "       [-7.10085608e-02,  9.14473470e-04,  4.72659294e-04,\n",
       "         1.00851717e-03,  2.59640018e-03,  5.30758636e-04,\n",
       "         1.37563549e-04],\n",
       "       [-4.67112192e-02, -1.73971264e-03, -1.63760937e-03,\n",
       "         7.34024963e-05,  9.19779389e-04,  3.02693165e-04,\n",
       "        -7.60562907e-04],\n",
       "       [ 1.51135369e-01,  8.96820783e-04, -6.30808163e-03,\n",
       "         5.96404550e-03,  5.67384233e-03, -3.44072194e-03,\n",
       "         2.95280961e-03],\n",
       "       [ 6.53521257e-02,  1.31262879e-02, -1.43063787e-03,\n",
       "        -1.79047366e-03, -2.61570348e-03,  2.46286280e-04,\n",
       "         1.92087231e-03],\n",
       "       [-5.60915056e-02,  1.46013349e-03, -2.08675366e-03,\n",
       "        -7.33717811e-04,  3.22465196e-04, -1.67730735e-04,\n",
       "         5.56406892e-04],\n",
       "       [-6.08344192e-02,  1.67302512e-03, -1.39814385e-03,\n",
       "         2.22857978e-03, -3.32044070e-04,  1.04188246e-03,\n",
       "         5.18556327e-04],\n",
       "       [-6.38414490e-02,  3.44105884e-03, -1.67932316e-03,\n",
       "        -3.74904535e-04,  4.96084233e-04,  5.25489798e-05,\n",
       "         1.04797574e-03],\n",
       "       [ 6.36783024e-02, -9.61362023e-03, -3.79817797e-03,\n",
       "         3.99294432e-03, -2.06777134e-03,  6.01963875e-03,\n",
       "        -3.40133329e-04],\n",
       "       [-4.76109825e-03,  4.50321122e-03, -3.30151853e-04,\n",
       "         1.65224428e-03, -2.32222668e-03,  2.05107634e-03,\n",
       "        -8.06879767e-04],\n",
       "       [-3.74598414e-02,  1.93042523e-04, -1.85015589e-03,\n",
       "        -2.99331649e-03, -9.24555827e-04, -1.25199855e-03,\n",
       "         8.88872810e-04],\n",
       "       [-3.06178690e-02, -5.20150459e-03,  8.76723888e-04,\n",
       "        -1.77049386e-03, -3.11937723e-03,  3.60241912e-04,\n",
       "         2.64137146e-03],\n",
       "       [ 3.38786532e-02,  6.17951486e-03, -2.64296603e-03,\n",
       "        -8.86753722e-04, -2.10057406e-03,  4.35575773e-03,\n",
       "        -7.11489430e-04],\n",
       "       [ 3.84979403e-02, -7.83782927e-03, -1.27364356e-03,\n",
       "        -1.81722739e-03,  4.33893392e-05, -1.88978182e-03,\n",
       "        -9.59930236e-04],\n",
       "       [ 1.29753454e-02, -1.01388611e-02,  1.67183775e-03,\n",
       "         4.11853790e-04, -1.92858469e-03,  7.68492627e-04,\n",
       "         1.18823577e-04],\n",
       "       [ 3.19517408e-02, -3.95374029e-03,  1.08943505e-02,\n",
       "         4.34032140e-03, -3.25994409e-04,  3.24467046e-04,\n",
       "        -9.66820477e-04],\n",
       "       [ 1.67547408e-03,  2.50657179e-03,  3.05284586e-03,\n",
       "        -7.43754449e-04, -2.03611083e-03, -9.89430434e-04,\n",
       "         2.88371902e-04],\n",
       "       [-3.93511223e-02, -1.61575590e-02, -5.16872750e-03,\n",
       "        -1.38030961e-03, -1.11096481e-04, -1.77862765e-03,\n",
       "         6.72613777e-05],\n",
       "       [-6.39977094e-02,  2.39223804e-03, -1.12753425e-03,\n",
       "         2.87391475e-03,  3.95323332e-04, -7.78026728e-04,\n",
       "        -5.17314632e-05],\n",
       "       [-7.80049452e-02,  2.31410354e-03, -1.36905050e-03,\n",
       "         3.93290069e-03,  1.05821558e-03, -3.30149026e-04,\n",
       "         5.00770543e-04],\n",
       "       [ 1.09307449e-02,  1.34625770e-02, -1.20584490e-03,\n",
       "         3.18799553e-03, -4.45318896e-03, -4.92255881e-03,\n",
       "        -7.37695619e-04],\n",
       "       [ 1.15943111e-01,  1.90150309e-03,  5.40296258e-03,\n",
       "        -2.88780322e-03,  5.98376689e-03, -8.67656649e-04,\n",
       "         2.46854312e-03],\n",
       "       [ 4.03927416e-02,  3.84192087e-03,  3.67255843e-03,\n",
       "        -1.06002514e-03, -1.52888410e-03, -8.99295962e-04,\n",
       "         6.06033363e-04],\n",
       "       [-5.47136676e-02,  1.38876438e-03, -6.95121676e-04,\n",
       "        -5.02272713e-04,  1.57032383e-03,  3.28522674e-04,\n",
       "        -3.20495989e-04],\n",
       "       [ 3.28732097e-02, -1.18408492e-02, -1.69853818e-03,\n",
       "        -4.36381044e-04, -1.24635218e-05, -2.47389641e-03,\n",
       "        -1.31684952e-03],\n",
       "       [-2.56089636e-02, -5.86464820e-03,  5.23330287e-03,\n",
       "        -1.91188945e-04, -1.19229107e-03,  1.49085486e-03,\n",
       "         1.10571339e-03],\n",
       "       [-2.40824156e-02, -1.72650959e-03,  2.21883816e-03,\n",
       "         2.60348241e-04, -2.92689154e-04, -2.73606239e-03,\n",
       "        -8.71475466e-04],\n",
       "       [-1.21472393e-02, -5.43594278e-03,  6.12400179e-03,\n",
       "         1.52369325e-04,  3.69333188e-04, -2.78498220e-04,\n",
       "        -6.92439247e-04],\n",
       "       [ 7.74723706e-04,  4.52379756e-03,  2.69095606e-03,\n",
       "        -9.91760034e-04, -2.56842635e-03, -4.91601017e-04,\n",
       "         6.48293693e-04],\n",
       "       [ 5.30328495e-02, -1.54368357e-03, -1.24709631e-03,\n",
       "         3.70289869e-03,  2.41333611e-03, -1.08166693e-04,\n",
       "        -4.39145735e-03],\n",
       "       [-4.60858627e-02,  5.70845480e-03, -6.55003572e-04,\n",
       "         1.32557538e-04,  4.50500408e-04,  1.36184223e-04,\n",
       "        -5.97345924e-04],\n",
       "       [ 2.00982097e-02, -1.00521628e-02, -1.88899484e-03,\n",
       "        -9.51246641e-04, -7.68769632e-04, -1.87853716e-03,\n",
       "        -1.05729578e-03],\n",
       "       [-7.71223445e-02,  2.07093850e-03, -8.48215515e-05,\n",
       "         2.61791779e-03,  2.07155970e-03,  4.46060549e-04,\n",
       "         3.64730821e-04],\n",
       "       [-1.28741503e-02,  4.80896274e-03,  6.59514522e-03,\n",
       "        -1.26041521e-03, -6.04581213e-05,  1.23149271e-03,\n",
       "        -7.89934205e-05],\n",
       "       [-7.28848555e-02,  1.47825563e-03, -1.00079678e-03,\n",
       "         7.84243857e-04,  2.11765012e-03,  3.49428624e-04,\n",
       "         4.82628287e-04],\n",
       "       [-5.89221008e-02, -2.39376133e-04, -6.82506065e-04,\n",
       "         7.79498585e-04,  1.14321280e-03,  2.21942410e-04,\n",
       "        -1.16307468e-04],\n",
       "       [-3.01038770e-02, -7.21204380e-03, -2.81543209e-03,\n",
       "        -1.99666970e-03, -6.23543875e-04, -3.47840785e-04,\n",
       "         1.24991395e-04],\n",
       "       [-2.33944573e-02,  1.80150600e-03, -8.48972346e-04,\n",
       "         6.02832312e-04, -1.49110831e-03,  1.93881686e-03,\n",
       "        -4.63535846e-04],\n",
       "       [-7.64207029e-02,  3.41153197e-04, -1.30075844e-03,\n",
       "         6.44084320e-04,  1.79410865e-03,  3.35519838e-04,\n",
       "         1.21863384e-03],\n",
       "       [-1.61132060e-02, -4.17502814e-03,  7.61264436e-03,\n",
       "         1.82636404e-03,  1.11173614e-03, -1.57369914e-03,\n",
       "        -1.59146094e-03],\n",
       "       [-1.44732144e-02, -1.05455192e-02, -2.16889866e-03,\n",
       "        -5.76164576e-04, -3.06651206e-03,  1.70884461e-03,\n",
       "         1.22363100e-03],\n",
       "       [-6.76032432e-02, -5.08324099e-04, -2.05823340e-03,\n",
       "        -1.42729309e-04,  8.93036748e-04, -3.72005388e-04,\n",
       "         1.09268299e-03],\n",
       "       [-4.32798752e-02, -9.15963931e-03,  2.17829343e-03,\n",
       "        -3.54555077e-03,  1.37530855e-03,  1.74168656e-04,\n",
       "         1.05148305e-03],\n",
       "       [-1.40832385e-02, -4.46948924e-03,  4.60519875e-03,\n",
       "        -2.15652995e-03,  1.15056756e-03, -4.48650014e-04,\n",
       "        -7.23507153e-04],\n",
       "       [-6.25565796e-02,  5.98225908e-03, -1.49567624e-03,\n",
       "         2.17380744e-03, -4.66253411e-05, -3.02665510e-04,\n",
       "         2.92103864e-04],\n",
       "       [-6.42216038e-02,  4.61987875e-03, -4.27761860e-04,\n",
       "         1.73237608e-03,  1.53883882e-03,  6.20160403e-04,\n",
       "        -3.32766112e-04],\n",
       "       [ 4.93585949e-02,  4.54280988e-03,  9.36968812e-03,\n",
       "        -7.36271062e-04,  1.22884289e-03,  1.48871667e-03,\n",
       "        -6.06417157e-05],\n",
       "       [ 3.52175791e-02,  1.31808219e-02,  7.65476365e-04,\n",
       "        -2.64308105e-03, -1.45232793e-03, -2.19106887e-03,\n",
       "        -2.92133020e-05],\n",
       "       [ 7.68632380e-02,  4.72725358e-03,  1.23824584e-02,\n",
       "        -5.36203291e-04,  5.22695286e-03,  7.72418248e-04,\n",
       "        -7.95353936e-04],\n",
       "       [ 5.31263826e-02, -2.29719571e-03, -3.97862506e-03,\n",
       "         4.52723027e-05, -1.55237842e-03, -1.49172892e-03,\n",
       "        -5.24899190e-04],\n",
       "       [ 6.17456473e-02,  1.28760275e-03, -4.11787390e-03,\n",
       "         4.55584985e-03, -2.52439394e-03,  2.62898236e-03,\n",
       "        -1.08770799e-03],\n",
       "       [ 2.03505015e-02, -5.17900045e-03, -4.54318241e-03,\n",
       "        -1.45348654e-03, -1.46759558e-03, -1.38216356e-03,\n",
       "        -1.07891298e-03],\n",
       "       [ 4.91867699e-03, -1.26386380e-02, -4.14715346e-03,\n",
       "        -4.61491170e-03,  1.52313557e-04, -5.21327846e-04,\n",
       "        -4.97989364e-04],\n",
       "       [-4.15366738e-02, -1.14296034e-03, -3.14079503e-03,\n",
       "        -2.07462502e-03,  5.34631350e-04, -1.03821562e-04,\n",
       "        -4.30931282e-04],\n",
       "       [ 1.00529117e-01, -2.12135482e-03, -1.91596413e-03,\n",
       "        -4.23023294e-03,  8.31125480e-03,  5.76726595e-03,\n",
       "        -1.27467727e-03],\n",
       "       [ 1.91011882e-02, -9.02160313e-03,  8.49672656e-03,\n",
       "         4.07062735e-04,  5.93095548e-04,  5.10183542e-04,\n",
       "        -5.64478085e-04],\n",
       "       [ 3.23615450e-03,  1.25863532e-02, -2.44947856e-04,\n",
       "         1.19061803e-03, -2.44568023e-04,  5.79781400e-04,\n",
       "        -2.76303388e-03],\n",
       "       [ 5.94804140e-02, -1.59361396e-02, -4.33671611e-03,\n",
       "         1.95057621e-03,  1.73590728e-03, -1.45585113e-03,\n",
       "        -2.60665195e-03],\n",
       "       [ 3.57778523e-03, -5.67713654e-03, -1.78219946e-03,\n",
       "         1.29068971e-03, -1.02496170e-03, -1.20617362e-03,\n",
       "        -1.89244635e-03],\n",
       "       [-9.15645044e-02,  1.88548136e-03, -9.48405470e-04,\n",
       "         2.36491796e-03,  2.45124204e-03,  2.43478782e-04,\n",
       "         1.87699736e-03],\n",
       "       [ 9.18516763e-03, -8.74701564e-03, -1.73758788e-03,\n",
       "        -7.24148432e-05, -1.41478998e-03, -2.78770182e-03,\n",
       "        -1.05581080e-03],\n",
       "       [ 6.85540564e-02,  8.81328556e-04, -3.28178988e-03,\n",
       "         3.21829752e-05, -7.43168786e-04,  5.46451118e-04,\n",
       "         9.50635633e-05]])"
      ]
     },
     "execution_count": 110,
     "metadata": {},
     "output_type": "execute_result"
    }
   ],
   "source": [
    "X_train"
   ]
  },
  {
   "cell_type": "code",
   "execution_count": 111,
   "id": "6bfb0a59",
   "metadata": {},
   "outputs": [
    {
     "data": {
      "text/plain": [
       "array([[-2.04214618e-02,  8.97996136e-03, -2.86554484e-04,\n",
       "         1.39010801e-03, -1.31219319e-03,  1.27119165e-03,\n",
       "        -1.17749307e-03],\n",
       "       [-5.36615172e-02,  1.37704441e-03, -9.03238956e-04,\n",
       "         4.69199500e-04, -5.29753637e-04,  1.13890473e-03,\n",
       "         8.85771715e-04],\n",
       "       [ 5.64311873e-03, -2.23051115e-03,  1.54290377e-03,\n",
       "        -1.41274911e-03, -2.11774742e-03, -1.49380650e-03,\n",
       "         4.67119095e-04],\n",
       "       [-7.70363962e-02, -3.97411313e-03, -2.09020247e-03,\n",
       "        -4.61466547e-04,  2.40013248e-03,  1.87634049e-04,\n",
       "         1.22677525e-03],\n",
       "       [ 2.52917176e-04, -7.90027233e-03, -2.75700070e-04,\n",
       "         1.67683936e-03,  8.29318453e-04, -1.83733275e-03,\n",
       "        -2.93909203e-03],\n",
       "       [-6.30012361e-02,  1.54784660e-03, -1.16507086e-03,\n",
       "        -5.66450191e-04,  1.26660660e-03,  2.74888947e-04,\n",
       "         5.80680850e-04],\n",
       "       [-1.23385596e-04, -2.28466852e-03, -4.11089328e-03,\n",
       "        -9.68543694e-05, -4.21896283e-03,  7.83109406e-04,\n",
       "         5.89550456e-04],\n",
       "       [-1.83636023e-02, -3.70378156e-03,  3.78431659e-03,\n",
       "        -1.50659529e-03, -6.75001804e-04,  3.88533037e-04,\n",
       "         4.53978334e-04],\n",
       "       [-1.67071862e-02, -1.22749383e-03, -3.95788320e-03,\n",
       "        -1.24988835e-03, -5.27369358e-05,  6.75838076e-04,\n",
       "        -1.81485615e-03],\n",
       "       [-4.04500356e-02, -4.35977407e-03,  1.51753741e-03,\n",
       "        -1.90296872e-04, -7.68496121e-04, -1.71122805e-03,\n",
       "         8.00234644e-04],\n",
       "       [-4.15755214e-02, -2.03202353e-03, -2.93556436e-03,\n",
       "         2.99210193e-04, -1.31459761e-04, -2.07202903e-04,\n",
       "        -6.42360078e-04],\n",
       "       [ 8.87061210e-02,  6.40950494e-03,  7.99696968e-03,\n",
       "        -2.05241146e-03,  3.30876941e-03,  6.58379755e-04,\n",
       "         1.46255886e-03],\n",
       "       [-6.85901576e-02, -3.27915698e-03, -1.75219581e-03,\n",
       "         1.03379412e-03, -1.89114264e-05,  9.04555634e-04,\n",
       "         1.72609978e-03],\n",
       "       [ 6.02611899e-02,  8.44671448e-04,  1.84180881e-03,\n",
       "         6.10804542e-03, -4.75340293e-03, -1.51148965e-03,\n",
       "         1.26432982e-03],\n",
       "       [-7.15151998e-02,  1.79336244e-03, -4.23261806e-04,\n",
       "         2.04520971e-04,  1.88076436e-03,  2.08185119e-04,\n",
       "         8.71266931e-04],\n",
       "       [ 1.15915357e-01, -4.62871397e-03, -5.67741425e-03,\n",
       "         3.26697261e-03,  3.21501208e-04, -6.54847024e-04,\n",
       "         2.94978046e-03],\n",
       "       [ 4.91046433e-02, -4.05941939e-03, -3.04235820e-03,\n",
       "        -1.94168844e-03,  1.47608428e-03, -1.69145415e-03,\n",
       "        -2.00676848e-03],\n",
       "       [-2.81291251e-02, -1.32556958e-02, -4.34012108e-03,\n",
       "        -2.51515223e-03,  2.68161900e-05, -1.86187283e-03,\n",
       "        -3.04692231e-04],\n",
       "       [-6.26802007e-02,  1.00930290e-03, -2.52162513e-05,\n",
       "         2.00918375e-03,  1.91466711e-03, -3.11890169e-05,\n",
       "        -7.01579780e-04],\n",
       "       [ 6.62793765e-02, -1.07294318e-02, -4.21336302e-03,\n",
       "        -7.12718922e-05,  1.53536698e-03, -1.32862567e-03,\n",
       "        -1.37343210e-03],\n",
       "       [-9.27729055e-02, -1.31351956e-04, -7.97703036e-04,\n",
       "         1.01065924e-03,  3.25679627e-03,  2.61888514e-04,\n",
       "         2.14193799e-03],\n",
       "       [ 8.99893209e-04, -3.16229109e-04,  6.11063945e-04,\n",
       "         6.91092329e-03,  8.59207144e-04, -1.09338124e-03,\n",
       "        -5.32262259e-03],\n",
       "       [-8.42100085e-03,  6.75977643e-03, -7.95732318e-04,\n",
       "        -1.07407825e-03, -1.71840717e-03, -2.51781436e-03,\n",
       "        -5.11158688e-04],\n",
       "       [ 2.35008760e-02, -2.33684142e-03,  6.33324234e-03,\n",
       "        -2.18867871e-03, -4.07134559e-05,  1.88264179e-03,\n",
       "         3.36193203e-04],\n",
       "       [ 2.96250415e-02, -4.62718112e-03,  1.23427602e-02,\n",
       "         2.04522859e-03,  2.66786544e-03, -1.82762069e-03,\n",
       "        -2.08924744e-03],\n",
       "       [-6.72418720e-03, -7.24322464e-03,  8.10175140e-03,\n",
       "         6.61810038e-04,  1.36118429e-03, -1.31380718e-03,\n",
       "        -1.32034805e-03],\n",
       "       [ 1.52614293e-01,  6.91735438e-03, -6.70961519e-03,\n",
       "        -4.79064318e-04,  4.49969240e-03, -1.25358553e-03,\n",
       "         6.31356818e-03],\n",
       "       [-1.12480741e-02,  2.47273469e-03, -6.97276591e-04,\n",
       "        -9.75639807e-05,  2.67701009e-04, -3.35507833e-04,\n",
       "        -2.23090473e-03],\n",
       "       [ 1.50661113e-02, -3.88164765e-03, -2.49532258e-03,\n",
       "         5.18891033e-04, -2.45498719e-03, -1.97240312e-03,\n",
       "        -8.26265568e-04],\n",
       "       [-5.28743837e-02,  1.34203729e-03, -9.61266994e-04,\n",
       "        -8.64354088e-04,  1.30984134e-03,  5.82979985e-04,\n",
       "        -2.80580208e-04],\n",
       "       [-6.36610486e-02,  6.92044945e-04, -1.71006449e-03,\n",
       "         1.69845610e-03,  4.62435784e-04, -5.48629967e-04,\n",
       "         2.59817421e-04],\n",
       "       [ 1.05148359e-01, -1.33547332e-02, -6.88704029e-03,\n",
       "        -7.75129233e-04,  2.61148297e-03, -9.36188257e-04,\n",
       "         1.34115108e-03],\n",
       "       [-3.24364572e-02, -1.22757533e-03,  6.87261058e-05,\n",
       "        -1.89915716e-03, -2.25958810e-03, -5.00472566e-04,\n",
       "         1.63148800e-03],\n",
       "       [-8.66552634e-02, -1.27258736e-03, -1.42734024e-03,\n",
       "         3.59707618e-05,  2.68329461e-03,  2.18351024e-04,\n",
       "         2.03553666e-03],\n",
       "       [-8.90014626e-02, -1.94943535e-03, -1.67671281e-03,\n",
       "         1.55288645e-03,  2.12633232e-03, -3.77457950e-04,\n",
       "         2.15973641e-03],\n",
       "       [-6.46353512e-02,  2.31458784e-03, -1.43286075e-03,\n",
       "         1.97282197e-03,  9.74137642e-04,  2.77358878e-04,\n",
       "        -3.90076828e-05],\n",
       "       [-4.14380900e-03, -8.61602190e-03,  9.87035370e-03,\n",
       "         7.84005813e-04,  5.18746007e-03, -1.06897145e-04,\n",
       "        -4.12150082e-03],\n",
       "       [ 3.39373198e-02, -8.99094116e-03,  3.33631590e-03,\n",
       "        -2.69635455e-03, -3.16861342e-03,  2.46782320e-03,\n",
       "         2.98021977e-03],\n",
       "       [-2.13712906e-02, -1.89771910e-03, -1.81735420e-03,\n",
       "         1.49264535e-03,  1.31409919e-03,  3.41856101e-04,\n",
       "        -3.20326389e-03],\n",
       "       [-9.16505552e-03, -8.48497449e-03,  9.61352159e-03,\n",
       "         1.30192955e-03,  4.54318554e-03, -5.04919947e-04,\n",
       "        -3.75079781e-03],\n",
       "       [-6.07049680e-02,  2.15454364e-03, -2.23631503e-03,\n",
       "         6.17316676e-04,  1.98422107e-04, -5.77598945e-04,\n",
       "         4.94562397e-04],\n",
       "       [ 1.36413814e-01,  4.78105783e-03, -4.72869728e-03,\n",
       "         4.53096433e-03,  3.62874109e-03, -1.91695197e-03,\n",
       "         2.36977428e-03],\n",
       "       [ 6.31942901e-02,  7.44062909e-03, -3.40745870e-03,\n",
       "         1.24792278e-03, -6.49485438e-04, -2.49695258e-03,\n",
       "        -1.33302277e-03],\n",
       "       [-1.04437556e-02,  7.24518875e-03, -1.42175133e-03,\n",
       "        -1.02799908e-03, -1.65239099e-03, -2.49565222e-03,\n",
       "        -6.68051044e-04],\n",
       "       [ 1.32913785e-02, -2.97102772e-03,  2.48381812e-03,\n",
       "         1.59810569e-03, -4.67485941e-03,  4.65247778e-04,\n",
       "         1.59380875e-03],\n",
       "       [-7.10407551e-02, -8.82603542e-04, -1.57206554e-03,\n",
       "         4.14553740e-04,  1.55021047e-03,  9.32513881e-04,\n",
       "         8.15513520e-04],\n",
       "       [-1.94160151e-02,  2.69839774e-03, -1.88607899e-03,\n",
       "        -3.88305367e-04, -1.30456191e-03, -6.61566331e-05,\n",
       "        -7.67693128e-04],\n",
       "       [ 1.24887573e-01, -8.53505998e-03, -5.61387486e-03,\n",
       "        -2.11804383e-03,  1.59273432e-04,  4.20599965e-03,\n",
       "         6.86914880e-03],\n",
       "       [ 5.41683492e-03,  2.01207973e-03,  4.94693817e-03,\n",
       "        -1.88797355e-03,  1.05500116e-03, -1.87395421e-03,\n",
       "        -1.52741313e-03],\n",
       "       [-8.20049537e-02, -1.67344398e-03, -1.78852349e-03,\n",
       "         1.24057731e-03,  1.95033740e-03, -1.41450430e-04,\n",
       "         1.46139099e-03],\n",
       "       [ 6.35668320e-02,  4.73530584e-03,  1.45621120e-03,\n",
       "         5.83847807e-03,  6.44947082e-04, -3.86453934e-03,\n",
       "        -3.10786684e-03],\n",
       "       [-3.57073342e-02,  6.58458550e-03, -1.04839449e-04,\n",
       "         1.02078416e-03,  4.04176667e-04,  3.07193391e-04,\n",
       "        -1.57785692e-03],\n",
       "       [-7.86558353e-02, -7.06382472e-04, -2.01726590e-03,\n",
       "         1.24322250e-03,  1.46461149e-03, -1.61394033e-04,\n",
       "         1.40746724e-03],\n",
       "       [-1.00778335e-02,  6.77162325e-04,  8.77488921e-03,\n",
       "         1.39004079e-03,  1.03761298e-03,  4.12272948e-04,\n",
       "        -1.56281293e-03],\n",
       "       [-2.15771198e-03, -3.93391762e-03,  3.96847650e-03,\n",
       "         1.22912591e-03, -2.58978458e-03, -1.30573812e-03,\n",
       "         4.51498637e-04],\n",
       "       [-2.73955914e-02, -5.72009128e-03, -3.04100204e-03,\n",
       "        -2.34491511e-04, -7.31909787e-04, -8.44592283e-04,\n",
       "        -7.82359785e-04],\n",
       "       [ 2.12125153e-02,  1.92296830e-02, -1.37471478e-03,\n",
       "        -2.20219041e-03, -1.47160556e-03, -3.11279660e-04,\n",
       "        -1.16180479e-03],\n",
       "       [-3.23286716e-02,  6.68834762e-03, -1.03340313e-03,\n",
       "         5.09496998e-04, -4.18208626e-04, -2.08651076e-04,\n",
       "        -1.06304776e-03],\n",
       "       [ 1.44703375e-01,  4.36483451e-03, -5.51449783e-03,\n",
       "         8.29998996e-03,  7.20801933e-04,  9.01549262e-04,\n",
       "         4.79978909e-03]])"
      ]
     },
     "execution_count": 111,
     "metadata": {},
     "output_type": "execute_result"
    }
   ],
   "source": [
    "X_test"
   ]
  },
  {
   "cell_type": "code",
   "execution_count": 112,
   "id": "190bfb76",
   "metadata": {},
   "outputs": [],
   "source": [
    "import matplotlib.pyplot as plt \n",
    "import warnings \n",
    "warnings.filterwarnings('ignore')"
   ]
  },
  {
   "cell_type": "code",
   "execution_count": 115,
   "id": "a1974929",
   "metadata": {},
   "outputs": [],
   "source": [
    "df1=pd.DataFrame(data=X_train,columns=['PC1','PC2','PC3','PC4','PC5','PC6','PC7'])"
   ]
  },
  {
   "cell_type": "code",
   "execution_count": 120,
   "id": "4ff46d2c",
   "metadata": {},
   "outputs": [
    {
     "data": {
      "text/plain": [
       "<matplotlib.collections.PathCollection at 0x212b9fe9c90>"
      ]
     },
     "execution_count": 120,
     "metadata": {},
     "output_type": "execute_result"
    },
    {
     "data": {
      "image/png": "[encoded data removed]",
      "text/plain": [
       "<Figure size 640x480 with 1 Axes>"
      ]
     },
     "metadata": {},
     "output_type": "display_data"
    }
   ],
   "source": [
    "plt.scatter(data=df,x='PC1',y='PC2')"
   ]
  },
  {
   "cell_type": "code",
   "execution_count": 124,
   "id": "0dc4176c",
   "metadata": {},
   "outputs": [],
   "source": [
    "from sklearn.cluster import KMeans"
   ]
  },
  {
   "cell_type": "code",
   "execution_count": 125,
   "id": "856925a4",
   "metadata": {},
   "outputs": [],
   "source": [
    "kmeans=KMeans(n_clusters=4,random_state=32)"
   ]
  },
  {
   "cell_type": "code",
   "execution_count": 126,
   "id": "a8e05c1e",
   "metadata": {},
   "outputs": [
    {
     "data": {
      "text/html": [
       "<style>#sk-container-id-9 {color: black;}#sk-container-id-9 pre{padding: 0;}#sk-container-id-9 div.sk-toggleable {background-color: white;}#sk-container-id-9 label.sk-toggleable__label {cursor: pointer;display: block;width: 100%;margin-bottom: 0;padding: 0.3em;box-sizing: border-box;text-align: center;}#sk-container-id-9 label.sk-toggleable__label-arrow:before {content: \"▸\";float: left;margin-right: 0.25em;color: #696969;}#sk-container-id-9 label.sk-toggleable__label-arrow:hover:before {color: black;}#sk-container-id-9 div.sk-estimator:hover label.sk-toggleable__label-arrow:before {color: black;}#sk-container-id-9 div.sk-toggleable__content {max-height: 0;max-width: 0;overflow: hidden;text-align: left;background-color: #f0f8ff;}#sk-container-id-9 div.sk-toggleable__content pre {margin: 0.2em;color: black;border-radius: 0.25em;background-color: #f0f8ff;}#sk-container-id-9 input.sk-toggleable__control:checked~div.sk-toggleable__content {max-height: 200px;max-width: 100%;overflow: auto;}#sk-container-id-9 input.sk-toggleable__control:checked~label.sk-toggleable__label-arrow:before {content: \"▾\";}#sk-container-id-9 div.sk-estimator input.sk-toggleable__control:checked~label.sk-toggleable__label {background-color: #d4ebff;}#sk-container-id-9 div.sk-label input.sk-toggleable__control:checked~label.sk-toggleable__label {background-color: #d4ebff;}#sk-container-id-9 input.sk-hidden--visually {border: 0;clip: rect(1px 1px 1px 1px);clip: rect(1px, 1px, 1px, 1px);height: 1px;margin: -1px;overflow: hidden;padding: 0;position: absolute;width: 1px;}#sk-container-id-9 div.sk-estimator {font-family: monospace;background-color: #f0f8ff;border: 1px dotted black;border-radius: 0.25em;box-sizing: border-box;margin-bottom: 0.5em;}#sk-container-id-9 div.sk-estimator:hover {background-color: #d4ebff;}#sk-container-id-9 div.sk-parallel-item::after {content: \"\";width: 100%;border-bottom: 1px solid gray;flex-grow: 1;}#sk-container-id-9 div.sk-label:hover label.sk-toggleable__label {background-color: #d4ebff;}#sk-container-id-9 div.sk-serial::before {content: \"\";position: absolute;border-left: 1px solid gray;box-sizing: border-box;top: 0;bottom: 0;left: 50%;z-index: 0;}#sk-container-id-9 div.sk-serial {display: flex;flex-direction: column;align-items: center;background-color: white;padding-right: 0.2em;padding-left: 0.2em;position: relative;}#sk-container-id-9 div.sk-item {position: relative;z-index: 1;}#sk-container-id-9 div.sk-parallel {display: flex;align-items: stretch;justify-content: center;background-color: white;position: relative;}#sk-container-id-9 div.sk-item::before, #sk-container-id-9 div.sk-parallel-item::before {content: \"\";position: absolute;border-left: 1px solid gray;box-sizing: border-box;top: 0;bottom: 0;left: 50%;z-index: -1;}#sk-container-id-9 div.sk-parallel-item {display: flex;flex-direction: column;z-index: 1;position: relative;background-color: white;}#sk-container-id-9 div.sk-parallel-item:first-child::after {align-self: flex-end;width: 50%;}#sk-container-id-9 div.sk-parallel-item:last-child::after {align-self: flex-start;width: 50%;}#sk-container-id-9 div.sk-parallel-item:only-child::after {width: 0;}#sk-container-id-9 div.sk-dashed-wrapped {border: 1px dashed gray;margin: 0 0.4em 0.5em 0.4em;box-sizing: border-box;padding-bottom: 0.4em;background-color: white;}#sk-container-id-9 div.sk-label label {font-family: monospace;font-weight: bold;display: inline-block;line-height: 1.2em;}#sk-container-id-9 div.sk-label-container {text-align: center;}#sk-container-id-9 div.sk-container {/* jupyter's `normalize.less` sets `[hidden] { display: none; }` but bootstrap.min.css set `[hidden] { display: none !important; }` so we also need the `!important` here to be able to override the default hidden behavior on the sphinx rendered scikit-learn.org. See: https://github.com/scikit-learn/scikit-learn/issues/21755 */display: inline-block !important;position: relative;}#sk-container-id-9 div.sk-text-repr-fallback {display: none;}</style><div id=\"sk-container-id-9\" class=\"sk-top-container\"><div class=\"sk-text-repr-fallback\"><pre>KMeans(n_clusters=4, random_state=32)</pre><b>In a Jupyter environment, please rerun this cell to show the HTML representation or trust the notebook. <br />On GitHub, the HTML representation is unable to render, please try loading this page with nbviewer.org.</b></div><div class=\"sk-container\" hidden><div class=\"sk-item\"><div class=\"sk-estimator sk-toggleable\"><input class=\"sk-toggleable__control sk-hidden--visually\" id=\"sk-estimator-id-13\" type=\"checkbox\" checked><label for=\"sk-estimator-id-13\" class=\"sk-toggleable__label sk-toggleable__label-arrow\">KMeans</label><div class=\"sk-toggleable__content\"><pre>KMeans(n_clusters=4, random_state=32)</pre></div></div></div></div></div>"
      ],
      "text/plain": [
       "KMeans(n_clusters=4, random_state=32)"
      ]
     },
     "execution_count": 126,
     "metadata": {},
     "output_type": "execute_result"
    }
   ],
   "source": [
    "kmeans.fit(X)"
   ]
  },
  {
   "cell_type": "code",
   "execution_count": 127,
   "id": "e41ec463",
   "metadata": {},
   "outputs": [],
   "source": [
    "cluster_labels=kmeans.labels_\n",
    "centroids=kmeans.cluster_centers_"
   ]
  },
  {
   "cell_type": "code",
   "execution_count": 150,
   "id": "d3cc7e97",
   "metadata": {},
   "outputs": [
    {
     "data": {
      "text/plain": [
       "<matplotlib.collections.PathCollection at 0x212bfb161d0>"
      ]
     },
     "execution_count": 150,
     "metadata": {},
     "output_type": "execute_result"
    },
    {
     "data": {
      "image/png": "[encoded data removed]",
      "text/plain": [
       "<Figure size 640x480 with 1 Axes>"
      ]
     },
     "metadata": {},
     "output_type": "display_data"
    }
   ],
   "source": [
    " plt.scatter(X[:,0], X[:,1],c=cluster_labels)"
   ]
  },
  {
   "cell_type": "markdown",
   "id": "967d2918",
   "metadata": {},
   "source": [
    "### k means cluster scatter are showing the similar points \n",
    "### pca scatter are showing the distribution of points  "
   ]
  },
  {
   "cell_type": "code",
   "execution_count": 152,
   "id": "a17105e6",
   "metadata": {},
   "outputs": [
    {
     "data": {
      "text/plain": [
       "array([3, 3, 0, 1, 3, 1, 2, 1, 0, 2, 0, 2, 0, 0, 3, 0, 3, 2, 0, 0, 2, 0,\n",
       "       1, 3, 0, 3, 3, 1, 1, 2, 0, 2, 3, 2, 3, 0, 3, 1, 3, 1, 2, 0, 3, 1,\n",
       "       0, 0, 3, 2, 3, 2, 1, 3, 1, 0, 1, 2, 3, 2, 2, 0, 3, 2, 2, 0, 1, 1,\n",
       "       1, 1, 1, 0, 1, 1, 3, 2, 0, 3, 1, 1, 0, 1, 0, 0, 3, 0, 1, 3, 3, 2,\n",
       "       2, 2, 3, 0, 3, 0, 0, 3, 1, 0, 3, 3, 2, 2, 2, 0, 0, 0, 0, 0, 1, 3,\n",
       "       2, 0, 0, 0, 0, 2, 3, 1, 3, 1, 1, 1, 0, 3, 1, 3, 3, 0, 3, 1, 2, 0,\n",
       "       0, 0, 0, 2, 2, 3, 0, 1, 0, 2, 1, 0, 2, 2, 2, 2, 1, 0, 0, 3, 2, 1,\n",
       "       0, 2, 1, 3, 3, 2, 0, 3, 1, 3, 2, 3, 1, 0, 0, 0, 0, 0, 1, 2, 2, 1,\n",
       "       1, 2, 2, 1, 3, 0, 3, 2, 2, 3, 1, 0, 2, 2, 1, 1, 1, 3, 2, 1, 1, 2,\n",
       "       2, 3, 0, 0, 1, 2, 0, 1, 1, 3, 1, 0, 0, 1, 1, 2, 3, 1, 3, 3, 0, 3,\n",
       "       3, 1, 3, 1, 2, 2, 3, 3, 2, 2, 2, 3, 0, 1, 2, 1, 3, 2, 3, 3, 3, 1,\n",
       "       1, 2, 3, 1, 1, 1, 3, 1, 3, 1, 3, 2, 1, 3, 2, 0, 3, 0, 2, 0, 3, 0,\n",
       "       1, 2, 1, 2, 2, 0, 0, 1, 2, 2, 3, 3, 1, 0, 0, 2, 2, 2, 2, 1, 3, 2,\n",
       "       1, 2, 2, 1, 0, 1, 2, 0, 3, 0, 2, 0, 3, 3])"
      ]
     },
     "execution_count": 152,
     "metadata": {},
     "output_type": "execute_result"
    }
   ],
   "source": [
    "cluster_labels"
   ]
  },
  {
   "cell_type": "code",
   "execution_count": 153,
   "id": "e31d73c1",
   "metadata": {},
   "outputs": [
    {
     "data": {
      "text/plain": [
       "array([[-2.70981136,  8.97143336],\n",
       "       [-6.83235205, -6.83045748],\n",
       "       [ 4.7182049 ,  2.04179676],\n",
       "       [-8.87357218,  7.17458342]])"
      ]
     },
     "execution_count": 153,
     "metadata": {},
     "output_type": "execute_result"
    }
   ],
   "source": [
    "centroids"
   ]
  },
  {
   "cell_type": "code",
   "execution_count": null,
   "id": "a4d33327",
   "metadata": {},
   "outputs": [],
   "source": []
  }
 ],
 "metadata": {
  "kernelspec": {
   "display_name": "Python 3 (ipykernel)",
   "language": "python",
   "name": "python3"
  },
  "language_info": {
   "codemirror_mode": {
    "name": "ipython",
    "version": 3
   },
   "file_extension": ".py",
   "mimetype": "text/x-python",
   "name": "python",
   "nbconvert_exporter": "python",
   "pygments_lexer": "ipython3",
   "version": "3.11.4"
  }
 },
 "nbformat": 4,
 "nbformat_minor": 5
}
