{
 "cells": [
  {
   "cell_type": "markdown",
   "id": "a92d3361-2f5a-49fc-9f66-dd1ceb56c538",
   "metadata": {},
   "source": [
    "### ANS 1\n",
    "api is an set of protocls used for the interaction between two programs which may be written with same programming language or not. like if  there are two systmen which used two different langauge and to run function or calses of two different pragram api used as source to run it. api is by google server, by facebook etc.\n"
   ]
  },
  {
   "cell_type": "markdown",
   "id": "3634644d-348b-4d67-be2b-e743776b324a",
   "metadata": {},
   "source": [
    "### ANS 2\n",
    "### advantages of api \n",
    "1) it helps us to commmunciate between different programming language.\n",
    "2) it inceases producitivy \n",
    "3) it is very to esatablish connection between between two different programming langauge and less human efforts are required to do this.\n",
    "\n",
    "### disadvantages of api\n",
    "1) api is a gateway so it becomes easier for the hackers to attack the integirity of the user.\n",
    "2) most of the website uses rest architecture which is statless means it dont store the previous request of the user on the server."
   ]
  },
  {
   "cell_type": "markdown",
   "id": "1193d153-bf9d-4a1c-ae75-bd44418b0fb6",
   "metadata": {},
   "source": [
    "### ANS 3\n",
    "1) An api which is built over http protocol or uses http protocol to transer the inforamtion is know as web api. Web api is a subset of the api.\n",
    "\n",
    "2) api is a source by which two different or same programming langauge can communicate with each other. Genenral api uses smtp,htttp,tcp protocol for the transfer of the infomration.\n",
    "\n",
    "### difference:\n",
    "1) api is superclass  but   web is a subset of api \n",
    "2) api can be bulit over smtp,http or tcp  but web api can be built over http protocol.\n"
   ]
  },
  {
   "cell_type": "markdown",
   "id": "52a527a9-6632-4d91-9ff2-4ad065a9fb1e",
   "metadata": {},
   "source": [
    "### ANS 4\n",
    "1) REST architecture is made for the communiction between application over the web or we can say it is used with web based api. It uses htttp protocol it uses get post request for the sharing of information. It is know for its simplicity, scalabelity.\n",
    "\n",
    "2) soap architecture is bsed on xml it follows message protocol. In soap we uses xml for the sharing of the information. XML uses WSDL in whcih we make all the structurea and inforamtion. It uses http,stmp,tcp protocol.\n",
    "\n",
    "### disadvantages of soap:\n",
    "1) it is very complex.\n",
    "2) it can be used with only xml.\n",
    "3) it cannot used for lightweighted foramts like json.\n"
   ]
  },
  {
   "cell_type": "markdown",
   "id": "d5588a8a-9b46-4ceb-be8c-768e8ad202d8",
   "metadata": {},
   "source": [
    "### ANS 5\n",
    "Difference between soap and rest\n",
    "\n",
    "1) soap architecture can be biuld using http,tcp,smtp    and        rest architecture can be build using htttp protocol\n",
    "2) inforamtion is shared via WSDL                        and        get,post,request is used for the shairing of the inforamtion\n",
    "3) soap specifically uses xml.                           and        xml is not used in the case of rest \n",
    "4) soap provide better security                          and        it is less secured \n",
    "5) soap is not statless                                  and        rest is stateless\n",
    "6) soap is not cachable                                  and        rest is cachable \n",
    "7) soap cannot be used for ligthweighted format          and        rest can be used for lightweighted \n"
   ]
  }
 ],
 "metadata": {
  "kernelspec": {
   "display_name": "Python 3 (ipykernel)",
   "language": "python",
   "name": "python3"
  },
  "language_info": {
   "codemirror_mode": {
    "name": "ipython",
    "version": 3
   },
   "file_extension": ".py",
   "mimetype": "text/x-python",
   "name": "python",
   "nbconvert_exporter": "python",
   "pygments_lexer": "ipython3",
   "version": "3.10.8"
  }
 },
 "nbformat": 4,
 "nbformat_minor": 5
}
