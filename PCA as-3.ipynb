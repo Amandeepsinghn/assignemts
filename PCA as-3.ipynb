{
 "cells": [
  {
   "cell_type": "markdown",
   "id": "e5d7359d",
   "metadata": {},
   "source": [
    "### ANS 1\n",
    "Eignenvector is a vector whose direction direction of vector is not changed after applying linear transformation. Eigenvalue is the magnitude of eigenvector which is used select pc1,pc2 _ _. they are realted with eigen decomposition appraoch in way that\n",
    "1) first we apply the formula to find eigen value \n",
    "2) then we find the eigen vector \n",
    "3) this all done using formula Av=lambda(v) where v is the eigen vector and A is the confusion matrix.\n",
    "****\n",
    "lets suppose we have matrix a with lambda and eigen vector:\n",
    "1) Av=lv\n",
    "2) v(A-l(I))=0\n",
    "3) then we find determinant of A-l(I) which help us get the value of lambda \n",
    "4) after getting the landa value we find the eigen vector."
   ]
  },
  {
   "cell_type": "markdown",
   "id": "8e4e3bc8",
   "metadata": {},
   "source": [
    "### ANS 2\n",
    "eigen decompostion  if finding the eigen vector and eigen value using confusion matrix.eigen decomposition is a part of linear algebra as it helps us in calculating eigen value and eigen vector."
   ]
  },
  {
   "cell_type": "markdown",
   "id": "06a0261a",
   "metadata": {},
   "source": [
    "### ANS 3\n",
    "condition must specified before eigen-decomposition:\n",
    "1) confusion matrix should be used for eigen decomposition.\n",
    "2) eigen-decomposition is defiend for squre matrices."
   ]
  },
  {
   "cell_type": "markdown",
   "id": "8ccdb5fb",
   "metadata": {},
   "source": [
    "### ANS 4\n",
    "spectral theorem is highly significant because it provides the theoratical foundation for diagonalizing certain types of metrices. not all matrix are diagonalizable but spectral theorem provide condition under which matrix can be diagonalizable."
   ]
  },
  {
   "cell_type": "markdown",
   "id": "aee68f14",
   "metadata": {},
   "source": [
    "### ANS 5\n",
    "we calculate the eigen value using formula v(A-l(I))=0 where I is the identity matrix. Eigen value represent the scaling factor by which certain vectores are stretched or compressed when a linear transformation is applied on them."
   ]
  },
  {
   "cell_type": "markdown",
   "id": "ee6cfa55",
   "metadata": {},
   "source": [
    "### ANS 6\n",
    "eigen vector and eigen value are related with each other as eigen value based on the eigen value we find the eigen vector.but there is no direct realtionship if eigen value increases it does not mean that eigen vector magnitude will increase it can decrease also as it influenced by other properties but in essence magnitude will increase."
   ]
  },
  {
   "cell_type": "markdown",
   "id": "070b990e",
   "metadata": {},
   "source": [
    "### ANS 7\n",
    "eigenvector are vector which does not change its direction after applying linear trasformation. eigenvalue are the scaler factor assocaited with eigenvectors eigenvalue represent the scaling factor by which the eigenvector is stretched or shrunk. A positve eigenvalue emplies eigen vector is stretched while negative indicates reversal and 0 repersent it is not affected by transformation. "
   ]
  },
  {
   "cell_type": "markdown",
   "id": "13ac4945",
   "metadata": {},
   "source": [
    "### ANS 9\n",
    "yes matrix can have more than one set of eigen vecotr and eigenvalue."
   ]
  },
  {
   "cell_type": "markdown",
   "id": "c3af0abd",
   "metadata": {},
   "source": [
    "### ANS 10\n",
    "1) PCA relies on eigen decompostion. \n",
    "2) Singular value decomposition.\n",
    "3) Eigenfaces in Facial Recogition."
   ]
  },
  {
   "cell_type": "markdown",
   "id": "68c13747",
   "metadata": {},
   "source": [
    "### ANS 8\n",
    "1) image and singal processing.\n",
    "2) recommendation system.\n",
    "3) Quantum Mechnaics."
   ]
  },
  {
   "cell_type": "code",
   "execution_count": null,
   "id": "06e519fb",
   "metadata": {},
   "outputs": [],
   "source": []
  }
 ],
 "metadata": {
  "kernelspec": {
   "display_name": "Python 3 (ipykernel)",
   "language": "python",
   "name": "python3"
  },
  "language_info": {
   "codemirror_mode": {
    "name": "ipython",
    "version": 3
   },
   "file_extension": ".py",
   "mimetype": "text/x-python",
   "name": "python",
   "nbconvert_exporter": "python",
   "pygments_lexer": "ipython3",
   "version": "3.11.4"
  }
 },
 "nbformat": 4,
 "nbformat_minor": 5
}
