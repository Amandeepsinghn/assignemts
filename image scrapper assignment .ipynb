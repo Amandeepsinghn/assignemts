{
 "cells": [
  {
   "cell_type": "markdown",
   "id": "c5b5bab2-7022-4549-bbfc-0c10d1accdcc",
   "metadata": {},
   "source": [
    "Q1. Write a python program to extract the video URL of the first five videos.\n",
    "### ANS 1"
   ]
  },
  {
   "cell_type": "code",
   "execution_count": 1,
   "id": "48e189e6-d4c2-4f54-9319-11b2e620424b",
   "metadata": {},
   "outputs": [],
   "source": [
    "import requests \n",
    "from bs4 import BeautifulSoup \n",
    "from urllib.request import urlopen as uReq \n",
    "import logging \n",
    "import os "
   ]
  },
  {
   "cell_type": "code",
   "execution_count": 16,
   "id": "16e0e7eb-4110-4f5f-b6d6-054f41dccefd",
   "metadata": {},
   "outputs": [],
   "source": [
    "save_dir='youtube'\n",
    "if not os.path.exists:\n",
    "    os.makedirs(save_dir)"
   ]
  },
  {
   "cell_type": "code",
   "execution_count": 17,
   "id": "7c315980-8e4f-43fa-b4b9-a4f992e76d14",
   "metadata": {},
   "outputs": [],
   "source": [
    "pw_link=\"https://www.youtube.com/@PW-Foundation/videos\"\n",
    "pw_page=requests.get(pw_link).content\n",
    "pw_html=BeautifulSoup(pw_page,'html.parser')\n",
    "video_link=pw_html.find_all(\"a\", {\"class\": \"yt-simple-endpoint style-scope ytd-grid-video-renderer\"})\n",
    "video_5=video_link[0:5]\n",
    "for link in video_5:\n",
    "    print(\"https://www.youtube.com\" +link['href'])\n",
    "    \n",
    "    \n"
   ]
  },
  {
   "cell_type": "markdown",
   "id": "70ffbbb0-49f1-4ad2-bb3d-2e2b277a87fa",
   "metadata": {},
   "source": [
    "### ANS 2"
   ]
  },
  {
   "cell_type": "code",
   "execution_count": 21,
   "id": "818c2da9-509a-452d-8add-75e45eeb5db3",
   "metadata": {},
   "outputs": [],
   "source": [
    "pw_link=\"https://www.youtube.com/@PW-Foundation/videos\"\n",
    "pw_page=requests.get(pw_link).content\n",
    "pw_html=BeautifulSoup(pw_page,'html.parser')\n",
    "video_thumbnail=pw_html.find_all(\"a\", {'id':'thumbnail',\"class\": \"yt-simple-endpoint style-scope ytd-grid-video-renderer\"})\n",
    "video_5=video_thumbnail[0:5]\n",
    "for link in video_5:\n",
    "    video_thumbnail_link=\"https://www.youtube.com\"+link['href']"
   ]
  },
  {
   "cell_type": "markdown",
   "id": "81244b45-2864-42ce-ac14-9cf887a20ccb",
   "metadata": {},
   "source": [
    "### ANS 3\n",
    "\n"
   ]
  },
  {
   "cell_type": "code",
   "execution_count": 24,
   "id": "6c9b8762-ae87-43b6-89c4-82b328b022fb",
   "metadata": {},
   "outputs": [],
   "source": [
    "pw_link=\"https://www.youtube.com/@PW-Foundation/videos\"\n",
    "pw_page=requests.get(pw_link).content\n",
    "pw_html=BeautifulSoup(pw_page,'html.parser')\n",
    "video_script=pw_html.find_all('a',{'class':'yt-simple-endpoint focus-on-expand style-scope ytd-rich-grid-media'})\n",
    "video_5=video_script[0:5]\n",
    "for i in video_5:\n",
    "    \n",
    "    \"https://www.youtube.com\"+i['title']"
   ]
  },
  {
   "cell_type": "markdown",
   "id": "ffcf7666-55f1-48c2-a268-17a2ce00d514",
   "metadata": {},
   "source": [
    "### ANS 4\n",
    "Q4. Write a python program to extract the number of views of the first five videos."
   ]
  },
  {
   "cell_type": "code",
   "execution_count": 25,
   "id": "e4fb12af-06f5-4465-9131-cfdc537cc4c0",
   "metadata": {},
   "outputs": [],
   "source": [
    "pw_link=\"https://www.youtube.com/@PW-Foundation/videos\"\n",
    "pw_page=requests.get(pw_link).content\n",
    "pw_html=BeautifulSoup(pw_page,'html.parser')\n",
    "video_link=pw_html.find_all(\"a\", {\"class\": \"yt-simple-endpoint style-scope ytd-grid-video-renderer\"})\n",
    "video_5=video_link[0:5]\n",
    "for link in video_5:\n",
    "    video_link=\"https://www.youtube.com\" +link['href']\n",
    "    video_html=request.get(  video_link).content\n",
    "    video_big=Beautifulsoup(video_html,'html.parser')\n",
    "    video_number_of_views=video_big.find_all('span',{'class':'style-scope yt-formatted-string bold'}).text\n",
    "    print(f'video views{video_number_of_views}')\n",
    "    \n",
    "    \n"
   ]
  },
  {
   "cell_type": "markdown",
   "id": "9686f639-a6a8-4b11-a926-15ccb62bbddd",
   "metadata": {},
   "source": [
    "### ANS 5\n",
    "Q5. Write a python program to extract the time of posting of video for the first five videos."
   ]
  },
  {
   "cell_type": "code",
   "execution_count": 4,
   "id": "15638e55-d723-4f9c-a1ee-3949104d4544",
   "metadata": {},
   "outputs": [],
   "source": [
    "pw_link=\"https://www.youtube.com/@PW-Foundation/videos\"\n",
    "pw_page=requests.get(pw_link).content\n",
    "pw_html=BeautifulSoup(pw_page,'html.parser')\n",
    "video_link=pw_html.find_all(\"span\", {\"class\": \"style-scope ytd-grid-video-renderer\"})\n",
    "video_5=video_link[0:5]\n",
    "video_time=[time.get_text() for time in video_5] \n",
    "    "
   ]
  },
  {
   "cell_type": "code",
   "execution_count": null,
   "id": "282aada4-f9e0-4637-ac32-a771debb68ae",
   "metadata": {},
   "outputs": [],
   "source": []
  }
 ],
 "metadata": {
  "kernelspec": {
   "display_name": "Python 3 (ipykernel)",
   "language": "python",
   "name": "python3"
  },
  "language_info": {
   "codemirror_mode": {
    "name": "ipython",
    "version": 3
   },
   "file_extension": ".py",
   "mimetype": "text/x-python",
   "name": "python",
   "nbconvert_exporter": "python",
   "pygments_lexer": "ipython3",
   "version": "3.10.8"
  }
 },
 "nbformat": 4,
 "nbformat_minor": 5
}
