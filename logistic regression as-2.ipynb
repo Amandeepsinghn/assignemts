{
 "cells": [
  {
   "cell_type": "markdown",
   "id": "b92e2f61-08fb-4148-813e-b4a492f65115",
   "metadata": {},
   "source": [
    "### ANS 1\n",
    "grid search is specifically used for hyperparamter tunning. it slect the best parameter which have helps us in accurate predcition of the model. \n",
    "***\n",
    "working of grd search \n",
    "first we select parameters in which we want to perfrom grid search then it makes all the possible combination of parameter and test it on training dataset whichever the parameter has the highest prediction probabality that parameter got selected."
   ]
  },
  {
   "cell_type": "markdown",
   "id": "3d1ff239-dd4c-41e4-a988-9d7cab7c933e",
   "metadata": {},
   "source": [
    "### ANS 2\n",
    "difference between grid search and randomize search:\n",
    "1) grid search is takes all the combination of parameter but in randomize search we can give number to perform times of tunning.\n",
    "2) grid is time complexity is high and randomize search time complexity is low."
   ]
  },
  {
   "cell_type": "markdown",
   "id": "352e9ebf-4264-4045-b5cb-7f43e28871dd",
   "metadata": {},
   "source": [
    "### ANS 3 \n",
    "data leackage occour when we have data in the training dataset contains information which may not be availabe in the real world is know as data leackage it is a problem beacause because it may overfit the model."
   ]
  },
  {
   "cell_type": "markdown",
   "id": "f7fb64a5-97cb-4ffa-8cc3-890b9a0937e5",
   "metadata": {},
   "source": [
    "### ANS 4\n",
    "we can prevent data leackage by:\n",
    "1) proper feature selection to prevent overfitting and leakage\n",
    "2) split your data into training validation and testing \n",
    "3) do feature engineering that would have been availabe at the time of making prediciton. "
   ]
  },
  {
   "cell_type": "markdown",
   "id": "3badd73d-0076-412c-8347-dd0d126e8d3a",
   "metadata": {},
   "source": [
    "### ANS 5\n",
    "confusion matrix tells us about the true false positive,false neagtive,true postive and true neagitve. it tells us about the peroframce of a classification model:\n",
    "1) if there is no false neagtive and false positve then model accuracy is very good it is able to predict the dependent feature accurately.\n",
    "2) if there are so may false negative and false postive then our model is not able to predict the dependent feature accuractly."
   ]
  },
  {
   "cell_type": "markdown",
   "id": "cffcd80f-6ff3-4050-ac5a-6a57b30f1afd",
   "metadata": {},
   "source": [
    "### ANS 6\n",
    "difference between precision and recall:\n",
    "1) precision is tp/tp+fp and recall is tp/tp+fn.\n",
    "2) when fp is important in model then we use precsion and when fn is important then we use recall."
   ]
  },
  {
   "cell_type": "markdown",
   "id": "297a6909-badc-4c89-86a8-7b20c0c191ed",
   "metadata": {},
   "source": [
    "### ANS 7\n",
    "we can intpret a confusion matric as follow:\n",
    "1) diagonal elements are either true postive or true negative meaning meaning these are accurate result.\n",
    "2) non diagnoal elements are either false negative or false positive.\n",
    "3) by the confusion matrix we can check the accuracy of the matrix.\n",
    "4) we can calculate precision \n",
    "5) we can check recall \n",
    "6) we can calcuate F-beta score"
   ]
  },
  {
   "cell_type": "markdown",
   "id": "02e97fe8-1974-4386-a868-5aebb9e54997",
   "metadata": {},
   "source": [
    "### ANS 8\n",
    "common metrices whcih can be derived from confusion matrix:\n",
    "1) ROC- reciever operating charaterstic-trade off between tpr and fpr.\n",
    "2) AUC-area under curve gives acuracy of the model.\n",
    "3) MCC-matthers correlation coefficient measure all four quadrants of confsuion matrix.\n",
    "4) ACC- accuracy of the model.\n",
    "5) precision \n",
    "6) Recall"
   ]
  },
  {
   "cell_type": "markdown",
   "id": "b3ddc6d9-b5bc-455b-9c8d-b065b10c51fc",
   "metadata": {},
   "source": [
    "### ANS 9\n",
    "realtionship between accuracy of the model and confusion matrix is that\n",
    "diagonal elements shows model predicted right but non diagonal elements represent not predicted right elemtents helping us finding accuracy of the model.\n"
   ]
  },
  {
   "cell_type": "markdown",
   "id": "aa651aab-fee2-460d-9667-b38d8d47e1d9",
   "metadata": {},
   "source": [
    "### ANS 10\n",
    "1) class imbalance: a unblanced dataset can lead to biased predictions.\n",
    "2) examine if model is consistenly performing poorly on certain class then that class may be bias.\n",
    "3) so many false negative means model is missing positive casses \n",
    "4) make matrix heatmap."
   ]
  },
  {
   "cell_type": "code",
   "execution_count": null,
   "id": "6cb2c5b3-5c55-49d5-852a-1b6bdf484b8f",
   "metadata": {},
   "outputs": [],
   "source": []
  }
 ],
 "metadata": {
  "kernelspec": {
   "display_name": "Python 3 (ipykernel)",
   "language": "python",
   "name": "python3"
  },
  "language_info": {
   "codemirror_mode": {
    "name": "ipython",
    "version": 3
   },
   "file_extension": ".py",
   "mimetype": "text/x-python",
   "name": "python",
   "nbconvert_exporter": "python",
   "pygments_lexer": "ipython3",
   "version": "3.10.8"
  }
 },
 "nbformat": 4,
 "nbformat_minor": 5
}
