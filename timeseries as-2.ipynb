{
 "cells": [
  {
   "cell_type": "markdown",
   "id": "b77c09fd-2865-44dd-8b73-11cbbb2d0c5e",
   "metadata": {},
   "source": [
    "### ANS 1"
   ]
  },
  {
   "cell_type": "markdown",
   "id": "ae49dfff-57b0-4716-afee-9929a4a96a74",
   "metadata": {},
   "source": [
    "time-dependent seasonal components:\n",
    "the repetitive and predictable patterns that occur at regular interval,\n",
    "often corresponding to seasons or other fixed time periods."
   ]
  },
  {
   "cell_type": "markdown",
   "id": "8c8ef933-b3d6-43ae-9f95-7a0fe1f561f1",
   "metadata": {},
   "source": [
    "### ANS 2"
   ]
  },
  {
   "cell_type": "markdown",
   "id": "06a987bd-8542-41f2-8b17-40b2bd0d73c7",
   "metadata": {},
   "source": [
    "1) visual Inspect: we can plot the time series data if there is recurring pattern \n",
    "2) we can create seasonal subseries plot \n",
    "3) ACF(Autocorrelation Function) we can calucate acf for different lag value."
   ]
  },
  {
   "cell_type": "markdown",
   "id": "ebad7b89-836f-48df-9f7d-e892b15b95dd",
   "metadata": {},
   "source": [
    "### ANS 3"
   ]
  },
  {
   "cell_type": "markdown",
   "id": "2f8623b5-7aae-434e-b42d-a717ea8bb6ae",
   "metadata": {},
   "source": [
    "Factors that can affect time-dependent seasonal components:\n",
    "1) Economic \n",
    "2) climate \n",
    "3) cultural and social event \n",
    "4) school calendar \n",
    "5) Technology changes "
   ]
  },
  {
   "cell_type": "markdown",
   "id": "6e9555d6-4c99-4dde-97e7-78617350b7f4",
   "metadata": {},
   "source": [
    "### ANS 4"
   ]
  },
  {
   "cell_type": "markdown",
   "id": "35b131aa-e2e4-4cbe-9ead-be67de62bdde",
   "metadata": {},
   "source": [
    "Autoregression models are a class of time series that uses past observation of a varaible to predict its future value. these model are useful when there is correaltion between an observation and its previous values."
   ]
  },
  {
   "cell_type": "markdown",
   "id": "c238f908-0f43-4600-b9d6-739002a9ddf6",
   "metadata": {},
   "source": [
    "### ANS 5"
   ]
  },
  {
   "cell_type": "markdown",
   "id": "5f0d7914-9023-45c4-a634-ea85835732fe",
   "metadata": {},
   "source": [
    "1) by preparing data first \n",
    "2) by selecting model order using acf,pacf \n",
    "3) we fill fit the model \n",
    "4) we can now use it to predict "
   ]
  },
  {
   "cell_type": "markdown",
   "id": "20e4e644-93c9-46d6-abda-c1528f9982f8",
   "metadata": {},
   "source": [
    "### ANS 6"
   ]
  },
  {
   "cell_type": "markdown",
   "id": "96ea402d-f713-46c9-9147-456bd57112fd",
   "metadata": {},
   "source": [
    "MA model is type of time series model used to explain varaiblity in a time series data by modeling the realtionship between an observation and linear combination of past with noise error terms. autoregressive model use past value of series but ma model use past forecast error."
   ]
  },
  {
   "cell_type": "markdown",
   "id": "e019044a-c968-4515-8b84-d4780d156fdc",
   "metadata": {},
   "source": [
    "### ANS 7"
   ]
  },
  {
   "cell_type": "markdown",
   "id": "5f3cc293-bc7a-4151-995e-24f845ca6279",
   "metadata": {},
   "source": [
    "ARMA is a time series model that combines both autoregressive and moving average component to capture dependencies in a time series data.\n",
    "difference between ar and ma:\n",
    "1) ar capture linear relationship between the current va"
   ]
  }
 ],
 "metadata": {
  "kernelspec": {
   "display_name": "Python 3 (ipykernel)",
   "language": "python",
   "name": "python3"
  },
  "language_info": {
   "codemirror_mode": {
    "name": "ipython",
    "version": 3
   },
   "file_extension": ".py",
   "mimetype": "text/x-python",
   "name": "python",
   "nbconvert_exporter": "python",
   "pygments_lexer": "ipython3",
   "version": "3.10.8"
  }
 },
 "nbformat": 4,
 "nbformat_minor": 5
}
