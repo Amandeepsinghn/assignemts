{
 "cells": [
  {
   "cell_type": "markdown",
   "id": "b31caaf8-6730-4c39-bea9-95839901b1c7",
   "metadata": {},
   "source": [
    "### ANS 1"
   ]
  },
  {
   "cell_type": "markdown",
   "id": "4dffb4c9-43e0-4ec8-a56e-5170027f2d1e",
   "metadata": {},
   "source": [
    "time series is a dataset which contains timestamp and other data.\n",
    "Common application of time series are:\n",
    "1) weather forecast \n",
    "2) medical instrument forecast \n",
    "3) stocks "
   ]
  },
  {
   "cell_type": "markdown",
   "id": "abc7e86a-b3de-4451-8e8c-a086ad9d3d39",
   "metadata": {},
   "source": [
    "### ANS 2"
   ]
  },
  {
   "cell_type": "markdown",
   "id": "7e7cb34a-bfa1-4f19-898e-c2af2f03e5bf",
   "metadata": {},
   "source": [
    "common time series pattern are:\n",
    "1) upward \n",
    "2) downward \n",
    "#\n",
    "they can be identified by doing smoothning of data. we can do smoothning of data by moving average."
   ]
  },
  {
   "cell_type": "markdown",
   "id": "7289c6eb-ecd1-43e7-8bc3-b28db295cd62",
   "metadata": {},
   "source": [
    "### ANS 3"
   ]
  },
  {
   "cell_type": "markdown",
   "id": "8619722d-68d2-4996-a2b8-267092085bb2",
   "metadata": {},
   "source": [
    "time series can be processed before eda in the following ways:\n",
    "1) load the data \n",
    "2) load timeseries in pandas \n",
    "3) set datetime column as index \n",
    "4) check the datatype of the index and convert it to datetime if necessary"
   ]
  },
  {
   "cell_type": "markdown",
   "id": "853ea6e8-58d1-4b82-a5e2-2543487ac73b",
   "metadata": {},
   "source": [
    "### ANS 4"
   ]
  },
  {
   "cell_type": "markdown",
   "id": "322e9bd7-ec60-42ad-a329-9a534bbe6172",
   "metadata": {},
   "source": [
    "time series forecasting can be used buisness decsion making in the following ways:\n",
    "1) it can be used to buy stocks \n",
    "2) it can be used which employee is suitable for which case \n",
    "3) it can be used to buy some common things based on their consumption.\n",
    "##### \n",
    "some common challanges are:\n",
    "1) it may not be accurate. \n",
    "2) noises can disturb the decision making. \n",
    "3) decision making cannot be entireliy based on forecast. "
   ]
  },
  {
   "cell_type": "markdown",
   "id": "c800d284-bfb3-4462-940b-2da3f1c50893",
   "metadata": {},
   "source": [
    "### ANS 5"
   ]
  },
  {
   "cell_type": "markdown",
   "id": "88ae0a90-2e5a-44d1-af28-a787ca00d912",
   "metadata": {},
   "source": [
    "ARIMA model is used to produce timeseries model, it is mainly used for forcasting of data. it stands for autoregression integrated moving average.\n",
    "it can be used for forecast:\n",
    "1) understand time series data \n",
    "2) stationary check \n",
    "3) make stationary time series \n",
    "4) identify order in arima \n",
    "5) build arima model\n",
    "6) then we can use this model to forecast the data"
   ]
  },
  {
   "cell_type": "markdown",
   "id": "ea01e553-acd6-431d-b7d0-7f027b46abcc",
   "metadata": {},
   "source": [
    "### ANS 6"
   ]
  },
  {
   "cell_type": "markdown",
   "id": "338b8164-2474-4814-9cff-7e2031562d97",
   "metadata": {},
   "source": [
    "ACF stand for auto correlation function and PACF stands for parital auto correlation function. ACF measure the correlation between time series and its lag value. PACF measure the correlation between lag value without considering the middle effect. ACF is mainly used for AR and PACF is mainly used for MA.these both are used to find order. we can select order whoesover log value correlation is high."
   ]
  },
  {
   "cell_type": "markdown",
   "id": "08f42390-94db-4988-98a7-f7a552a656fc",
   "metadata": {},
   "source": [
    "### ANS 10"
   ]
  },
  {
   "cell_type": "markdown",
   "id": "b1e18a00-e1bd-4eb7-bbc8-54cf017ceff6",
   "metadata": {},
   "source": [
    "Stationary time series are those time series which mean and variance are constant over the time. Non Staionary time series is the time series which is not constant over time.In order to build a time series it is necessary to have staionary time series for the arima model."
   ]
  },
  {
   "cell_type": "markdown",
   "id": "876fcd5d-52a5-414b-b635-62e184026a57",
   "metadata": {},
   "source": [
    "### ANS 7"
   ]
  },
  {
   "cell_type": "markdown",
   "id": "a1d48cdb-ad94-48ea-8478-39a111ec14a5",
   "metadata": {},
   "source": [
    "Assumption of arima model:\n",
    "1) datetime is set as index \n",
    "2) datatype of index is datetime \n",
    "3) time series should be stationary\n",
    "4) acf and pacf is selected to order.\n",
    "5) AR is autoregression \n",
    "6) I is integeration \n",
    "7) MA moving average\n",
    "8) it has a absence of seasonality\n",
    "9) it has a absence of outlier effect\n",
    "***\n",
    "They can be tested by using different order for arima model."
   ]
  },
  {
   "cell_type": "markdown",
   "id": "2b73b016-f483-4e53-ab1c-5d3ad11ce717",
   "metadata": {},
   "source": [
    "### ANS 8"
   ]
  },
  {
   "cell_type": "markdown",
   "id": "bd9d0622-98f1-46f5-ab30-c5ed4c2fad0a",
   "metadata": {},
   "source": [
    "for a monthly sales of data over the past 3 three year we will use sarima model as seasonlity factor is importnat"
   ]
  },
  {
   "cell_type": "markdown",
   "id": "8c073b2c-dd7b-4b86-8826-3774e9c278d7",
   "metadata": {},
   "source": [
    "### ANS 9"
   ]
  },
  {
   "cell_type": "markdown",
   "id": "d22cd14d-4e11-4b44-b7e6-adb869d7f0bb",
   "metadata": {},
   "source": [
    "Limitation of time series are:\n",
    "1) time series must be staionary \n",
    "2) it is very senesitive to oultier\n",
    "3) missing value can cause a problem \n",
    "4) many model like arima assume linear relationship between varaibles but model can be more complex.\n",
    "***\n",
    "Making a arima model needs to have stationary timeseries and index must be timeseries and must be of type timeseries."
   ]
  },
  {
   "cell_type": "code",
   "execution_count": null,
   "id": "6443140b-68b9-4595-81cd-4b9e0f7eef10",
   "metadata": {},
   "outputs": [],
   "source": []
  }
 ],
 "metadata": {
  "kernelspec": {
   "display_name": "Python 3 (ipykernel)",
   "language": "python",
   "name": "python3"
  },
  "language_info": {
   "codemirror_mode": {
    "name": "ipython",
    "version": 3
   },
   "file_extension": ".py",
   "mimetype": "text/x-python",
   "name": "python",
   "nbconvert_exporter": "python",
   "pygments_lexer": "ipython3",
   "version": "3.10.8"
  }
 },
 "nbformat": 4,
 "nbformat_minor": 5
}
