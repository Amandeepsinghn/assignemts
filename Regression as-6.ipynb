{
 "cells": [
  {
   "cell_type": "markdown",
   "id": "19714f2a-b369-4bb9-bda7-1ff3813a69fa",
   "metadata": {
    "tags": []
   },
   "source": [
    "### ANS 1\n",
    "steps involved in end-to-end we application \n",
    "1) Data collection-data\n",
    "2) EDA-cleaning data\n",
    "3) feature enigeering-coverting feature to int or float \n",
    "4) feature slection- selction feature based on corrleation with dependent feature\n",
    "5) Model training-trainig model based on which model has better r squared value  \n",
    "6) Web app: make application to recieve input via form \n",
    "7) deployment- deploy your applicaition on aws or azure."
   ]
  },
  {
   "cell_type": "markdown",
   "id": "5dee5a71-401c-4cae-8563-4195042c41a8",
   "metadata": {},
   "source": [
    "### ANS 2\n",
    "difference between traditional and cloud hosting \n",
    "1) traditional web hosting releis on physical severs.websites and application are hosted on these physical machines. cloud hosting utilizes virtualized infrastructe which is spread across multiple servers \n",
    "2) traditional web hosting provide less scalbility as compared to the cloud hosting \n",
    "3) traditional web hosting have limited control over server configuation but user configure and manage their virtual servers.\n",
    "4) traditional web hosting is often require physical server which is costly but cloud hosting offer high availability features."
   ]
  },
  {
   "cell_type": "markdown",
   "id": "f3f325ba-19f3-44c9-b234-c708cf5c36e0",
   "metadata": {},
   "source": [
    "### ANS 3\n",
    "1) chose cloud based on the specfic need of your applications \n",
    "2) chose scalabed cloud which excel at auto-scaling \n",
    "3) check perforamce of cloud provider \n",
    "4) check for security look for necessary certification."
   ]
  },
  {
   "cell_type": "markdown",
   "id": "526241ea-8bee-4473-9444-79c0b58e0925",
   "metadata": {},
   "source": [
    "### ANS 4\n",
    "we build resposive user interface by using css, bootstrap and html various tags for specific purpose to enhance the functionality for the web applications. \n"
   ]
  },
  {
   "cell_type": "markdown",
   "id": "20a030f2-0857-41e2-a13f-90b1c5e33dc6",
   "metadata": {},
   "source": [
    "### ANS 5\n",
    "steps to integrate the machine learning model:\n",
    "1) data collection \n",
    "2) eda \n",
    "3) feature selction \n",
    "4) test different model on the clean dataset and select the model which have the highest r-squared value.\n",
    "5) make api using frameworks like flask etc which can be used to create api \n",
    "6) make web application which takes input from the user using html,css,javascript for better user interface. \n",
    "7) deploy on cloud.\n",
    "****\n",
    "we can use flask,request,render_template,pickle library.\n"
   ]
  }
 ],
 "metadata": {
  "kernelspec": {
   "display_name": "Python 3 (ipykernel)",
   "language": "python",
   "name": "python3"
  },
  "language_info": {
   "codemirror_mode": {
    "name": "ipython",
    "version": 3
   },
   "file_extension": ".py",
   "mimetype": "text/x-python",
   "name": "python",
   "nbconvert_exporter": "python",
   "pygments_lexer": "ipython3",
   "version": "3.11.4"
  }
 },
 "nbformat": 4,
 "nbformat_minor": 5
}
