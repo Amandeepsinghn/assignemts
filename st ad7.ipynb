{
 "cells": [
  {
   "cell_type": "code",
   "execution_count": 1,
   "id": "3de363eb-6535-4df6-a342-81180bebca06",
   "metadata": {},
   "outputs": [],
   "source": [
    "import numpy as np\n",
    "import scipy.stats as stat"
   ]
  },
  {
   "cell_type": "markdown",
   "id": "84606595-94f0-4efe-ac1b-e38f7d1cf523",
   "metadata": {},
   "source": [
    "### ANS 1"
   ]
  },
  {
   "cell_type": "code",
   "execution_count": 7,
   "id": "41b42c90-b44d-4e04-acc9-73e921dc9bd1",
   "metadata": {},
   "outputs": [],
   "source": [
    "l=[2,3,4,5,3,2]\n",
    "l1=[8,7,5,4,5,6]\n",
    "no_of_group=2\n",
    "numerator_dof=2-1\n",
    "denominator_dof=(len(l)+len(l1))-2"
   ]
  },
  {
   "cell_type": "code",
   "execution_count": 3,
   "id": "c30f8e71-273f-4d45-8a22-0977050c98e1",
   "metadata": {},
   "outputs": [],
   "source": [
    "f_test=np.var(l)/np.var(l1)"
   ]
  },
  {
   "cell_type": "raw",
   "id": "60524dba-2212-46a5-85d8-352855fb4ba2",
   "metadata": {},
   "source": [
    "we can use p_value calculator to find the p_value for f-test"
   ]
  },
  {
   "cell_type": "markdown",
   "id": "4aa54b2c-17d1-48a4-adea-2ef19b2060c9",
   "metadata": {},
   "source": [
    "### ANS 2"
   ]
  },
  {
   "cell_type": "code",
   "execution_count": 10,
   "id": "755e1ddf-5741-4092-91ea-1c8f190fb797",
   "metadata": {},
   "outputs": [],
   "source": [
    "l=[2,3,4,5,3]\n",
    "l1=[3,45,5,32]\n",
    "dof_l=len(l)-1\n",
    "dof_l1=len(l)-1\n",
    "sign=0.05"
   ]
  },
  {
   "cell_type": "code",
   "execution_count": 9,
   "id": "af56f797-660c-4cb2-a5d8-17847f03f1f1",
   "metadata": {},
   "outputs": [],
   "source": [
    "f_test=np.var(l)/np.var(l1)"
   ]
  },
  {
   "cell_type": "code",
   "execution_count": 13,
   "id": "69e5b6f7-3173-46cd-ad01-a556be95d2f5",
   "metadata": {},
   "outputs": [],
   "source": [
    "critical_value=stat.f.ppf(q=1-sign,dfn=dof_l,dfd=dof_l1)"
   ]
  },
  {
   "cell_type": "markdown",
   "id": "42b378a6-e9fd-46d0-903b-aaaf6bf4d799",
   "metadata": {},
   "source": [
    "### ANS 9"
   ]
  },
  {
   "cell_type": "code",
   "execution_count": 20,
   "id": "e4d10cd8-3951-46d0-9729-20c131325d19",
   "metadata": {},
   "outputs": [],
   "source": [
    "groupA=[80,85,90,92,87,83]\n",
    "groupB=[75,78,82,79,81,84]\n",
    "dof_a=len(groupA)-1\n",
    "dof_b=len(groupB)-1\n",
    "sign=0.05\n"
   ]
  },
  {
   "cell_type": "code",
   "execution_count": 19,
   "id": "6599207d-c49a-49fb-98e0-47b7b0d24445",
   "metadata": {},
   "outputs": [],
   "source": [
    "f_test=np.var(groupA)/np.var(groupB)\n"
   ]
  },
  {
   "cell_type": "code",
   "execution_count": 21,
   "id": "e48001a6-3759-4b23-99b9-a98100afb2f1",
   "metadata": {},
   "outputs": [],
   "source": [
    "critical_value=stat.f.ppf(q=1-sign,dfn=dof_a,dfd=dof_b)\n"
   ]
  },
  {
   "cell_type": "code",
   "execution_count": 22,
   "id": "f1be2f0a-abc9-4c89-a465-60bd9cfbacb8",
   "metadata": {},
   "outputs": [
    {
     "name": "stdout",
     "output_type": "stream",
     "text": [
      "we fail to reject the null hypothesis\n"
     ]
    }
   ],
   "source": [
    "if f_test>critical_value:\n",
    "    print('reject the null hypothesis')\n",
    "else:\n",
    "    print('we fail to reject the null hypothesis')"
   ]
  },
  {
   "cell_type": "markdown",
   "id": "d10956c2-d853-46f2-826c-c3f5004ddc6a",
   "metadata": {},
   "source": [
    "### ANS 8"
   ]
  },
  {
   "cell_type": "code",
   "execution_count": 23,
   "id": "96af90fb-a1a4-4fb4-afbf-435509207b1e",
   "metadata": {},
   "outputs": [],
   "source": [
    "A=[24, 25, 28, 23, 22, 20, 27]\n",
    "B=[31, 33, 35, 30, 32, 36]\n",
    "dof_a=len(A)-1\n",
    "dof_b=len(B)-1\n",
    "sign=0.05"
   ]
  },
  {
   "cell_type": "code",
   "execution_count": 24,
   "id": "79055b6d-762a-4a79-8a3e-7d7c4d203ad1",
   "metadata": {},
   "outputs": [],
   "source": [
    "f_test=np.var(A)/np.var(B)"
   ]
  },
  {
   "cell_type": "code",
   "execution_count": 25,
   "id": "5a0016a2-3bf0-4c36-9417-f39e07fcefe3",
   "metadata": {},
   "outputs": [],
   "source": [
    "critical_value=stat.f.ppf(q=1-sign,dfn=dof_a,dfd=dof_b)"
   ]
  },
  {
   "cell_type": "code",
   "execution_count": 26,
   "id": "6120f987-7305-43a0-94d3-6d8aaa02ced2",
   "metadata": {},
   "outputs": [
    {
     "name": "stdout",
     "output_type": "stream",
     "text": [
      "we fail to reject the null hypothesis\n"
     ]
    }
   ],
   "source": [
    "if f_test>critical_value:\n",
    "    print('reject the null hypothesis')\n",
    "else:\n",
    "    print('we fail to reject the null hypothesis')"
   ]
  },
  {
   "cell_type": "markdown",
   "id": "28beac26-7143-4901-922e-d576cbccfd8f",
   "metadata": {},
   "source": [
    "### ANS 7"
   ]
  },
  {
   "cell_type": "code",
   "execution_count": 27,
   "id": "dbdc3b51-6c5f-472b-8842-ffc3e3f6276b",
   "metadata": {},
   "outputs": [],
   "source": [
    "varA=25\n",
    "varB=20\n",
    "dof_A=10-1\n",
    "dof_B=15-1\n",
    "sign=0.10"
   ]
  },
  {
   "cell_type": "code",
   "execution_count": 28,
   "id": "a4738397-bc6b-4398-a719-6bc3c8be1129",
   "metadata": {},
   "outputs": [],
   "source": [
    "f_test=varA/varB"
   ]
  },
  {
   "cell_type": "code",
   "execution_count": 29,
   "id": "76e5d3bb-7e43-4bee-8eb1-8545887734ae",
   "metadata": {},
   "outputs": [],
   "source": [
    "critical_value=stat.f.ppf(q=1-sign,dfn=dof_A,dfd=dof_B)"
   ]
  },
  {
   "cell_type": "code",
   "execution_count": 30,
   "id": "fc664e9d-99dd-4f9c-bae6-5f9a64a9a043",
   "metadata": {},
   "outputs": [
    {
     "name": "stdout",
     "output_type": "stream",
     "text": [
      "we fail to reject the null hypothesis\n"
     ]
    }
   ],
   "source": [
    "if f_test>critical_value:\n",
    "    print('reject the null hypothesis')\n",
    "else:\n",
    "    print('we fail to reject the null hypothesis')"
   ]
  },
  {
   "cell_type": "markdown",
   "id": "8697a1d3-6f54-44cb-8576-dc5ca82df158",
   "metadata": {},
   "source": [
    "### ANS 4"
   ]
  },
  {
   "cell_type": "code",
   "execution_count": 11,
   "id": "1f938204-ca19-4b6b-be58-b585debc9f6d",
   "metadata": {},
   "outputs": [],
   "source": [
    "var1_p=10\n",
    "var2_p=15\n",
    "n1=12\n",
    "n2=12\n",
    "s1 = (var1_p * ( n1- 1)) / n1\n",
    "s2 = (var2_p * ( n1- 1)) / n2\n",
    "sign=0.05"
   ]
  },
  {
   "cell_type": "code",
   "execution_count": 12,
   "id": "d31e49d9-0fb3-4778-ba35-0f3e3b1d3eed",
   "metadata": {},
   "outputs": [],
   "source": [
    "f_test=s1/s2"
   ]
  },
  {
   "cell_type": "code",
   "execution_count": 13,
   "id": "daac074d-46a9-4286-b0eb-0bcba67896c0",
   "metadata": {},
   "outputs": [],
   "source": [
    "critical_value=stat.f.ppf(q=1-sign,dfn=12-1,dfd=12-1)"
   ]
  },
  {
   "cell_type": "code",
   "execution_count": 14,
   "id": "d37999b2-3fb9-4d8f-960f-8ff1f6bbb6fd",
   "metadata": {},
   "outputs": [
    {
     "name": "stdout",
     "output_type": "stream",
     "text": [
      "we fail to reject the null hypothesis\n"
     ]
    }
   ],
   "source": [
    "if f_test>critical_value:\n",
    "    print('reject the null hypothesis')\n",
    "else:\n",
    "    print('we fail to reject the null hypothesis')"
   ]
  },
  {
   "cell_type": "markdown",
   "id": "5fe807fd-a256-4d2c-8b77-2af4db20d4a1",
   "metadata": {},
   "source": [
    "### ANS 5"
   ]
  },
  {
   "cell_type": "code",
   "execution_count": 48,
   "id": "dff50b05-fd70-49d5-976f-dd0c1058c7c2",
   "metadata": {},
   "outputs": [],
   "source": [
    "var_1=0.005\n",
    "var_2=0.006\n",
    "sign=0.01\n",
    "n2=25"
   ]
  },
  {
   "cell_type": "code",
   "execution_count": 17,
   "id": "7975254e-fe63-4031-bd26-6b823a727b7f",
   "metadata": {},
   "outputs": [],
   "source": [
    "f_test=var_1/var_2"
   ]
  },
  {
   "cell_type": "code",
   "execution_count": 49,
   "id": "b2000f8f-0e71-42eb-9e42-c483e91e6915",
   "metadata": {},
   "outputs": [],
   "source": [
    "critical_value=stat.f.ppf(q=1-sign,dfn=n2-1,dfd=24)"
   ]
  },
  {
   "cell_type": "code",
   "execution_count": 50,
   "id": "974561dd-93ba-49d6-8419-af5394fdd669",
   "metadata": {},
   "outputs": [
    {
     "name": "stdout",
     "output_type": "stream",
     "text": [
      "reject the null hypothesis\n"
     ]
    }
   ],
   "source": [
    "if f_test>critical_value:\n",
    "    print('reject the null hypothesis')\n",
    "else:\n",
    "    print('we fail to reject the null hypothesis')"
   ]
  },
  {
   "cell_type": "markdown",
   "id": "950d991a-516f-416c-9b9e-ee9b75c1003b",
   "metadata": {},
   "source": [
    "### ANS 3"
   ]
  },
  {
   "cell_type": "code",
   "execution_count": 31,
   "id": "e92b8caf-ed9e-408f-8007-c9c5a0e51d79",
   "metadata": {},
   "outputs": [
    {
     "name": "stdout",
     "output_type": "stream",
     "text": [
      "3.4145270896022457 29 24 0.091\n"
     ]
    }
   ],
   "source": [
    "import math\n",
    "import numpy as np\n",
    "import scipy.stats as stats\n",
    "\n",
    "n1=30\n",
    "n2=25\n",
    "var_1=5.0\n",
    "var_2=2.3\n",
    "sign=0.05\n",
    "\n",
    "sample_1=np.random.normal(loc=0,scale=math.sqrt(var_1),size=n1)\n",
    "sample_2=np.random.normal(loc=0,scale=math.sqrt(var_2),size=n2)\n",
    "\n",
    "f_test=np.var(sample_1)/np.var(sample_2)\n",
    "\n",
    "dfn=n1-1\n",
    "dfd=n2-1\n",
    "\n",
    "p_value=0.091\n",
    "\n",
    "print(f_test,dfn,dfd,p_value)"
   ]
  },
  {
   "cell_type": "markdown",
   "id": "c2fc02f3-21fc-4b04-bc5d-bb7b0c38654d",
   "metadata": {},
   "source": [
    "### ANS 6"
   ]
  },
  {
   "cell_type": "code",
   "execution_count": 46,
   "id": "16140d58-12b4-4b1f-8a2f-b832ea61bbe6",
   "metadata": {},
   "outputs": [],
   "source": [
    "def f(a,b):\n",
    "    dfn=a\n",
    "    dfd=b\n",
    "    sign=0.05\n",
    "    n1=dfn-1\n",
    "    n2=dfd-1\n",
    "    if dfn<=0 or dfd<=0:\n",
    "        return None,None \n",
    "    \n",
    "    mean=dfd/(dfd-2) if dfd>2 else None \n",
    "    varaince=(2 * (dfd**2 * (dfn + dfd - 2))) / ((dfn * (dfd - 2)**2 * (dfd - 4))) if dfd > 4 else None\n",
    "    print(mean, varaince)\n",
    "    \n",
    "    \n",
    "                        "
   ]
  },
  {
   "cell_type": "code",
   "execution_count": 47,
   "id": "9254a798-8560-4691-be27-c00129aa72b3",
   "metadata": {},
   "outputs": [
    {
     "name": "stdout",
     "output_type": "stream",
     "text": [
      "1.6666666666666667 6.388888888888889\n"
     ]
    }
   ],
   "source": [
    "f(20,5)"
   ]
  },
  {
   "cell_type": "code",
   "execution_count": null,
   "id": "24c78012-96dc-40cc-b1e9-f97739bba47a",
   "metadata": {},
   "outputs": [],
   "source": []
  }
 ],
 "metadata": {
  "kernelspec": {
   "display_name": "Python 3 (ipykernel)",
   "language": "python",
   "name": "python3"
  },
  "language_info": {
   "codemirror_mode": {
    "name": "ipython",
    "version": 3
   },
   "file_extension": ".py",
   "mimetype": "text/x-python",
   "name": "python",
   "nbconvert_exporter": "python",
   "pygments_lexer": "ipython3",
   "version": "3.10.8"
  }
 },
 "nbformat": 4,
 "nbformat_minor": 5
}
