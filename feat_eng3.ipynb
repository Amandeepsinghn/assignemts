{
 "cells": [
  {
   "cell_type": "markdown",
   "id": "67e7a930-403f-4c34-b089-20d1dcb664de",
   "metadata": {},
   "source": [
    "### ANS1\n",
    "data encoding is used to convert categorical data into numerical data. it is useful in data science because we cannot make model on the basis on categorical data so we convert into numerical data because many machine learning algorithim require numerical input."
   ]
  },
  {
   "cell_type": "markdown",
   "id": "1e10c94c-e2ee-4485-adb6-efb2fe828929",
   "metadata": {},
   "source": [
    "### ANS 2\n",
    "nominal encoding is a technique which is used to trasform categorical varaibles that have not intrinsic ordering into numerical value that can be used in machine learning models. for example lets suppose we 3 feature which are categorical then we use nominal encdoing based on the data we can choose the best nominal method."
   ]
  },
  {
   "cell_type": "markdown",
   "id": "5e9a848a-359c-45d4-9a5a-27754befbf12",
   "metadata": {},
   "source": [
    "### ANS 3\n",
    "one-hot-encoding is a type of nominal encoding which is used to convert categorical data into numerical data. suppose there are 100 categorical features which is used to convert numerical data.\n",
    "****\n",
    "in one-hot-encoding lets suppose there are 100 categorical data and each feature have soo many unique data but in one-hot-encoding each unique data will be assigned to new feature thus increasing the features which will make hard."
   ]
  },
  {
   "cell_type": "markdown",
   "id": "edcfdef3-1a02-4c63-bb10-d8ac6f0ed696",
   "metadata": {},
   "source": [
    "### ANS 4\n",
    "we  will use one-hot-encoding because it will convert unique data to each different feature beacuse in this technique each category will treated equally it will easy for machine learning algorithim to interpret the results."
   ]
  },
  {
   "cell_type": "markdown",
   "id": "2442a128-7ff3-4ca8-803f-f3913d15e9a7",
   "metadata": {},
   "source": [
    "### ANS 5\n",
    "if we use one-hot-encoding then depending on the unqiue data in two categorical columns diiferent coloumns will be made each carrying the same importance. for example."
   ]
  },
  {
   "cell_type": "code",
   "execution_count": 1,
   "id": "9db085b0-a4c0-4a8c-a845-10cf028859ef",
   "metadata": {},
   "outputs": [],
   "source": [
    "import pandas as pd \n",
    "from sklearn.preprocessing import OneHotEncoder\n",
    "df=pd.DataFrame({\n",
    "    'color':['red','blue','green','orange'],\n",
    "    'shape':['circle','oval','square','recentagle'],\n",
    "    'value':[23,43,23,54],\n",
    "    'price':[100,250,190,120]\n",
    "})\n"
   ]
  },
  {
   "cell_type": "code",
   "execution_count": 2,
   "id": "dc7aa2cf-a96d-4b25-81fc-21d3cb2c6abd",
   "metadata": {},
   "outputs": [],
   "source": [
    "encoder=OneHotEncoder()"
   ]
  },
  {
   "cell_type": "code",
   "execution_count": 5,
   "id": "ca70a5e0-617b-4b06-b558-be40296f8b0c",
   "metadata": {},
   "outputs": [],
   "source": [
    "encoded=encoder.fit_transform(df[['color','shape']])"
   ]
  },
  {
   "cell_type": "code",
   "execution_count": 8,
   "id": "4fca4a6d-aab3-4594-b343-5f9609356058",
   "metadata": {},
   "outputs": [],
   "source": [
    "enc=pd.DataFrame(encoded.toarray(),columns=encoder.get_feature_names_out())"
   ]
  },
  {
   "cell_type": "code",
   "execution_count": 9,
   "id": "16206ee1-660e-4d07-b8f9-6d08ec122a37",
   "metadata": {},
   "outputs": [
    {
     "data": {
      "text/html": [
       "<div>\n",
       "<style scoped>\n",
       "    .dataframe tbody tr th:only-of-type {\n",
       "        vertical-align: middle;\n",
       "    }\n",
       "\n",
       "    .dataframe tbody tr th {\n",
       "        vertical-align: top;\n",
       "    }\n",
       "\n",
       "    .dataframe thead th {\n",
       "        text-align: right;\n",
       "    }\n",
       "</style>\n",
       "<table border=\"1\" class=\"dataframe\">\n",
       "  <thead>\n",
       "    <tr style=\"text-align: right;\">\n",
       "      <th></th>\n",
       "      <th>color</th>\n",
       "      <th>shape</th>\n",
       "      <th>value</th>\n",
       "      <th>price</th>\n",
       "      <th>color_blue</th>\n",
       "      <th>color_green</th>\n",
       "      <th>color_orange</th>\n",
       "      <th>color_red</th>\n",
       "      <th>shape_circle</th>\n",
       "      <th>shape_oval</th>\n",
       "      <th>shape_recentagle</th>\n",
       "      <th>shape_square</th>\n",
       "    </tr>\n",
       "  </thead>\n",
       "  <tbody>\n",
       "    <tr>\n",
       "      <th>0</th>\n",
       "      <td>red</td>\n",
       "      <td>circle</td>\n",
       "      <td>23</td>\n",
       "      <td>100</td>\n",
       "      <td>0.0</td>\n",
       "      <td>0.0</td>\n",
       "      <td>0.0</td>\n",
       "      <td>1.0</td>\n",
       "      <td>1.0</td>\n",
       "      <td>0.0</td>\n",
       "      <td>0.0</td>\n",
       "      <td>0.0</td>\n",
       "    </tr>\n",
       "    <tr>\n",
       "      <th>1</th>\n",
       "      <td>blue</td>\n",
       "      <td>oval</td>\n",
       "      <td>43</td>\n",
       "      <td>250</td>\n",
       "      <td>1.0</td>\n",
       "      <td>0.0</td>\n",
       "      <td>0.0</td>\n",
       "      <td>0.0</td>\n",
       "      <td>0.0</td>\n",
       "      <td>1.0</td>\n",
       "      <td>0.0</td>\n",
       "      <td>0.0</td>\n",
       "    </tr>\n",
       "    <tr>\n",
       "      <th>2</th>\n",
       "      <td>green</td>\n",
       "      <td>square</td>\n",
       "      <td>23</td>\n",
       "      <td>190</td>\n",
       "      <td>0.0</td>\n",
       "      <td>1.0</td>\n",
       "      <td>0.0</td>\n",
       "      <td>0.0</td>\n",
       "      <td>0.0</td>\n",
       "      <td>0.0</td>\n",
       "      <td>0.0</td>\n",
       "      <td>1.0</td>\n",
       "    </tr>\n",
       "    <tr>\n",
       "      <th>3</th>\n",
       "      <td>orange</td>\n",
       "      <td>recentagle</td>\n",
       "      <td>54</td>\n",
       "      <td>120</td>\n",
       "      <td>0.0</td>\n",
       "      <td>0.0</td>\n",
       "      <td>1.0</td>\n",
       "      <td>0.0</td>\n",
       "      <td>0.0</td>\n",
       "      <td>0.0</td>\n",
       "      <td>1.0</td>\n",
       "      <td>0.0</td>\n",
       "    </tr>\n",
       "  </tbody>\n",
       "</table>\n",
       "</div>"
      ],
      "text/plain": [
       "    color       shape  value  ...  shape_oval  shape_recentagle  shape_square\n",
       "0     red      circle     23  ...         0.0               0.0           0.0\n",
       "1    blue        oval     43  ...         1.0               0.0           0.0\n",
       "2   green      square     23  ...         0.0               0.0           1.0\n",
       "3  orange  recentagle     54  ...         0.0               1.0           0.0\n",
       "\n",
       "[4 rows x 12 columns]"
      ]
     },
     "execution_count": 9,
     "metadata": {},
     "output_type": "execute_result"
    }
   ],
   "source": [
    "pd.concat([df,enc],axis=1)"
   ]
  },
  {
   "cell_type": "markdown",
   "id": "cea8d3d8-8ee5-4f38-bb71-cb4f40472424",
   "metadata": {},
   "source": [
    "### ANS 6\n",
    "one-hot-encoding technique will be prefered because we have so many so many categorical data so without making any ordinal relationsip we will preserve the importance of each feature."
   ]
  },
  {
   "cell_type": "markdown",
   "id": "a8b14336-df20-4db3-9142-22acebf352ca",
   "metadata": {},
   "source": [
    "### ANS 7\n",
    "one-hot-encoding technique will be prefered because we have so many so many categorical data so without making any ordinal relationsip we will preserve the importance of each feature."
   ]
  },
  {
   "cell_type": "code",
   "execution_count": 10,
   "id": "bde1d281-ff69-4458-882e-b7caf52797d0",
   "metadata": {},
   "outputs": [],
   "source": [
    "df=pd.DataFrame({'gender':['m','f','m','f'],\n",
    "                 'age':[43,21,20,34],\n",
    "                 'contract type':['p','t','p','t'],\n",
    "                 'monthly charge':[654,897,264,876],\n",
    "                 'tenure':[23,54,21,65]\n",
    "                }\n",
    "               )"
   ]
  },
  {
   "cell_type": "code",
   "execution_count": 11,
   "id": "ea70d155-7117-4718-88d0-78d79ecdd78f",
   "metadata": {},
   "outputs": [],
   "source": [
    "en=OneHotEncoder()"
   ]
  },
  {
   "cell_type": "code",
   "execution_count": 12,
   "id": "bcfc059a-cd86-4455-9de1-6145deb6405b",
   "metadata": {},
   "outputs": [],
   "source": [
    "encoder=en.fit_transform(df[['gender','contract type']])"
   ]
  },
  {
   "cell_type": "code",
   "execution_count": 13,
   "id": "eb823ff0-09eb-4e92-82eb-5d9d0861cb4d",
   "metadata": {},
   "outputs": [],
   "source": [
    "enc=pd.DataFrame(encoder.toarray(),columns=en.get_feature_names_out())"
   ]
  },
  {
   "cell_type": "code",
   "execution_count": 14,
   "id": "cb36f12e-0720-4f1e-99e8-9ef5db8dcf81",
   "metadata": {},
   "outputs": [
    {
     "data": {
      "text/html": [
       "<div>\n",
       "<style scoped>\n",
       "    .dataframe tbody tr th:only-of-type {\n",
       "        vertical-align: middle;\n",
       "    }\n",
       "\n",
       "    .dataframe tbody tr th {\n",
       "        vertical-align: top;\n",
       "    }\n",
       "\n",
       "    .dataframe thead th {\n",
       "        text-align: right;\n",
       "    }\n",
       "</style>\n",
       "<table border=\"1\" class=\"dataframe\">\n",
       "  <thead>\n",
       "    <tr style=\"text-align: right;\">\n",
       "      <th></th>\n",
       "      <th>gender</th>\n",
       "      <th>age</th>\n",
       "      <th>contract type</th>\n",
       "      <th>monthly charge</th>\n",
       "      <th>tenure</th>\n",
       "      <th>gender_f</th>\n",
       "      <th>gender_m</th>\n",
       "      <th>contract type_p</th>\n",
       "      <th>contract type_t</th>\n",
       "    </tr>\n",
       "  </thead>\n",
       "  <tbody>\n",
       "    <tr>\n",
       "      <th>0</th>\n",
       "      <td>m</td>\n",
       "      <td>43</td>\n",
       "      <td>p</td>\n",
       "      <td>654</td>\n",
       "      <td>23</td>\n",
       "      <td>0.0</td>\n",
       "      <td>1.0</td>\n",
       "      <td>1.0</td>\n",
       "      <td>0.0</td>\n",
       "    </tr>\n",
       "    <tr>\n",
       "      <th>1</th>\n",
       "      <td>f</td>\n",
       "      <td>21</td>\n",
       "      <td>t</td>\n",
       "      <td>897</td>\n",
       "      <td>54</td>\n",
       "      <td>1.0</td>\n",
       "      <td>0.0</td>\n",
       "      <td>0.0</td>\n",
       "      <td>1.0</td>\n",
       "    </tr>\n",
       "    <tr>\n",
       "      <th>2</th>\n",
       "      <td>m</td>\n",
       "      <td>20</td>\n",
       "      <td>p</td>\n",
       "      <td>264</td>\n",
       "      <td>21</td>\n",
       "      <td>0.0</td>\n",
       "      <td>1.0</td>\n",
       "      <td>1.0</td>\n",
       "      <td>0.0</td>\n",
       "    </tr>\n",
       "    <tr>\n",
       "      <th>3</th>\n",
       "      <td>f</td>\n",
       "      <td>34</td>\n",
       "      <td>t</td>\n",
       "      <td>876</td>\n",
       "      <td>65</td>\n",
       "      <td>1.0</td>\n",
       "      <td>0.0</td>\n",
       "      <td>0.0</td>\n",
       "      <td>1.0</td>\n",
       "    </tr>\n",
       "  </tbody>\n",
       "</table>\n",
       "</div>"
      ],
      "text/plain": [
       "  gender  age contract type  ...  gender_m  contract type_p  contract type_t\n",
       "0      m   43             p  ...       1.0              1.0              0.0\n",
       "1      f   21             t  ...       0.0              0.0              1.0\n",
       "2      m   20             p  ...       1.0              1.0              0.0\n",
       "3      f   34             t  ...       0.0              0.0              1.0\n",
       "\n",
       "[4 rows x 9 columns]"
      ]
     },
     "execution_count": 14,
     "metadata": {},
     "output_type": "execute_result"
    }
   ],
   "source": [
    "pd.concat([df,enc],axis=1)"
   ]
  },
  {
   "cell_type": "code",
   "execution_count": null,
   "id": "4a883083-f41d-4774-af17-120b1ff56f5b",
   "metadata": {},
   "outputs": [],
   "source": []
  }
 ],
 "metadata": {
  "kernelspec": {
   "display_name": "Python 3 (ipykernel)",
   "language": "python",
   "name": "python3"
  },
  "language_info": {
   "codemirror_mode": {
    "name": "ipython",
    "version": 3
   },
   "file_extension": ".py",
   "mimetype": "text/x-python",
   "name": "python",
   "nbconvert_exporter": "python",
   "pygments_lexer": "ipython3",
   "version": "3.10.8"
  }
 },
 "nbformat": 4,
 "nbformat_minor": 5
}
