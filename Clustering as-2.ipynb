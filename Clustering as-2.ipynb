{
 "cells": [
  {
   "cell_type": "markdown",
   "id": "18b7b5fa",
   "metadata": {},
   "source": [
    "### ANS 1\n",
    "hierarchical clustring: is clustring algorithim which is used to make cluster. it is different from other clustring algorithim as it intializses every point cluster and make bigger cluster whcih are close to each other until we get the single cluster."
   ]
  },
  {
   "cell_type": "markdown",
   "id": "5f0adc24",
   "metadata": {},
   "source": [
    "### ANS 2\n",
    "Two main types of hierarchical clustring algorithms:\n",
    "1) Agglomerative: it makes every point cluster and make bigger cluster which are close to each other until we get the single cluster.\n",
    "2) Division: first we make one single cluster which covers all point and make cluster until we make every single point cluster."
   ]
  },
  {
   "cell_type": "markdown",
   "id": "6e6060bf",
   "metadata": {},
   "source": [
    "### ANS 3\n",
    "we determine the distance between two cluster by calulating the average distance between two points from different cluster.\n",
    "there are many types of common types of distance metrices we use:\n",
    "1) single linkage: we calcuate the distance between shortest points of different cluster.\n",
    "2) complete linkage: we calculate the distance between two cluster based on the furhtest point of different cluster.\n",
    "3) average linkage: we calcuate the average distance between all possible pairs of points in two clusters."
   ]
  },
  {
   "cell_type": "markdown",
   "id": "e36726bb",
   "metadata": {},
   "source": [
    "### ANS 4\n",
    "we can define opitmal number of cluster by using dindogram. it select the longest vertical line such that no horizontal line passes through it and it passes a horizontal line through every line on its way."
   ]
  },
  {
   "cell_type": "markdown",
   "id": "7792e205",
   "metadata": {},
   "source": [
    "### ANS 5\n",
    "dendograms is the graph of points and distance between them. dendogram is used to find the optimal number of cluster used to represent the data. They are useful in analyzing the results \n",
    "1) it tells the distance between the clusters.\n",
    "2) it helps in determinig the optimal number of clusters.\n",
    "3) pattern and relationship between different clusters or data points can be observed."
   ]
  },
  {
   "cell_type": "markdown",
   "id": "9e035525",
   "metadata": {},
   "source": [
    "### ANS 6\n",
    "yes hierarchical clustering can be used for numerical and categorical data. \n",
    "Numerical data:\n",
    "1) Euclidean distance\n",
    "2) manhattan distance \n",
    "****\n",
    "categorical data: for cateforical data, using distance metrices requires different approah:\n",
    "1) Hamming distance \n",
    "2) jaccard distance \n"
   ]
  },
  {
   "cell_type": "markdown",
   "id": "5a58862f",
   "metadata": {},
   "source": [
    "### ANS 7\n",
    "we can use hierarchical clustring to identify outliers by \n",
    "1) visualzing dendrogram and visually insepct for instances that are either individual cluster or have consideral distance from other clusters.\n",
    "2) we can use method like z-score or interquartile range to identify outliers based on the distance or dissimilarity measures."
   ]
  },
  {
   "cell_type": "code",
   "execution_count": null,
   "id": "046511c1",
   "metadata": {},
   "outputs": [],
   "source": []
  }
 ],
 "metadata": {
  "kernelspec": {
   "display_name": "Python 3 (ipykernel)",
   "language": "python",
   "name": "python3"
  },
  "language_info": {
   "codemirror_mode": {
    "name": "ipython",
    "version": 3
   },
   "file_extension": ".py",
   "mimetype": "text/x-python",
   "name": "python",
   "nbconvert_exporter": "python",
   "pygments_lexer": "ipython3",
   "version": "3.11.4"
  }
 },
 "nbformat": 4,
 "nbformat_minor": 5
}
