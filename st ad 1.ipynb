{
 "cells": [
  {
   "cell_type": "markdown",
   "id": "158fddd0-04c3-437f-b58d-27b01780327c",
   "metadata": {},
   "source": [
    "### ANS 1\n",
    "Probability density fucntion is used to find the desnity probablity of specific range."
   ]
  },
  {
   "cell_type": "markdown",
   "id": "467dd5f0-f5d6-4ad8-9151-d59d91f10a96",
   "metadata": {},
   "source": [
    "### ANS 2\n",
    "there are many types probabilty distribution like:\n",
    "1) Normal distribution \n",
    "2) binomial distribution \n",
    "3) bernolis distribution \n",
    "4) poison distribution \n",
    "5) log normal distribution \n"
   ]
  },
  {
   "cell_type": "markdown",
   "id": "a68c44c1-bb81-4622-b3a8-ff9a7330a4d2",
   "metadata": {},
   "source": [
    "### ANS 7\n",
    "Bionomial distribution is different than poison distribution as it calcualte the number of outcome happening at a particular time but bionomial distribution calculates the number of outcome of something which having for two outcomes and which is repeated over a fixed number of time."
   ]
  },
  {
   "cell_type": "markdown",
   "id": "55f2dba5-3734-4456-8e1a-6d1c05c6fc1d",
   "metadata": {},
   "source": [
    "### ANS 9\n",
    "1) binomial distribution:as the mean increases the the binomial distribution narrowness increases but as the varaince increases it becomes more wider.\n",
    "2) poisson distribution: as the mean increases the distribution becomes taller. but as varaince increases the data more wider distributed.\n"
   ]
  },
  {
   "cell_type": "markdown",
   "id": "bca1b3d6-66d6-4cca-a37e-dbb8bbbe79b5",
   "metadata": {},
   "source": [
    "### ANS 10 \n",
    "as you move away from the mean the frequency of the data decrases  and tails represents the least frequent point."
   ]
  },
  {
   "cell_type": "code",
   "execution_count": 2,
   "id": "c29a4c9c-7682-4a8d-ab6f-ed300b776619",
   "metadata": {},
   "outputs": [],
   "source": [
    "import scipy.stats as stat\n",
    "import pylab \n",
    "import numpy as np\n",
    "import seaborn as sns "
   ]
  },
  {
   "cell_type": "code",
   "execution_count": 3,
   "id": "c1cc6dbf-c2a8-4e1f-8c02-66cd555984f6",
   "metadata": {},
   "outputs": [
    {
     "data": {
      "text/html": [
       "<div>\n",
       "<style scoped>\n",
       "    .dataframe tbody tr th:only-of-type {\n",
       "        vertical-align: middle;\n",
       "    }\n",
       "\n",
       "    .dataframe tbody tr th {\n",
       "        vertical-align: top;\n",
       "    }\n",
       "\n",
       "    .dataframe thead th {\n",
       "        text-align: right;\n",
       "    }\n",
       "</style>\n",
       "<table border=\"1\" class=\"dataframe\">\n",
       "  <thead>\n",
       "    <tr style=\"text-align: right;\">\n",
       "      <th></th>\n",
       "      <th>sepal_length</th>\n",
       "      <th>sepal_width</th>\n",
       "      <th>petal_length</th>\n",
       "      <th>petal_width</th>\n",
       "      <th>species</th>\n",
       "    </tr>\n",
       "  </thead>\n",
       "  <tbody>\n",
       "    <tr>\n",
       "      <th>0</th>\n",
       "      <td>5.1</td>\n",
       "      <td>3.5</td>\n",
       "      <td>1.4</td>\n",
       "      <td>0.2</td>\n",
       "      <td>setosa</td>\n",
       "    </tr>\n",
       "    <tr>\n",
       "      <th>1</th>\n",
       "      <td>4.9</td>\n",
       "      <td>3.0</td>\n",
       "      <td>1.4</td>\n",
       "      <td>0.2</td>\n",
       "      <td>setosa</td>\n",
       "    </tr>\n",
       "    <tr>\n",
       "      <th>2</th>\n",
       "      <td>4.7</td>\n",
       "      <td>3.2</td>\n",
       "      <td>1.3</td>\n",
       "      <td>0.2</td>\n",
       "      <td>setosa</td>\n",
       "    </tr>\n",
       "    <tr>\n",
       "      <th>3</th>\n",
       "      <td>4.6</td>\n",
       "      <td>3.1</td>\n",
       "      <td>1.5</td>\n",
       "      <td>0.2</td>\n",
       "      <td>setosa</td>\n",
       "    </tr>\n",
       "    <tr>\n",
       "      <th>4</th>\n",
       "      <td>5.0</td>\n",
       "      <td>3.6</td>\n",
       "      <td>1.4</td>\n",
       "      <td>0.2</td>\n",
       "      <td>setosa</td>\n",
       "    </tr>\n",
       "  </tbody>\n",
       "</table>\n",
       "</div>"
      ],
      "text/plain": [
       "   sepal_length  sepal_width  petal_length  petal_width species\n",
       "0           5.1          3.5           1.4          0.2  setosa\n",
       "1           4.9          3.0           1.4          0.2  setosa\n",
       "2           4.7          3.2           1.3          0.2  setosa\n",
       "3           4.6          3.1           1.5          0.2  setosa\n",
       "4           5.0          3.6           1.4          0.2  setosa"
      ]
     },
     "execution_count": 3,
     "metadata": {},
     "output_type": "execute_result"
    }
   ],
   "source": [
    "df=sns.load_dataset('iris')\n",
    "df.head()"
   ]
  },
  {
   "cell_type": "code",
   "execution_count": 4,
   "id": "3dbcf722-4ddc-4a3a-9c95-71a25adc2b1e",
   "metadata": {},
   "outputs": [],
   "source": [
    "import matplotlib.pyplot as plt"
   ]
  },
  {
   "cell_type": "markdown",
   "id": "00d6c077-33e4-454a-b6cd-13c11659d296",
   "metadata": {},
   "source": [
    "### ANS 3\n"
   ]
  },
  {
   "cell_type": "code",
   "execution_count": 6,
   "id": "f005f7ee-040e-4048-977f-d321afba45be",
   "metadata": {},
   "outputs": [],
   "source": [
    "import numpy as np\n",
    "import scipy.stats as stats\n",
    "\n",
    "def desnity(point,mean,std):\n",
    "    pdf=stats.norm.pdf(point, loc=mean, scale=std)\n",
    "    return pdf \n"
   ]
  },
  {
   "cell_type": "code",
   "execution_count": 8,
   "id": "8a4dbe4c-7320-47c5-8010-cbe8cdf8139e",
   "metadata": {},
   "outputs": [
    {
     "data": {
      "text/plain": [
       "0.010798193302637612"
      ]
     },
     "execution_count": 8,
     "metadata": {},
     "output_type": "execute_result"
    }
   ],
   "source": [
    "desnity(10,20,5)"
   ]
  },
  {
   "cell_type": "markdown",
   "id": "de8d06fa-f2dd-48c5-8d55-a0b5516cd882",
   "metadata": {},
   "source": [
    "### ANS 4"
   ]
  },
  {
   "cell_type": "markdown",
   "id": "aab96e2c-58cd-410f-85ff-2a99f5ed4128",
   "metadata": {},
   "source": [
    "properties of bionomial distribution are:\n",
    "1) it is consist of n identical trails \n",
    "2) each trails has two outcomes\n",
    "3) probability of succes is p and failure is q=1-p\n",
    "******\n",
    "example of events:\n",
    "1) bionomial distribution of tossing a coin \n",
    "2) bionomial distribution of finding a king in deck of a card\n"
   ]
  },
  {
   "cell_type": "markdown",
   "id": "009ef296-ab5e-42e3-9508-682c0ba3b60b",
   "metadata": {},
   "source": [
    "### ANS 5\n"
   ]
  },
  {
   "cell_type": "code",
   "execution_count": 26,
   "id": "f473173f-822b-4599-9276-a040da790f89",
   "metadata": {},
   "outputs": [
    {
     "data": {
      "image/png": "[encoded data removed]",
      "text/plain": [
       "<Figure size 640x480 with 1 Axes>"
      ]
     },
     "metadata": {},
     "output_type": "display_data"
    }
   ],
   "source": [
    "import numpy as np\n",
    "import matplotlib.pyplot as plt\n",
    "\n",
    "n=1\n",
    "p=0.6\n",
    "b=np.random.binomial(n,p,1000)\n",
    "\n",
    "plt.hist(b)\n",
    "plt.xlabel('number of success')\n",
    "plt.ylabel('probability density')\n",
    "plt.title('histogram')\n",
    "plt.show()\n"
   ]
  },
  {
   "cell_type": "markdown",
   "id": "998744fb-5161-491d-b754-f0df72a210cf",
   "metadata": {},
   "source": [
    "### ANS 8"
   ]
  },
  {
   "cell_type": "code",
   "execution_count": 43,
   "id": "f2f57b25-ec5b-43c6-aacd-8d3f230e5742",
   "metadata": {},
   "outputs": [
    {
     "name": "stdout",
     "output_type": "stream",
     "text": [
      "5.056\n",
      "4.718864\n"
     ]
    }
   ],
   "source": [
    "sample_size=1000\n",
    "mean=5\n",
    "C=np.random.poisson(lam=mean,size=sample_size)\n",
    "\n",
    "sample_mean=np.mean(C)\n",
    "sample_varaince=np.var(C)\n",
    "\n",
    "print(sample_mean)\n",
    "print(sample_varaince)\n",
    "\n"
   ]
  },
  {
   "cell_type": "code",
   "execution_count": null,
   "id": "43e10e47-8776-488b-be3e-4fb81922204b",
   "metadata": {},
   "outputs": [],
   "source": [
    "\n"
   ]
  },
  {
   "cell_type": "code",
   "execution_count": null,
   "id": "84e6695b-bc38-4a7a-b36b-7d49390fcc0e",
   "metadata": {},
   "outputs": [],
   "source": []
  },
  {
   "cell_type": "code",
   "execution_count": null,
   "id": "7ecf8095-27c2-4ba1-9c36-26c8c1a7c5df",
   "metadata": {},
   "outputs": [],
   "source": []
  }
 ],
 "metadata": {
  "kernelspec": {
   "display_name": "Python 3 (ipykernel)",
   "language": "python",
   "name": "python3"
  },
  "language_info": {
   "codemirror_mode": {
    "name": "ipython",
    "version": 3
   },
   "file_extension": ".py",
   "mimetype": "text/x-python",
   "name": "python",
   "nbconvert_exporter": "python",
   "pygments_lexer": "ipython3",
   "version": "3.10.8"
  }
 },
 "nbformat": 4,
 "nbformat_minor": 5
}
