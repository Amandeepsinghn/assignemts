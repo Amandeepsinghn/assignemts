{
 "cells": [
  {
   "cell_type": "markdown",
   "id": "26d8ffa0-ea20-40dc-9271-62d662e6c99d",
   "metadata": {
    "tags": []
   },
   "source": [
    "# Theroy and Concepts"
   ]
  },
  {
   "cell_type": "markdown",
   "id": "81c27bbf-474f-453d-b0b9-5a7a8e0c0482",
   "metadata": {},
   "source": [
    "### ANS 1"
   ]
  },
  {
   "cell_type": "markdown",
   "id": "cedee043-fb37-40ca-b8f2-8e7569e8834d",
   "metadata": {},
   "source": [
    "batch normalization is a technique or a layer which is added between hidden layer of a nerual network to reduce the training time and to obtain better fast result."
   ]
  },
  {
   "cell_type": "markdown",
   "id": "38bc57ba-086c-45f3-a20d-b2e2950edbdd",
   "metadata": {},
   "source": [
    "### ANS 2"
   ]
  },
  {
   "cell_type": "markdown",
   "id": "c5d9afb5-4de4-40a2-9837-996e94836e0a",
   "metadata": {},
   "source": [
    "benefits of using batch normalization:\n",
    "1) faster training \n",
    "2) it solves the problem of internal covariate shift\n",
    "3) it provide stability "
   ]
  },
  {
   "cell_type": "markdown",
   "id": "402bc1c6-808e-4c62-886e-3d080f00a5a0",
   "metadata": {},
   "source": [
    "### ANS 3"
   ]
  },
  {
   "cell_type": "markdown",
   "id": "903f57d2-e0df-40ff-af28-b8e9675dc58e",
   "metadata": {},
   "source": [
    "Working principle of batch normalization:\n",
    "1) first we implement batch normalization between hidden layers.\n",
    "2) then we select mini batch.\n",
    "3) On mini batch we will apply normalization and u and sigma will be selected on the basis of batch size(these are two non-trainable parameter)\n",
    "4) after this we will add or introduce alpha and sigma as a trainable parameter its give premission to neural to adjust data.\n",
    "5) after this we will pass the result to the activation function."
   ]
  },
  {
   "cell_type": "markdown",
   "id": "44378144-288c-4fa0-876a-bff95c9e9d33",
   "metadata": {},
   "source": [
    "# Implementation"
   ]
  },
  {
   "cell_type": "code",
   "execution_count": 2,
   "id": "45dad285-b6f0-4a9e-883e-4b169ee11974",
   "metadata": {
    "tags": []
   },
   "outputs": [
    {
     "name": "stdout",
     "output_type": "stream",
     "text": [
      "WARNING:tensorflow:From C:\\Users\\amand\\anaconda3\\Lib\\site-packages\\keras\\src\\losses.py:2976: The name tf.losses.sparse_softmax_cross_entropy is deprecated. Please use tf.compat.v1.losses.sparse_softmax_cross_entropy instead.\n",
      "\n"
     ]
    }
   ],
   "source": [
    "import os \n",
    "import tensorflow as tf\n",
    "import numpy as np \n",
    "import matplotlib.pyplot as plt \n",
    "import seaborn as sns \n",
    "import time \n",
    "%load_ext tensorboard"
   ]
  },
  {
   "cell_type": "code",
   "execution_count": 5,
   "id": "13ac9be6-0bea-47e3-9013-ce1bd96123e0",
   "metadata": {
    "tags": []
   },
   "outputs": [],
   "source": [
    "(X_train_full,y_train_full),(X_test,y_test)=tf.keras.datasets.fashion_mnist.load_data()\n",
    "X_train_full=X_train_full/255.0\n",
    "X_test=X_test/255.0\n",
    "X_valid,X_train=X_train_full[:5000],X_train_full[5000:]\n",
    "y_valid,y_train=y_train_full[:5000],y_train_full[5000:]"
   ]
  },
  {
   "cell_type": "code",
   "execution_count": 7,
   "id": "9d1931d8-b87a-4ea4-a0ff-e6ae77ff4784",
   "metadata": {
    "tags": []
   },
   "outputs": [
    {
     "name": "stdout",
     "output_type": "stream",
     "text": [
      "WARNING:tensorflow:From C:\\Users\\amand\\anaconda3\\Lib\\site-packages\\keras\\src\\backend.py:873: The name tf.get_default_graph is deprecated. Please use tf.compat.v1.get_default_graph instead.\n",
      "\n"
     ]
    }
   ],
   "source": [
    "LAYERS=[tf.keras.layers.Flatten(input_shape=[28,28]),\n",
    "        tf.keras.layers.Dense(300,kernel_initializer='he_normal'),\n",
    "        tf.keras.layers.LeakyReLU(),\n",
    "        tf.keras.layers.Dense(100,kernel_initializer='he_normal'),\n",
    "        tf.keras.layers.LeakyReLU(),\n",
    "        tf.keras.layers.Dense(10,activation='softmax')\n",
    "       ]"
   ]
  },
  {
   "cell_type": "code",
   "execution_count": 8,
   "id": "b70669c6-1229-4da9-a590-10634177c989",
   "metadata": {
    "tags": []
   },
   "outputs": [],
   "source": [
    "model=tf.keras.models.Sequential(LAYERS)"
   ]
  },
  {
   "cell_type": "code",
   "execution_count": 30,
   "id": "481dfe6e-0024-4581-8042-b2002f0e0545",
   "metadata": {
    "tags": []
   },
   "outputs": [],
   "source": [
    "model.compile(loss='sparse_categorical_crossentropy',\n",
    "              optimizer=tf.keras.optimizers.SGD(),\n",
    "              metrics=['accuracy'])"
   ]
  },
  {
   "cell_type": "code",
   "execution_count": 20,
   "id": "4d3cac76-e609-459a-b001-da5185b1d71e",
   "metadata": {
    "tags": []
   },
   "outputs": [
    {
     "name": "stdout",
     "output_type": "stream",
     "text": [
      "Epoch 1/10\n",
      "WARNING:tensorflow:From C:\\Users\\amand\\anaconda3\\Lib\\site-packages\\keras\\src\\utils\\tf_utils.py:492: The name tf.ragged.RaggedTensorValue is deprecated. Please use tf.compat.v1.ragged.RaggedTensorValue instead.\n",
      "\n",
      "WARNING:tensorflow:From C:\\Users\\amand\\anaconda3\\Lib\\site-packages\\keras\\src\\engine\\base_layer_utils.py:384: The name tf.executing_eagerly_outside_functions is deprecated. Please use tf.compat.v1.executing_eagerly_outside_functions instead.\n",
      "\n",
      "1719/1719 - 3s - loss: 0.6884 - accuracy: 0.7698 - val_loss: 0.5715 - val_accuracy: 0.7940 - 3s/epoch - 2ms/step\n",
      "Epoch 2/10\n",
      "1719/1719 - 2s - loss: 0.4891 - accuracy: 0.8301 - val_loss: 0.4837 - val_accuracy: 0.8242 - 2s/epoch - 1ms/step\n",
      "Epoch 3/10\n",
      "1719/1719 - 2s - loss: 0.4500 - accuracy: 0.8419 - val_loss: 0.4475 - val_accuracy: 0.8498 - 2s/epoch - 1ms/step\n",
      "Epoch 4/10\n",
      "1719/1719 - 2s - loss: 0.4256 - accuracy: 0.8517 - val_loss: 0.4641 - val_accuracy: 0.8360 - 2s/epoch - 1ms/step\n",
      "Epoch 5/10\n",
      "1719/1719 - 2s - loss: 0.4074 - accuracy: 0.8570 - val_loss: 0.4043 - val_accuracy: 0.8624 - 2s/epoch - 1ms/step\n",
      "Epoch 6/10\n",
      "1719/1719 - 2s - loss: 0.3912 - accuracy: 0.8636 - val_loss: 0.3864 - val_accuracy: 0.8672 - 2s/epoch - 1ms/step\n",
      "Epoch 7/10\n",
      "1719/1719 - 3s - loss: 0.3805 - accuracy: 0.8670 - val_loss: 0.3767 - val_accuracy: 0.8682 - 3s/epoch - 1ms/step\n",
      "Epoch 8/10\n",
      "1719/1719 - 3s - loss: 0.3701 - accuracy: 0.8693 - val_loss: 0.3704 - val_accuracy: 0.8708 - 3s/epoch - 2ms/step\n",
      "Epoch 9/10\n",
      "1719/1719 - 3s - loss: 0.3607 - accuracy: 0.8727 - val_loss: 0.3592 - val_accuracy: 0.8756 - 3s/epoch - 2ms/step\n",
      "Epoch 10/10\n",
      "1719/1719 - 3s - loss: 0.3530 - accuracy: 0.8752 - val_loss: 0.3623 - val_accuracy: 0.8700 - 3s/epoch - 2ms/step\n"
     ]
    }
   ],
   "source": [
    "history=model.fit(X_train,y_train,epochs=10,validation_data=(X_valid,y_valid), verbose=2)"
   ]
  },
  {
   "cell_type": "markdown",
   "id": "59fb3c29-e541-4476-afe3-3a4955c38dc4",
   "metadata": {
    "tags": []
   },
   "source": [
    "# WITH BATCH NORMALIZATION"
   ]
  },
  {
   "cell_type": "code",
   "execution_count": 22,
   "id": "50822bc8-1b29-4ed9-82d3-a0b78c28bbc2",
   "metadata": {
    "tags": []
   },
   "outputs": [],
   "source": [
    "del model"
   ]
  },
  {
   "cell_type": "code",
   "execution_count": 26,
   "id": "0dd9bb83-83e9-4ab2-8ba3-9f3e07f6faf6",
   "metadata": {
    "tags": []
   },
   "outputs": [],
   "source": [
    "LAYERS=[tf.keras.layers.Flatten(input_shape=[28,28]),\n",
    "        tf.keras.layers.BatchNormalization(),\n",
    "        tf.keras.layers.Dense(300,activation='relu'),\n",
    "        tf.keras.layers.BatchNormalization(),\n",
    "        tf.keras.layers.Dense(100,activation='relu'),\n",
    "        tf.keras.layers.BatchNormalization(),\n",
    "        tf.keras.layers.Dense(10,activation='softmax')\n",
    "       ]"
   ]
  },
  {
   "cell_type": "code",
   "execution_count": 27,
   "id": "653e0c79-3d0e-4481-8b09-13840987968e",
   "metadata": {
    "tags": []
   },
   "outputs": [],
   "source": [
    "model=tf.keras.models.Sequential(LAYERS)"
   ]
  },
  {
   "cell_type": "code",
   "execution_count": 28,
   "id": "9570372a-7d4f-4c8d-a290-d5707bb55cba",
   "metadata": {
    "tags": []
   },
   "outputs": [
    {
     "name": "stdout",
     "output_type": "stream",
     "text": [
      "Model: \"sequential_2\"\n",
      "_________________________________________________________________\n",
      " Layer (type)                Output Shape              Param #   \n",
      "=================================================================\n",
      " flatten_2 (Flatten)         (None, 784)               0         \n",
      "                                                                 \n",
      " batch_normalization_2 (Bat  (None, 784)               3136      \n",
      " chNormalization)                                                \n",
      "                                                                 \n",
      " dense_6 (Dense)             (None, 300)               235500    \n",
      "                                                                 \n",
      " batch_normalization_3 (Bat  (None, 300)               1200      \n",
      " chNormalization)                                                \n",
      "                                                                 \n",
      " dense_7 (Dense)             (None, 100)               30100     \n",
      "                                                                 \n",
      " batch_normalization_4 (Bat  (None, 100)               400       \n",
      " chNormalization)                                                \n",
      "                                                                 \n",
      " dense_8 (Dense)             (None, 10)                1010      \n",
      "                                                                 \n",
      "=================================================================\n",
      "Total params: 271346 (1.04 MB)\n",
      "Trainable params: 268978 (1.03 MB)\n",
      "Non-trainable params: 2368 (9.25 KB)\n",
      "_________________________________________________________________\n"
     ]
    }
   ],
   "source": [
    "model.summary()"
   ]
  },
  {
   "cell_type": "code",
   "execution_count": 31,
   "id": "09a7e885-96d8-43a9-a3fd-f8bad32036e4",
   "metadata": {
    "tags": []
   },
   "outputs": [
    {
     "name": "stdout",
     "output_type": "stream",
     "text": [
      "Epoch 1/10\n",
      "1719/1719 - 4s - loss: 0.5373 - accuracy: 0.8132 - val_loss: 0.3850 - val_accuracy: 0.8624 - 4s/epoch - 2ms/step\n",
      "Epoch 2/10\n",
      "1719/1719 - 3s - loss: 0.3967 - accuracy: 0.8590 - val_loss: 0.3509 - val_accuracy: 0.8738 - 3s/epoch - 2ms/step\n",
      "Epoch 3/10\n",
      "1719/1719 - 3s - loss: 0.3556 - accuracy: 0.8738 - val_loss: 0.3289 - val_accuracy: 0.8844 - 3s/epoch - 2ms/step\n",
      "Epoch 4/10\n",
      "1719/1719 - 3s - loss: 0.3274 - accuracy: 0.8814 - val_loss: 0.3226 - val_accuracy: 0.8882 - 3s/epoch - 2ms/step\n",
      "Epoch 5/10\n",
      "1719/1719 - 3s - loss: 0.3075 - accuracy: 0.8885 - val_loss: 0.3199 - val_accuracy: 0.8872 - 3s/epoch - 2ms/step\n",
      "Epoch 6/10\n",
      "1719/1719 - 3s - loss: 0.2897 - accuracy: 0.8941 - val_loss: 0.3084 - val_accuracy: 0.8910 - 3s/epoch - 2ms/step\n",
      "Epoch 7/10\n",
      "1719/1719 - 3s - loss: 0.2752 - accuracy: 0.8997 - val_loss: 0.3123 - val_accuracy: 0.8878 - 3s/epoch - 2ms/step\n",
      "Epoch 8/10\n",
      "1719/1719 - 3s - loss: 0.2611 - accuracy: 0.9046 - val_loss: 0.3110 - val_accuracy: 0.8884 - 3s/epoch - 2ms/step\n",
      "Epoch 9/10\n",
      "1719/1719 - 3s - loss: 0.2506 - accuracy: 0.9090 - val_loss: 0.3053 - val_accuracy: 0.8926 - 3s/epoch - 2ms/step\n",
      "Epoch 10/10\n",
      "1719/1719 - 3s - loss: 0.2414 - accuracy: 0.9126 - val_loss: 0.3118 - val_accuracy: 0.8878 - 3s/epoch - 2ms/step\n"
     ]
    }
   ],
   "source": [
    "history=model.fit(X_train,y_train,epochs=10,\n",
    "                  validation_data=(X_valid,y_valid), verbose=2)"
   ]
  },
  {
   "cell_type": "markdown",
   "id": "e9b8dd99-9f6e-46a0-af26-651135fdf2d1",
   "metadata": {},
   "source": [
    "accuracy with batch normalization=91\n",
    "***\n",
    "accuracy without batch normalization=87"
   ]
  },
  {
   "cell_type": "markdown",
   "id": "f9069e3a-fd73-4fb6-8d7c-63f2950a7c19",
   "metadata": {},
   "source": [
    "# Experimentation and Analysis"
   ]
  },
  {
   "cell_type": "markdown",
   "id": "2d06bb35-a3e1-415a-90e2-66451abf2135",
   "metadata": {
    "tags": []
   },
   "source": [
    "### ANS 1"
   ]
  },
  {
   "cell_type": "code",
   "execution_count": 32,
   "id": "938be67c-4cc4-4893-90c4-4e48dbc83836",
   "metadata": {
    "tags": []
   },
   "outputs": [
    {
     "name": "stdout",
     "output_type": "stream",
     "text": [
      "Epoch 1/10\n",
      "1719/1719 [==============================] - 3s 2ms/step - loss: 0.2306 - accuracy: 0.9159\n",
      "Epoch 2/10\n",
      "1719/1719 [==============================] - 3s 2ms/step - loss: 0.2225 - accuracy: 0.9183\n",
      "Epoch 3/10\n",
      "1719/1719 [==============================] - 4s 2ms/step - loss: 0.2140 - accuracy: 0.9213\n",
      "Epoch 4/10\n",
      "1719/1719 [==============================] - 3s 2ms/step - loss: 0.2063 - accuracy: 0.9244\n",
      "Epoch 5/10\n",
      "1719/1719 [==============================] - 3s 2ms/step - loss: 0.1963 - accuracy: 0.9279\n",
      "Epoch 6/10\n",
      "1719/1719 [==============================] - 3s 2ms/step - loss: 0.1930 - accuracy: 0.9292\n",
      "Epoch 7/10\n",
      "1719/1719 [==============================] - 3s 2ms/step - loss: 0.1833 - accuracy: 0.9336\n",
      "Epoch 8/10\n",
      "1719/1719 [==============================] - 4s 2ms/step - loss: 0.1800 - accuracy: 0.9341\n",
      "Epoch 9/10\n",
      "1719/1719 [==============================] - 3s 2ms/step - loss: 0.1726 - accuracy: 0.9371\n",
      "Epoch 10/10\n",
      "1719/1719 [==============================] - 4s 2ms/step - loss: 0.1659 - accuracy: 0.9397\n"
     ]
    },
    {
     "data": {
      "text/plain": [
       "<keras.src.callbacks.History at 0x2c99dd87bd0>"
      ]
     },
     "execution_count": 32,
     "metadata": {},
     "output_type": "execute_result"
    }
   ],
   "source": [
    "model.fit(X_train,y_train,epochs=10,batch_size=32)"
   ]
  },
  {
   "cell_type": "code",
   "execution_count": 33,
   "id": "42e6dd4b-3d90-459c-acf9-b98c9dd64106",
   "metadata": {
    "tags": []
   },
   "outputs": [
    {
     "name": "stdout",
     "output_type": "stream",
     "text": [
      "Epoch 1/10\n",
      "2750/2750 - 5s - loss: 0.2279 - accuracy: 0.9166 - val_loss: 0.3192 - val_accuracy: 0.8900 - 5s/epoch - 2ms/step\n",
      "Epoch 2/10\n",
      "2750/2750 - 4s - loss: 0.2220 - accuracy: 0.9178 - val_loss: 0.3039 - val_accuracy: 0.8962 - 4s/epoch - 2ms/step\n",
      "Epoch 3/10\n",
      "2750/2750 - 4s - loss: 0.2144 - accuracy: 0.9196 - val_loss: 0.3265 - val_accuracy: 0.8900 - 4s/epoch - 2ms/step\n",
      "Epoch 4/10\n",
      "2750/2750 - 5s - loss: 0.2046 - accuracy: 0.9242 - val_loss: 0.3201 - val_accuracy: 0.8934 - 5s/epoch - 2ms/step\n",
      "Epoch 5/10\n",
      "2750/2750 - 5s - loss: 0.1964 - accuracy: 0.9276 - val_loss: 0.3291 - val_accuracy: 0.8940 - 5s/epoch - 2ms/step\n",
      "Epoch 6/10\n",
      "2750/2750 - 5s - loss: 0.1887 - accuracy: 0.9300 - val_loss: 0.3147 - val_accuracy: 0.8958 - 5s/epoch - 2ms/step\n",
      "Epoch 7/10\n",
      "2750/2750 - 5s - loss: 0.1874 - accuracy: 0.9301 - val_loss: 0.3447 - val_accuracy: 0.8896 - 5s/epoch - 2ms/step\n",
      "Epoch 8/10\n",
      "2750/2750 - 5s - loss: 0.1831 - accuracy: 0.9311 - val_loss: 0.3225 - val_accuracy: 0.8988 - 5s/epoch - 2ms/step\n",
      "Epoch 9/10\n",
      "2750/2750 - 5s - loss: 0.1783 - accuracy: 0.9330 - val_loss: 0.3300 - val_accuracy: 0.8958 - 5s/epoch - 2ms/step\n",
      "Epoch 10/10\n",
      "2750/2750 - 5s - loss: 0.1712 - accuracy: 0.9368 - val_loss: 0.3238 - val_accuracy: 0.8960 - 5s/epoch - 2ms/step\n"
     ]
    }
   ],
   "source": [
    "history=model.fit(X_train,y_train,epochs=10,\n",
    "                  validation_data=(X_valid,y_valid), verbose=2,batch_size=20)"
   ]
  },
  {
   "cell_type": "markdown",
   "id": "187a1505-58ac-4bfe-a3b1-321f1588937a",
   "metadata": {},
   "source": [
    "### ANS 2"
   ]
  },
  {
   "cell_type": "markdown",
   "id": "d75624cd-342d-47dc-a2dc-1ca0311dd135",
   "metadata": {},
   "source": [
    "advantages of batch normalization:\n",
    "1) faster training \n",
    "2) it solve the problem of covariant shift \n",
    "3) it provide stablilty \n",
    "***\n",
    "Limitation of batch normalization:\n",
    "1) selecting accurate batch size is crucial and sometimes is time taking \n",
    "2) it is not well suited for online learning \n",
    "3) "
   ]
  },
  {
   "cell_type": "code",
   "execution_count": null,
   "id": "d8f287a2-b834-452c-b691-6679744d084f",
   "metadata": {},
   "outputs": [],
   "source": []
  }
 ],
 "metadata": {
  "kernelspec": {
   "display_name": "Python 3 (ipykernel)",
   "language": "python",
   "name": "python3"
  },
  "language_info": {
   "codemirror_mode": {
    "name": "ipython",
    "version": 3
   },
   "file_extension": ".py",
   "mimetype": "text/x-python",
   "name": "python",
   "nbconvert_exporter": "python",
   "pygments_lexer": "ipython3",
   "version": "3.11.4"
  }
 },
 "nbformat": 4,
 "nbformat_minor": 5
}
