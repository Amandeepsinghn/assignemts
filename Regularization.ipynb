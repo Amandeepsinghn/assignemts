{
 "cells": [
  {
   "cell_type": "markdown",
   "id": "b7380c54-bc7c-4cc1-a58f-adb95690467b",
   "metadata": {},
   "source": [
    "# PART 1"
   ]
  },
  {
   "cell_type": "markdown",
   "id": "b934f6a3-cf99-4061-b021-9d2b12cde168",
   "metadata": {},
   "source": [
    "### ANS 1"
   ]
  },
  {
   "cell_type": "markdown",
   "id": "82c9d4a0-0d89-4c1f-9f96-1b88df21d64f",
   "metadata": {},
   "source": [
    "Regularization is a technique which is used to regularizae the weights of the model.\n",
    "***\n",
    "It is important becuase it helps avoiding overfitting of the model."
   ]
  },
  {
   "cell_type": "markdown",
   "id": "ffb89e17-a366-4c07-bf43-8c643e7c4cc3",
   "metadata": {},
   "source": [
    "### ANS 2"
   ]
  },
  {
   "cell_type": "markdown",
   "id": "3771799e-a6d3-4753-b409-a2faf9aa630f",
   "metadata": {},
   "source": [
    "bias: it is the error occured due to do not able to capture the underlying pattern of the training data which leads to underfitting of the data.\n",
    "varaince: It is the error occured due to the too much complexcitiy of the model which leads to the overfitting of the model.\n",
    "***\n",
    "Regularization helps in addressing this tradeoff by adjusting the weights of each neuron or by switiching off some nueron to avoid too much learning by neuron which helps in not overfitting of the model."
   ]
  },
  {
   "cell_type": "markdown",
   "id": "37131318-5e94-4a6e-9106-d8da25e90896",
   "metadata": {},
   "source": [
    "### ANS 3"
   ]
  },
  {
   "cell_type": "markdown",
   "id": "f40e7594-a83f-4492-bf88-627deadc1cab",
   "metadata": {},
   "source": [
    "L1 REGULARIZATION(LASSO): it is also knows as lasso regularization. Lasso regularization adds penality in the cost function whcih helps in adjusting the weights to fit good in training. it adds lambda(|wi|) to the cost function as the lambda increases some weights might become zero.Effects of l1 regularization:\n",
    "1) it makes some weights zero \n",
    "2) it also used for feature selection.\n",
    "***\n",
    "L2 REGULARIZATION(RIDGE): it is also known as ridge regression.\n",
    "Ridge regression also penality in the cost function which helps in adjusting the weights to fit good in training. It adds lambda(submission(wi)**2)) in the cost function. Effects of l2 regularization\n",
    "1) it makes some weights close to zero but not exactly zero.\n",
    "2) it is specifically used for complex data."
   ]
  },
  {
   "cell_type": "markdown",
   "id": "f2fdc325-3a2c-4fc5-a52b-ac86160fbe25",
   "metadata": {},
   "source": [
    "### ANS 4"
   ]
  },
  {
   "cell_type": "markdown",
   "id": "a8f6a2b7-974e-4577-9380-6ac557bf5691",
   "metadata": {},
   "source": [
    "Role of regularization:\n",
    "1) it adds penality to the cost function.\n",
    "2) it uses lambda as parameter to adjust its value we can find the appropriate model.\n",
    "3) once we get the appropriate lambda we can use it in moldel.\n",
    "4) it adjust weights and select the appropriate weights.\n",
    "5) once weights are adjusted we get avoid the overfitting of the model."
   ]
  },
  {
   "cell_type": "markdown",
   "id": "ec3066a9-5d59-47c2-bdf5-65217b923afb",
   "metadata": {},
   "source": [
    "# PART 2"
   ]
  },
  {
   "cell_type": "markdown",
   "id": "cd83dca9-fafa-42c3-a660-6cceb31191b4",
   "metadata": {},
   "source": [
    "### ANS 5"
   ]
  },
  {
   "cell_type": "markdown",
   "id": "c462cd1b-0e2b-4dbc-a299-cfaec22e35f7",
   "metadata": {},
   "source": [
    "Dropout regularization is a regularization technique which let us select the number of percentage of neuron in a layer which makes them  randomly off for each iteration to avoid overfitting of the data.\n",
    "***\n",
    "Impact of dropout:\n",
    "1) it leads to better generalization.\n",
    "2) it avoids overfitting of the model."
   ]
  },
  {
   "cell_type": "markdown",
   "id": "86fceee2-a347-4e8b-9816-d8b172943f19",
   "metadata": {},
   "source": [
    "### ANS 6"
   ]
  },
  {
   "cell_type": "markdown",
   "id": "a4e822c4-c4c4-4825-9d23-34dccd4de253",
   "metadata": {},
   "source": [
    "Early stopping works as a form of regularization as it stops the model to compile if accuracy is not improving for a certain number of echos.\n",
    "As it stops which help model not to overtrain and eventually avoids the overfitting of the model."
   ]
  },
  {
   "cell_type": "markdown",
   "id": "0e782b33-d21f-409a-939f-ef16b7892898",
   "metadata": {
    "tags": []
   },
   "source": [
    "### ANS 7"
   ]
  },
  {
   "cell_type": "markdown",
   "id": "05b7de14-049f-4787-a1fa-87c64fd8aed7",
   "metadata": {},
   "source": [
    "Batch normalization is a technique which helps the model to train faster and leads to better accuracy of the model. It normalizes the data which have fixed mean and standard deviation for a certain number of batch size. this acts as a form of regularization as it helps the model from fitting the training data too closely. It can also helps in solving exploding gradient problem. It makes model less likely for model to fit noise and outlier in the training data."
   ]
  },
  {
   "cell_type": "markdown",
   "id": "a77684af-7ba3-445b-9252-645a19941283",
   "metadata": {},
   "source": [
    "# PART 3"
   ]
  },
  {
   "cell_type": "code",
   "execution_count": 2,
   "id": "1e4bec2d-562c-4522-82df-c9c61b6b35a0",
   "metadata": {
    "tags": []
   },
   "outputs": [
    {
     "name": "stdout",
     "output_type": "stream",
     "text": [
      "WARNING:tensorflow:From C:\\Users\\amand\\anaconda3\\Lib\\site-packages\\keras\\src\\losses.py:2976: The name tf.losses.sparse_softmax_cross_entropy is deprecated. Please use tf.compat.v1.losses.sparse_softmax_cross_entropy instead.\n",
      "\n"
     ]
    }
   ],
   "source": [
    "import tensorflow as tf \n",
    "import matplotlib.pyplot as plt \n",
    "import numpy as np \n",
    "import pandas as pd \n",
    "import seaborn as sns\n",
    "import os \n",
    "import keras as kf"
   ]
  },
  {
   "cell_type": "markdown",
   "id": "f4bea89b-3dc8-4cda-9b77-d7289f5d01af",
   "metadata": {},
   "source": [
    "### ANS 8"
   ]
  },
  {
   "cell_type": "code",
   "execution_count": 3,
   "id": "046898b4-8226-4147-b726-29c480736fb2",
   "metadata": {
    "tags": []
   },
   "outputs": [],
   "source": [
    "mnist = tf.keras.datasets.mnist\n",
    "(X_train_full, y_train_full), (X_test, y_test) = mnist.load_data()"
   ]
  },
  {
   "cell_type": "code",
   "execution_count": 4,
   "id": "b06777bd-e1e2-46c2-b763-00b4f4455aee",
   "metadata": {
    "tags": []
   },
   "outputs": [],
   "source": [
    "# create a validation data set from the full training data \n",
    "# Scale the data between 0 to 1 by dividing it by 255. as its an unsigned data between 0-255 range\n",
    "X_valid, X_train = X_train_full[:5000] / 255., X_train_full[5000:] / 255.\n",
    "y_valid, y_train = y_train_full[:5000], y_train_full[5000:]\n",
    "\n",
    "# scale the test set as well\n",
    "X_test = X_test / 255.\n"
   ]
  },
  {
   "cell_type": "code",
   "execution_count": 5,
   "id": "933ed948-9971-4b15-9c6a-75b6977f0db0",
   "metadata": {
    "tags": []
   },
   "outputs": [
    {
     "data": {
      "image/png": "[encoded data removed]",
      "text/plain": [
       "<Figure size 640x480 with 1 Axes>"
      ]
     },
     "metadata": {},
     "output_type": "display_data"
    }
   ],
   "source": [
    "# Lets view some data \n",
    "plt.imshow(X_train[0], cmap=\"binary\")\n",
    "plt.show()"
   ]
  },
  {
   "cell_type": "code",
   "execution_count": 6,
   "id": "366b34ff-dd4e-46b4-b01c-9c815066407c",
   "metadata": {
    "tags": []
   },
   "outputs": [
    {
     "name": "stdout",
     "output_type": "stream",
     "text": [
      "WARNING:tensorflow:From C:\\Users\\amand\\anaconda3\\Lib\\site-packages\\keras\\src\\backend.py:873: The name tf.get_default_graph is deprecated. Please use tf.compat.v1.get_default_graph instead.\n",
      "\n"
     ]
    }
   ],
   "source": [
    "# Creating layers of ANN\n",
    "LAYERS = [tf.keras.layers.Flatten(input_shape=[28, 28], name=\"inputLayer\"),\n",
    "          tf.keras.layers.Dense(300, activation=\"relu\", name=\"hiddenLayer1\"),\n",
    "          tf.keras.layers.Dense(100, activation=\"relu\", name=\"hiddenLayer2\"),\n",
    "          tf.keras.layers.Dropout(0.2),\n",
    "          tf.keras.layers.Dense(10, activation=\"softmax\", name=\"outputLayer\")]\n",
    "\n",
    "model_clf = tf.keras.models.Sequential(LAYERS)"
   ]
  },
  {
   "cell_type": "code",
   "execution_count": 7,
   "id": "b3b3bcdc-d7d8-408d-afc3-aff817b6197e",
   "metadata": {
    "tags": []
   },
   "outputs": [
    {
     "name": "stdout",
     "output_type": "stream",
     "text": [
      "WARNING:tensorflow:From C:\\Users\\amand\\anaconda3\\Lib\\site-packages\\keras\\src\\optimizers\\__init__.py:309: The name tf.train.Optimizer is deprecated. Please use tf.compat.v1.train.Optimizer instead.\n",
      "\n"
     ]
    }
   ],
   "source": [
    "LOSS_FUNCTION = \"sparse_categorical_crossentropy\" # use => tf.losses.sparse_categorical_crossentropy\n",
    "OPTIMIZER = \"SGD\" # or use with custom learning rate=> tf.keras.optimizers.SGD(0.02)\n",
    "METRICS = [\"accuracy\"]\n",
    "\n",
    "model_clf.compile(loss=LOSS_FUNCTION,\n",
    "              optimizer=OPTIMIZER,\n",
    "              metrics=METRICS)\n"
   ]
  },
  {
   "cell_type": "code",
   "execution_count": 8,
   "id": "c667e65d-4680-491c-beb4-fda2765b98ad",
   "metadata": {
    "tags": []
   },
   "outputs": [
    {
     "name": "stdout",
     "output_type": "stream",
     "text": [
      "Epoch 1/30\n",
      "WARNING:tensorflow:From C:\\Users\\amand\\anaconda3\\Lib\\site-packages\\keras\\src\\utils\\tf_utils.py:492: The name tf.ragged.RaggedTensorValue is deprecated. Please use tf.compat.v1.ragged.RaggedTensorValue instead.\n",
      "\n",
      "WARNING:tensorflow:From C:\\Users\\amand\\anaconda3\\Lib\\site-packages\\keras\\src\\engine\\base_layer_utils.py:384: The name tf.executing_eagerly_outside_functions is deprecated. Please use tf.compat.v1.executing_eagerly_outside_functions instead.\n",
      "\n",
      "1719/1719 [==============================] - 8s 4ms/step - loss: 0.6834 - accuracy: 0.8058 - val_loss: 0.3114 - val_accuracy: 0.9164\n",
      "Epoch 2/30\n",
      "1719/1719 [==============================] - 7s 4ms/step - loss: 0.3310 - accuracy: 0.9038 - val_loss: 0.2420 - val_accuracy: 0.9318\n",
      "Epoch 3/30\n",
      "1719/1719 [==============================] - 6s 4ms/step - loss: 0.2733 - accuracy: 0.9212 - val_loss: 0.2040 - val_accuracy: 0.9414\n",
      "Epoch 4/30\n",
      "1719/1719 [==============================] - 7s 4ms/step - loss: 0.2333 - accuracy: 0.9329 - val_loss: 0.1845 - val_accuracy: 0.9488\n",
      "Epoch 5/30\n",
      "1719/1719 [==============================] - 7s 4ms/step - loss: 0.2063 - accuracy: 0.9408 - val_loss: 0.1620 - val_accuracy: 0.9554\n",
      "Epoch 6/30\n",
      "1719/1719 [==============================] - 7s 4ms/step - loss: 0.1846 - accuracy: 0.9476 - val_loss: 0.1484 - val_accuracy: 0.9584\n",
      "Epoch 7/30\n",
      "1719/1719 [==============================] - 7s 4ms/step - loss: 0.1656 - accuracy: 0.9523 - val_loss: 0.1373 - val_accuracy: 0.9610\n",
      "Epoch 8/30\n",
      "1719/1719 [==============================] - 7s 4ms/step - loss: 0.1527 - accuracy: 0.9558 - val_loss: 0.1274 - val_accuracy: 0.9638\n",
      "Epoch 9/30\n",
      "1719/1719 [==============================] - 7s 4ms/step - loss: 0.1411 - accuracy: 0.9589 - val_loss: 0.1201 - val_accuracy: 0.9656\n",
      "Epoch 10/30\n",
      "1719/1719 [==============================] - 7s 4ms/step - loss: 0.1292 - accuracy: 0.9635 - val_loss: 0.1134 - val_accuracy: 0.9680\n",
      "Epoch 11/30\n",
      "1719/1719 [==============================] - 7s 4ms/step - loss: 0.1204 - accuracy: 0.9647 - val_loss: 0.1055 - val_accuracy: 0.9698\n",
      "Epoch 12/30\n",
      "1719/1719 [==============================] - 7s 4ms/step - loss: 0.1121 - accuracy: 0.9672 - val_loss: 0.1023 - val_accuracy: 0.9702\n",
      "Epoch 13/30\n",
      "1719/1719 [==============================] - 7s 4ms/step - loss: 0.1053 - accuracy: 0.9695 - val_loss: 0.0993 - val_accuracy: 0.9720\n",
      "Epoch 14/30\n",
      "1719/1719 [==============================] - 7s 4ms/step - loss: 0.0986 - accuracy: 0.9708 - val_loss: 0.0961 - val_accuracy: 0.9716\n",
      "Epoch 15/30\n",
      "1719/1719 [==============================] - 7s 4ms/step - loss: 0.0928 - accuracy: 0.9736 - val_loss: 0.0904 - val_accuracy: 0.9740\n",
      "Epoch 16/30\n",
      "1719/1719 [==============================] - 7s 4ms/step - loss: 0.0880 - accuracy: 0.9742 - val_loss: 0.0864 - val_accuracy: 0.9750\n",
      "Epoch 17/30\n",
      "1719/1719 [==============================] - 7s 4ms/step - loss: 0.0833 - accuracy: 0.9751 - val_loss: 0.0850 - val_accuracy: 0.9752\n",
      "Epoch 18/30\n",
      "1719/1719 [==============================] - 7s 4ms/step - loss: 0.0774 - accuracy: 0.9775 - val_loss: 0.0844 - val_accuracy: 0.9754\n",
      "Epoch 19/30\n",
      "1719/1719 [==============================] - 7s 4ms/step - loss: 0.0747 - accuracy: 0.9779 - val_loss: 0.0824 - val_accuracy: 0.9762\n",
      "Epoch 20/30\n",
      "1719/1719 [==============================] - 7s 4ms/step - loss: 0.0720 - accuracy: 0.9791 - val_loss: 0.0781 - val_accuracy: 0.9768\n",
      "Epoch 21/30\n",
      "1719/1719 [==============================] - 7s 4ms/step - loss: 0.0688 - accuracy: 0.9803 - val_loss: 0.0796 - val_accuracy: 0.9754\n",
      "Epoch 22/30\n",
      "1719/1719 [==============================] - 7s 4ms/step - loss: 0.0644 - accuracy: 0.9816 - val_loss: 0.0763 - val_accuracy: 0.9762\n",
      "Epoch 23/30\n",
      "1719/1719 [==============================] - 7s 4ms/step - loss: 0.0610 - accuracy: 0.9820 - val_loss: 0.0758 - val_accuracy: 0.9776\n",
      "Epoch 24/30\n",
      "1719/1719 [==============================] - 6s 4ms/step - loss: 0.0588 - accuracy: 0.9827 - val_loss: 0.0731 - val_accuracy: 0.9776\n",
      "Epoch 25/30\n",
      "1719/1719 [==============================] - 7s 4ms/step - loss: 0.0563 - accuracy: 0.9836 - val_loss: 0.0736 - val_accuracy: 0.9768\n",
      "Epoch 26/30\n",
      "1719/1719 [==============================] - 7s 4ms/step - loss: 0.0534 - accuracy: 0.9845 - val_loss: 0.0705 - val_accuracy: 0.9788\n",
      "Epoch 27/30\n",
      "1719/1719 [==============================] - 7s 4ms/step - loss: 0.0515 - accuracy: 0.9852 - val_loss: 0.0699 - val_accuracy: 0.9788\n",
      "Epoch 28/30\n",
      "1719/1719 [==============================] - 7s 4ms/step - loss: 0.0496 - accuracy: 0.9855 - val_loss: 0.0703 - val_accuracy: 0.9794\n",
      "Epoch 29/30\n",
      "1719/1719 [==============================] - 6s 4ms/step - loss: 0.0466 - accuracy: 0.9860 - val_loss: 0.0688 - val_accuracy: 0.9796\n",
      "Epoch 30/30\n",
      "1719/1719 [==============================] - 7s 4ms/step - loss: 0.0451 - accuracy: 0.9875 - val_loss: 0.0684 - val_accuracy: 0.9782\n"
     ]
    }
   ],
   "source": [
    "\n",
    "\n",
    "EPOCHS = 30\n",
    "VALIDATION_SET = (X_valid, y_valid)\n",
    "\n",
    "history = model_clf.fit(X_train, y_train, epochs=EPOCHS,\n",
    "                    validation_data=VALIDATION_SET, batch_size=32)\n"
   ]
  },
  {
   "cell_type": "markdown",
   "id": "f305bf25-b869-40e8-aee7-cf04d7c86a98",
   "metadata": {
    "tags": []
   },
   "source": [
    "### ANS 9"
   ]
  },
  {
   "cell_type": "markdown",
   "id": "54314f04-5c6f-4153-9453-a80f7c51a45f",
   "metadata": {
    "tags": []
   },
   "source": [
    "L1: it is specfically used when we have to select the important feature which are correlated to the output feature.\n",
    "L2: it used when the data of the model is too complex.\n",
    "Elastinet: it is used when we have to combine the properties of l1 and l2 both.\n",
    "Dropout: it is used "
   ]
  },
  {
   "cell_type": "code",
   "execution_count": null,
   "id": "11b593b3-b780-4f75-bf8e-a4b2a145ccac",
   "metadata": {
    "tags": []
   },
   "outputs": [],
   "source": []
  },
  {
   "cell_type": "code",
   "execution_count": null,
   "id": "1ed4ea25-5881-4fcf-bc86-190cd2b1a215",
   "metadata": {
    "tags": []
   },
   "outputs": [],
   "source": []
  },
  {
   "cell_type": "code",
   "execution_count": null,
   "id": "d4bd06a6-6f7b-445c-8f93-949f9182ca70",
   "metadata": {},
   "outputs": [],
   "source": []
  }
 ],
 "metadata": {
  "kernelspec": {
   "display_name": "Python 3 (ipykernel)",
   "language": "python",
   "name": "python3"
  },
  "language_info": {
   "codemirror_mode": {
    "name": "ipython",
    "version": 3
   },
   "file_extension": ".py",
   "mimetype": "text/x-python",
   "name": "python",
   "nbconvert_exporter": "python",
   "pygments_lexer": "ipython3",
   "version": "3.11.4"
  }
 },
 "nbformat": 4,
 "nbformat_minor": 5
}
