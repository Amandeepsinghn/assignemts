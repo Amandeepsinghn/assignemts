{
 "cells": [
  {
   "cell_type": "markdown",
   "id": "a8ff854a-4559-4b65-ae05-ae66ebf9d58e",
   "metadata": {},
   "source": [
    "### ans 1\n",
    "1) aritifical intellignece: it is a smart application which can perform its own action without the need of heman being robots.\\n\",\n",
    "2) machine learning: it provides us statstical tools to learn,analyze, visualize,make, predictive models from data for example recommendation system of netflix.\\n\",\n",
    "3) deep learning: it is a subset of machine laerning it main fuction is to mimic human brain for example like image recongnition.\""
   ]
  },
  {
   "cell_type": "raw",
   "id": "cbaf682e-697a-446e-b607-55866af95e29",
   "metadata": {},
   "source": []
  },
  {
   "cell_type": "markdown",
   "id": "c03bb76b-a4ab-4945-9aaa-70d962048441",
   "metadata": {},
   "source": [
    "### ans3\n",
    "unsupervised learning: it makes cluster and not give generate any specific output. for example in a market to sell any cosmetic items we will use supervised larning to target which audience we will find first expendiutre of people based on salary and make the cluster out of it and target the audince which have more expenditure.\""
   ]
  },
  {
   "cell_type": "raw",
   "id": "4a59ea66-acf0-4a28-a48e-2ad3c9450d51",
   "metadata": {},
   "source": []
  },
  {
   "cell_type": "markdown",
   "id": "180366bb-58f5-449a-afc6-1f7cfbc91ef4",
   "metadata": {},
   "source": [
    "### ans 2\n",
    "supervised learning: it is used to make model which give the specific output.it is of two types:\\n\",\n",
    "1) classification:\n",
    "        it gives categorical output\n",
    "2) regression:\n",
    "        it gives continous output \n",
    "****\n",
    "for example:\n",
    "1) finding which student will fail or pass based on the number of hours student study or number of hours student play \n",
    "2) finding accident will happpen or not based on the how much car has been drived and how much distance of competition\""
   ]
  },
  {
   "cell_type": "raw",
   "id": "49f77d30-d559-4c4e-902f-cc46ef57fae5",
   "metadata": {},
   "source": []
  },
  {
   "cell_type": "markdown",
   "id": "98655523-651c-4fa4-ad0c-d343ada9b2cd",
   "metadata": {},
   "source": [
    "### ANS 4\n",
    "main difference between ai,ml,ds is\n",
    "1) ai is a smart application which do not need any human interaction \n",
    "2) ml it is a subset of ai. \n",
    "3) ds deals with ai,ml and dl \n"
   ]
  },
  {
   "cell_type": "raw",
   "id": "e8d6240d-85f4-4eec-ba95-6ea712aa8d87",
   "metadata": {},
   "source": []
  },
  {
   "cell_type": "markdown",
   "id": "df6469f4-95c1-47a1-82bc-a7536e383274",
   "metadata": {},
   "source": [
    "### ANS 5\n",
    "\n",
    "1) supervised: this model produces ouput in categorical data.\n",
    "2) unsupervised: this model produces output in  continous data.\n",
    "3) semi-supervised: this model uses both supervised and unsupervised model the generate the speicific "
   ]
  },
  {
   "cell_type": "raw",
   "id": "952c5e4e-58ea-44dc-b9c0-978e485c0878",
   "metadata": {},
   "source": []
  },
  {
   "cell_type": "markdown",
   "id": "30da93c5-0d3d-4919-8ab6-cadfbd714a08",
   "metadata": {},
   "source": [
    "### ANS 6\n",
    "1) train split:\n",
    "    we train the model \n",
    "2) validation:\n",
    "    we tune or add alogritihim to make the model more precise\n",
    "3) test:\n",
    "    actual testing of the model on unkown dataset."
   ]
  },
  {
   "cell_type": "raw",
   "id": "e7b57d7a-1367-43c1-b23b-a80f1d7feae4",
   "metadata": {},
   "source": []
  },
  {
   "cell_type": "markdown",
   "id": "2ccbb80a-8630-47e5-96b4-59ed0ba194dc",
   "metadata": {},
   "source": [
    "### ANS 7\n",
    "it is valuable technique for anomoly detetction because it do not require label data with predefined anomalies. it allows algorithm to learn patterns and structure the data on its own.\n",
    "1) represent ideal dataset for unsupervised learning\n",
    "2) slect unsupervised learning algorithm\n",
    "3) train the model \n",
    "4) detect the anamoly on new unlabeled data \n",
    "5) select the threshold \n",
    "6) evaluation "
   ]
  },
  {
   "cell_type": "raw",
   "id": "0c5cafc1-d1e2-4c43-a829-018e47778c16",
   "metadata": {},
   "source": []
  },
  {
   "cell_type": "markdown",
   "id": "d2364c1f-ebc8-447f-bf4f-37816bddb5bb",
   "metadata": {},
   "source": [
    "### ANS 8\n",
    "superivsed learning algorithms:\n",
    "1) linear regression: it is used to predict conitnous random oupput \n",
    "2) logistic regression: used for binary classification \n",
    "3) decision trees: effective for both classification and regression tasks \n",
    "unsupervised learning algorithims:\n",
    "1) k-means Clustring: clustures data point into groups based similarity\n",
    "2) hierarchical clustring: build hierarchical representation of data cluster,forming a tree-like structure \n",
    "3) dbscan: identifying cluster of varying shapes and densities."
   ]
  },
  {
   "cell_type": "raw",
   "id": "15406ea6-6179-4e4e-a034-99f52e213f96",
   "metadata": {},
   "source": []
  },
  {
   "cell_type": "code",
   "execution_count": null,
   "id": "2852f59a-8862-4956-9321-41141f9177c5",
   "metadata": {},
   "outputs": [],
   "source": []
  }
 ],
 "metadata": {
  "kernelspec": {
   "display_name": "Python 3 (ipykernel)",
   "language": "python",
   "name": "python3"
  },
  "language_info": {
   "codemirror_mode": {
    "name": "ipython",
    "version": 3
   },
   "file_extension": ".py",
   "mimetype": "text/x-python",
   "name": "python",
   "nbconvert_exporter": "python",
   "pygments_lexer": "ipython3",
   "version": "3.11.4"
  }
 },
 "nbformat": 4,
 "nbformat_minor": 5
}
