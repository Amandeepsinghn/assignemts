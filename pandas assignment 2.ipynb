{
 "cells": [
  {
   "cell_type": "code",
   "execution_count": 1,
   "id": "effd7d51-527a-4406-bcbd-c23790a46afb",
   "metadata": {},
   "outputs": [],
   "source": [
    "import pandas as pd \n",
    "import csv"
   ]
  },
  {
   "cell_type": "markdown",
   "id": "6381a8ba-92ec-4d8c-aad3-ad9d762a1f21",
   "metadata": {},
   "source": [
    "### ANS 1\n",
    "1) describe \n",
    "2) index \n",
    "3) Categorical\n",
    "4) max \n",
    "5) min "
   ]
  },
  {
   "cell_type": "code",
   "execution_count": 43,
   "id": "54189572-1d2d-493a-ae04-601b11a7cbea",
   "metadata": {},
   "outputs": [],
   "source": [
    "df=pd.read_csv('player.csv')"
   ]
  },
  {
   "cell_type": "code",
   "execution_count": 44,
   "id": "ceaa9ad8-a0c2-411f-8f87-69095b8f37e1",
   "metadata": {},
   "outputs": [
    {
     "data": {
      "text/html": [
       "<div>\n",
       "<style scoped>\n",
       "    .dataframe tbody tr th:only-of-type {\n",
       "        vertical-align: middle;\n",
       "    }\n",
       "\n",
       "    .dataframe tbody tr th {\n",
       "        vertical-align: top;\n",
       "    }\n",
       "\n",
       "    .dataframe thead th {\n",
       "        text-align: right;\n",
       "    }\n",
       "</style>\n",
       "<table border=\"1\" class=\"dataframe\">\n",
       "  <thead>\n",
       "    <tr style=\"text-align: right;\">\n",
       "      <th></th>\n",
       "      <th>Rk</th>\n",
       "      <th>Player</th>\n",
       "      <th>Pos</th>\n",
       "      <th>Age</th>\n",
       "      <th>Tm</th>\n",
       "      <th>G</th>\n",
       "      <th>GS</th>\n",
       "      <th>MP</th>\n",
       "      <th>FG</th>\n",
       "      <th>FGA</th>\n",
       "      <th>...</th>\n",
       "      <th>FT%</th>\n",
       "      <th>ORB</th>\n",
       "      <th>DRB</th>\n",
       "      <th>TRB</th>\n",
       "      <th>AST</th>\n",
       "      <th>STL</th>\n",
       "      <th>BLK</th>\n",
       "      <th>TOV</th>\n",
       "      <th>PF</th>\n",
       "      <th>PTS</th>\n",
       "    </tr>\n",
       "  </thead>\n",
       "  <tbody>\n",
       "    <tr>\n",
       "      <th>count</th>\n",
       "      <td>675</td>\n",
       "      <td>675</td>\n",
       "      <td>675</td>\n",
       "      <td>675</td>\n",
       "      <td>675</td>\n",
       "      <td>675</td>\n",
       "      <td>675</td>\n",
       "      <td>675</td>\n",
       "      <td>675</td>\n",
       "      <td>675</td>\n",
       "      <td>...</td>\n",
       "      <td>650</td>\n",
       "      <td>675</td>\n",
       "      <td>675</td>\n",
       "      <td>675</td>\n",
       "      <td>675</td>\n",
       "      <td>675</td>\n",
       "      <td>675</td>\n",
       "      <td>675</td>\n",
       "      <td>675</td>\n",
       "      <td>675</td>\n",
       "    </tr>\n",
       "    <tr>\n",
       "      <th>unique</th>\n",
       "      <td>493</td>\n",
       "      <td>493</td>\n",
       "      <td>12</td>\n",
       "      <td>21</td>\n",
       "      <td>32</td>\n",
       "      <td>84</td>\n",
       "      <td>81</td>\n",
       "      <td>557</td>\n",
       "      <td>327</td>\n",
       "      <td>458</td>\n",
       "      <td>...</td>\n",
       "      <td>275</td>\n",
       "      <td>165</td>\n",
       "      <td>293</td>\n",
       "      <td>350</td>\n",
       "      <td>249</td>\n",
       "      <td>119</td>\n",
       "      <td>98</td>\n",
       "      <td>177</td>\n",
       "      <td>214</td>\n",
       "      <td>463</td>\n",
       "    </tr>\n",
       "    <tr>\n",
       "      <th>top</th>\n",
       "      <td>Rk</td>\n",
       "      <td>Player</td>\n",
       "      <td>SG</td>\n",
       "      <td>23</td>\n",
       "      <td>TOT</td>\n",
       "      <td>82</td>\n",
       "      <td>0</td>\n",
       "      <td>MP</td>\n",
       "      <td>FG</td>\n",
       "      <td>FGA</td>\n",
       "      <td>...</td>\n",
       "      <td>.500</td>\n",
       "      <td>1</td>\n",
       "      <td>DRB</td>\n",
       "      <td>TRB</td>\n",
       "      <td>AST</td>\n",
       "      <td>0</td>\n",
       "      <td>0</td>\n",
       "      <td>TOV</td>\n",
       "      <td>PF</td>\n",
       "      <td>PTS</td>\n",
       "    </tr>\n",
       "    <tr>\n",
       "      <th>freq</th>\n",
       "      <td>24</td>\n",
       "      <td>24</td>\n",
       "      <td>145</td>\n",
       "      <td>86</td>\n",
       "      <td>76</td>\n",
       "      <td>27</td>\n",
       "      <td>179</td>\n",
       "      <td>24</td>\n",
       "      <td>24</td>\n",
       "      <td>24</td>\n",
       "      <td>...</td>\n",
       "      <td>29</td>\n",
       "      <td>30</td>\n",
       "      <td>24</td>\n",
       "      <td>24</td>\n",
       "      <td>24</td>\n",
       "      <td>29</td>\n",
       "      <td>88</td>\n",
       "      <td>24</td>\n",
       "      <td>24</td>\n",
       "      <td>24</td>\n",
       "    </tr>\n",
       "  </tbody>\n",
       "</table>\n",
       "<p>4 rows × 30 columns</p>\n",
       "</div>"
      ],
      "text/plain": [
       "         Rk  Player  Pos  Age   Tm    G   GS   MP   FG  FGA  ...   FT%  ORB  \\\n",
       "count   675     675  675  675  675  675  675  675  675  675  ...   650  675   \n",
       "unique  493     493   12   21   32   84   81  557  327  458  ...   275  165   \n",
       "top      Rk  Player   SG   23  TOT   82    0   MP   FG  FGA  ...  .500    1   \n",
       "freq     24      24  145   86   76   27  179   24   24   24  ...    29   30   \n",
       "\n",
       "        DRB  TRB  AST  STL  BLK  TOV   PF  PTS  \n",
       "count   675  675  675  675  675  675  675  675  \n",
       "unique  293  350  249  119   98  177  214  463  \n",
       "top     DRB  TRB  AST    0    0  TOV   PF  PTS  \n",
       "freq     24   24   24   29   88   24   24   24  \n",
       "\n",
       "[4 rows x 30 columns]"
      ]
     },
     "execution_count": 44,
     "metadata": {},
     "output_type": "execute_result"
    }
   ],
   "source": [
    "df.describe()"
   ]
  },
  {
   "cell_type": "code",
   "execution_count": 7,
   "id": "b6ccd065-82c7-472b-a1cc-3ba49d087508",
   "metadata": {},
   "outputs": [
    {
     "data": {
      "text/plain": [
       "RangeIndex(start=0, stop=675, step=1)"
      ]
     },
     "execution_count": 7,
     "metadata": {},
     "output_type": "execute_result"
    }
   ],
   "source": [
    "df[['Rk','Player']].index"
   ]
  },
  {
   "cell_type": "code",
   "execution_count": 8,
   "id": "724788ab-4538-4d9f-bc18-2c688e385222",
   "metadata": {},
   "outputs": [
    {
     "data": {
      "text/plain": [
       "['1', '2', '3', '4', '5', ..., '490', '490', '490', '491', '492']\n",
       "Length: 675\n",
       "Categories (493, object): ['1', '10', '100', '101', ..., '97', '98', '99', 'Rk']"
      ]
     },
     "execution_count": 8,
     "metadata": {},
     "output_type": "execute_result"
    }
   ],
   "source": [
    "pd.Categorical(df['Rk'])"
   ]
  },
  {
   "cell_type": "code",
   "execution_count": 45,
   "id": "88c109e2-1ed7-47bc-91e6-e2b2ed18c1e7",
   "metadata": {},
   "outputs": [
    {
     "data": {
      "text/plain": [
       "'Age'"
      ]
     },
     "execution_count": 45,
     "metadata": {},
     "output_type": "execute_result"
    }
   ],
   "source": [
    "df['Age'].max()"
   ]
  },
  {
   "cell_type": "code",
   "execution_count": 16,
   "id": "25e6b070-a5c3-4172-96ab-5ebba0568c47",
   "metadata": {},
   "outputs": [
    {
     "data": {
      "text/plain": [
       "'19'"
      ]
     },
     "execution_count": 16,
     "metadata": {},
     "output_type": "execute_result"
    }
   ],
   "source": [
    "min(df['Age'])"
   ]
  },
  {
   "cell_type": "markdown",
   "id": "11ba06c7-dd9b-4468-a171-b944080bc0df",
   "metadata": {},
   "source": [
    "### ANS 6\n",
    "df.read_excel is used to read the excel file "
   ]
  },
  {
   "cell_type": "code",
   "execution_count": 19,
   "id": "ec3c1638-15cb-45b6-97be-94bbfa5d0c3d",
   "metadata": {},
   "outputs": [],
   "source": [
    "pf=pd.read_excel('a.xlsx')"
   ]
  },
  {
   "cell_type": "markdown",
   "id": "63121bee-8129-438b-9543-0d318895beac",
   "metadata": {},
   "source": [
    "### ANS 13\n",
    "pandas library should be imported first to process the necessary fucntion \n"
   ]
  },
  {
   "cell_type": "markdown",
   "id": "263913e6-42b8-42a3-a069-9fe733c23b54",
   "metadata": {},
   "source": [
    "### ANS 3"
   ]
  },
  {
   "cell_type": "code",
   "execution_count": 264,
   "id": "735fa8d4-5258-4909-88f6-fdc7ba1c0bf3",
   "metadata": {},
   "outputs": [],
   "source": [
    "pf1=pd.read_csv('data_1.csv')"
   ]
  },
  {
   "cell_type": "code",
   "execution_count": 265,
   "id": "82501e16-ee3a-485a-9f9c-c2f8b25d2ab5",
   "metadata": {},
   "outputs": [
    {
     "data": {
      "text/html": [
       "<div>\n",
       "<style scoped>\n",
       "    .dataframe tbody tr th:only-of-type {\n",
       "        vertical-align: middle;\n",
       "    }\n",
       "\n",
       "    .dataframe tbody tr th {\n",
       "        vertical-align: top;\n",
       "    }\n",
       "\n",
       "    .dataframe thead th {\n",
       "        text-align: right;\n",
       "    }\n",
       "</style>\n",
       "<table border=\"1\" class=\"dataframe\">\n",
       "  <thead>\n",
       "    <tr style=\"text-align: right;\">\n",
       "      <th></th>\n",
       "      <th>Name</th>\n",
       "      <th>values</th>\n",
       "      <th>Gender</th>\n",
       "    </tr>\n",
       "  </thead>\n",
       "  <tbody>\n",
       "    <tr>\n",
       "      <th>0</th>\n",
       "      <td>Allice</td>\n",
       "      <td>25</td>\n",
       "      <td>Female</td>\n",
       "    </tr>\n",
       "    <tr>\n",
       "      <th>1</th>\n",
       "      <td>bob</td>\n",
       "      <td>30</td>\n",
       "      <td>male</td>\n",
       "    </tr>\n",
       "    <tr>\n",
       "      <th>2</th>\n",
       "      <td>claire</td>\n",
       "      <td>27</td>\n",
       "      <td>female</td>\n",
       "    </tr>\n",
       "    <tr>\n",
       "      <th>3</th>\n",
       "      <td>bob</td>\n",
       "      <td>54</td>\n",
       "      <td>male</td>\n",
       "    </tr>\n",
       "  </tbody>\n",
       "</table>\n",
       "</div>"
      ],
      "text/plain": [
       "     Name  values  Gender\n",
       "0  Allice      25  Female\n",
       "1     bob      30    male\n",
       "2  claire      27  female\n",
       "3     bob      54    male"
      ]
     },
     "execution_count": 265,
     "metadata": {},
     "output_type": "execute_result"
    }
   ],
   "source": [
    "pf1"
   ]
  },
  {
   "cell_type": "code",
   "execution_count": 266,
   "id": "f44590e4-ae45-42f4-8f06-4e8706288cb9",
   "metadata": {},
   "outputs": [
    {
     "data": {
      "text/plain": [
       "0    25\n",
       "1    30\n",
       "2    27\n",
       "3    54\n",
       "Name: values, dtype: int64"
      ]
     },
     "execution_count": 266,
     "metadata": {},
     "output_type": "execute_result"
    }
   ],
   "source": [
    "pf1['values']"
   ]
  },
  {
   "cell_type": "code",
   "execution_count": 267,
   "id": "986d6e7a-11ea-4d61-8859-c034d5ece841",
   "metadata": {},
   "outputs": [],
   "source": [
    "s=pf1['values']"
   ]
  },
  {
   "cell_type": "code",
   "execution_count": 268,
   "id": "c9c117ff-aa8a-4335-8700-7f1b57add7f2",
   "metadata": {},
   "outputs": [],
   "source": [
    "def plus(s):\n",
    "    sum=0\n",
    "    for i in s[:3]:\n",
    "        sum+=i\n",
    "    return(sum)\n",
    "    "
   ]
  },
  {
   "cell_type": "code",
   "execution_count": 269,
   "id": "16a652d5-81a5-4ef0-9245-061c4b95f423",
   "metadata": {},
   "outputs": [
    {
     "data": {
      "text/plain": [
       "82"
      ]
     },
     "execution_count": 269,
     "metadata": {},
     "output_type": "execute_result"
    }
   ],
   "source": [
    "plus(s)"
   ]
  },
  {
   "cell_type": "markdown",
   "id": "878818f4-04ed-488e-9262-9ec4f3d2b841",
   "metadata": {},
   "source": [
    "### OR"
   ]
  },
  {
   "cell_type": "code",
   "execution_count": 52,
   "id": "e08d48ee-4592-40b7-8623-02478ee1b146",
   "metadata": {},
   "outputs": [],
   "source": [
    "s1=pf1['values'][:3]"
   ]
  },
  {
   "cell_type": "code",
   "execution_count": 53,
   "id": "0a66be82-82d2-4b0d-a494-ca29ca4b5277",
   "metadata": {},
   "outputs": [
    {
     "data": {
      "text/plain": [
       "82"
      ]
     },
     "execution_count": 53,
     "metadata": {},
     "output_type": "execute_result"
    }
   ],
   "source": [
    "s1.sum()"
   ]
  },
  {
   "cell_type": "markdown",
   "id": "bac5417b-5dcf-4f71-aea6-3f0defc98a55",
   "metadata": {},
   "source": [
    "### ANS 7"
   ]
  },
  {
   "cell_type": "code",
   "execution_count": 90,
   "id": "4455c117-2399-4b7a-83ef-3411e2048123",
   "metadata": {},
   "outputs": [],
   "source": [
    "email=[['sr.no','email'],\n",
    "       [1,'aman@gmail.com'],\n",
    "       [2,'shomiya@gmail.com'],\n",
    "       [3,'deepak@gmail.com']\n",
    "      ]"
   ]
  },
  {
   "cell_type": "code",
   "execution_count": 91,
   "id": "8199c9cb-0edb-4970-8abc-7f78e49ea21f",
   "metadata": {},
   "outputs": [],
   "source": [
    "with open('email.csv','w') as f:\n",
    "    writer=csv.writer(f) \n",
    "    \n",
    "    for i in email:\n",
    "        writer.writerow(i)\n",
    "    "
   ]
  },
  {
   "cell_type": "code",
   "execution_count": 36,
   "id": "e128692e-f581-486f-856d-4a549a89b759",
   "metadata": {},
   "outputs": [],
   "source": [
    "pf2=pd.read_csv('email.csv')"
   ]
  },
  {
   "cell_type": "code",
   "execution_count": 38,
   "id": "50408869-9b47-47f0-8f80-73eaf09de291",
   "metadata": {},
   "outputs": [
    {
     "data": {
      "text/plain": [
       "0       aman@gmail.com\n",
       "1    shomiya@gmail.com\n",
       "2     deepak@gmail.com\n",
       "Name: email, dtype: object"
      ]
     },
     "execution_count": 38,
     "metadata": {},
     "output_type": "execute_result"
    }
   ],
   "source": [
    "pf2['email']"
   ]
  },
  {
   "cell_type": "code",
   "execution_count": 93,
   "id": "04a5131f-9d5d-4f0a-a800-da85877123fe",
   "metadata": {},
   "outputs": [],
   "source": [
    "s=pf2['email']\n"
   ]
  },
  {
   "cell_type": "code",
   "execution_count": 100,
   "id": "aa2405f4-3304-4834-99eb-191249671826",
   "metadata": {},
   "outputs": [],
   "source": [
    "l=[]\n",
    "for i in s:\n",
    "    l.append(i) \n"
   ]
  },
  {
   "cell_type": "code",
   "execution_count": 107,
   "id": "65072e4e-20d0-4f96-a821-556880bd3ffe",
   "metadata": {},
   "outputs": [],
   "source": [
    "l2=[]\n",
    "for i in l:\n",
    "    i=i.replace('@gmail.com','')\n",
    "    l2.append(i)"
   ]
  },
  {
   "cell_type": "code",
   "execution_count": 110,
   "id": "c91a7cff-97b6-4e3f-a525-01ff176dfa60",
   "metadata": {},
   "outputs": [],
   "source": [
    "pf2['username']=l2"
   ]
  },
  {
   "cell_type": "code",
   "execution_count": 111,
   "id": "fb48883a-e09b-4097-8dd5-7370e19cea87",
   "metadata": {},
   "outputs": [
    {
     "data": {
      "text/html": [
       "<div>\n",
       "<style scoped>\n",
       "    .dataframe tbody tr th:only-of-type {\n",
       "        vertical-align: middle;\n",
       "    }\n",
       "\n",
       "    .dataframe tbody tr th {\n",
       "        vertical-align: top;\n",
       "    }\n",
       "\n",
       "    .dataframe thead th {\n",
       "        text-align: right;\n",
       "    }\n",
       "</style>\n",
       "<table border=\"1\" class=\"dataframe\">\n",
       "  <thead>\n",
       "    <tr style=\"text-align: right;\">\n",
       "      <th></th>\n",
       "      <th>sr.no</th>\n",
       "      <th>email</th>\n",
       "      <th>username</th>\n",
       "    </tr>\n",
       "  </thead>\n",
       "  <tbody>\n",
       "    <tr>\n",
       "      <th>0</th>\n",
       "      <td>1</td>\n",
       "      <td>aman@gmail.com</td>\n",
       "      <td>aman</td>\n",
       "    </tr>\n",
       "    <tr>\n",
       "      <th>1</th>\n",
       "      <td>2</td>\n",
       "      <td>shomiya@gmail.com</td>\n",
       "      <td>shomiya</td>\n",
       "    </tr>\n",
       "    <tr>\n",
       "      <th>2</th>\n",
       "      <td>3</td>\n",
       "      <td>deepak@gmail.com</td>\n",
       "      <td>deepak</td>\n",
       "    </tr>\n",
       "  </tbody>\n",
       "</table>\n",
       "</div>"
      ],
      "text/plain": [
       "   sr.no              email username\n",
       "0      1     aman@gmail.com     aman\n",
       "1      2  shomiya@gmail.com  shomiya\n",
       "2      3   deepak@gmail.com   deepak"
      ]
     },
     "execution_count": 111,
     "metadata": {},
     "output_type": "execute_result"
    }
   ],
   "source": [
    "pf2"
   ]
  },
  {
   "cell_type": "markdown",
   "id": "6e254acd-f283-46bc-a819-836643ed3ceb",
   "metadata": {},
   "source": [
    "### OR"
   ]
  },
  {
   "cell_type": "code",
   "execution_count": null,
   "id": "dfeb4b36-5d24-4297-88cf-085dee7765ea",
   "metadata": {},
   "outputs": [],
   "source": [
    "s=pf2['email']\n",
    "def re(s):\n",
    "    return(s[:-10])\n",
    "pf2['username']=s.apply(re)"
   ]
  },
  {
   "cell_type": "markdown",
   "id": "0c9aecc3-ad18-4e37-bae7-96c0d504faff",
   "metadata": {},
   "source": [
    "### ANS 8"
   ]
  },
  {
   "cell_type": "code",
   "execution_count": 112,
   "id": "30312464-49ee-426a-af22-299fe4d8414b",
   "metadata": {},
   "outputs": [],
   "source": [
    "data_7=[['A','B','C'],\n",
    "        [1,2,3],\n",
    "        [6,8,7],\n",
    "        [2,5,8],\n",
    "        [8,3,4],\n",
    "        [5,1,2]\n",
    "       ]"
   ]
  },
  {
   "cell_type": "code",
   "execution_count": 113,
   "id": "5f97fe4e-1990-4cec-aa34-2a36e23971b4",
   "metadata": {},
   "outputs": [],
   "source": [
    "with open('data_7.csv','w') as f:\n",
    "    writer=csv.writer(f)\n",
    "    \n",
    "    for i in data_7:\n",
    "        writer.writerow(i)"
   ]
  },
  {
   "cell_type": "code",
   "execution_count": 3,
   "id": "8b6b7ee5-ca50-4ffb-827f-1e0dc6622c57",
   "metadata": {},
   "outputs": [],
   "source": [
    "pf=pd.read_csv('data_7.csv')"
   ]
  },
  {
   "cell_type": "code",
   "execution_count": 4,
   "id": "720b69a7-7825-4b62-b4ec-346779b15e46",
   "metadata": {},
   "outputs": [
    {
     "data": {
      "text/html": [
       "<div>\n",
       "<style scoped>\n",
       "    .dataframe tbody tr th:only-of-type {\n",
       "        vertical-align: middle;\n",
       "    }\n",
       "\n",
       "    .dataframe tbody tr th {\n",
       "        vertical-align: top;\n",
       "    }\n",
       "\n",
       "    .dataframe thead th {\n",
       "        text-align: right;\n",
       "    }\n",
       "</style>\n",
       "<table border=\"1\" class=\"dataframe\">\n",
       "  <thead>\n",
       "    <tr style=\"text-align: right;\">\n",
       "      <th></th>\n",
       "      <th>A</th>\n",
       "      <th>B</th>\n",
       "      <th>C</th>\n",
       "    </tr>\n",
       "  </thead>\n",
       "  <tbody>\n",
       "    <tr>\n",
       "      <th>0</th>\n",
       "      <td>1</td>\n",
       "      <td>2</td>\n",
       "      <td>3</td>\n",
       "    </tr>\n",
       "    <tr>\n",
       "      <th>1</th>\n",
       "      <td>6</td>\n",
       "      <td>8</td>\n",
       "      <td>7</td>\n",
       "    </tr>\n",
       "    <tr>\n",
       "      <th>2</th>\n",
       "      <td>2</td>\n",
       "      <td>5</td>\n",
       "      <td>8</td>\n",
       "    </tr>\n",
       "    <tr>\n",
       "      <th>3</th>\n",
       "      <td>8</td>\n",
       "      <td>3</td>\n",
       "      <td>4</td>\n",
       "    </tr>\n",
       "    <tr>\n",
       "      <th>4</th>\n",
       "      <td>5</td>\n",
       "      <td>1</td>\n",
       "      <td>2</td>\n",
       "    </tr>\n",
       "  </tbody>\n",
       "</table>\n",
       "</div>"
      ],
      "text/plain": [
       "   A  B  C\n",
       "0  1  2  3\n",
       "1  6  8  7\n",
       "2  2  5  8\n",
       "3  8  3  4\n",
       "4  5  1  2"
      ]
     },
     "execution_count": 4,
     "metadata": {},
     "output_type": "execute_result"
    }
   ],
   "source": [
    "pf"
   ]
  },
  {
   "cell_type": "code",
   "execution_count": 39,
   "id": "17ec1a12-dec9-498b-a962-4420cf42ccc2",
   "metadata": {},
   "outputs": [
    {
     "data": {
      "text/html": [
       "<div>\n",
       "<style scoped>\n",
       "    .dataframe tbody tr th:only-of-type {\n",
       "        vertical-align: middle;\n",
       "    }\n",
       "\n",
       "    .dataframe tbody tr th {\n",
       "        vertical-align: top;\n",
       "    }\n",
       "\n",
       "    .dataframe thead th {\n",
       "        text-align: right;\n",
       "    }\n",
       "</style>\n",
       "<table border=\"1\" class=\"dataframe\">\n",
       "  <thead>\n",
       "    <tr style=\"text-align: right;\">\n",
       "      <th></th>\n",
       "      <th>A</th>\n",
       "      <th>B</th>\n",
       "      <th>C</th>\n",
       "    </tr>\n",
       "  </thead>\n",
       "  <tbody>\n",
       "    <tr>\n",
       "      <th>0</th>\n",
       "      <td>NaN</td>\n",
       "      <td>2</td>\n",
       "      <td>3</td>\n",
       "    </tr>\n",
       "    <tr>\n",
       "      <th>1</th>\n",
       "      <td>6.0</td>\n",
       "      <td>8</td>\n",
       "      <td>7</td>\n",
       "    </tr>\n",
       "    <tr>\n",
       "      <th>2</th>\n",
       "      <td>NaN</td>\n",
       "      <td>5</td>\n",
       "      <td>8</td>\n",
       "    </tr>\n",
       "    <tr>\n",
       "      <th>3</th>\n",
       "      <td>8.0</td>\n",
       "      <td>3</td>\n",
       "      <td>4</td>\n",
       "    </tr>\n",
       "    <tr>\n",
       "      <th>4</th>\n",
       "      <td>NaN</td>\n",
       "      <td>1</td>\n",
       "      <td>2</td>\n",
       "    </tr>\n",
       "  </tbody>\n",
       "</table>\n",
       "</div>"
      ],
      "text/plain": [
       "     A  B  C\n",
       "0  NaN  2  3\n",
       "1  6.0  8  7\n",
       "2  NaN  5  8\n",
       "3  8.0  3  4\n",
       "4  NaN  1  2"
      ]
     },
     "execution_count": 39,
     "metadata": {},
     "output_type": "execute_result"
    }
   ],
   "source": [
    "q=pf.loc[pf[\"A\"]>5,[\"A\"]].squeeze()\n",
    "w=pf.loc[pf[\"B\"]<10,[\"B\"]].squeeze()\n",
    "e=pf[\"C\"].squeeze()\n",
    "\n",
    "data={\"A\":q,\"B\":w,\"C\":e}\n",
    "\n",
    "pd.DataFrame(data)\n",
    "\n"
   ]
  },
  {
   "cell_type": "markdown",
   "id": "3c2084e8-979b-4785-8ab0-a8c436b39b62",
   "metadata": {},
   "source": [
    "### OR\n"
   ]
  },
  {
   "cell_type": "code",
   "execution_count": 43,
   "id": "d9e6d7a0-0ab7-48b3-8f86-b3b162551454",
   "metadata": {},
   "outputs": [],
   "source": [
    "def filter(pf):\n",
    "    slected_row=pf[(pf[\"A\"]>5) & (pf[\"B\"]<10)]\n",
    "    return slected_row[[\"A\",\"B\",\"C\"]]\n",
    "\n",
    "\n"
   ]
  },
  {
   "cell_type": "code",
   "execution_count": 45,
   "id": "c1360e0e-195d-4079-bddc-2f6643046724",
   "metadata": {},
   "outputs": [
    {
     "data": {
      "text/html": [
       "<div>\n",
       "<style scoped>\n",
       "    .dataframe tbody tr th:only-of-type {\n",
       "        vertical-align: middle;\n",
       "    }\n",
       "\n",
       "    .dataframe tbody tr th {\n",
       "        vertical-align: top;\n",
       "    }\n",
       "\n",
       "    .dataframe thead th {\n",
       "        text-align: right;\n",
       "    }\n",
       "</style>\n",
       "<table border=\"1\" class=\"dataframe\">\n",
       "  <thead>\n",
       "    <tr style=\"text-align: right;\">\n",
       "      <th></th>\n",
       "      <th>A</th>\n",
       "      <th>B</th>\n",
       "      <th>C</th>\n",
       "    </tr>\n",
       "  </thead>\n",
       "  <tbody>\n",
       "    <tr>\n",
       "      <th>1</th>\n",
       "      <td>6</td>\n",
       "      <td>8</td>\n",
       "      <td>7</td>\n",
       "    </tr>\n",
       "    <tr>\n",
       "      <th>3</th>\n",
       "      <td>8</td>\n",
       "      <td>3</td>\n",
       "      <td>4</td>\n",
       "    </tr>\n",
       "  </tbody>\n",
       "</table>\n",
       "</div>"
      ],
      "text/plain": [
       "   A  B  C\n",
       "1  6  8  7\n",
       "3  8  3  4"
      ]
     },
     "execution_count": 45,
     "metadata": {},
     "output_type": "execute_result"
    }
   ],
   "source": [
    "filter(pf)"
   ]
  },
  {
   "cell_type": "markdown",
   "id": "ed845533-0b04-4425-bc8b-4f017c4b4021",
   "metadata": {},
   "source": [
    "### ANS 2"
   ]
  },
  {
   "cell_type": "code",
   "execution_count": 46,
   "id": "ba23c5e8-c1ed-4154-8c4a-6704a7b876c5",
   "metadata": {},
   "outputs": [
    {
     "data": {
      "text/html": [
       "<div>\n",
       "<style scoped>\n",
       "    .dataframe tbody tr th:only-of-type {\n",
       "        vertical-align: middle;\n",
       "    }\n",
       "\n",
       "    .dataframe tbody tr th {\n",
       "        vertical-align: top;\n",
       "    }\n",
       "\n",
       "    .dataframe thead th {\n",
       "        text-align: right;\n",
       "    }\n",
       "</style>\n",
       "<table border=\"1\" class=\"dataframe\">\n",
       "  <thead>\n",
       "    <tr style=\"text-align: right;\">\n",
       "      <th></th>\n",
       "      <th>A</th>\n",
       "      <th>B</th>\n",
       "      <th>C</th>\n",
       "    </tr>\n",
       "  </thead>\n",
       "  <tbody>\n",
       "    <tr>\n",
       "      <th>0</th>\n",
       "      <td>1</td>\n",
       "      <td>2</td>\n",
       "      <td>3</td>\n",
       "    </tr>\n",
       "    <tr>\n",
       "      <th>1</th>\n",
       "      <td>6</td>\n",
       "      <td>8</td>\n",
       "      <td>7</td>\n",
       "    </tr>\n",
       "    <tr>\n",
       "      <th>2</th>\n",
       "      <td>2</td>\n",
       "      <td>5</td>\n",
       "      <td>8</td>\n",
       "    </tr>\n",
       "    <tr>\n",
       "      <th>3</th>\n",
       "      <td>8</td>\n",
       "      <td>3</td>\n",
       "      <td>4</td>\n",
       "    </tr>\n",
       "    <tr>\n",
       "      <th>4</th>\n",
       "      <td>5</td>\n",
       "      <td>1</td>\n",
       "      <td>2</td>\n",
       "    </tr>\n",
       "  </tbody>\n",
       "</table>\n",
       "</div>"
      ],
      "text/plain": [
       "   A  B  C\n",
       "0  1  2  3\n",
       "1  6  8  7\n",
       "2  2  5  8\n",
       "3  8  3  4\n",
       "4  5  1  2"
      ]
     },
     "execution_count": 46,
     "metadata": {},
     "output_type": "execute_result"
    }
   ],
   "source": [
    "pf"
   ]
  },
  {
   "cell_type": "code",
   "execution_count": 86,
   "id": "16fd3c2b-83ad-4cc1-ac9f-4e2bef3e1241",
   "metadata": {},
   "outputs": [],
   "source": [
    "def index(pf):\n",
    "    new_index=range(1,len(pf)*2,2)\n",
    "    pf.index=new_index\n",
    "    return(pf)\n",
    "        \n",
    "        "
   ]
  },
  {
   "cell_type": "code",
   "execution_count": 87,
   "id": "e10c9ccd-a7f2-4dbb-b985-5e770a112579",
   "metadata": {},
   "outputs": [
    {
     "data": {
      "text/html": [
       "<div>\n",
       "<style scoped>\n",
       "    .dataframe tbody tr th:only-of-type {\n",
       "        vertical-align: middle;\n",
       "    }\n",
       "\n",
       "    .dataframe tbody tr th {\n",
       "        vertical-align: top;\n",
       "    }\n",
       "\n",
       "    .dataframe thead th {\n",
       "        text-align: right;\n",
       "    }\n",
       "</style>\n",
       "<table border=\"1\" class=\"dataframe\">\n",
       "  <thead>\n",
       "    <tr style=\"text-align: right;\">\n",
       "      <th></th>\n",
       "      <th>A</th>\n",
       "      <th>B</th>\n",
       "      <th>C</th>\n",
       "    </tr>\n",
       "  </thead>\n",
       "  <tbody>\n",
       "    <tr>\n",
       "      <th>1</th>\n",
       "      <td>1</td>\n",
       "      <td>2</td>\n",
       "      <td>3</td>\n",
       "    </tr>\n",
       "    <tr>\n",
       "      <th>3</th>\n",
       "      <td>6</td>\n",
       "      <td>8</td>\n",
       "      <td>7</td>\n",
       "    </tr>\n",
       "    <tr>\n",
       "      <th>5</th>\n",
       "      <td>2</td>\n",
       "      <td>5</td>\n",
       "      <td>8</td>\n",
       "    </tr>\n",
       "    <tr>\n",
       "      <th>7</th>\n",
       "      <td>8</td>\n",
       "      <td>3</td>\n",
       "      <td>4</td>\n",
       "    </tr>\n",
       "    <tr>\n",
       "      <th>9</th>\n",
       "      <td>5</td>\n",
       "      <td>1</td>\n",
       "      <td>2</td>\n",
       "    </tr>\n",
       "  </tbody>\n",
       "</table>\n",
       "</div>"
      ],
      "text/plain": [
       "   A  B  C\n",
       "1  1  2  3\n",
       "3  6  8  7\n",
       "5  2  5  8\n",
       "7  8  3  4\n",
       "9  5  1  2"
      ]
     },
     "execution_count": 87,
     "metadata": {},
     "output_type": "execute_result"
    }
   ],
   "source": [
    "index(pf)"
   ]
  },
  {
   "cell_type": "code",
   "execution_count": 92,
   "id": "0c507aae-ce17-4ded-a743-1561cf51cae2",
   "metadata": {},
   "outputs": [],
   "source": [
    "def index(pf):\n",
    "    new_index=range(1,len(pf)*2,2)\n",
    "    for i, idx in enumerate(new_index):\n",
    "        pf.index.values[i]=idx\n",
    "    return(pf)"
   ]
  },
  {
   "cell_type": "code",
   "execution_count": 93,
   "id": "299c52ac-0825-437a-8d93-713cef821f8d",
   "metadata": {},
   "outputs": [
    {
     "data": {
      "text/html": [
       "<div>\n",
       "<style scoped>\n",
       "    .dataframe tbody tr th:only-of-type {\n",
       "        vertical-align: middle;\n",
       "    }\n",
       "\n",
       "    .dataframe tbody tr th {\n",
       "        vertical-align: top;\n",
       "    }\n",
       "\n",
       "    .dataframe thead th {\n",
       "        text-align: right;\n",
       "    }\n",
       "</style>\n",
       "<table border=\"1\" class=\"dataframe\">\n",
       "  <thead>\n",
       "    <tr style=\"text-align: right;\">\n",
       "      <th></th>\n",
       "      <th>A</th>\n",
       "      <th>B</th>\n",
       "      <th>C</th>\n",
       "    </tr>\n",
       "  </thead>\n",
       "  <tbody>\n",
       "    <tr>\n",
       "      <th>1</th>\n",
       "      <td>1</td>\n",
       "      <td>2</td>\n",
       "      <td>3</td>\n",
       "    </tr>\n",
       "    <tr>\n",
       "      <th>3</th>\n",
       "      <td>6</td>\n",
       "      <td>8</td>\n",
       "      <td>7</td>\n",
       "    </tr>\n",
       "    <tr>\n",
       "      <th>5</th>\n",
       "      <td>2</td>\n",
       "      <td>5</td>\n",
       "      <td>8</td>\n",
       "    </tr>\n",
       "    <tr>\n",
       "      <th>7</th>\n",
       "      <td>8</td>\n",
       "      <td>3</td>\n",
       "      <td>4</td>\n",
       "    </tr>\n",
       "    <tr>\n",
       "      <th>9</th>\n",
       "      <td>5</td>\n",
       "      <td>1</td>\n",
       "      <td>2</td>\n",
       "    </tr>\n",
       "  </tbody>\n",
       "</table>\n",
       "</div>"
      ],
      "text/plain": [
       "   A  B  C\n",
       "1  1  2  3\n",
       "3  6  8  7\n",
       "5  2  5  8\n",
       "7  8  3  4\n",
       "9  5  1  2"
      ]
     },
     "execution_count": 93,
     "metadata": {},
     "output_type": "execute_result"
    }
   ],
   "source": [
    "index(pf)"
   ]
  },
  {
   "cell_type": "markdown",
   "id": "629ab4bf-ac83-45c2-9296-644d084a5122",
   "metadata": {},
   "source": [
    "### ANS 4"
   ]
  },
  {
   "cell_type": "code",
   "execution_count": 163,
   "id": "3b987988-a4e1-4284-be11-ee8764fb9e63",
   "metadata": {},
   "outputs": [],
   "source": [
    "word=[['sr.no','text'],\n",
    "      [1,'everything is fine'],\n",
    "      [2,'loop is troublesome']\n",
    "     ]\n",
    "      "
   ]
  },
  {
   "cell_type": "code",
   "execution_count": 165,
   "id": "3df8e16b-a6f1-432c-93fd-65420b7eb25c",
   "metadata": {},
   "outputs": [],
   "source": [
    "with open('word.csv','w') as f:\n",
    "    writer=csv.writer(f) \n",
    "    \n",
    "    for i in word:\n",
    "        writer.writerow(i)\n",
    "    "
   ]
  },
  {
   "cell_type": "code",
   "execution_count": 169,
   "id": "0e3a2ba5-a3f7-4871-a18f-097351d903a8",
   "metadata": {},
   "outputs": [],
   "source": [
    "df=pd.read_csv('word.csv')"
   ]
  },
  {
   "cell_type": "code",
   "execution_count": 172,
   "id": "55e80d63-09df-4188-8184-4ca1267ca653",
   "metadata": {},
   "outputs": [
    {
     "data": {
      "text/html": [
       "<div>\n",
       "<style scoped>\n",
       "    .dataframe tbody tr th:only-of-type {\n",
       "        vertical-align: middle;\n",
       "    }\n",
       "\n",
       "    .dataframe tbody tr th {\n",
       "        vertical-align: top;\n",
       "    }\n",
       "\n",
       "    .dataframe thead th {\n",
       "        text-align: right;\n",
       "    }\n",
       "</style>\n",
       "<table border=\"1\" class=\"dataframe\">\n",
       "  <thead>\n",
       "    <tr style=\"text-align: right;\">\n",
       "      <th></th>\n",
       "      <th>sr.no</th>\n",
       "      <th>text</th>\n",
       "    </tr>\n",
       "  </thead>\n",
       "  <tbody>\n",
       "    <tr>\n",
       "      <th>0</th>\n",
       "      <td>1</td>\n",
       "      <td>everything is fine</td>\n",
       "    </tr>\n",
       "    <tr>\n",
       "      <th>1</th>\n",
       "      <td>2</td>\n",
       "      <td>loop is troublesome</td>\n",
       "    </tr>\n",
       "  </tbody>\n",
       "</table>\n",
       "</div>"
      ],
      "text/plain": [
       "   sr.no                 text\n",
       "0      1   everything is fine\n",
       "1      2  loop is troublesome"
      ]
     },
     "execution_count": 172,
     "metadata": {},
     "output_type": "execute_result"
    }
   ],
   "source": [
    "df"
   ]
  },
  {
   "cell_type": "code",
   "execution_count": 171,
   "id": "7c04b51a-010d-4895-9a7b-6ca2fdfc3998",
   "metadata": {},
   "outputs": [],
   "source": [
    "s=df['text']"
   ]
  },
  {
   "cell_type": "code",
   "execution_count": 220,
   "id": "0ab4783f-c227-4190-9b70-943108b73e70",
   "metadata": {},
   "outputs": [],
   "source": [
    "\n",
    "def count(s):\n",
    "    l=[]\n",
    "    for i, idx in enumerate(s):\n",
    "        word=len(idx.split())\n",
    "        l.append(word)\n",
    "    return(l)"
   ]
  },
  {
   "cell_type": "code",
   "execution_count": 221,
   "id": "3d84c5b4-da69-47e2-8c59-edc65367aa81",
   "metadata": {},
   "outputs": [
    {
     "data": {
      "text/plain": [
       "[3, 3]"
      ]
     },
     "execution_count": 221,
     "metadata": {},
     "output_type": "execute_result"
    }
   ],
   "source": [
    "count(s)"
   ]
  },
  {
   "cell_type": "code",
   "execution_count": 222,
   "id": "5e03607b-9ed7-4b29-b5b2-a0904a4b0351",
   "metadata": {},
   "outputs": [],
   "source": [
    "l=[3,3]"
   ]
  },
  {
   "cell_type": "code",
   "execution_count": 223,
   "id": "d0d37799-2156-44b5-84aa-25aaade8edd2",
   "metadata": {},
   "outputs": [],
   "source": [
    "df[\"Word_Count\"]=l"
   ]
  },
  {
   "cell_type": "code",
   "execution_count": 224,
   "id": "e4f2f0fd-6e89-46d8-bdfa-dd46c79e6c28",
   "metadata": {},
   "outputs": [
    {
     "data": {
      "text/html": [
       "<div>\n",
       "<style scoped>\n",
       "    .dataframe tbody tr th:only-of-type {\n",
       "        vertical-align: middle;\n",
       "    }\n",
       "\n",
       "    .dataframe tbody tr th {\n",
       "        vertical-align: top;\n",
       "    }\n",
       "\n",
       "    .dataframe thead th {\n",
       "        text-align: right;\n",
       "    }\n",
       "</style>\n",
       "<table border=\"1\" class=\"dataframe\">\n",
       "  <thead>\n",
       "    <tr style=\"text-align: right;\">\n",
       "      <th></th>\n",
       "      <th>sr.no</th>\n",
       "      <th>text</th>\n",
       "      <th>Word_Count</th>\n",
       "    </tr>\n",
       "  </thead>\n",
       "  <tbody>\n",
       "    <tr>\n",
       "      <th>0</th>\n",
       "      <td>1</td>\n",
       "      <td>everything is fine</td>\n",
       "      <td>3</td>\n",
       "    </tr>\n",
       "    <tr>\n",
       "      <th>1</th>\n",
       "      <td>2</td>\n",
       "      <td>loop is troublesome</td>\n",
       "      <td>3</td>\n",
       "    </tr>\n",
       "  </tbody>\n",
       "</table>\n",
       "</div>"
      ],
      "text/plain": [
       "   sr.no                 text  Word_Count\n",
       "0      1   everything is fine           3\n",
       "1      2  loop is troublesome           3"
      ]
     },
     "execution_count": 224,
     "metadata": {},
     "output_type": "execute_result"
    }
   ],
   "source": [
    "df"
   ]
  },
  {
   "cell_type": "markdown",
   "id": "96a4db48-cb74-4b16-95fa-3666413a8e27",
   "metadata": {},
   "source": [
    "### OR"
   ]
  },
  {
   "cell_type": "code",
   "execution_count": 227,
   "id": "a1968cd0-8e63-4edc-99a2-73c3386abe7e",
   "metadata": {},
   "outputs": [],
   "source": [
    "def count(text):\n",
    "    return len(text.split())\n",
    "\n",
    "df[\"World_count\"]=s.apply(count)"
   ]
  },
  {
   "cell_type": "markdown",
   "id": "ca31b0d7-ba2c-41eb-b549-4a4292f0d679",
   "metadata": {},
   "source": [
    "### ANS 11"
   ]
  },
  {
   "cell_type": "code",
   "execution_count": 242,
   "id": "43a76763-fa38-4929-ad71-1ed8ea2a484b",
   "metadata": {},
   "outputs": [],
   "source": [
    "dates=[['sr.no','date'],\n",
    "      [1,'2023-01-01'],\n",
    "      [2,'2023-01-02'],\n",
    "      [3,'2023-01-03'],\n",
    "      [4,'2023-01-04'],\n",
    "      [5,'2023-01-05']\n",
    "     ]"
   ]
  },
  {
   "cell_type": "code",
   "execution_count": 243,
   "id": "c2ccf855-fe68-4633-927b-de29411138fe",
   "metadata": {},
   "outputs": [],
   "source": [
    "with open('dates.csv','w') as f:\n",
    "    writer=csv.writer(f) \n",
    "    \n",
    "    for i in dates:\n",
    "        writer.writerow(i)\n",
    "    "
   ]
  },
  {
   "cell_type": "code",
   "execution_count": 245,
   "id": "217a9ae2-0487-4d93-8915-aa9f4933c3fb",
   "metadata": {},
   "outputs": [],
   "source": [
    "pf=pd.read_csv('dates.csv')"
   ]
  },
  {
   "cell_type": "code",
   "execution_count": 246,
   "id": "43a123d9-91eb-4b69-b0e1-9799b905bb27",
   "metadata": {},
   "outputs": [
    {
     "data": {
      "text/html": [
       "<div>\n",
       "<style scoped>\n",
       "    .dataframe tbody tr th:only-of-type {\n",
       "        vertical-align: middle;\n",
       "    }\n",
       "\n",
       "    .dataframe tbody tr th {\n",
       "        vertical-align: top;\n",
       "    }\n",
       "\n",
       "    .dataframe thead th {\n",
       "        text-align: right;\n",
       "    }\n",
       "</style>\n",
       "<table border=\"1\" class=\"dataframe\">\n",
       "  <thead>\n",
       "    <tr style=\"text-align: right;\">\n",
       "      <th></th>\n",
       "      <th>sr.no</th>\n",
       "      <th>date</th>\n",
       "    </tr>\n",
       "  </thead>\n",
       "  <tbody>\n",
       "    <tr>\n",
       "      <th>0</th>\n",
       "      <td>1</td>\n",
       "      <td>2023-01-01</td>\n",
       "    </tr>\n",
       "    <tr>\n",
       "      <th>1</th>\n",
       "      <td>2</td>\n",
       "      <td>2023-01-02</td>\n",
       "    </tr>\n",
       "    <tr>\n",
       "      <th>2</th>\n",
       "      <td>3</td>\n",
       "      <td>2023-01-03</td>\n",
       "    </tr>\n",
       "    <tr>\n",
       "      <th>3</th>\n",
       "      <td>4</td>\n",
       "      <td>2023-01-04</td>\n",
       "    </tr>\n",
       "    <tr>\n",
       "      <th>4</th>\n",
       "      <td>5</td>\n",
       "      <td>2023-01-05</td>\n",
       "    </tr>\n",
       "  </tbody>\n",
       "</table>\n",
       "</div>"
      ],
      "text/plain": [
       "   sr.no        date\n",
       "0      1  2023-01-01\n",
       "1      2  2023-01-02\n",
       "2      3  2023-01-03\n",
       "3      4  2023-01-04\n",
       "4      5  2023-01-05"
      ]
     },
     "execution_count": 246,
     "metadata": {},
     "output_type": "execute_result"
    }
   ],
   "source": [
    "pf"
   ]
  },
  {
   "cell_type": "code",
   "execution_count": 250,
   "id": "815ba436-849f-430b-9d30-2d999f0223c1",
   "metadata": {},
   "outputs": [],
   "source": [
    "s=pf['date']"
   ]
  },
  {
   "cell_type": "code",
   "execution_count": 259,
   "id": "438ec202-ff4a-48bf-ab44-ef9ab1a50558",
   "metadata": {},
   "outputs": [],
   "source": [
    "pf['date']=pd.to_datetime(pf['date'])\n",
    "s=pf['date']\n",
    "    "
   ]
  },
  {
   "cell_type": "code",
   "execution_count": 261,
   "id": "9e1b2f1f-db32-414e-bc84-288c19a0ce54",
   "metadata": {},
   "outputs": [],
   "source": [
    "def week():\n",
    "    pf['weekdays']=s.dt.day_name()"
   ]
  },
  {
   "cell_type": "code",
   "execution_count": 262,
   "id": "6f58d610-f588-45b7-a152-431e70787816",
   "metadata": {},
   "outputs": [],
   "source": [
    "weekdays()"
   ]
  },
  {
   "cell_type": "code",
   "execution_count": 263,
   "id": "baa316e5-a8e6-4ce3-9cf8-964307a7f95c",
   "metadata": {},
   "outputs": [
    {
     "data": {
      "text/html": [
       "<div>\n",
       "<style scoped>\n",
       "    .dataframe tbody tr th:only-of-type {\n",
       "        vertical-align: middle;\n",
       "    }\n",
       "\n",
       "    .dataframe tbody tr th {\n",
       "        vertical-align: top;\n",
       "    }\n",
       "\n",
       "    .dataframe thead th {\n",
       "        text-align: right;\n",
       "    }\n",
       "</style>\n",
       "<table border=\"1\" class=\"dataframe\">\n",
       "  <thead>\n",
       "    <tr style=\"text-align: right;\">\n",
       "      <th></th>\n",
       "      <th>sr.no</th>\n",
       "      <th>date</th>\n",
       "      <th>weekdays</th>\n",
       "    </tr>\n",
       "  </thead>\n",
       "  <tbody>\n",
       "    <tr>\n",
       "      <th>0</th>\n",
       "      <td>1</td>\n",
       "      <td>2023-01-01</td>\n",
       "      <td>sunday</td>\n",
       "    </tr>\n",
       "    <tr>\n",
       "      <th>1</th>\n",
       "      <td>2</td>\n",
       "      <td>2023-01-02</td>\n",
       "      <td>monday</td>\n",
       "    </tr>\n",
       "    <tr>\n",
       "      <th>2</th>\n",
       "      <td>3</td>\n",
       "      <td>2023-01-03</td>\n",
       "      <td>tuesday</td>\n",
       "    </tr>\n",
       "    <tr>\n",
       "      <th>3</th>\n",
       "      <td>4</td>\n",
       "      <td>2023-01-04</td>\n",
       "      <td>wednesday</td>\n",
       "    </tr>\n",
       "    <tr>\n",
       "      <th>4</th>\n",
       "      <td>5</td>\n",
       "      <td>2023-01-05</td>\n",
       "      <td>thursday</td>\n",
       "    </tr>\n",
       "  </tbody>\n",
       "</table>\n",
       "</div>"
      ],
      "text/plain": [
       "   sr.no       date   weekdays\n",
       "0      1 2023-01-01     sunday\n",
       "1      2 2023-01-02     monday\n",
       "2      3 2023-01-03    tuesday\n",
       "3      4 2023-01-04  wednesday\n",
       "4      5 2023-01-05   thursday"
      ]
     },
     "execution_count": 263,
     "metadata": {},
     "output_type": "execute_result"
    }
   ],
   "source": [
    "pf"
   ]
  },
  {
   "cell_type": "markdown",
   "id": "84897f75-a887-4a06-9e9f-00bed451ee9b",
   "metadata": {},
   "source": [
    "### ANS 5\n",
    "1) DataFrame.size() returns us the total number of elemnts presents in our dataframe \n",
    "2) dataFrame.shape() returns us the dimensions of the dataframe in the touple form "
   ]
  },
  {
   "cell_type": "markdown",
   "id": "121a9f33-e5b0-41eb-8078-bde29d6a645c",
   "metadata": {},
   "source": [
    "### ANS 9"
   ]
  },
  {
   "cell_type": "code",
   "execution_count": 3,
   "id": "06fdf757-1344-4673-9698-49e882ae4ab2",
   "metadata": {},
   "outputs": [],
   "source": [
    "pf1=pd.read_csv('data_1.csv')"
   ]
  },
  {
   "cell_type": "code",
   "execution_count": 4,
   "id": "27968e64-0b29-4308-af2b-b418a6a3209e",
   "metadata": {},
   "outputs": [
    {
     "data": {
      "text/html": [
       "<div>\n",
       "<style scoped>\n",
       "    .dataframe tbody tr th:only-of-type {\n",
       "        vertical-align: middle;\n",
       "    }\n",
       "\n",
       "    .dataframe tbody tr th {\n",
       "        vertical-align: top;\n",
       "    }\n",
       "\n",
       "    .dataframe thead th {\n",
       "        text-align: right;\n",
       "    }\n",
       "</style>\n",
       "<table border=\"1\" class=\"dataframe\">\n",
       "  <thead>\n",
       "    <tr style=\"text-align: right;\">\n",
       "      <th></th>\n",
       "      <th>Name</th>\n",
       "      <th>values</th>\n",
       "      <th>Gender</th>\n",
       "    </tr>\n",
       "  </thead>\n",
       "  <tbody>\n",
       "    <tr>\n",
       "      <th>0</th>\n",
       "      <td>Allice</td>\n",
       "      <td>25</td>\n",
       "      <td>Female</td>\n",
       "    </tr>\n",
       "    <tr>\n",
       "      <th>1</th>\n",
       "      <td>bob</td>\n",
       "      <td>30</td>\n",
       "      <td>male</td>\n",
       "    </tr>\n",
       "    <tr>\n",
       "      <th>2</th>\n",
       "      <td>claire</td>\n",
       "      <td>27</td>\n",
       "      <td>female</td>\n",
       "    </tr>\n",
       "    <tr>\n",
       "      <th>3</th>\n",
       "      <td>bob</td>\n",
       "      <td>54</td>\n",
       "      <td>male</td>\n",
       "    </tr>\n",
       "  </tbody>\n",
       "</table>\n",
       "</div>"
      ],
      "text/plain": [
       "     Name  values  Gender\n",
       "0  Allice      25  Female\n",
       "1     bob      30    male\n",
       "2  claire      27  female\n",
       "3     bob      54    male"
      ]
     },
     "execution_count": 4,
     "metadata": {},
     "output_type": "execute_result"
    }
   ],
   "source": [
    "pf1"
   ]
  },
  {
   "cell_type": "code",
   "execution_count": 11,
   "id": "25f5773c-9408-405c-b823-8d740ca448ae",
   "metadata": {},
   "outputs": [],
   "source": [
    "s=pf1['values']\n",
    "def cou(pf):\n",
    "    Mean=s.mean()\n",
    "    Median=s.median()\n",
    "    standard_deviation=s.std()\n",
    "    print(f'mean is {Mean} \\n Median is {Median} \\n standard_deviation is {standard_deviation}') \n",
    "    "
   ]
  },
  {
   "cell_type": "code",
   "execution_count": 12,
   "id": "f49a5eb0-f3b5-4e39-b6e4-04fe37bb5fad",
   "metadata": {},
   "outputs": [
    {
     "name": "stdout",
     "output_type": "stream",
     "text": [
      "mean is 34.0 \n",
      " Median is 28.5 \n",
      " standard_deviation is 13.490737563232042\n"
     ]
    }
   ],
   "source": [
    "cou(s)"
   ]
  },
  {
   "cell_type": "markdown",
   "id": "c1f58c37-de22-4e10-84b3-8ce73340e1ee",
   "metadata": {},
   "source": [
    "### ANS 12"
   ]
  },
  {
   "cell_type": "code",
   "execution_count": 19,
   "id": "78352bd0-7d67-4923-8405-6ada4ef200c7",
   "metadata": {},
   "outputs": [],
   "source": [
    "data_range=pd.date_range('2023-01-01','2023-01-31')\n",
    "\n",
    "df=pd.DataFrame({\"Date\":date_range})\n"
   ]
  },
  {
   "cell_type": "code",
   "execution_count": 20,
   "id": "0480d63a-18a8-47e9-837e-19a4e0bb083f",
   "metadata": {},
   "outputs": [
    {
     "data": {
      "text/html": [
       "<div>\n",
       "<style scoped>\n",
       "    .dataframe tbody tr th:only-of-type {\n",
       "        vertical-align: middle;\n",
       "    }\n",
       "\n",
       "    .dataframe tbody tr th {\n",
       "        vertical-align: top;\n",
       "    }\n",
       "\n",
       "    .dataframe thead th {\n",
       "        text-align: right;\n",
       "    }\n",
       "</style>\n",
       "<table border=\"1\" class=\"dataframe\">\n",
       "  <thead>\n",
       "    <tr style=\"text-align: right;\">\n",
       "      <th></th>\n",
       "      <th>Date</th>\n",
       "    </tr>\n",
       "  </thead>\n",
       "  <tbody>\n",
       "    <tr>\n",
       "      <th>0</th>\n",
       "      <td>2023-01-01</td>\n",
       "    </tr>\n",
       "    <tr>\n",
       "      <th>1</th>\n",
       "      <td>2023-01-02</td>\n",
       "    </tr>\n",
       "    <tr>\n",
       "      <th>2</th>\n",
       "      <td>2023-01-03</td>\n",
       "    </tr>\n",
       "    <tr>\n",
       "      <th>3</th>\n",
       "      <td>2023-01-04</td>\n",
       "    </tr>\n",
       "    <tr>\n",
       "      <th>4</th>\n",
       "      <td>2023-01-05</td>\n",
       "    </tr>\n",
       "    <tr>\n",
       "      <th>5</th>\n",
       "      <td>2023-01-06</td>\n",
       "    </tr>\n",
       "    <tr>\n",
       "      <th>6</th>\n",
       "      <td>2023-01-07</td>\n",
       "    </tr>\n",
       "    <tr>\n",
       "      <th>7</th>\n",
       "      <td>2023-01-08</td>\n",
       "    </tr>\n",
       "    <tr>\n",
       "      <th>8</th>\n",
       "      <td>2023-01-09</td>\n",
       "    </tr>\n",
       "    <tr>\n",
       "      <th>9</th>\n",
       "      <td>2023-01-10</td>\n",
       "    </tr>\n",
       "    <tr>\n",
       "      <th>10</th>\n",
       "      <td>2023-01-11</td>\n",
       "    </tr>\n",
       "    <tr>\n",
       "      <th>11</th>\n",
       "      <td>2023-01-12</td>\n",
       "    </tr>\n",
       "    <tr>\n",
       "      <th>12</th>\n",
       "      <td>2023-01-13</td>\n",
       "    </tr>\n",
       "    <tr>\n",
       "      <th>13</th>\n",
       "      <td>2023-01-14</td>\n",
       "    </tr>\n",
       "    <tr>\n",
       "      <th>14</th>\n",
       "      <td>2023-01-15</td>\n",
       "    </tr>\n",
       "    <tr>\n",
       "      <th>15</th>\n",
       "      <td>2023-01-16</td>\n",
       "    </tr>\n",
       "    <tr>\n",
       "      <th>16</th>\n",
       "      <td>2023-01-17</td>\n",
       "    </tr>\n",
       "    <tr>\n",
       "      <th>17</th>\n",
       "      <td>2023-01-18</td>\n",
       "    </tr>\n",
       "    <tr>\n",
       "      <th>18</th>\n",
       "      <td>2023-01-19</td>\n",
       "    </tr>\n",
       "    <tr>\n",
       "      <th>19</th>\n",
       "      <td>2023-01-20</td>\n",
       "    </tr>\n",
       "    <tr>\n",
       "      <th>20</th>\n",
       "      <td>2023-01-21</td>\n",
       "    </tr>\n",
       "    <tr>\n",
       "      <th>21</th>\n",
       "      <td>2023-01-22</td>\n",
       "    </tr>\n",
       "    <tr>\n",
       "      <th>22</th>\n",
       "      <td>2023-01-23</td>\n",
       "    </tr>\n",
       "    <tr>\n",
       "      <th>23</th>\n",
       "      <td>2023-01-24</td>\n",
       "    </tr>\n",
       "    <tr>\n",
       "      <th>24</th>\n",
       "      <td>2023-01-25</td>\n",
       "    </tr>\n",
       "    <tr>\n",
       "      <th>25</th>\n",
       "      <td>2023-01-26</td>\n",
       "    </tr>\n",
       "    <tr>\n",
       "      <th>26</th>\n",
       "      <td>2023-01-27</td>\n",
       "    </tr>\n",
       "    <tr>\n",
       "      <th>27</th>\n",
       "      <td>2023-01-28</td>\n",
       "    </tr>\n",
       "    <tr>\n",
       "      <th>28</th>\n",
       "      <td>2023-01-29</td>\n",
       "    </tr>\n",
       "    <tr>\n",
       "      <th>29</th>\n",
       "      <td>2023-01-30</td>\n",
       "    </tr>\n",
       "    <tr>\n",
       "      <th>30</th>\n",
       "      <td>2023-01-31</td>\n",
       "    </tr>\n",
       "  </tbody>\n",
       "</table>\n",
       "</div>"
      ],
      "text/plain": [
       "         Date\n",
       "0  2023-01-01\n",
       "1  2023-01-02\n",
       "2  2023-01-03\n",
       "3  2023-01-04\n",
       "4  2023-01-05\n",
       "5  2023-01-06\n",
       "6  2023-01-07\n",
       "7  2023-01-08\n",
       "8  2023-01-09\n",
       "9  2023-01-10\n",
       "10 2023-01-11\n",
       "11 2023-01-12\n",
       "12 2023-01-13\n",
       "13 2023-01-14\n",
       "14 2023-01-15\n",
       "15 2023-01-16\n",
       "16 2023-01-17\n",
       "17 2023-01-18\n",
       "18 2023-01-19\n",
       "19 2023-01-20\n",
       "20 2023-01-21\n",
       "21 2023-01-22\n",
       "22 2023-01-23\n",
       "23 2023-01-24\n",
       "24 2023-01-25\n",
       "25 2023-01-26\n",
       "26 2023-01-27\n",
       "27 2023-01-28\n",
       "28 2023-01-29\n",
       "29 2023-01-30\n",
       "30 2023-01-31"
      ]
     },
     "execution_count": 20,
     "metadata": {},
     "output_type": "execute_result"
    }
   ],
   "source": [
    "df"
   ]
  },
  {
   "cell_type": "code",
   "execution_count": 22,
   "id": "08d847c4-9ed3-4b1e-99c3-dcf7807220e2",
   "metadata": {},
   "outputs": [],
   "source": [
    "s=df['Date']"
   ]
  },
  {
   "cell_type": "code",
   "execution_count": 23,
   "id": "cb87e331-dcc9-4792-9424-535829599677",
   "metadata": {},
   "outputs": [],
   "source": [
    "def time(s):\n",
    "    return s.timestamp()"
   ]
  },
  {
   "cell_type": "code",
   "execution_count": 24,
   "id": "f16b63de-902c-4446-9494-4a2cd0ba1518",
   "metadata": {},
   "outputs": [],
   "source": [
    "df['timestamp']=s.apply(time)"
   ]
  },
  {
   "cell_type": "code",
   "execution_count": 25,
   "id": "aec72824-a046-417c-b13f-3e223df0acdb",
   "metadata": {},
   "outputs": [
    {
     "data": {
      "text/html": [
       "<div>\n",
       "<style scoped>\n",
       "    .dataframe tbody tr th:only-of-type {\n",
       "        vertical-align: middle;\n",
       "    }\n",
       "\n",
       "    .dataframe tbody tr th {\n",
       "        vertical-align: top;\n",
       "    }\n",
       "\n",
       "    .dataframe thead th {\n",
       "        text-align: right;\n",
       "    }\n",
       "</style>\n",
       "<table border=\"1\" class=\"dataframe\">\n",
       "  <thead>\n",
       "    <tr style=\"text-align: right;\">\n",
       "      <th></th>\n",
       "      <th>Date</th>\n",
       "      <th>timestamp</th>\n",
       "    </tr>\n",
       "  </thead>\n",
       "  <tbody>\n",
       "    <tr>\n",
       "      <th>0</th>\n",
       "      <td>2023-01-01</td>\n",
       "      <td>1.672531e+09</td>\n",
       "    </tr>\n",
       "    <tr>\n",
       "      <th>1</th>\n",
       "      <td>2023-01-02</td>\n",
       "      <td>1.672618e+09</td>\n",
       "    </tr>\n",
       "    <tr>\n",
       "      <th>2</th>\n",
       "      <td>2023-01-03</td>\n",
       "      <td>1.672704e+09</td>\n",
       "    </tr>\n",
       "    <tr>\n",
       "      <th>3</th>\n",
       "      <td>2023-01-04</td>\n",
       "      <td>1.672790e+09</td>\n",
       "    </tr>\n",
       "    <tr>\n",
       "      <th>4</th>\n",
       "      <td>2023-01-05</td>\n",
       "      <td>1.672877e+09</td>\n",
       "    </tr>\n",
       "    <tr>\n",
       "      <th>5</th>\n",
       "      <td>2023-01-06</td>\n",
       "      <td>1.672963e+09</td>\n",
       "    </tr>\n",
       "    <tr>\n",
       "      <th>6</th>\n",
       "      <td>2023-01-07</td>\n",
       "      <td>1.673050e+09</td>\n",
       "    </tr>\n",
       "    <tr>\n",
       "      <th>7</th>\n",
       "      <td>2023-01-08</td>\n",
       "      <td>1.673136e+09</td>\n",
       "    </tr>\n",
       "    <tr>\n",
       "      <th>8</th>\n",
       "      <td>2023-01-09</td>\n",
       "      <td>1.673222e+09</td>\n",
       "    </tr>\n",
       "    <tr>\n",
       "      <th>9</th>\n",
       "      <td>2023-01-10</td>\n",
       "      <td>1.673309e+09</td>\n",
       "    </tr>\n",
       "    <tr>\n",
       "      <th>10</th>\n",
       "      <td>2023-01-11</td>\n",
       "      <td>1.673395e+09</td>\n",
       "    </tr>\n",
       "    <tr>\n",
       "      <th>11</th>\n",
       "      <td>2023-01-12</td>\n",
       "      <td>1.673482e+09</td>\n",
       "    </tr>\n",
       "    <tr>\n",
       "      <th>12</th>\n",
       "      <td>2023-01-13</td>\n",
       "      <td>1.673568e+09</td>\n",
       "    </tr>\n",
       "    <tr>\n",
       "      <th>13</th>\n",
       "      <td>2023-01-14</td>\n",
       "      <td>1.673654e+09</td>\n",
       "    </tr>\n",
       "    <tr>\n",
       "      <th>14</th>\n",
       "      <td>2023-01-15</td>\n",
       "      <td>1.673741e+09</td>\n",
       "    </tr>\n",
       "    <tr>\n",
       "      <th>15</th>\n",
       "      <td>2023-01-16</td>\n",
       "      <td>1.673827e+09</td>\n",
       "    </tr>\n",
       "    <tr>\n",
       "      <th>16</th>\n",
       "      <td>2023-01-17</td>\n",
       "      <td>1.673914e+09</td>\n",
       "    </tr>\n",
       "    <tr>\n",
       "      <th>17</th>\n",
       "      <td>2023-01-18</td>\n",
       "      <td>1.674000e+09</td>\n",
       "    </tr>\n",
       "    <tr>\n",
       "      <th>18</th>\n",
       "      <td>2023-01-19</td>\n",
       "      <td>1.674086e+09</td>\n",
       "    </tr>\n",
       "    <tr>\n",
       "      <th>19</th>\n",
       "      <td>2023-01-20</td>\n",
       "      <td>1.674173e+09</td>\n",
       "    </tr>\n",
       "    <tr>\n",
       "      <th>20</th>\n",
       "      <td>2023-01-21</td>\n",
       "      <td>1.674259e+09</td>\n",
       "    </tr>\n",
       "    <tr>\n",
       "      <th>21</th>\n",
       "      <td>2023-01-22</td>\n",
       "      <td>1.674346e+09</td>\n",
       "    </tr>\n",
       "    <tr>\n",
       "      <th>22</th>\n",
       "      <td>2023-01-23</td>\n",
       "      <td>1.674432e+09</td>\n",
       "    </tr>\n",
       "    <tr>\n",
       "      <th>23</th>\n",
       "      <td>2023-01-24</td>\n",
       "      <td>1.674518e+09</td>\n",
       "    </tr>\n",
       "    <tr>\n",
       "      <th>24</th>\n",
       "      <td>2023-01-25</td>\n",
       "      <td>1.674605e+09</td>\n",
       "    </tr>\n",
       "    <tr>\n",
       "      <th>25</th>\n",
       "      <td>2023-01-26</td>\n",
       "      <td>1.674691e+09</td>\n",
       "    </tr>\n",
       "    <tr>\n",
       "      <th>26</th>\n",
       "      <td>2023-01-27</td>\n",
       "      <td>1.674778e+09</td>\n",
       "    </tr>\n",
       "    <tr>\n",
       "      <th>27</th>\n",
       "      <td>2023-01-28</td>\n",
       "      <td>1.674864e+09</td>\n",
       "    </tr>\n",
       "    <tr>\n",
       "      <th>28</th>\n",
       "      <td>2023-01-29</td>\n",
       "      <td>1.674950e+09</td>\n",
       "    </tr>\n",
       "    <tr>\n",
       "      <th>29</th>\n",
       "      <td>2023-01-30</td>\n",
       "      <td>1.675037e+09</td>\n",
       "    </tr>\n",
       "    <tr>\n",
       "      <th>30</th>\n",
       "      <td>2023-01-31</td>\n",
       "      <td>1.675123e+09</td>\n",
       "    </tr>\n",
       "  </tbody>\n",
       "</table>\n",
       "</div>"
      ],
      "text/plain": [
       "         Date     timestamp\n",
       "0  2023-01-01  1.672531e+09\n",
       "1  2023-01-02  1.672618e+09\n",
       "2  2023-01-03  1.672704e+09\n",
       "3  2023-01-04  1.672790e+09\n",
       "4  2023-01-05  1.672877e+09\n",
       "5  2023-01-06  1.672963e+09\n",
       "6  2023-01-07  1.673050e+09\n",
       "7  2023-01-08  1.673136e+09\n",
       "8  2023-01-09  1.673222e+09\n",
       "9  2023-01-10  1.673309e+09\n",
       "10 2023-01-11  1.673395e+09\n",
       "11 2023-01-12  1.673482e+09\n",
       "12 2023-01-13  1.673568e+09\n",
       "13 2023-01-14  1.673654e+09\n",
       "14 2023-01-15  1.673741e+09\n",
       "15 2023-01-16  1.673827e+09\n",
       "16 2023-01-17  1.673914e+09\n",
       "17 2023-01-18  1.674000e+09\n",
       "18 2023-01-19  1.674086e+09\n",
       "19 2023-01-20  1.674173e+09\n",
       "20 2023-01-21  1.674259e+09\n",
       "21 2023-01-22  1.674346e+09\n",
       "22 2023-01-23  1.674432e+09\n",
       "23 2023-01-24  1.674518e+09\n",
       "24 2023-01-25  1.674605e+09\n",
       "25 2023-01-26  1.674691e+09\n",
       "26 2023-01-27  1.674778e+09\n",
       "27 2023-01-28  1.674864e+09\n",
       "28 2023-01-29  1.674950e+09\n",
       "29 2023-01-30  1.675037e+09\n",
       "30 2023-01-31  1.675123e+09"
      ]
     },
     "execution_count": 25,
     "metadata": {},
     "output_type": "execute_result"
    }
   ],
   "source": [
    "df"
   ]
  },
  {
   "cell_type": "code",
   "execution_count": 36,
   "id": "271ca105-fd4e-433a-962b-872de6884b2b",
   "metadata": {},
   "outputs": [],
   "source": [
    "def c(df):\n",
    "    return df.loc[(df['Date']>'2023-01-21') & (df['Date']<'2023-01-30'),['Date']]"
   ]
  },
  {
   "cell_type": "code",
   "execution_count": 37,
   "id": "fe9e70b8-f83e-4fa9-82f2-5642d34d01df",
   "metadata": {},
   "outputs": [
    {
     "data": {
      "text/html": [
       "<div>\n",
       "<style scoped>\n",
       "    .dataframe tbody tr th:only-of-type {\n",
       "        vertical-align: middle;\n",
       "    }\n",
       "\n",
       "    .dataframe tbody tr th {\n",
       "        vertical-align: top;\n",
       "    }\n",
       "\n",
       "    .dataframe thead th {\n",
       "        text-align: right;\n",
       "    }\n",
       "</style>\n",
       "<table border=\"1\" class=\"dataframe\">\n",
       "  <thead>\n",
       "    <tr style=\"text-align: right;\">\n",
       "      <th></th>\n",
       "      <th>Date</th>\n",
       "    </tr>\n",
       "  </thead>\n",
       "  <tbody>\n",
       "    <tr>\n",
       "      <th>21</th>\n",
       "      <td>2023-01-22</td>\n",
       "    </tr>\n",
       "    <tr>\n",
       "      <th>22</th>\n",
       "      <td>2023-01-23</td>\n",
       "    </tr>\n",
       "    <tr>\n",
       "      <th>23</th>\n",
       "      <td>2023-01-24</td>\n",
       "    </tr>\n",
       "    <tr>\n",
       "      <th>24</th>\n",
       "      <td>2023-01-25</td>\n",
       "    </tr>\n",
       "    <tr>\n",
       "      <th>25</th>\n",
       "      <td>2023-01-26</td>\n",
       "    </tr>\n",
       "    <tr>\n",
       "      <th>26</th>\n",
       "      <td>2023-01-27</td>\n",
       "    </tr>\n",
       "    <tr>\n",
       "      <th>27</th>\n",
       "      <td>2023-01-28</td>\n",
       "    </tr>\n",
       "    <tr>\n",
       "      <th>28</th>\n",
       "      <td>2023-01-29</td>\n",
       "    </tr>\n",
       "  </tbody>\n",
       "</table>\n",
       "</div>"
      ],
      "text/plain": [
       "         Date\n",
       "21 2023-01-22\n",
       "22 2023-01-23\n",
       "23 2023-01-24\n",
       "24 2023-01-25\n",
       "25 2023-01-26\n",
       "26 2023-01-27\n",
       "27 2023-01-28\n",
       "28 2023-01-29"
      ]
     },
     "execution_count": 37,
     "metadata": {},
     "output_type": "execute_result"
    }
   ],
   "source": [
    "c(df)"
   ]
  },
  {
   "cell_type": "markdown",
   "id": "058d04ab-ebba-4570-ae44-9f39471498b7",
   "metadata": {},
   "source": [
    "### ANS 10"
   ]
  },
  {
   "cell_type": "code",
   "execution_count": 60,
   "id": "57eb212d-ca03-410e-9287-e2e12b786ac0",
   "metadata": {},
   "outputs": [],
   "source": [
    "date=pd.date_range('2023-01-1','2023-01-13')\n",
    "data={\"Sales\":[1,2,3,4,5,6,7,8,9,10,11,12,13],\"Date\":date}\n",
    "\n",
    "pf=pd.DataFrame(data)"
   ]
  },
  {
   "cell_type": "code",
   "execution_count": 61,
   "id": "7104b9eb-9ed5-40ea-aa18-2e5811432af6",
   "metadata": {},
   "outputs": [],
   "source": [
    "pf['weekdays']=pf['Date'].dt.day_name()"
   ]
  },
  {
   "cell_type": "code",
   "execution_count": 53,
   "id": "e97d0a68-f524-4652-9d6f-5ee60f02a25d",
   "metadata": {},
   "outputs": [
    {
     "data": {
      "text/html": [
       "<div>\n",
       "<style scoped>\n",
       "    .dataframe tbody tr th:only-of-type {\n",
       "        vertical-align: middle;\n",
       "    }\n",
       "\n",
       "    .dataframe tbody tr th {\n",
       "        vertical-align: top;\n",
       "    }\n",
       "\n",
       "    .dataframe thead th {\n",
       "        text-align: right;\n",
       "    }\n",
       "</style>\n",
       "<table border=\"1\" class=\"dataframe\">\n",
       "  <thead>\n",
       "    <tr style=\"text-align: right;\">\n",
       "      <th></th>\n",
       "      <th>Sales</th>\n",
       "      <th>Date</th>\n",
       "      <th>weekdays</th>\n",
       "    </tr>\n",
       "  </thead>\n",
       "  <tbody>\n",
       "    <tr>\n",
       "      <th>0</th>\n",
       "      <td>1</td>\n",
       "      <td>2023-01-01</td>\n",
       "      <td>Sunday</td>\n",
       "    </tr>\n",
       "    <tr>\n",
       "      <th>1</th>\n",
       "      <td>2</td>\n",
       "      <td>2023-01-02</td>\n",
       "      <td>Monday</td>\n",
       "    </tr>\n",
       "    <tr>\n",
       "      <th>2</th>\n",
       "      <td>3</td>\n",
       "      <td>2023-01-03</td>\n",
       "      <td>Tuesday</td>\n",
       "    </tr>\n",
       "    <tr>\n",
       "      <th>3</th>\n",
       "      <td>4</td>\n",
       "      <td>2023-01-04</td>\n",
       "      <td>Wednesday</td>\n",
       "    </tr>\n",
       "    <tr>\n",
       "      <th>4</th>\n",
       "      <td>5</td>\n",
       "      <td>2023-01-05</td>\n",
       "      <td>Thursday</td>\n",
       "    </tr>\n",
       "    <tr>\n",
       "      <th>5</th>\n",
       "      <td>6</td>\n",
       "      <td>2023-01-06</td>\n",
       "      <td>Friday</td>\n",
       "    </tr>\n",
       "    <tr>\n",
       "      <th>6</th>\n",
       "      <td>7</td>\n",
       "      <td>2023-01-07</td>\n",
       "      <td>Saturday</td>\n",
       "    </tr>\n",
       "    <tr>\n",
       "      <th>7</th>\n",
       "      <td>8</td>\n",
       "      <td>2023-01-08</td>\n",
       "      <td>Sunday</td>\n",
       "    </tr>\n",
       "    <tr>\n",
       "      <th>8</th>\n",
       "      <td>9</td>\n",
       "      <td>2023-01-09</td>\n",
       "      <td>Monday</td>\n",
       "    </tr>\n",
       "    <tr>\n",
       "      <th>9</th>\n",
       "      <td>10</td>\n",
       "      <td>2023-01-10</td>\n",
       "      <td>Tuesday</td>\n",
       "    </tr>\n",
       "    <tr>\n",
       "      <th>10</th>\n",
       "      <td>11</td>\n",
       "      <td>2023-01-11</td>\n",
       "      <td>Wednesday</td>\n",
       "    </tr>\n",
       "    <tr>\n",
       "      <th>11</th>\n",
       "      <td>12</td>\n",
       "      <td>2023-01-12</td>\n",
       "      <td>Thursday</td>\n",
       "    </tr>\n",
       "    <tr>\n",
       "      <th>12</th>\n",
       "      <td>13</td>\n",
       "      <td>2023-01-13</td>\n",
       "      <td>Friday</td>\n",
       "    </tr>\n",
       "  </tbody>\n",
       "</table>\n",
       "</div>"
      ],
      "text/plain": [
       "    Sales       Date   weekdays\n",
       "0       1 2023-01-01     Sunday\n",
       "1       2 2023-01-02     Monday\n",
       "2       3 2023-01-03    Tuesday\n",
       "3       4 2023-01-04  Wednesday\n",
       "4       5 2023-01-05   Thursday\n",
       "5       6 2023-01-06     Friday\n",
       "6       7 2023-01-07   Saturday\n",
       "7       8 2023-01-08     Sunday\n",
       "8       9 2023-01-09     Monday\n",
       "9      10 2023-01-10    Tuesday\n",
       "10     11 2023-01-11  Wednesday\n",
       "11     12 2023-01-12   Thursday\n",
       "12     13 2023-01-13     Friday"
      ]
     },
     "execution_count": 53,
     "metadata": {},
     "output_type": "execute_result"
    }
   ],
   "source": []
  },
  {
   "cell_type": "code",
   "execution_count": 62,
   "id": "4105562b-d29f-41b1-ad0a-0a4aa47e21f8",
   "metadata": {},
   "outputs": [],
   "source": [
    "s=pf[\"Sales\"]"
   ]
  },
  {
   "cell_type": "code",
   "execution_count": 55,
   "id": "9d19a90a-2ced-4687-aa94-41de792f31e3",
   "metadata": {},
   "outputs": [],
   "source": [
    "\n",
    "   s.rolling(window=7,min_periods=1).mean()"
   ]
  },
  {
   "cell_type": "code",
   "execution_count": 63,
   "id": "348af04a-353f-435d-a9c1-ea1ff84c3e27",
   "metadata": {},
   "outputs": [],
   "source": [
    "pf['Moving_Average']=s.rolling(window=7,min_periods=1).mean()"
   ]
  },
  {
   "cell_type": "code",
   "execution_count": 64,
   "id": "5edef0a3-c885-44c4-b21c-1d524809202d",
   "metadata": {},
   "outputs": [
    {
     "data": {
      "text/html": [
       "<div>\n",
       "<style scoped>\n",
       "    .dataframe tbody tr th:only-of-type {\n",
       "        vertical-align: middle;\n",
       "    }\n",
       "\n",
       "    .dataframe tbody tr th {\n",
       "        vertical-align: top;\n",
       "    }\n",
       "\n",
       "    .dataframe thead th {\n",
       "        text-align: right;\n",
       "    }\n",
       "</style>\n",
       "<table border=\"1\" class=\"dataframe\">\n",
       "  <thead>\n",
       "    <tr style=\"text-align: right;\">\n",
       "      <th></th>\n",
       "      <th>Sales</th>\n",
       "      <th>Date</th>\n",
       "      <th>weekdays</th>\n",
       "      <th>Moving_Average</th>\n",
       "    </tr>\n",
       "  </thead>\n",
       "  <tbody>\n",
       "    <tr>\n",
       "      <th>0</th>\n",
       "      <td>1</td>\n",
       "      <td>2023-01-01</td>\n",
       "      <td>Sunday</td>\n",
       "      <td>1.0</td>\n",
       "    </tr>\n",
       "    <tr>\n",
       "      <th>1</th>\n",
       "      <td>2</td>\n",
       "      <td>2023-01-02</td>\n",
       "      <td>Monday</td>\n",
       "      <td>1.5</td>\n",
       "    </tr>\n",
       "    <tr>\n",
       "      <th>2</th>\n",
       "      <td>3</td>\n",
       "      <td>2023-01-03</td>\n",
       "      <td>Tuesday</td>\n",
       "      <td>2.0</td>\n",
       "    </tr>\n",
       "    <tr>\n",
       "      <th>3</th>\n",
       "      <td>4</td>\n",
       "      <td>2023-01-04</td>\n",
       "      <td>Wednesday</td>\n",
       "      <td>2.5</td>\n",
       "    </tr>\n",
       "    <tr>\n",
       "      <th>4</th>\n",
       "      <td>5</td>\n",
       "      <td>2023-01-05</td>\n",
       "      <td>Thursday</td>\n",
       "      <td>3.0</td>\n",
       "    </tr>\n",
       "    <tr>\n",
       "      <th>5</th>\n",
       "      <td>6</td>\n",
       "      <td>2023-01-06</td>\n",
       "      <td>Friday</td>\n",
       "      <td>3.5</td>\n",
       "    </tr>\n",
       "    <tr>\n",
       "      <th>6</th>\n",
       "      <td>7</td>\n",
       "      <td>2023-01-07</td>\n",
       "      <td>Saturday</td>\n",
       "      <td>4.0</td>\n",
       "    </tr>\n",
       "    <tr>\n",
       "      <th>7</th>\n",
       "      <td>8</td>\n",
       "      <td>2023-01-08</td>\n",
       "      <td>Sunday</td>\n",
       "      <td>5.0</td>\n",
       "    </tr>\n",
       "    <tr>\n",
       "      <th>8</th>\n",
       "      <td>9</td>\n",
       "      <td>2023-01-09</td>\n",
       "      <td>Monday</td>\n",
       "      <td>6.0</td>\n",
       "    </tr>\n",
       "    <tr>\n",
       "      <th>9</th>\n",
       "      <td>10</td>\n",
       "      <td>2023-01-10</td>\n",
       "      <td>Tuesday</td>\n",
       "      <td>7.0</td>\n",
       "    </tr>\n",
       "    <tr>\n",
       "      <th>10</th>\n",
       "      <td>11</td>\n",
       "      <td>2023-01-11</td>\n",
       "      <td>Wednesday</td>\n",
       "      <td>8.0</td>\n",
       "    </tr>\n",
       "    <tr>\n",
       "      <th>11</th>\n",
       "      <td>12</td>\n",
       "      <td>2023-01-12</td>\n",
       "      <td>Thursday</td>\n",
       "      <td>9.0</td>\n",
       "    </tr>\n",
       "    <tr>\n",
       "      <th>12</th>\n",
       "      <td>13</td>\n",
       "      <td>2023-01-13</td>\n",
       "      <td>Friday</td>\n",
       "      <td>10.0</td>\n",
       "    </tr>\n",
       "  </tbody>\n",
       "</table>\n",
       "</div>"
      ],
      "text/plain": [
       "    Sales       Date   weekdays  Moving_Average\n",
       "0       1 2023-01-01     Sunday             1.0\n",
       "1       2 2023-01-02     Monday             1.5\n",
       "2       3 2023-01-03    Tuesday             2.0\n",
       "3       4 2023-01-04  Wednesday             2.5\n",
       "4       5 2023-01-05   Thursday             3.0\n",
       "5       6 2023-01-06     Friday             3.5\n",
       "6       7 2023-01-07   Saturday             4.0\n",
       "7       8 2023-01-08     Sunday             5.0\n",
       "8       9 2023-01-09     Monday             6.0\n",
       "9      10 2023-01-10    Tuesday             7.0\n",
       "10     11 2023-01-11  Wednesday             8.0\n",
       "11     12 2023-01-12   Thursday             9.0\n",
       "12     13 2023-01-13     Friday            10.0"
      ]
     },
     "execution_count": 64,
     "metadata": {},
     "output_type": "execute_result"
    }
   ],
   "source": [
    "pf"
   ]
  },
  {
   "cell_type": "code",
   "execution_count": null,
   "id": "9942031d-56da-460f-a969-0319f320e0b3",
   "metadata": {},
   "outputs": [],
   "source": []
  }
 ],
 "metadata": {
  "kernelspec": {
   "display_name": "Python 3 (ipykernel)",
   "language": "python",
   "name": "python3"
  },
  "language_info": {
   "codemirror_mode": {
    "name": "ipython",
    "version": 3
   },
   "file_extension": ".py",
   "mimetype": "text/x-python",
   "name": "python",
   "nbconvert_exporter": "python",
   "pygments_lexer": "ipython3",
   "version": "3.10.8"
  }
 },
 "nbformat": 4,
 "nbformat_minor": 5
}
