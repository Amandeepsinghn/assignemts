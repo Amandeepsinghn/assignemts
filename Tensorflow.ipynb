{
 "cells": [
  {
   "cell_type": "markdown",
   "id": "4879ddb4-f7b3-4209-a844-f40824953a21",
   "metadata": {},
   "source": [
    "# PART 1"
   ]
  },
  {
   "cell_type": "markdown",
   "id": "efd0cfcd-0fac-4709-ba0a-dbfadaf941ef",
   "metadata": {},
   "source": [
    "### ANS 1"
   ]
  },
  {
   "cell_type": "markdown",
   "id": "22a56b9f-3a6a-4ec1-9eb5-48fc643ccbe0",
   "metadata": {},
   "source": [
    "data structurea are used to represent  and manipulate data.\n",
    "1) Variables: it is used to hold vales which can be modified.\n",
    "2) Sparse Tensors: it is used to represent data mainly of zeros.\n",
    "3) Ragged Tensors: ragged tensores are used to rperesent of matrix of different sizes.\n",
    "4) Tensores: used to represent multi-dimensional array."
   ]
  },
  {
   "cell_type": "markdown",
   "id": "db279a38-d608-4215-b15a-c1eb5d9fb153",
   "metadata": {},
   "source": [
    "### ANS 2"
   ]
  },
  {
   "cell_type": "markdown",
   "id": "ab799b93-363a-4bfe-a424-5b0fba3faa46",
   "metadata": {},
   "source": [
    "difference between constant and variable:\n",
    "1) constant value cannot be changed but variables values can be changed.\n",
    "2) constant are immutable tensors and variables are mutuable tensors."
   ]
  },
  {
   "cell_type": "markdown",
   "id": "1c0f0037-012e-4227-90c1-ffa954dfec46",
   "metadata": {},
   "source": [
    "### ANS 3"
   ]
  },
  {
   "cell_type": "code",
   "execution_count": 2,
   "id": "d358e8b8-8ad1-4121-890a-a5295a4df5ac",
   "metadata": {
    "tags": []
   },
   "outputs": [],
   "source": [
    "import tensorflow as tf"
   ]
  },
  {
   "cell_type": "code",
   "execution_count": 5,
   "id": "dea177a3-6247-4781-8d3f-5545aed58eae",
   "metadata": {
    "tags": []
   },
   "outputs": [],
   "source": [
    "matrix_1=tf.constant([[1,2,3],[2,5,6]])\n",
    "matrix_2=tf.constant([[9,8,7],[5,6,7]])"
   ]
  },
  {
   "cell_type": "code",
   "execution_count": 6,
   "id": "f8f1f26f-73d1-4431-bfe9-580f6f69cdb0",
   "metadata": {
    "tags": []
   },
   "outputs": [],
   "source": [
    "matrix_add=matrix_1+matrix_2"
   ]
  },
  {
   "cell_type": "code",
   "execution_count": 7,
   "id": "c41a556f-3709-4832-a60e-68116b5aecfe",
   "metadata": {
    "tags": []
   },
   "outputs": [
    {
     "data": {
      "text/plain": [
       "<tf.Tensor: shape=(2, 3), dtype=int32, numpy=\n",
       "array([[10, 10, 10],\n",
       "       [ 7, 11, 13]])>"
      ]
     },
     "execution_count": 7,
     "metadata": {},
     "output_type": "execute_result"
    }
   ],
   "source": [
    "matrix_add"
   ]
  },
  {
   "cell_type": "code",
   "execution_count": 8,
   "id": "a41456ea-ca3a-49a5-bc0d-569111786c84",
   "metadata": {
    "tags": []
   },
   "outputs": [],
   "source": [
    "matrix_mult=matrix_1*matrix_2"
   ]
  },
  {
   "cell_type": "code",
   "execution_count": 9,
   "id": "ae6dbdc4-5613-4f09-bb05-19ff03f1b2f6",
   "metadata": {
    "tags": []
   },
   "outputs": [
    {
     "data": {
      "text/plain": [
       "<tf.Tensor: shape=(2, 3), dtype=int32, numpy=\n",
       "array([[ 9, 16, 21],\n",
       "       [10, 30, 42]])>"
      ]
     },
     "execution_count": 9,
     "metadata": {},
     "output_type": "execute_result"
    }
   ],
   "source": [
    "matrix_mult"
   ]
  },
  {
   "cell_type": "code",
   "execution_count": 10,
   "id": "a9cdf4de-f8d7-482c-87c3-bb69e491f9cf",
   "metadata": {
    "tags": []
   },
   "outputs": [],
   "source": [
    "ele=matrix_1*4"
   ]
  },
  {
   "cell_type": "code",
   "execution_count": 11,
   "id": "2b13aac4-f47b-4f6b-8972-ea7cb8e899c1",
   "metadata": {
    "tags": []
   },
   "outputs": [
    {
     "data": {
      "text/plain": [
       "<tf.Tensor: shape=(2, 3), dtype=int32, numpy=\n",
       "array([[ 4,  8, 12],\n",
       "       [ 8, 20, 24]])>"
      ]
     },
     "execution_count": 11,
     "metadata": {},
     "output_type": "execute_result"
    }
   ],
   "source": [
    "ele"
   ]
  },
  {
   "cell_type": "code",
   "execution_count": 12,
   "id": "5e8472f4-3d2c-46c1-a1ac-74f42bacc133",
   "metadata": {
    "tags": []
   },
   "outputs": [],
   "source": [
    "matrix_subtract=matrix_1-matrix_2"
   ]
  },
  {
   "cell_type": "code",
   "execution_count": 13,
   "id": "4e719d61-36de-4a0e-9129-81e227148390",
   "metadata": {
    "tags": []
   },
   "outputs": [
    {
     "data": {
      "text/plain": [
       "<tf.Tensor: shape=(2, 3), dtype=int32, numpy=\n",
       "array([[-8, -6, -4],\n",
       "       [-3, -1, -1]])>"
      ]
     },
     "execution_count": 13,
     "metadata": {},
     "output_type": "execute_result"
    }
   ],
   "source": [
    "matrix_subtract"
   ]
  },
  {
   "cell_type": "markdown",
   "id": "57be0cad-8b83-4052-8029-0168a2d87dfb",
   "metadata": {},
   "source": [
    "# PART 2"
   ]
  },
  {
   "cell_type": "markdown",
   "id": "72417315-658c-4ce3-9979-5ca93b8f70ac",
   "metadata": {},
   "source": [
    "## TASK 1"
   ]
  },
  {
   "cell_type": "markdown",
   "id": "4da62ac3-254d-4bbc-9406-ea83b8ea41c0",
   "metadata": {},
   "source": [
    "### ANS 1"
   ]
  },
  {
   "cell_type": "code",
   "execution_count": 18,
   "id": "5a336dd2-c620-4405-baac-68753044ae17",
   "metadata": {
    "tags": []
   },
   "outputs": [],
   "source": [
    "matrix_a=tf.random.normal(shape=(3,3))"
   ]
  },
  {
   "cell_type": "code",
   "execution_count": 19,
   "id": "f5e35ea4-9f39-4648-a5ff-07b9254bfca5",
   "metadata": {
    "tags": []
   },
   "outputs": [
    {
     "data": {
      "text/plain": [
       "<tf.Tensor: shape=(3, 3), dtype=float32, numpy=\n",
       "array([[-0.7446679 ,  0.13884327,  1.522476  ],\n",
       "       [-1.9798311 ,  0.99315596,  1.334364  ],\n",
       "       [-0.59111017, -1.0620196 ,  0.01999022]], dtype=float32)>"
      ]
     },
     "execution_count": 19,
     "metadata": {},
     "output_type": "execute_result"
    }
   ],
   "source": [
    "matrix_a"
   ]
  },
  {
   "cell_type": "markdown",
   "id": "452ee9ef-c80e-4820-86b4-3bb8a0a637d6",
   "metadata": {},
   "source": [
    "### ANS 2"
   ]
  },
  {
   "cell_type": "code",
   "execution_count": 29,
   "id": "53cb125c-d871-43d4-8493-524ef03efc6d",
   "metadata": {
    "tags": []
   },
   "outputs": [],
   "source": [
    "matrix_b=tf.random.truncated_normal(shape=(4,4))"
   ]
  },
  {
   "cell_type": "code",
   "execution_count": 30,
   "id": "c60fa7d5-d846-45ef-aeb7-29e1f19aafbe",
   "metadata": {
    "tags": []
   },
   "outputs": [
    {
     "data": {
      "text/plain": [
       "<tf.Tensor: shape=(4, 4), dtype=float32, numpy=\n",
       "array([[-0.04745372, -1.2027674 , -0.3682536 , -1.2471641 ],\n",
       "       [ 0.19134709,  0.31112495, -0.0991949 , -0.18521705],\n",
       "       [ 1.3924824 ,  0.26447025,  0.27631745,  0.82112664],\n",
       "       [ 0.36811656, -0.8850986 , -1.4402989 ,  0.6779054 ]],\n",
       "      dtype=float32)>"
      ]
     },
     "execution_count": 30,
     "metadata": {},
     "output_type": "execute_result"
    }
   ],
   "source": [
    "matrix_b"
   ]
  },
  {
   "cell_type": "markdown",
   "id": "6c19905f-2d29-4594-a22e-8ce4f2284ee1",
   "metadata": {},
   "source": [
    "### ANS 3"
   ]
  },
  {
   "cell_type": "code",
   "execution_count": 31,
   "id": "44a2c53c-6897-4d76-a59e-b847e497a0bf",
   "metadata": {
    "tags": []
   },
   "outputs": [],
   "source": [
    "matrix_c=tf.random.normal(shape=(2,2),mean=3,stddev=0.5)"
   ]
  },
  {
   "cell_type": "code",
   "execution_count": 32,
   "id": "4657a72a-2421-44dd-9c17-14d0441e4542",
   "metadata": {
    "tags": []
   },
   "outputs": [
    {
     "data": {
      "text/plain": [
       "<tf.Tensor: shape=(2, 2), dtype=float32, numpy=\n",
       "array([[2.3731413, 3.419585 ],\n",
       "       [2.8533232, 2.7349706]], dtype=float32)>"
      ]
     },
     "execution_count": 32,
     "metadata": {},
     "output_type": "execute_result"
    }
   ],
   "source": [
    "matrix_c"
   ]
  },
  {
   "cell_type": "markdown",
   "id": "8740433f-1aa6-4f92-acc0-62d4c0d2e94e",
   "metadata": {},
   "source": [
    "### ANS 4"
   ]
  },
  {
   "cell_type": "code",
   "execution_count": 41,
   "id": "8e3655dd-8759-4ed6-9abf-f4d137880203",
   "metadata": {
    "tags": []
   },
   "outputs": [],
   "source": [
    "reshaped_matrix_a=tf.pad(matrix_a,paddings=[[0,1],[0,1]])"
   ]
  },
  {
   "cell_type": "code",
   "execution_count": 39,
   "id": "03107afd-7ca4-455f-a8df-099514703e8f",
   "metadata": {
    "tags": []
   },
   "outputs": [
    {
     "data": {
      "text/plain": [
       "<tf.Tensor: shape=(4, 4), dtype=float32, numpy=\n",
       "array([[-0.7446679 ,  0.13884327,  1.522476  ,  0.        ],\n",
       "       [-1.9798311 ,  0.99315596,  1.334364  ,  0.        ],\n",
       "       [-0.59111017, -1.0620196 ,  0.01999022,  0.        ],\n",
       "       [ 0.        ,  0.        ,  0.        ,  0.        ]],\n",
       "      dtype=float32)>"
      ]
     },
     "execution_count": 39,
     "metadata": {},
     "output_type": "execute_result"
    }
   ],
   "source": [
    "reshaped_matrix_a"
   ]
  },
  {
   "cell_type": "code",
   "execution_count": 42,
   "id": "b9f51397-5f5d-410b-b332-82be6ba15877",
   "metadata": {
    "tags": []
   },
   "outputs": [],
   "source": [
    "matrix_d=reshaped_matrix_a-matrix_b"
   ]
  },
  {
   "cell_type": "code",
   "execution_count": 44,
   "id": "ec8d7479-ae6e-41ad-90bd-c53e454c8056",
   "metadata": {
    "tags": []
   },
   "outputs": [
    {
     "data": {
      "text/plain": [
       "<tf.Tensor: shape=(4, 4), dtype=float32, numpy=\n",
       "array([[-0.6972142 ,  1.3416107 ,  1.8907295 ,  1.2471641 ],\n",
       "       [-2.171178  ,  0.68203104,  1.433559  ,  0.18521705],\n",
       "       [-1.9835925 , -1.3264898 , -0.2563272 , -0.82112664],\n",
       "       [-0.36811656,  0.8850986 ,  1.4402989 , -0.6779054 ]],\n",
       "      dtype=float32)>"
      ]
     },
     "execution_count": 44,
     "metadata": {},
     "output_type": "execute_result"
    }
   ],
   "source": [
    "matrix_d"
   ]
  },
  {
   "cell_type": "markdown",
   "id": "3b13fb47-9310-42dc-aef1-55aab970db83",
   "metadata": {},
   "source": [
    "### ANS 5"
   ]
  },
  {
   "cell_type": "code",
   "execution_count": 45,
   "id": "e7901bd1-727d-4438-beee-8359d7e2efdc",
   "metadata": {
    "tags": []
   },
   "outputs": [],
   "source": [
    "matrix_e=reshaped_matrix_a*matrix_d"
   ]
  },
  {
   "cell_type": "markdown",
   "id": "f68abb44-e7f2-41fc-8f73-40bdfeff84d0",
   "metadata": {
    "tags": []
   },
   "source": [
    "## TASK 2"
   ]
  },
  {
   "cell_type": "markdown",
   "id": "aec06c23-28c8-4d26-b332-10175a3779b5",
   "metadata": {},
   "source": [
    "### ANS 1"
   ]
  },
  {
   "cell_type": "code",
   "execution_count": 62,
   "id": "f776ef73-3aa3-4659-96cc-4274d153a8c2",
   "metadata": {
    "tags": []
   },
   "outputs": [],
   "source": [
    "matrix_f=tf.random.uniform(shape=(3,3))"
   ]
  },
  {
   "cell_type": "code",
   "execution_count": 63,
   "id": "4bac98a4-9f4a-43a6-a741-c9a135a0e33b",
   "metadata": {
    "tags": []
   },
   "outputs": [
    {
     "data": {
      "text/plain": [
       "<tf.Tensor: shape=(3, 3), dtype=float32, numpy=\n",
       "array([[0.7702664 , 0.04103351, 0.649106  ],\n",
       "       [0.6826271 , 0.45881116, 0.45402122],\n",
       "       [0.4998113 , 0.27239215, 0.81784415]], dtype=float32)>"
      ]
     },
     "execution_count": 63,
     "metadata": {},
     "output_type": "execute_result"
    }
   ],
   "source": [
    "matrix_f"
   ]
  },
  {
   "cell_type": "markdown",
   "id": "d134052b-fb70-4a7c-b74e-990a0b830b06",
   "metadata": {},
   "source": [
    "## ANS 2"
   ]
  },
  {
   "cell_type": "code",
   "execution_count": 64,
   "id": "94bafddd-4f00-42d7-a7fb-16ae45fbc5c2",
   "metadata": {
    "tags": []
   },
   "outputs": [],
   "source": [
    "matrix_g=tf.transpose(matrix_f)"
   ]
  },
  {
   "cell_type": "code",
   "execution_count": 65,
   "id": "0f4583fa-890d-4523-9624-be69430f7e4d",
   "metadata": {
    "tags": []
   },
   "outputs": [
    {
     "data": {
      "text/plain": [
       "<tf.Tensor: shape=(3, 3), dtype=float32, numpy=\n",
       "array([[0.7702664 , 0.6826271 , 0.4998113 ],\n",
       "       [0.04103351, 0.45881116, 0.27239215],\n",
       "       [0.649106  , 0.45402122, 0.81784415]], dtype=float32)>"
      ]
     },
     "execution_count": 65,
     "metadata": {},
     "output_type": "execute_result"
    }
   ],
   "source": [
    "matrix_g"
   ]
  },
  {
   "cell_type": "markdown",
   "id": "420e58de-7fd8-4420-b67b-e53278ed1939",
   "metadata": {},
   "source": [
    "## ANS 3"
   ]
  },
  {
   "cell_type": "code",
   "execution_count": 61,
   "id": "a5358515-befc-42da-966c-7dfbfc5a73f9",
   "metadata": {
    "tags": []
   },
   "outputs": [],
   "source": [
    "matrix_h=tf.exp(matrix_f)"
   ]
  },
  {
   "cell_type": "code",
   "execution_count": 66,
   "id": "c620492c-ff14-4284-a975-8516f00ecfc8",
   "metadata": {
    "tags": []
   },
   "outputs": [
    {
     "data": {
      "text/plain": [
       "<tf.Tensor: shape=(3, 3), dtype=float32, numpy=\n",
       "array([[1.0386314, 1.0841067, 1.9642775],\n",
       "       [1.3902043, 1.2754403, 2.4276834],\n",
       "       [2.5686803, 1.4969524, 1.2695886]], dtype=float32)>"
      ]
     },
     "execution_count": 66,
     "metadata": {},
     "output_type": "execute_result"
    }
   ],
   "source": [
    "matrix_h"
   ]
  },
  {
   "cell_type": "markdown",
   "id": "67302688-fa82-484d-b3bc-0cce206d4c04",
   "metadata": {},
   "source": [
    "## ANS 4"
   ]
  },
  {
   "cell_type": "code",
   "execution_count": 75,
   "id": "01b3c41e-ef80-4ea4-996b-369a66a74370",
   "metadata": {
    "tags": []
   },
   "outputs": [],
   "source": [
    "matrix_l=tf.concat([matrix_f,matrix_g],axis=1)"
   ]
  },
  {
   "cell_type": "code",
   "execution_count": 76,
   "id": "81d77327-1f77-4e13-94e3-a35a929832a6",
   "metadata": {
    "tags": []
   },
   "outputs": [
    {
     "data": {
      "text/plain": [
       "<tf.Tensor: shape=(2, 3), dtype=int32, numpy=\n",
       "array([[1, 2, 3],\n",
       "       [2, 5, 6]])>"
      ]
     },
     "execution_count": 76,
     "metadata": {},
     "output_type": "execute_result"
    }
   ],
   "source": [
    "matrix_1"
   ]
  },
  {
   "cell_type": "markdown",
   "id": "3e3b612f-e3fc-40ad-b589-fe10b2c973f2",
   "metadata": {},
   "source": [
    "## ANS 5"
   ]
  },
  {
   "cell_type": "code",
   "execution_count": 77,
   "id": "0c9d8390-ea7c-4d6b-a880-013391c852d1",
   "metadata": {
    "tags": []
   },
   "outputs": [],
   "source": [
    "matrix_j=tf.concat([matrix_f,matrix_g],axis=0)"
   ]
  },
  {
   "cell_type": "code",
   "execution_count": 78,
   "id": "f0e62d77-c9b9-413f-87b5-187104a76c84",
   "metadata": {
    "tags": []
   },
   "outputs": [
    {
     "data": {
      "text/plain": [
       "<tf.Tensor: shape=(6, 3), dtype=float32, numpy=\n",
       "array([[0.7702664 , 0.04103351, 0.649106  ],\n",
       "       [0.6826271 , 0.45881116, 0.45402122],\n",
       "       [0.4998113 , 0.27239215, 0.81784415],\n",
       "       [0.7702664 , 0.6826271 , 0.4998113 ],\n",
       "       [0.04103351, 0.45881116, 0.27239215],\n",
       "       [0.649106  , 0.45402122, 0.81784415]], dtype=float32)>"
      ]
     },
     "execution_count": 78,
     "metadata": {},
     "output_type": "execute_result"
    }
   ],
   "source": [
    "matrix_j"
   ]
  },
  {
   "cell_type": "code",
   "execution_count": null,
   "id": "c4fa1904-f1ff-4c6a-a743-9b1ecdca0353",
   "metadata": {},
   "outputs": [],
   "source": []
  }
 ],
 "metadata": {
  "kernelspec": {
   "display_name": "Python 3 (ipykernel)",
   "language": "python",
   "name": "python3"
  },
  "language_info": {
   "codemirror_mode": {
    "name": "ipython",
    "version": 3
   },
   "file_extension": ".py",
   "mimetype": "text/x-python",
   "name": "python",
   "nbconvert_exporter": "python",
   "pygments_lexer": "ipython3",
   "version": "3.11.4"
  }
 },
 "nbformat": 4,
 "nbformat_minor": 5
}
