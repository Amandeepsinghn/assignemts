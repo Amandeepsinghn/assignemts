{
 "cells": [
  {
   "cell_type": "markdown",
   "id": "171cb45b-a626-45eb-b107-32442c66ce30",
   "metadata": {},
   "source": [
    "### ANS 1"
   ]
  },
  {
   "cell_type": "code",
   "execution_count": null,
   "id": "209bf999-078c-4ee9-b714-c816a77969c2",
   "metadata": {},
   "outputs": [],
   "source": [
    "import pandas as pd\n",
    "course_name = ['Data Science', 'Machine Learning', 'Big Data', 'Data Engineer']\n",
    "duration = [2,3,6,4]\n",
    "df = pd.DataFrame(data = {'course_name' : course_name, 'duration' : duration})"
   ]
  },
  {
   "cell_type": "code",
   "execution_count": 4,
   "id": "7cb2ca33-cb64-40c4-a266-528022d778be",
   "metadata": {},
   "outputs": [
    {
     "data": {
      "text/html": [
       "<div>\n",
       "<style scoped>\n",
       "    .dataframe tbody tr th:only-of-type {\n",
       "        vertical-align: middle;\n",
       "    }\n",
       "\n",
       "    .dataframe tbody tr th {\n",
       "        vertical-align: top;\n",
       "    }\n",
       "\n",
       "    .dataframe thead th {\n",
       "        text-align: right;\n",
       "    }\n",
       "</style>\n",
       "<table border=\"1\" class=\"dataframe\">\n",
       "  <thead>\n",
       "    <tr style=\"text-align: right;\">\n",
       "      <th></th>\n",
       "      <th>course_name</th>\n",
       "      <th>duration</th>\n",
       "    </tr>\n",
       "  </thead>\n",
       "  <tbody>\n",
       "    <tr>\n",
       "      <th>0</th>\n",
       "      <td>Data Science</td>\n",
       "      <td>2</td>\n",
       "    </tr>\n",
       "    <tr>\n",
       "      <th>1</th>\n",
       "      <td>Machine Learning</td>\n",
       "      <td>3</td>\n",
       "    </tr>\n",
       "    <tr>\n",
       "      <th>2</th>\n",
       "      <td>Big Data</td>\n",
       "      <td>6</td>\n",
       "    </tr>\n",
       "    <tr>\n",
       "      <th>3</th>\n",
       "      <td>Data Engineer</td>\n",
       "      <td>4</td>\n",
       "    </tr>\n",
       "  </tbody>\n",
       "</table>\n",
       "</div>"
      ],
      "text/plain": [
       "        course_name  duration\n",
       "0      Data Science         2\n",
       "1  Machine Learning         3\n",
       "2          Big Data         6\n",
       "3     Data Engineer         4"
      ]
     },
     "execution_count": 4,
     "metadata": {},
     "output_type": "execute_result"
    }
   ],
   "source": [
    "df"
   ]
  },
  {
   "cell_type": "code",
   "execution_count": 8,
   "id": "7eaf4e65-efa9-4cb7-9f0a-097bc2ef2cdc",
   "metadata": {},
   "outputs": [
    {
     "data": {
      "text/plain": [
       "['Machine Learning', 3]"
      ]
     },
     "execution_count": 8,
     "metadata": {},
     "output_type": "execute_result"
    }
   ],
   "source": [
    "list(df.iloc[1])"
   ]
  },
  {
   "cell_type": "markdown",
   "id": "6d1ed7a1-62d9-4b61-a0f2-df836b37adeb",
   "metadata": {},
   "source": [
    "### ANS 2\n",
    "loc and i loc both used are used to print the specified value\n",
    "1) loc only takes str and int vlaues while iloc takes only int values\n",
    "2) loc takes vlaue based on their coloumn_name and rows_name and iloc takes takes integeral values.\n"
   ]
  },
  {
   "cell_type": "markdown",
   "id": "f556af38-bf1f-4a77-b89d-6c56454b878a",
   "metadata": {},
   "source": [
    "### ANS 3"
   ]
  },
  {
   "cell_type": "code",
   "execution_count": 39,
   "id": "d3555dbc-1a95-499e-9684-a6191f8700e9",
   "metadata": {},
   "outputs": [],
   "source": [
    "import pandas as pd\n",
    "import numpy as np\n",
    "columns = ['column_1', 'column_2', 'column_3', 'column_4', 'column_5', 'column_6']\n",
    "indices = [1,2,3,4,5,6]\n",
    "#Creating a dataframe:\n",
    "df1 = pd.DataFrame(np.random.rand(6,6), columns = columns, index = indices)"
   ]
  },
  {
   "cell_type": "code",
   "execution_count": 40,
   "id": "4edfb898-512f-46c2-9154-37ecbfd03947",
   "metadata": {},
   "outputs": [
    {
     "data": {
      "text/html": [
       "<div>\n",
       "<style scoped>\n",
       "    .dataframe tbody tr th:only-of-type {\n",
       "        vertical-align: middle;\n",
       "    }\n",
       "\n",
       "    .dataframe tbody tr th {\n",
       "        vertical-align: top;\n",
       "    }\n",
       "\n",
       "    .dataframe thead th {\n",
       "        text-align: right;\n",
       "    }\n",
       "</style>\n",
       "<table border=\"1\" class=\"dataframe\">\n",
       "  <thead>\n",
       "    <tr style=\"text-align: right;\">\n",
       "      <th></th>\n",
       "      <th>column_1</th>\n",
       "      <th>column_2</th>\n",
       "      <th>column_3</th>\n",
       "      <th>column_4</th>\n",
       "      <th>column_5</th>\n",
       "      <th>column_6</th>\n",
       "    </tr>\n",
       "  </thead>\n",
       "  <tbody>\n",
       "    <tr>\n",
       "      <th>1</th>\n",
       "      <td>0.651743</td>\n",
       "      <td>0.941842</td>\n",
       "      <td>0.604171</td>\n",
       "      <td>0.791333</td>\n",
       "      <td>0.180688</td>\n",
       "      <td>0.732594</td>\n",
       "    </tr>\n",
       "    <tr>\n",
       "      <th>2</th>\n",
       "      <td>0.288119</td>\n",
       "      <td>0.795102</td>\n",
       "      <td>0.634772</td>\n",
       "      <td>0.063226</td>\n",
       "      <td>0.929946</td>\n",
       "      <td>0.360195</td>\n",
       "    </tr>\n",
       "    <tr>\n",
       "      <th>3</th>\n",
       "      <td>0.974289</td>\n",
       "      <td>0.587432</td>\n",
       "      <td>0.093642</td>\n",
       "      <td>0.784277</td>\n",
       "      <td>0.769154</td>\n",
       "      <td>0.969765</td>\n",
       "    </tr>\n",
       "    <tr>\n",
       "      <th>4</th>\n",
       "      <td>0.849246</td>\n",
       "      <td>0.573872</td>\n",
       "      <td>0.833544</td>\n",
       "      <td>0.619835</td>\n",
       "      <td>0.215956</td>\n",
       "      <td>0.297523</td>\n",
       "    </tr>\n",
       "    <tr>\n",
       "      <th>5</th>\n",
       "      <td>0.132522</td>\n",
       "      <td>0.343155</td>\n",
       "      <td>0.597324</td>\n",
       "      <td>0.934102</td>\n",
       "      <td>0.272549</td>\n",
       "      <td>0.186616</td>\n",
       "    </tr>\n",
       "    <tr>\n",
       "      <th>6</th>\n",
       "      <td>0.476239</td>\n",
       "      <td>0.616835</td>\n",
       "      <td>0.774097</td>\n",
       "      <td>0.378519</td>\n",
       "      <td>0.626701</td>\n",
       "      <td>0.905683</td>\n",
       "    </tr>\n",
       "  </tbody>\n",
       "</table>\n",
       "</div>"
      ],
      "text/plain": [
       "   column_1  column_2  column_3  column_4  column_5  column_6\n",
       "1  0.651743  0.941842  0.604171  0.791333  0.180688  0.732594\n",
       "2  0.288119  0.795102  0.634772  0.063226  0.929946  0.360195\n",
       "3  0.974289  0.587432  0.093642  0.784277  0.769154  0.969765\n",
       "4  0.849246  0.573872  0.833544  0.619835  0.215956  0.297523\n",
       "5  0.132522  0.343155  0.597324  0.934102  0.272549  0.186616\n",
       "6  0.476239  0.616835  0.774097  0.378519  0.626701  0.905683"
      ]
     },
     "execution_count": 40,
     "metadata": {},
     "output_type": "execute_result"
    }
   ],
   "source": [
    "df1"
   ]
  },
  {
   "cell_type": "code",
   "execution_count": 25,
   "id": "ff596b77-a605-4dca-ba64-9ef6cca8a407",
   "metadata": {},
   "outputs": [],
   "source": [
    "l=[2,3,4,6,5,1]"
   ]
  },
  {
   "cell_type": "code",
   "execution_count": 26,
   "id": "e8e56b80-e832-484d-afc7-66fdcf9534ab",
   "metadata": {},
   "outputs": [],
   "source": [
    "df1=df1.reindex(l)"
   ]
  },
  {
   "cell_type": "code",
   "execution_count": 27,
   "id": "d4e4ea4f-28ad-4bfa-a197-7778fc66c92d",
   "metadata": {},
   "outputs": [
    {
     "data": {
      "text/html": [
       "<div>\n",
       "<style scoped>\n",
       "    .dataframe tbody tr th:only-of-type {\n",
       "        vertical-align: middle;\n",
       "    }\n",
       "\n",
       "    .dataframe tbody tr th {\n",
       "        vertical-align: top;\n",
       "    }\n",
       "\n",
       "    .dataframe thead th {\n",
       "        text-align: right;\n",
       "    }\n",
       "</style>\n",
       "<table border=\"1\" class=\"dataframe\">\n",
       "  <thead>\n",
       "    <tr style=\"text-align: right;\">\n",
       "      <th></th>\n",
       "      <th>column_1</th>\n",
       "      <th>column_2</th>\n",
       "      <th>column_3</th>\n",
       "      <th>column_4</th>\n",
       "      <th>column_5</th>\n",
       "      <th>column_6</th>\n",
       "    </tr>\n",
       "  </thead>\n",
       "  <tbody>\n",
       "    <tr>\n",
       "      <th>2</th>\n",
       "      <td>0.501389</td>\n",
       "      <td>0.880893</td>\n",
       "      <td>0.970482</td>\n",
       "      <td>0.935932</td>\n",
       "      <td>0.631726</td>\n",
       "      <td>0.288892</td>\n",
       "    </tr>\n",
       "    <tr>\n",
       "      <th>3</th>\n",
       "      <td>0.452131</td>\n",
       "      <td>0.070396</td>\n",
       "      <td>0.605235</td>\n",
       "      <td>0.387791</td>\n",
       "      <td>0.285088</td>\n",
       "      <td>0.223117</td>\n",
       "    </tr>\n",
       "    <tr>\n",
       "      <th>4</th>\n",
       "      <td>0.316195</td>\n",
       "      <td>0.449995</td>\n",
       "      <td>0.709568</td>\n",
       "      <td>0.944416</td>\n",
       "      <td>0.237264</td>\n",
       "      <td>0.754494</td>\n",
       "    </tr>\n",
       "    <tr>\n",
       "      <th>6</th>\n",
       "      <td>0.257846</td>\n",
       "      <td>0.497710</td>\n",
       "      <td>0.426838</td>\n",
       "      <td>0.674717</td>\n",
       "      <td>0.480921</td>\n",
       "      <td>0.586645</td>\n",
       "    </tr>\n",
       "    <tr>\n",
       "      <th>5</th>\n",
       "      <td>0.835063</td>\n",
       "      <td>0.861256</td>\n",
       "      <td>0.838166</td>\n",
       "      <td>0.438202</td>\n",
       "      <td>0.444591</td>\n",
       "      <td>0.518738</td>\n",
       "    </tr>\n",
       "    <tr>\n",
       "      <th>1</th>\n",
       "      <td>0.558585</td>\n",
       "      <td>0.677102</td>\n",
       "      <td>0.042379</td>\n",
       "      <td>0.722507</td>\n",
       "      <td>0.857613</td>\n",
       "      <td>0.347217</td>\n",
       "    </tr>\n",
       "  </tbody>\n",
       "</table>\n",
       "</div>"
      ],
      "text/plain": [
       "   column_1  column_2  column_3  column_4  column_5  column_6\n",
       "2  0.501389  0.880893  0.970482  0.935932  0.631726  0.288892\n",
       "3  0.452131  0.070396  0.605235  0.387791  0.285088  0.223117\n",
       "4  0.316195  0.449995  0.709568  0.944416  0.237264  0.754494\n",
       "6  0.257846  0.497710  0.426838  0.674717  0.480921  0.586645\n",
       "5  0.835063  0.861256  0.838166  0.438202  0.444591  0.518738\n",
       "1  0.558585  0.677102  0.042379  0.722507  0.857613  0.347217"
      ]
     },
     "execution_count": 27,
     "metadata": {},
     "output_type": "execute_result"
    }
   ],
   "source": [
    "df1"
   ]
  },
  {
   "cell_type": "code",
   "execution_count": 29,
   "id": "c80dc981-7b6f-4578-b9d9-f32d0c2975e9",
   "metadata": {},
   "outputs": [
    {
     "data": {
      "text/plain": [
       "column_1    0.501389\n",
       "column_2    0.880893\n",
       "column_3    0.970482\n",
       "column_4    0.935932\n",
       "column_5    0.631726\n",
       "column_6    0.288892\n",
       "Name: 2, dtype: float64"
      ]
     },
     "execution_count": 29,
     "metadata": {},
     "output_type": "execute_result"
    }
   ],
   "source": [
    "df1.loc[2]"
   ]
  },
  {
   "cell_type": "code",
   "execution_count": 30,
   "id": "cb91118c-678b-448c-8a2e-b31f569a097e",
   "metadata": {},
   "outputs": [
    {
     "data": {
      "text/plain": [
       "column_1    0.316195\n",
       "column_2    0.449995\n",
       "column_3    0.709568\n",
       "column_4    0.944416\n",
       "column_5    0.237264\n",
       "column_6    0.754494\n",
       "Name: 4, dtype: float64"
      ]
     },
     "execution_count": 30,
     "metadata": {},
     "output_type": "execute_result"
    }
   ],
   "source": [
    "df1.iloc[2]"
   ]
  },
  {
   "cell_type": "markdown",
   "id": "412756e9-8833-4777-afc5-7b2802394dee",
   "metadata": {},
   "source": [
    "### we can see that loc[2] gives us data based on the if 2 matches with index values and iloc[2] gives us the data based on the postion of the 2 "
   ]
  },
  {
   "cell_type": "markdown",
   "id": "81d25535-80a2-4333-b463-9443fc783e22",
   "metadata": {},
   "source": [
    "### ANS 4"
   ]
  },
  {
   "cell_type": "code",
   "execution_count": 41,
   "id": "f7539b20-0972-47a9-81f3-13fad38a0a6b",
   "metadata": {},
   "outputs": [
    {
     "data": {
      "text/html": [
       "<div>\n",
       "<style scoped>\n",
       "    .dataframe tbody tr th:only-of-type {\n",
       "        vertical-align: middle;\n",
       "    }\n",
       "\n",
       "    .dataframe tbody tr th {\n",
       "        vertical-align: top;\n",
       "    }\n",
       "\n",
       "    .dataframe thead th {\n",
       "        text-align: right;\n",
       "    }\n",
       "</style>\n",
       "<table border=\"1\" class=\"dataframe\">\n",
       "  <thead>\n",
       "    <tr style=\"text-align: right;\">\n",
       "      <th></th>\n",
       "      <th>column_1</th>\n",
       "      <th>column_2</th>\n",
       "      <th>column_3</th>\n",
       "      <th>column_4</th>\n",
       "      <th>column_5</th>\n",
       "      <th>column_6</th>\n",
       "    </tr>\n",
       "  </thead>\n",
       "  <tbody>\n",
       "    <tr>\n",
       "      <th>1</th>\n",
       "      <td>0.651743</td>\n",
       "      <td>0.941842</td>\n",
       "      <td>0.604171</td>\n",
       "      <td>0.791333</td>\n",
       "      <td>0.180688</td>\n",
       "      <td>0.732594</td>\n",
       "    </tr>\n",
       "    <tr>\n",
       "      <th>2</th>\n",
       "      <td>0.288119</td>\n",
       "      <td>0.795102</td>\n",
       "      <td>0.634772</td>\n",
       "      <td>0.063226</td>\n",
       "      <td>0.929946</td>\n",
       "      <td>0.360195</td>\n",
       "    </tr>\n",
       "    <tr>\n",
       "      <th>3</th>\n",
       "      <td>0.974289</td>\n",
       "      <td>0.587432</td>\n",
       "      <td>0.093642</td>\n",
       "      <td>0.784277</td>\n",
       "      <td>0.769154</td>\n",
       "      <td>0.969765</td>\n",
       "    </tr>\n",
       "    <tr>\n",
       "      <th>4</th>\n",
       "      <td>0.849246</td>\n",
       "      <td>0.573872</td>\n",
       "      <td>0.833544</td>\n",
       "      <td>0.619835</td>\n",
       "      <td>0.215956</td>\n",
       "      <td>0.297523</td>\n",
       "    </tr>\n",
       "    <tr>\n",
       "      <th>5</th>\n",
       "      <td>0.132522</td>\n",
       "      <td>0.343155</td>\n",
       "      <td>0.597324</td>\n",
       "      <td>0.934102</td>\n",
       "      <td>0.272549</td>\n",
       "      <td>0.186616</td>\n",
       "    </tr>\n",
       "    <tr>\n",
       "      <th>6</th>\n",
       "      <td>0.476239</td>\n",
       "      <td>0.616835</td>\n",
       "      <td>0.774097</td>\n",
       "      <td>0.378519</td>\n",
       "      <td>0.626701</td>\n",
       "      <td>0.905683</td>\n",
       "    </tr>\n",
       "  </tbody>\n",
       "</table>\n",
       "</div>"
      ],
      "text/plain": [
       "   column_1  column_2  column_3  column_4  column_5  column_6\n",
       "1  0.651743  0.941842  0.604171  0.791333  0.180688  0.732594\n",
       "2  0.288119  0.795102  0.634772  0.063226  0.929946  0.360195\n",
       "3  0.974289  0.587432  0.093642  0.784277  0.769154  0.969765\n",
       "4  0.849246  0.573872  0.833544  0.619835  0.215956  0.297523\n",
       "5  0.132522  0.343155  0.597324  0.934102  0.272549  0.186616\n",
       "6  0.476239  0.616835  0.774097  0.378519  0.626701  0.905683"
      ]
     },
     "execution_count": 41,
     "metadata": {},
     "output_type": "execute_result"
    }
   ],
   "source": [
    "df1"
   ]
  },
  {
   "cell_type": "code",
   "execution_count": 42,
   "id": "a8e8cb79-f8be-4196-93e8-e4cbbf158a74",
   "metadata": {},
   "outputs": [
    {
     "data": {
      "text/html": [
       "<div>\n",
       "<style scoped>\n",
       "    .dataframe tbody tr th:only-of-type {\n",
       "        vertical-align: middle;\n",
       "    }\n",
       "\n",
       "    .dataframe tbody tr th {\n",
       "        vertical-align: top;\n",
       "    }\n",
       "\n",
       "    .dataframe thead th {\n",
       "        text-align: right;\n",
       "    }\n",
       "</style>\n",
       "<table border=\"1\" class=\"dataframe\">\n",
       "  <thead>\n",
       "    <tr style=\"text-align: right;\">\n",
       "      <th></th>\n",
       "      <th>column_1</th>\n",
       "      <th>column_2</th>\n",
       "      <th>column_3</th>\n",
       "      <th>column_4</th>\n",
       "      <th>column_5</th>\n",
       "      <th>column_6</th>\n",
       "    </tr>\n",
       "  </thead>\n",
       "  <tbody>\n",
       "    <tr>\n",
       "      <th>1</th>\n",
       "      <td>0.651743</td>\n",
       "      <td>0.941842</td>\n",
       "      <td>0.604171</td>\n",
       "      <td>0.791333</td>\n",
       "      <td>0.180688</td>\n",
       "      <td>0.732594</td>\n",
       "    </tr>\n",
       "    <tr>\n",
       "      <th>2</th>\n",
       "      <td>0.288119</td>\n",
       "      <td>0.795102</td>\n",
       "      <td>0.634772</td>\n",
       "      <td>0.063226</td>\n",
       "      <td>0.929946</td>\n",
       "      <td>0.360195</td>\n",
       "    </tr>\n",
       "    <tr>\n",
       "      <th>3</th>\n",
       "      <td>0.974289</td>\n",
       "      <td>0.587432</td>\n",
       "      <td>0.093642</td>\n",
       "      <td>0.784277</td>\n",
       "      <td>0.769154</td>\n",
       "      <td>0.969765</td>\n",
       "    </tr>\n",
       "    <tr>\n",
       "      <th>4</th>\n",
       "      <td>0.849246</td>\n",
       "      <td>0.573872</td>\n",
       "      <td>0.833544</td>\n",
       "      <td>0.619835</td>\n",
       "      <td>0.215956</td>\n",
       "      <td>0.297523</td>\n",
       "    </tr>\n",
       "    <tr>\n",
       "      <th>5</th>\n",
       "      <td>0.132522</td>\n",
       "      <td>0.343155</td>\n",
       "      <td>0.597324</td>\n",
       "      <td>0.934102</td>\n",
       "      <td>0.272549</td>\n",
       "      <td>0.186616</td>\n",
       "    </tr>\n",
       "    <tr>\n",
       "      <th>6</th>\n",
       "      <td>0.476239</td>\n",
       "      <td>0.616835</td>\n",
       "      <td>0.774097</td>\n",
       "      <td>0.378519</td>\n",
       "      <td>0.626701</td>\n",
       "      <td>0.905683</td>\n",
       "    </tr>\n",
       "  </tbody>\n",
       "</table>\n",
       "</div>"
      ],
      "text/plain": [
       "   column_1  column_2  column_3  column_4  column_5  column_6\n",
       "1  0.651743  0.941842  0.604171  0.791333  0.180688  0.732594\n",
       "2  0.288119  0.795102  0.634772  0.063226  0.929946  0.360195\n",
       "3  0.974289  0.587432  0.093642  0.784277  0.769154  0.969765\n",
       "4  0.849246  0.573872  0.833544  0.619835  0.215956  0.297523\n",
       "5  0.132522  0.343155  0.597324  0.934102  0.272549  0.186616\n",
       "6  0.476239  0.616835  0.774097  0.378519  0.626701  0.905683"
      ]
     },
     "execution_count": 42,
     "metadata": {},
     "output_type": "execute_result"
    }
   ],
   "source": [
    "df1"
   ]
  },
  {
   "cell_type": "code",
   "execution_count": 44,
   "id": "7db01ff7-aa0e-44a1-8976-5a12c493aab2",
   "metadata": {},
   "outputs": [
    {
     "data": {
      "text/plain": [
       "column_1    0.562026\n",
       "column_2    0.643040\n",
       "column_3    0.589592\n",
       "column_4    0.595215\n",
       "column_5    0.499166\n",
       "column_6    0.575396\n",
       "dtype: float64"
      ]
     },
     "execution_count": 44,
     "metadata": {},
     "output_type": "execute_result"
    }
   ],
   "source": [
    "df1.mean()"
   ]
  },
  {
   "cell_type": "code",
   "execution_count": 34,
   "id": "ec13fc2b-c200-4dab-a954-5991d696e506",
   "metadata": {},
   "outputs": [
    {
     "data": {
      "text/plain": [
       "0.3040185231603009"
      ]
     },
     "execution_count": 34,
     "metadata": {},
     "output_type": "execute_result"
    }
   ],
   "source": [
    "df1['column_2'].std()"
   ]
  },
  {
   "cell_type": "markdown",
   "id": "2025fd3e-9c17-4077-a517-345f64556103",
   "metadata": {},
   "source": [
    "### ANS 5"
   ]
  },
  {
   "cell_type": "code",
   "execution_count": 45,
   "id": "a4818500-c961-417f-b743-5a82cd9bca91",
   "metadata": {},
   "outputs": [
    {
     "data": {
      "text/html": [
       "<div>\n",
       "<style scoped>\n",
       "    .dataframe tbody tr th:only-of-type {\n",
       "        vertical-align: middle;\n",
       "    }\n",
       "\n",
       "    .dataframe tbody tr th {\n",
       "        vertical-align: top;\n",
       "    }\n",
       "\n",
       "    .dataframe thead th {\n",
       "        text-align: right;\n",
       "    }\n",
       "</style>\n",
       "<table border=\"1\" class=\"dataframe\">\n",
       "  <thead>\n",
       "    <tr style=\"text-align: right;\">\n",
       "      <th></th>\n",
       "      <th>column_1</th>\n",
       "      <th>column_2</th>\n",
       "      <th>column_3</th>\n",
       "      <th>column_4</th>\n",
       "      <th>column_5</th>\n",
       "      <th>column_6</th>\n",
       "    </tr>\n",
       "  </thead>\n",
       "  <tbody>\n",
       "    <tr>\n",
       "      <th>1</th>\n",
       "      <td>0.651743</td>\n",
       "      <td>0.941842</td>\n",
       "      <td>0.604171</td>\n",
       "      <td>0.791333</td>\n",
       "      <td>0.180688</td>\n",
       "      <td>0.732594</td>\n",
       "    </tr>\n",
       "    <tr>\n",
       "      <th>2</th>\n",
       "      <td>0.288119</td>\n",
       "      <td>0.795102</td>\n",
       "      <td>0.634772</td>\n",
       "      <td>0.063226</td>\n",
       "      <td>0.929946</td>\n",
       "      <td>0.360195</td>\n",
       "    </tr>\n",
       "    <tr>\n",
       "      <th>3</th>\n",
       "      <td>0.974289</td>\n",
       "      <td>0.587432</td>\n",
       "      <td>0.093642</td>\n",
       "      <td>0.784277</td>\n",
       "      <td>0.769154</td>\n",
       "      <td>0.969765</td>\n",
       "    </tr>\n",
       "    <tr>\n",
       "      <th>4</th>\n",
       "      <td>0.849246</td>\n",
       "      <td>0.573872</td>\n",
       "      <td>0.833544</td>\n",
       "      <td>0.619835</td>\n",
       "      <td>0.215956</td>\n",
       "      <td>0.297523</td>\n",
       "    </tr>\n",
       "    <tr>\n",
       "      <th>5</th>\n",
       "      <td>0.132522</td>\n",
       "      <td>0.343155</td>\n",
       "      <td>0.597324</td>\n",
       "      <td>0.934102</td>\n",
       "      <td>0.272549</td>\n",
       "      <td>0.186616</td>\n",
       "    </tr>\n",
       "    <tr>\n",
       "      <th>6</th>\n",
       "      <td>0.476239</td>\n",
       "      <td>0.616835</td>\n",
       "      <td>0.774097</td>\n",
       "      <td>0.378519</td>\n",
       "      <td>0.626701</td>\n",
       "      <td>0.905683</td>\n",
       "    </tr>\n",
       "  </tbody>\n",
       "</table>\n",
       "</div>"
      ],
      "text/plain": [
       "   column_1  column_2  column_3  column_4  column_5  column_6\n",
       "1  0.651743  0.941842  0.604171  0.791333  0.180688  0.732594\n",
       "2  0.288119  0.795102  0.634772  0.063226  0.929946  0.360195\n",
       "3  0.974289  0.587432  0.093642  0.784277  0.769154  0.969765\n",
       "4  0.849246  0.573872  0.833544  0.619835  0.215956  0.297523\n",
       "5  0.132522  0.343155  0.597324  0.934102  0.272549  0.186616\n",
       "6  0.476239  0.616835  0.774097  0.378519  0.626701  0.905683"
      ]
     },
     "execution_count": 45,
     "metadata": {},
     "output_type": "execute_result"
    }
   ],
   "source": [
    "df1"
   ]
  },
  {
   "cell_type": "code",
   "execution_count": 47,
   "id": "e359904c-2dfe-4b8c-bb46-4fb14ffa23a2",
   "metadata": {},
   "outputs": [],
   "source": [
    "df1.loc[2,'column_2']='aman'"
   ]
  },
  {
   "cell_type": "code",
   "execution_count": 48,
   "id": "0f1ae5e0-7cc8-4527-936a-91389ac8e568",
   "metadata": {},
   "outputs": [
    {
     "data": {
      "text/html": [
       "<div>\n",
       "<style scoped>\n",
       "    .dataframe tbody tr th:only-of-type {\n",
       "        vertical-align: middle;\n",
       "    }\n",
       "\n",
       "    .dataframe tbody tr th {\n",
       "        vertical-align: top;\n",
       "    }\n",
       "\n",
       "    .dataframe thead th {\n",
       "        text-align: right;\n",
       "    }\n",
       "</style>\n",
       "<table border=\"1\" class=\"dataframe\">\n",
       "  <thead>\n",
       "    <tr style=\"text-align: right;\">\n",
       "      <th></th>\n",
       "      <th>column_1</th>\n",
       "      <th>column_2</th>\n",
       "      <th>column_3</th>\n",
       "      <th>column_4</th>\n",
       "      <th>column_5</th>\n",
       "      <th>column_6</th>\n",
       "    </tr>\n",
       "  </thead>\n",
       "  <tbody>\n",
       "    <tr>\n",
       "      <th>1</th>\n",
       "      <td>0.651743</td>\n",
       "      <td>0.941842</td>\n",
       "      <td>0.604171</td>\n",
       "      <td>0.791333</td>\n",
       "      <td>0.180688</td>\n",
       "      <td>0.732594</td>\n",
       "    </tr>\n",
       "    <tr>\n",
       "      <th>2</th>\n",
       "      <td>0.288119</td>\n",
       "      <td>aman</td>\n",
       "      <td>0.634772</td>\n",
       "      <td>0.063226</td>\n",
       "      <td>0.929946</td>\n",
       "      <td>0.360195</td>\n",
       "    </tr>\n",
       "    <tr>\n",
       "      <th>3</th>\n",
       "      <td>0.974289</td>\n",
       "      <td>0.587432</td>\n",
       "      <td>0.093642</td>\n",
       "      <td>0.784277</td>\n",
       "      <td>0.769154</td>\n",
       "      <td>0.969765</td>\n",
       "    </tr>\n",
       "    <tr>\n",
       "      <th>4</th>\n",
       "      <td>0.849246</td>\n",
       "      <td>0.573872</td>\n",
       "      <td>0.833544</td>\n",
       "      <td>0.619835</td>\n",
       "      <td>0.215956</td>\n",
       "      <td>0.297523</td>\n",
       "    </tr>\n",
       "    <tr>\n",
       "      <th>5</th>\n",
       "      <td>0.132522</td>\n",
       "      <td>0.343155</td>\n",
       "      <td>0.597324</td>\n",
       "      <td>0.934102</td>\n",
       "      <td>0.272549</td>\n",
       "      <td>0.186616</td>\n",
       "    </tr>\n",
       "    <tr>\n",
       "      <th>6</th>\n",
       "      <td>0.476239</td>\n",
       "      <td>0.616835</td>\n",
       "      <td>0.774097</td>\n",
       "      <td>0.378519</td>\n",
       "      <td>0.626701</td>\n",
       "      <td>0.905683</td>\n",
       "    </tr>\n",
       "  </tbody>\n",
       "</table>\n",
       "</div>"
      ],
      "text/plain": [
       "   column_1  column_2  column_3  column_4  column_5  column_6\n",
       "1  0.651743  0.941842  0.604171  0.791333  0.180688  0.732594\n",
       "2  0.288119      aman  0.634772  0.063226  0.929946  0.360195\n",
       "3  0.974289  0.587432  0.093642  0.784277  0.769154  0.969765\n",
       "4  0.849246  0.573872  0.833544  0.619835  0.215956  0.297523\n",
       "5  0.132522  0.343155  0.597324  0.934102  0.272549  0.186616\n",
       "6  0.476239  0.616835  0.774097  0.378519  0.626701  0.905683"
      ]
     },
     "execution_count": 48,
     "metadata": {},
     "output_type": "execute_result"
    }
   ],
   "source": [
    "df1"
   ]
  },
  {
   "cell_type": "code",
   "execution_count": 49,
   "id": "9e376503-3eb4-472d-9e85-c0dfe790f269",
   "metadata": {},
   "outputs": [
    {
     "ename": "KeyError",
     "evalue": "'column_2'",
     "output_type": "error",
     "traceback": [
      "\u001b[0;31m---------------------------------------------------------------------------\u001b[0m",
      "\u001b[0;31mKeyError\u001b[0m                                  Traceback (most recent call last)",
      "File \u001b[0;32m/opt/conda/lib/python3.10/site-packages/pandas/core/indexes/base.py:3803\u001b[0m, in \u001b[0;36mIndex.get_loc\u001b[0;34m(self, key, method, tolerance)\u001b[0m\n\u001b[1;32m   3802\u001b[0m \u001b[38;5;28;01mtry\u001b[39;00m:\n\u001b[0;32m-> 3803\u001b[0m     \u001b[38;5;28;01mreturn\u001b[39;00m \u001b[38;5;28;43mself\u001b[39;49m\u001b[38;5;241;43m.\u001b[39;49m\u001b[43m_engine\u001b[49m\u001b[38;5;241;43m.\u001b[39;49m\u001b[43mget_loc\u001b[49m\u001b[43m(\u001b[49m\u001b[43mcasted_key\u001b[49m\u001b[43m)\u001b[49m\n\u001b[1;32m   3804\u001b[0m \u001b[38;5;28;01mexcept\u001b[39;00m \u001b[38;5;167;01mKeyError\u001b[39;00m \u001b[38;5;28;01mas\u001b[39;00m err:\n",
      "File \u001b[0;32m/opt/conda/lib/python3.10/site-packages/pandas/_libs/index.pyx:138\u001b[0m, in \u001b[0;36mpandas._libs.index.IndexEngine.get_loc\u001b[0;34m()\u001b[0m\n",
      "File \u001b[0;32m/opt/conda/lib/python3.10/site-packages/pandas/_libs/index.pyx:165\u001b[0m, in \u001b[0;36mpandas._libs.index.IndexEngine.get_loc\u001b[0;34m()\u001b[0m\n",
      "File \u001b[0;32mpandas/_libs/hashtable_class_helper.pxi:5745\u001b[0m, in \u001b[0;36mpandas._libs.hashtable.PyObjectHashTable.get_item\u001b[0;34m()\u001b[0m\n",
      "File \u001b[0;32mpandas/_libs/hashtable_class_helper.pxi:5753\u001b[0m, in \u001b[0;36mpandas._libs.hashtable.PyObjectHashTable.get_item\u001b[0;34m()\u001b[0m\n",
      "\u001b[0;31mKeyError\u001b[0m: 'column_2'",
      "\nThe above exception was the direct cause of the following exception:\n",
      "\u001b[0;31mKeyError\u001b[0m                                  Traceback (most recent call last)",
      "Cell \u001b[0;32mIn[49], line 1\u001b[0m\n\u001b[0;32m----> 1\u001b[0m \u001b[43mdf\u001b[49m\u001b[43m[\u001b[49m\u001b[38;5;124;43m'\u001b[39;49m\u001b[38;5;124;43mcolumn_2\u001b[39;49m\u001b[38;5;124;43m'\u001b[39;49m\u001b[43m]\u001b[49m\u001b[38;5;241m.\u001b[39mmean()\n",
      "File \u001b[0;32m/opt/conda/lib/python3.10/site-packages/pandas/core/frame.py:3805\u001b[0m, in \u001b[0;36mDataFrame.__getitem__\u001b[0;34m(self, key)\u001b[0m\n\u001b[1;32m   3803\u001b[0m \u001b[38;5;28;01mif\u001b[39;00m \u001b[38;5;28mself\u001b[39m\u001b[38;5;241m.\u001b[39mcolumns\u001b[38;5;241m.\u001b[39mnlevels \u001b[38;5;241m>\u001b[39m \u001b[38;5;241m1\u001b[39m:\n\u001b[1;32m   3804\u001b[0m     \u001b[38;5;28;01mreturn\u001b[39;00m \u001b[38;5;28mself\u001b[39m\u001b[38;5;241m.\u001b[39m_getitem_multilevel(key)\n\u001b[0;32m-> 3805\u001b[0m indexer \u001b[38;5;241m=\u001b[39m \u001b[38;5;28;43mself\u001b[39;49m\u001b[38;5;241;43m.\u001b[39;49m\u001b[43mcolumns\u001b[49m\u001b[38;5;241;43m.\u001b[39;49m\u001b[43mget_loc\u001b[49m\u001b[43m(\u001b[49m\u001b[43mkey\u001b[49m\u001b[43m)\u001b[49m\n\u001b[1;32m   3806\u001b[0m \u001b[38;5;28;01mif\u001b[39;00m is_integer(indexer):\n\u001b[1;32m   3807\u001b[0m     indexer \u001b[38;5;241m=\u001b[39m [indexer]\n",
      "File \u001b[0;32m/opt/conda/lib/python3.10/site-packages/pandas/core/indexes/base.py:3805\u001b[0m, in \u001b[0;36mIndex.get_loc\u001b[0;34m(self, key, method, tolerance)\u001b[0m\n\u001b[1;32m   3803\u001b[0m     \u001b[38;5;28;01mreturn\u001b[39;00m \u001b[38;5;28mself\u001b[39m\u001b[38;5;241m.\u001b[39m_engine\u001b[38;5;241m.\u001b[39mget_loc(casted_key)\n\u001b[1;32m   3804\u001b[0m \u001b[38;5;28;01mexcept\u001b[39;00m \u001b[38;5;167;01mKeyError\u001b[39;00m \u001b[38;5;28;01mas\u001b[39;00m err:\n\u001b[0;32m-> 3805\u001b[0m     \u001b[38;5;28;01mraise\u001b[39;00m \u001b[38;5;167;01mKeyError\u001b[39;00m(key) \u001b[38;5;28;01mfrom\u001b[39;00m \u001b[38;5;21;01merr\u001b[39;00m\n\u001b[1;32m   3806\u001b[0m \u001b[38;5;28;01mexcept\u001b[39;00m \u001b[38;5;167;01mTypeError\u001b[39;00m:\n\u001b[1;32m   3807\u001b[0m     \u001b[38;5;66;03m# If we have a listlike key, _check_indexing_error will raise\u001b[39;00m\n\u001b[1;32m   3808\u001b[0m     \u001b[38;5;66;03m#  InvalidIndexError. Otherwise we fall through and re-raise\u001b[39;00m\n\u001b[1;32m   3809\u001b[0m     \u001b[38;5;66;03m#  the TypeError.\u001b[39;00m\n\u001b[1;32m   3810\u001b[0m     \u001b[38;5;28mself\u001b[39m\u001b[38;5;241m.\u001b[39m_check_indexing_error(key)\n",
      "\u001b[0;31mKeyError\u001b[0m: 'column_2'"
     ]
    }
   ],
   "source": [
    "df['column_2'].mean()"
   ]
  },
  {
   "cell_type": "markdown",
   "id": "da7dbed2-646e-40bb-a2ed-79336eea6d24",
   "metadata": {},
   "source": [
    "we are getting error while excuting the code becuase mean is calcualted for the int or float datatypes."
   ]
  },
  {
   "cell_type": "markdown",
   "id": "10c6cd60-e240-4334-93fa-06d2cc39509d",
   "metadata": {},
   "source": [
    "### ANS 6\n",
    "widnows fucntion operates on specific window of data within large dataset. windows allows you to perform operations on specific data.\n",
    "\n"
   ]
  },
  {
   "cell_type": "markdown",
   "id": "65870091-cede-4d93-a0c3-d06b14307074",
   "metadata": {},
   "source": [
    "### ANS 7"
   ]
  },
  {
   "cell_type": "code",
   "execution_count": 57,
   "id": "eddda360-b191-40db-b570-22ca97ce0e37",
   "metadata": {},
   "outputs": [
    {
     "name": "stdout",
     "output_type": "stream",
     "text": [
      "2023\n"
     ]
    },
    {
     "name": "stderr",
     "output_type": "stream",
     "text": [
      "/tmp/ipykernel_547/726335355.py:1: FutureWarning: The pandas.datetime class is deprecated and will be removed from pandas in a future version. Import from datetime module instead.\n",
      "  print(pd.datetime.now().year)\n"
     ]
    }
   ],
   "source": [
    "print(pd.datetime.now().year)"
   ]
  },
  {
   "cell_type": "code",
   "execution_count": 55,
   "id": "c794df14-514c-4444-87cf-962a67245d46",
   "metadata": {},
   "outputs": [
    {
     "name": "stdout",
     "output_type": "stream",
     "text": [
      "8\n"
     ]
    },
    {
     "name": "stderr",
     "output_type": "stream",
     "text": [
      "/tmp/ipykernel_547/3780780773.py:1: FutureWarning: The pandas.datetime class is deprecated and will be removed from pandas in a future version. Import from datetime module instead.\n",
      "  print(pd.datetime.now().month)\n"
     ]
    }
   ],
   "source": [
    "print(pd.datetime.now().month)"
   ]
  },
  {
   "cell_type": "code",
   "execution_count": 61,
   "id": "8d9551f6-a6bd-4589-ba43-a6f276e4fdf9",
   "metadata": {},
   "outputs": [
    {
     "name": "stdout",
     "output_type": "stream",
     "text": [
      "8-2023\n"
     ]
    },
    {
     "name": "stderr",
     "output_type": "stream",
     "text": [
      "/tmp/ipykernel_547/3719578487.py:1: FutureWarning: The pandas.datetime class is deprecated and will be removed from pandas in a future version. Import from datetime module instead.\n",
      "  print(str(pd.datetime.now().month)+('-')+str(pd.datetime.now().year))\n"
     ]
    }
   ],
   "source": [
    "print(str(pd.datetime.now().month)+('-')+str(pd.datetime.now().year))"
   ]
  },
  {
   "cell_type": "markdown",
   "id": "a75ee554-804d-461e-a84c-b8af011ccc6a",
   "metadata": {},
   "source": [
    "### ANS 8"
   ]
  },
  {
   "cell_type": "code",
   "execution_count": 73,
   "id": "bc6280d1-abb8-4baa-8938-ea7e67d7863a",
   "metadata": {},
   "outputs": [
    {
     "name": "stdin",
     "output_type": "stream",
     "text": [
      "enter two number seprated by commas 2023-09-03,2023-09-05\n"
     ]
    },
    {
     "name": "stdout",
     "output_type": "stream",
     "text": [
      "-2 days +00:00:00\n"
     ]
    }
   ],
   "source": [
    "from functools import reduce\n",
    "s=input('enter two number seprated by commas').split(',')\n",
    "l=[]\n",
    "for i in s:\n",
    "    time=pd.to_datetime(i)\n",
    "    l.append(time)\n",
    "def subtract_dates(a, b):\n",
    "    return a - b\n",
    "\n",
    "result = reduce(subtract_dates, l)\n",
    "print(result)"
   ]
  },
  {
   "cell_type": "markdown",
   "id": "38908e72-f1ca-43d0-8948-22eed7f7c326",
   "metadata": {},
   "source": [
    "### OR"
   ]
  },
  {
   "cell_type": "code",
   "execution_count": 91,
   "id": "dd856194-7d79-4b7e-b0f7-d1df013bd952",
   "metadata": {},
   "outputs": [],
   "source": [
    "def fun(date1,date2):\n",
    "    date1=pd.to_datetime(date1,format='%Y-%m-%d')\n",
    "    date2=pd.to_datetime(date2,format='%Y-%m-%d')\n",
    "    \n",
    "    time_difference=date1-date2\n",
    "    \n",
    "    day=time_difference.days\n",
    "    hours=time_difference.seconds//3600\n",
    "    minutes=time_difference.seconds//60\n",
    "\n",
    "    return(day,hours,minutes)"
   ]
  },
  {
   "cell_type": "code",
   "execution_count": 92,
   "id": "7b06d11c-bf83-4036-8d13-12a3a988d254",
   "metadata": {},
   "outputs": [
    {
     "data": {
      "text/plain": [
       "(-2, 0, 0)"
      ]
     },
     "execution_count": 92,
     "metadata": {},
     "output_type": "execute_result"
    }
   ],
   "source": [
    "fun('2023-09-03','2023-09-05')"
   ]
  },
  {
   "cell_type": "markdown",
   "id": "a4ee60ca-4327-4bf1-a8c9-eeec3cc15e79",
   "metadata": {},
   "source": [
    "### ANS 11\n"
   ]
  },
  {
   "cell_type": "code",
   "execution_count": 6,
   "id": "1eb88f80-ea67-4f20-a550-6d5168d62674",
   "metadata": {},
   "outputs": [],
   "source": [
    "import csv"
   ]
  },
  {
   "cell_type": "code",
   "execution_count": 34,
   "id": "50dc47b9-1c5f-4677-a133-353d7ffff7ea",
   "metadata": {},
   "outputs": [],
   "source": [
    "results=[['student_id','student_score'],\n",
    "         [1,88],\n",
    "         [2,98,],\n",
    "         [3,97],\n",
    "         [4,89],\n",
    "         [5,78],\n",
    "         [6,88],\n",
    "         [7,97],\n",
    "         [8,66]\n",
    "        ]"
   ]
  },
  {
   "cell_type": "code",
   "execution_count": 35,
   "id": "44a2c213-ead0-4f5b-b308-70de65ddd773",
   "metadata": {},
   "outputs": [],
   "source": [
    "with open('results.csv','w') as f:\n",
    "    \n",
    "    writer=csv.writer(f)\n",
    "    \n",
    "    for i in results:\n",
    "        writer.writerow(i)"
   ]
  },
  {
   "cell_type": "code",
   "execution_count": 36,
   "id": "ab0c677c-aa60-4d10-a33d-aecabb6c313b",
   "metadata": {},
   "outputs": [],
   "source": [
    "df=pd.read_csv('results.csv')"
   ]
  },
  {
   "cell_type": "code",
   "execution_count": 37,
   "id": "77568011-a98e-4517-8f6f-c68e6747cc8c",
   "metadata": {},
   "outputs": [
    {
     "data": {
      "text/html": [
       "<div>\n",
       "<style scoped>\n",
       "    .dataframe tbody tr th:only-of-type {\n",
       "        vertical-align: middle;\n",
       "    }\n",
       "\n",
       "    .dataframe tbody tr th {\n",
       "        vertical-align: top;\n",
       "    }\n",
       "\n",
       "    .dataframe thead th {\n",
       "        text-align: right;\n",
       "    }\n",
       "</style>\n",
       "<table border=\"1\" class=\"dataframe\">\n",
       "  <thead>\n",
       "    <tr style=\"text-align: right;\">\n",
       "      <th></th>\n",
       "      <th>student_id</th>\n",
       "      <th>student_score</th>\n",
       "    </tr>\n",
       "  </thead>\n",
       "  <tbody>\n",
       "    <tr>\n",
       "      <th>0</th>\n",
       "      <td>1</td>\n",
       "      <td>88</td>\n",
       "    </tr>\n",
       "    <tr>\n",
       "      <th>1</th>\n",
       "      <td>2</td>\n",
       "      <td>98</td>\n",
       "    </tr>\n",
       "    <tr>\n",
       "      <th>2</th>\n",
       "      <td>3</td>\n",
       "      <td>97</td>\n",
       "    </tr>\n",
       "    <tr>\n",
       "      <th>3</th>\n",
       "      <td>4</td>\n",
       "      <td>89</td>\n",
       "    </tr>\n",
       "    <tr>\n",
       "      <th>4</th>\n",
       "      <td>5</td>\n",
       "      <td>78</td>\n",
       "    </tr>\n",
       "    <tr>\n",
       "      <th>5</th>\n",
       "      <td>6</td>\n",
       "      <td>88</td>\n",
       "    </tr>\n",
       "    <tr>\n",
       "      <th>6</th>\n",
       "      <td>7</td>\n",
       "      <td>97</td>\n",
       "    </tr>\n",
       "    <tr>\n",
       "      <th>7</th>\n",
       "      <td>8</td>\n",
       "      <td>66</td>\n",
       "    </tr>\n",
       "  </tbody>\n",
       "</table>\n",
       "</div>"
      ],
      "text/plain": [
       "   student_id  student_score\n",
       "0           1             88\n",
       "1           2             98\n",
       "2           3             97\n",
       "3           4             89\n",
       "4           5             78\n",
       "5           6             88\n",
       "6           7             97\n",
       "7           8             66"
      ]
     },
     "execution_count": 37,
     "metadata": {},
     "output_type": "execute_result"
    }
   ],
   "source": [
    "df\n"
   ]
  },
  {
   "cell_type": "code",
   "execution_count": 16,
   "id": "92122a48-edd1-4a58-a652-c11cc97d169d",
   "metadata": {},
   "outputs": [],
   "source": [
    "s=df['student_score'].mean()"
   ]
  },
  {
   "cell_type": "code",
   "execution_count": 31,
   "id": "87cc9220-67ac-4573-9c48-19e09dc1919e",
   "metadata": {},
   "outputs": [
    {
     "data": {
      "text/plain": [
       "87.625"
      ]
     },
     "execution_count": 31,
     "metadata": {},
     "output_type": "execute_result"
    }
   ],
   "source": [
    "s"
   ]
  },
  {
   "cell_type": "code",
   "execution_count": 17,
   "id": "2d953238-b615-4ee0-b7da-56161bd96ecc",
   "metadata": {},
   "outputs": [],
   "source": [
    "a=df['student_score'].median()"
   ]
  },
  {
   "cell_type": "code",
   "execution_count": 34,
   "id": "3e445272-3cc6-4ed0-8193-c60dd5511fdd",
   "metadata": {},
   "outputs": [
    {
     "data": {
      "text/plain": [
       "88.5"
      ]
     },
     "execution_count": 34,
     "metadata": {},
     "output_type": "execute_result"
    }
   ],
   "source": [
    "a"
   ]
  },
  {
   "cell_type": "code",
   "execution_count": 18,
   "id": "2a64bee9-c513-40ce-ba1a-f0b5d7fa58a3",
   "metadata": {},
   "outputs": [],
   "source": [
    "d=df['student_score'].mode()"
   ]
  },
  {
   "cell_type": "code",
   "execution_count": 22,
   "id": "eb767b3b-88dc-451f-9c84-a8378b3c0de9",
   "metadata": {},
   "outputs": [],
   "source": [
    "mode_d=','.join(str(val) for val in d)"
   ]
  },
  {
   "cell_type": "code",
   "execution_count": 39,
   "id": "7667f8a1-6262-424d-90b4-a09a6c310378",
   "metadata": {},
   "outputs": [
    {
     "data": {
      "text/plain": [
       "'88,97'"
      ]
     },
     "execution_count": 39,
     "metadata": {},
     "output_type": "execute_result"
    }
   ],
   "source": [
    "mode_d"
   ]
  },
  {
   "cell_type": "code",
   "execution_count": 40,
   "id": "7ed80f12-ffd2-4319-bf69-c94939b9f61e",
   "metadata": {},
   "outputs": [
    {
     "data": {
      "text/html": [
       "<div>\n",
       "<style scoped>\n",
       "    .dataframe tbody tr th:only-of-type {\n",
       "        vertical-align: middle;\n",
       "    }\n",
       "\n",
       "    .dataframe tbody tr th {\n",
       "        vertical-align: top;\n",
       "    }\n",
       "\n",
       "    .dataframe thead th {\n",
       "        text-align: right;\n",
       "    }\n",
       "</style>\n",
       "<table border=\"1\" class=\"dataframe\">\n",
       "  <thead>\n",
       "    <tr style=\"text-align: right;\">\n",
       "      <th></th>\n",
       "      <th>statics</th>\n",
       "      <th>values</th>\n",
       "    </tr>\n",
       "  </thead>\n",
       "  <tbody>\n",
       "    <tr>\n",
       "      <th>0</th>\n",
       "      <td>mean</td>\n",
       "      <td>86.166667</td>\n",
       "    </tr>\n",
       "    <tr>\n",
       "      <th>1</th>\n",
       "      <td>mode</td>\n",
       "      <td>88,97</td>\n",
       "    </tr>\n",
       "    <tr>\n",
       "      <th>2</th>\n",
       "      <td>median</td>\n",
       "      <td>85.0</td>\n",
       "    </tr>\n",
       "  </tbody>\n",
       "</table>\n",
       "</div>"
      ],
      "text/plain": [
       "  statics     values\n",
       "0    mean  86.166667\n",
       "1    mode      88,97\n",
       "2  median       85.0"
      ]
     },
     "execution_count": 40,
     "metadata": {},
     "output_type": "execute_result"
    }
   ],
   "source": [
    "pd.DataFrame({'statics':['mean','mode','median'],\n",
    "              'values':[s,mode_d,a]})"
   ]
  },
  {
   "cell_type": "markdown",
   "id": "f2074ea4-9046-4d2a-a79b-0cc56ac63099",
   "metadata": {},
   "source": [
    "### ANS 11"
   ]
  },
  {
   "cell_type": "code",
   "execution_count": 52,
   "id": "89a1a143-c244-4af7-9312-5942241718e2",
   "metadata": {},
   "outputs": [],
   "source": [
    "name=['rtx 4060','rtx3060ti','cooler master','ram','cabinet','my love for you']"
   ]
  },
  {
   "cell_type": "code",
   "execution_count": 51,
   "id": "f67504ec-95f9-4767-a328-2e95306da534",
   "metadata": {},
   "outputs": [],
   "source": [
    "sales=[54,34,57,53,23,10000]"
   ]
  },
  {
   "cell_type": "code",
   "execution_count": 53,
   "id": "7ee894d8-8a52-45a0-8378-95fd2418dcc4",
   "metadata": {},
   "outputs": [],
   "source": [
    "pf1=pd.DataFrame({\"product_name\":name,\"Sales\":sales})"
   ]
  },
  {
   "cell_type": "code",
   "execution_count": 54,
   "id": "7df9c0d1-2964-4db8-b9c2-596ab1dc31f2",
   "metadata": {},
   "outputs": [
    {
     "data": {
      "text/html": [
       "<div>\n",
       "<style scoped>\n",
       "    .dataframe tbody tr th:only-of-type {\n",
       "        vertical-align: middle;\n",
       "    }\n",
       "\n",
       "    .dataframe tbody tr th {\n",
       "        vertical-align: top;\n",
       "    }\n",
       "\n",
       "    .dataframe thead th {\n",
       "        text-align: right;\n",
       "    }\n",
       "</style>\n",
       "<table border=\"1\" class=\"dataframe\">\n",
       "  <thead>\n",
       "    <tr style=\"text-align: right;\">\n",
       "      <th></th>\n",
       "      <th>product_name</th>\n",
       "      <th>Sales</th>\n",
       "    </tr>\n",
       "  </thead>\n",
       "  <tbody>\n",
       "    <tr>\n",
       "      <th>0</th>\n",
       "      <td>rtx 4060</td>\n",
       "      <td>54</td>\n",
       "    </tr>\n",
       "    <tr>\n",
       "      <th>1</th>\n",
       "      <td>rtx3060ti</td>\n",
       "      <td>34</td>\n",
       "    </tr>\n",
       "    <tr>\n",
       "      <th>2</th>\n",
       "      <td>cooler master</td>\n",
       "      <td>57</td>\n",
       "    </tr>\n",
       "    <tr>\n",
       "      <th>3</th>\n",
       "      <td>ram</td>\n",
       "      <td>53</td>\n",
       "    </tr>\n",
       "    <tr>\n",
       "      <th>4</th>\n",
       "      <td>cabinet</td>\n",
       "      <td>23</td>\n",
       "    </tr>\n",
       "    <tr>\n",
       "      <th>5</th>\n",
       "      <td>my love for you</td>\n",
       "      <td>10000</td>\n",
       "    </tr>\n",
       "  </tbody>\n",
       "</table>\n",
       "</div>"
      ],
      "text/plain": [
       "      product_name  Sales\n",
       "0         rtx 4060     54\n",
       "1        rtx3060ti     34\n",
       "2    cooler master     57\n",
       "3              ram     53\n",
       "4          cabinet     23\n",
       "5  my love for you  10000"
      ]
     },
     "execution_count": 54,
     "metadata": {},
     "output_type": "execute_result"
    }
   ],
   "source": [
    "pf1"
   ]
  },
  {
   "cell_type": "code",
   "execution_count": 55,
   "id": "4a3c6763-d62f-459b-82f9-84a8dd30b7bc",
   "metadata": {},
   "outputs": [
    {
     "data": {
      "text/plain": [
       "<AxesSubplot: xlabel='product_name'>"
      ]
     },
     "execution_count": 55,
     "metadata": {},
     "output_type": "execute_result"
    },
    {
     "data": {
      "image/png": "[encoded data removed]",
      "text/plain": [
       "<Figure size 640x480 with 1 Axes>"
      ]
     },
     "metadata": {},
     "output_type": "display_data"
    }
   ],
   "source": [
    "pf1.plot.bar(x='product_name',y='Sales')"
   ]
  },
  {
   "cell_type": "markdown",
   "id": "f5d7dea3-23f2-450b-873d-77c80b2f41f8",
   "metadata": {},
   "source": [
    "### ANS 9"
   ]
  },
  {
   "cell_type": "code",
   "execution_count": 50,
   "id": "9382aff8-f293-48e0-a334-130d7fd38859",
   "metadata": {},
   "outputs": [
    {
     "data": {
      "text/plain": [
       "['product_name', 'Sales']\n",
       "Categories (2, object): ['Sales', 'product_name']"
      ]
     },
     "execution_count": 50,
     "metadata": {},
     "output_type": "execute_result"
    }
   ],
   "source": [
    "pd.Categorical(pf1)"
   ]
  },
  {
   "cell_type": "code",
   "execution_count": null,
   "id": "ffaa309b-59b2-44c5-9d92-f852f0a1ece6",
   "metadata": {},
   "outputs": [],
   "source": [
    "def sor(e):\n",
    "    reutrn e.sort "
   ]
  },
  {
   "cell_type": "code",
   "execution_count": null,
   "id": "c78d61d1-2638-477b-8fa2-e18093302c49",
   "metadata": {},
   "outputs": [],
   "source": [
    "s=input('enter orders').split(',')\n",
    "v=['a',1,'s',4,5]\n",
    "str_values=[str(val) for val in v]\n",
    "g=pd.Categorical(str_values,categories=s)\n",
    "x=sorted(str_values)\n",
    "df=pd.DataFrame({'value':v,'categorical_order':g,'sorted_data':x})\n",
    "df['datatype']=df['value'].apply(type)\n",
    "print(df)"
   ]
  },
  {
   "cell_type": "code",
   "execution_count": null,
   "id": "081886c8-8c1a-418e-b976-9a08b976e679",
   "metadata": {},
   "outputs": [],
   "source": []
  }
 ],
 "metadata": {
  "kernelspec": {
   "display_name": "Python 3 (ipykernel)",
   "language": "python",
   "name": "python3"
  },
  "language_info": {
   "codemirror_mode": {
    "name": "ipython",
    "version": 3
   },
   "file_extension": ".py",
   "mimetype": "text/x-python",
   "name": "python",
   "nbconvert_exporter": "python",
   "pygments_lexer": "ipython3",
   "version": "3.10.8"
  }
 },
 "nbformat": 4,
 "nbformat_minor": 5
}
