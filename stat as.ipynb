{
 "cells": [
  {
   "cell_type": "markdown",
   "id": "cbd240c1-db12-4beb-92d0-ed0b2c759662",
   "metadata": {},
   "source": [
    "### ANS 1\n",
    "statistics is the science of the collectiong, oraganizing, anaylzing."
   ]
  },
  {
   "cell_type": "markdown",
   "id": "89a5719e-f5f1-4219-b209-46b86398b66c",
   "metadata": {},
   "source": [
    "### ANS 2\n",
    "There are two of statistics:\n",
    "1) Descriptive statics:\n",
    "descriptive statics gives sumarized and organizied data.\n",
    "measure of central tendencies[mean,medain,mode], measure of dispersion[variance,std], or different type of distribution of data[histogram]. it is calculated when we want the summary of data.\n",
    "2) Inferential statics: \n",
    "it consist of using data you have measured to form sample data.like voting it takes sample data and gives the desired data.\n"
   ]
  },
  {
   "cell_type": "markdown",
   "id": "98a12a3c-1e18-4117-b88e-533392e0390e",
   "metadata": {},
   "source": [
    "### ANS 4\n",
    "1) qualtative \n",
    "2) qualtative \n",
    "3) quantative \n",
    "4) quantative"
   ]
  },
  {
   "cell_type": "markdown",
   "id": "5af33473-10be-4e1c-9daa-64dab7383c3a",
   "metadata": {},
   "source": [
    "### ANS 3\n",
    "there are two of data \n",
    "1) qualtative: it the measurement of numerical data it is further of two types discrete= whole number data  and continous any numerical data\n",
    "2) quantative: it the measurement of categoical data it is further of two type nominal= categorical data which cannot be ranked ordinal= which can be ranked\n",
    "\n"
   ]
  },
  {
   "cell_type": "markdown",
   "id": "56a32537-894d-421b-9858-e92b01121029",
   "metadata": {},
   "source": [
    "### ANS 7 \n",
    "nominal data is different from ordinal data because nominal data are those data type which cannot be ranked like gender and ordinal data are those data type which can be ranked like grade of a student."
   ]
  },
  {
   "cell_type": "markdown",
   "id": "92405173-d34c-4be1-b8d8-c55434716325",
   "metadata": {},
   "source": [
    "### ANS 9\n",
    "1) discriptive data is the summarzied and organised data. it measure the central tendencies like mean, or measure of dispersion like std, and different type of distribution of data like histogram.\n",
    "2) inferential statics is used to generate the population by analyzing the sample data."
   ]
  },
  {
   "cell_type": "markdown",
   "id": "3c6498c6-8ea7-4e57-b401-219b7d10e6ff",
   "metadata": {},
   "source": [
    "### ANS 10\n",
    "common measure of the central tendencies are:\n",
    "1) mean it gives us the average of the data.\n",
    "2) mode give us the numerical or categorical value which appear the most.\n",
    "3) median is the middle value of the data when it is arranged."
   ]
  },
  {
   "cell_type": "markdown",
   "id": "0485ffe6-1a68-434f-a20e-f6b20fcb0c1b",
   "metadata": {},
   "source": [
    "### ANS 7\n",
    "\n",
    "nominal data type is different is from ordinal data  as in nominal data  order does not matter like gender based dish made but in ordinal data order matters like grade student  in ordinal data difference cannot be measured.  "
   ]
  },
  {
   "cell_type": "markdown",
   "id": "730a94b7-f43c-4227-acae-7ab9693c37a0",
   "metadata": {},
   "source": [
    "### ANS 6\n",
    "It is important to understand the level of measurement of data and analyzing because to solve a definite case we have to use different kind of data and every data to anaylzing the data according to the type of data we have four level of measurement of data which helps us to analize data better. like take a example of tips to we use nomial scale to measure the smoker and we use rational scale to measure the total_bill this will all help us to analyize the case."
   ]
  },
  {
   "cell_type": "markdown",
   "id": "a1500307-3d1a-4d44-b66e-97862bb65173",
   "metadata": {},
   "source": [
    "### ANS 8\n",
    "box plot is used to display the data in terms of range.\n"
   ]
  },
  {
   "cell_type": "code",
   "execution_count": null,
   "id": "dcb85dbb-1c9a-4ba9-8a82-8c85d98a5c21",
   "metadata": {},
   "outputs": [],
   "source": []
  }
 ],
 "metadata": {
  "kernelspec": {
   "display_name": "Python 3 (ipykernel)",
   "language": "python",
   "name": "python3"
  },
  "language_info": {
   "codemirror_mode": {
    "name": "ipython",
    "version": 3
   },
   "file_extension": ".py",
   "mimetype": "text/x-python",
   "name": "python",
   "nbconvert_exporter": "python",
   "pygments_lexer": "ipython3",
   "version": "3.10.8"
  }
 },
 "nbformat": 4,
 "nbformat_minor": 5
}
