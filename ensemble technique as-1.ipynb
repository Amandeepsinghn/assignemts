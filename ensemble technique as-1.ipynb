{
 "cells": [
  {
   "cell_type": "markdown",
   "id": "46ed9498",
   "metadata": {},
   "source": [
    "### ANS 1\n",
    "esemble is a technique in machine learning which combines two or more than two models to increases accuracy of the model. there are two of essemble technique:\n",
    "1) bagging \n",
    "2) boosting"
   ]
  },
  {
   "cell_type": "markdown",
   "id": "e13e9ecd",
   "metadata": {},
   "source": [
    "### ANS 2\n",
    "essemble technique are used to: \n",
    "1) increases accuracy of the model \n",
    "2) reducing the overfitting of the model \n",
    "3) we can also used custom boosting and bagging apart from predefined technique to increases the model accuracy"
   ]
  },
  {
   "cell_type": "markdown",
   "id": "80897b5c",
   "metadata": {},
   "source": [
    "### ANS 3\n",
    "bagging is a type of technique in essemble:\n",
    "1) multiple models are trained parllel.\n",
    "2) each model gives different data and different feature although feature can be same.\n",
    "3) for classification output of the different models are calculated based on mode value and mean for regression model."
   ]
  },
  {
   "cell_type": "markdown",
   "id": "bc225494",
   "metadata": {},
   "source": [
    "### ANS 4\n",
    "boosting is a type of technique in essemble:\n",
    "1) multiple models are trained sequentally.\n",
    "2) decision tree stamp are selected and best tree selected based on entropy or gini and information gain.\n",
    "3) then performance of stamp is calculated using total error.\n",
    "4) based on the weighted average of different models output is generated."
   ]
  },
  {
   "cell_type": "markdown",
   "id": "bd0a1b87",
   "metadata": {},
   "source": [
    "### ANS 5\n",
    "benefits of ensemble technqiue:\n",
    "1) it combines multiple models to train model which increases the accuracy of the model.\n",
    "2) reduced overfitting\n",
    "3) ensemble technique are less sensitive to noise and outliers in the data. "
   ]
  },
  {
   "cell_type": "markdown",
   "id": "32d8346f",
   "metadata": {},
   "source": [
    "### ANS 6\n",
    "no ensemble technique are not always better than individual technique.\n",
    "1) if the quality of data is clean and well-structred then individual modle may perfrom well.if the data is noisy and contains error then essemble technique will help reducing them. \n",
    "2) if the individual model is already accurate then using essmeble technique will not be a better choice.\n",
    "3) for small datasets it is preffred to use essmeble but for large dataset individual model may perform better."
   ]
  },
  {
   "cell_type": "markdown",
   "id": "fe849e4d",
   "metadata": {},
   "source": [
    "### ANS 7\n",
    "1) create a large number of bootsrap sample.\n",
    "2) for each resample create parameter of intrest like mean,mode or median.\n",
    "3) after a collection of parameter this whole parameters meke sample interest .\n",
    "4) then using sample interset we calculate the confidence interval.using this we calcuate upper and lower percentile."
   ]
  },
  {
   "cell_type": "markdown",
   "id": "dd2cb0db",
   "metadata": {},
   "source": [
    "### ANS 8\n",
    "lets suppose we a have a dataset and have data points in it. randomly many data points get selected in the bootsrap set and multiple boostrap set are made considering multiple bootstrap can have same data point because randomly data points get selected."
   ]
  },
  {
   "cell_type": "markdown",
   "id": "68e8824d",
   "metadata": {},
   "source": [
    "### ANS 9\n",
    "1) create dataset \n",
    "2) select number of resample \n",
    "3) select random sample for each reample \n",
    "4) find parameter estimater for each resample like mean\n",
    "5) create a sample distribution\n",
    "6) calculate confidence interval\n",
    "7) interpret result"
   ]
  },
  {
   "cell_type": "code",
   "execution_count": 1,
   "id": "c2301890",
   "metadata": {},
   "outputs": [
    {
     "name": "stdout",
     "output_type": "stream",
     "text": [
      "95% Confidence Interval for the Mean Height: [15. 15.]\n"
     ]
    }
   ],
   "source": [
    "import numpy as np\n",
    "\n",
    "# Sample data\n",
    "sample_data = np.array([15] * 50)  # Assuming all tree heights are 15 meters\n",
    "\n",
    "# Number of resamples\n",
    "n_resamples = 10000\n",
    "\n",
    "# Create an array to store the resampled means\n",
    "resampled_means = np.empty(n_resamples)\n",
    "\n",
    "# Bootstrap resampling\n",
    "for i in range(n_resamples):\n",
    "    resample = np.random.choice(sample_data, size=50, replace=True)\n",
    "    resampled_means[i] = np.mean(resample)\n",
    "\n",
    "# Calculate the 95% confidence interval\n",
    "confidence_interval = np.percentile(resampled_means, [2.5, 97.5])\n",
    "\n",
    "print(\"95% Confidence Interval for the Mean Height:\", confidence_interval)\n"
   ]
  },
  {
   "cell_type": "code",
   "execution_count": null,
   "id": "f7e74115",
   "metadata": {},
   "outputs": [],
   "source": []
  }
 ],
 "metadata": {
  "kernelspec": {
   "display_name": "Python 3 (ipykernel)",
   "language": "python",
   "name": "python3"
  },
  "language_info": {
   "codemirror_mode": {
    "name": "ipython",
    "version": 3
   },
   "file_extension": ".py",
   "mimetype": "text/x-python",
   "name": "python",
   "nbconvert_exporter": "python",
   "pygments_lexer": "ipython3",
   "version": "3.11.4"
  }
 },
 "nbformat": 4,
 "nbformat_minor": 5
}
