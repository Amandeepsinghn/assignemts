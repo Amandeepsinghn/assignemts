{
 "cells": [
  {
   "cell_type": "markdown",
   "id": "1b3f798a-a0d3-4f95-be03-f9a34f90f7cb",
   "metadata": {},
   "source": [
    "### ANS 1\n",
    "Three measure of central tendency are:\n",
    "1) mean \n",
    "2) mode\n",
    "3) median \n"
   ]
  },
  {
   "cell_type": "markdown",
   "id": "539d6c53-f49a-4bcd-856b-31a6036e7775",
   "metadata": {},
   "source": [
    "### ANS 2\n",
    "1) mean is used for to calculate the middle value when there are no outliners \n",
    "2) median is used to calculate the middle value where there are otuliners \n",
    "3) mode shows the data which is most frequent in the data."
   ]
  },
  {
   "cell_type": "markdown",
   "id": "260df071-480c-4573-add2-0d7a8dac4a78",
   "metadata": {},
   "source": [
    "### ANS 3"
   ]
  },
  {
   "cell_type": "code",
   "execution_count": 6,
   "id": "bd4136dd-1c8d-4ead-8036-7db9e3d31509",
   "metadata": {},
   "outputs": [],
   "source": [
    "s=[178,177,176,177,178.2,178,175,179,180,175,178.9,176.2,177,172.5,178,176.5]"
   ]
  },
  {
   "cell_type": "code",
   "execution_count": 2,
   "id": "6d2e9310-755d-4e13-b817-03c5f8c0ae99",
   "metadata": {},
   "outputs": [],
   "source": [
    "import numpy as np "
   ]
  },
  {
   "cell_type": "code",
   "execution_count": 8,
   "id": "5fdcf7ce-b948-4995-87c8-cbcaae4256f0",
   "metadata": {},
   "outputs": [
    {
     "data": {
      "text/plain": [
       "177.01875"
      ]
     },
     "execution_count": 8,
     "metadata": {},
     "output_type": "execute_result"
    }
   ],
   "source": [
    "np.mean(s)"
   ]
  },
  {
   "cell_type": "code",
   "execution_count": 10,
   "id": "6be471b5-f47e-40be-bef7-a3a353c9f254",
   "metadata": {},
   "outputs": [
    {
     "data": {
      "text/plain": [
       "177.0"
      ]
     },
     "execution_count": 10,
     "metadata": {},
     "output_type": "execute_result"
    }
   ],
   "source": [
    "np.median(s)"
   ]
  },
  {
   "cell_type": "code",
   "execution_count": 12,
   "id": "c3552825-b3f8-4ef3-bf15-8a4b522e7cf5",
   "metadata": {},
   "outputs": [],
   "source": [
    "from scipy import stats"
   ]
  },
  {
   "cell_type": "code",
   "execution_count": 15,
   "id": "ff32dadd-61e7-4854-8517-5a613f94117f",
   "metadata": {},
   "outputs": [
    {
     "name": "stderr",
     "output_type": "stream",
     "text": [
      "/tmp/ipykernel_70/2803362644.py:1: FutureWarning: Unlike other reduction functions (e.g. `skew`, `kurtosis`), the default behavior of `mode` typically preserves the axis it acts along. In SciPy 1.11.0, this behavior will change: the default value of `keepdims` will become False, the `axis` over which the statistic is taken will be eliminated, and the value None will no longer be accepted. Set `keepdims` to True or False to avoid this warning.\n",
      "  stats.mode(s)\n"
     ]
    },
    {
     "data": {
      "text/plain": [
       "ModeResult(mode=array([177.]), count=array([3]))"
      ]
     },
     "execution_count": 15,
     "metadata": {},
     "output_type": "execute_result"
    }
   ],
   "source": [
    "stats.mode(s)\n"
   ]
  },
  {
   "cell_type": "markdown",
   "id": "a1c0ca29-5a29-4d11-9858-004da8f999ba",
   "metadata": {},
   "source": [
    "## ANS 4"
   ]
  },
  {
   "cell_type": "code",
   "execution_count": 16,
   "id": "40fcf18e-62d4-4168-9738-4710d8757039",
   "metadata": {},
   "outputs": [],
   "source": [
    "d=[178,177,176,177,178.2,178,175,179,180,175,178.9,176.2,177,172.5,178,176.5]"
   ]
  },
  {
   "cell_type": "code",
   "execution_count": 18,
   "id": "fda15420-5eef-4341-99d1-a9693ccff6d6",
   "metadata": {},
   "outputs": [
    {
     "data": {
      "text/plain": [
       "1.7885814036548633"
      ]
     },
     "execution_count": 18,
     "metadata": {},
     "output_type": "execute_result"
    }
   ],
   "source": [
    "np.std(d)"
   ]
  },
  {
   "cell_type": "markdown",
   "id": "d042d093-8916-4c3e-822d-fb616c87bbc0",
   "metadata": {},
   "source": [
    "### ANS 6\n",
    "Venn diagram is the presentation of the data and we can use venn diagram to find may different relation."
   ]
  },
  {
   "cell_type": "markdown",
   "id": "c13b45b3-cb38-4205-b1c1-95f30d413a15",
   "metadata": {},
   "source": [
    "### ANS 9\n",
    "if data is skewed to the right then position of median is before the mode and after the mean."
   ]
  },
  {
   "cell_type": "markdown",
   "id": "fc918750-70dd-41fa-8465-0ebfcf25a826",
   "metadata": {},
   "source": [
    "### ANS 12\n",
    "for a noraml distribution mean,median and mode will be same because there is no skewness."
   ]
  },
  {
   "cell_type": "markdown",
   "id": "50d9c7a9-03e0-4dba-989c-df707eb21bd0",
   "metadata": {},
   "source": [
    "### ANS 14\n",
    "\n",
    "1) Outliers greatly affects the mean because mean is the sum of all the elements and ouliners distrub the data making the wrong conclusion of the mean. to mititgate this problem we use median \n",
    "2) it also affect dispersion because in order to calculate the dispersion we use mean and if the mean is wrong then the dispersion value will also be biased."
   ]
  },
  {
   "cell_type": "markdown",
   "id": "35f7035a-28f0-4ddb-91a9-83f87d876765",
   "metadata": {},
   "source": [
    "### ANS 7\n",
    "A = (2,3,4,5,6,7) & B = (0,2,6,8,10)\n",
    "1) A and B=(2,6)\n",
    "2) A or B=(2,3,4,5,6,7,0,8,10)"
   ]
  },
  {
   "cell_type": "markdown",
   "id": "c1932d4f-dd48-4148-a33e-aad872ea0db0",
   "metadata": {},
   "source": [
    "### ANS 8\n",
    "skewness represent the symmetry of data distribution. we say the data is right skewed if the it has tail in the right side. we say data is left skewed if it has tail in the left side."
   ]
  },
  {
   "cell_type": "markdown",
   "id": "8dcd3cf2-ab4f-47fd-94a9-98fcc0414135",
   "metadata": {},
   "source": [
    "### ANS 11\n",
    "formula to calculate the sample mean is sum(x)/len(x)"
   ]
  },
  {
   "cell_type": "code",
   "execution_count": 20,
   "id": "7c081d95-935c-4750-9e27-c3011ec28f4f",
   "metadata": {},
   "outputs": [
    {
     "name": "stdout",
     "output_type": "stream",
     "text": [
      "2.5\n"
     ]
    }
   ],
   "source": [
    "l=[1,2,3,4]\n",
    "sum=0\n",
    "for i in l:\n",
    "    sum+=i\n",
    "print(sum/len(l))\n",
    "    "
   ]
  },
  {
   "cell_type": "code",
   "execution_count": 21,
   "id": "3f274af6-94a4-4519-8ee4-4df83106a6a3",
   "metadata": {},
   "outputs": [
    {
     "data": {
      "text/plain": [
       "2.5"
      ]
     },
     "execution_count": 21,
     "metadata": {},
     "output_type": "execute_result"
    }
   ],
   "source": [
    "np.mean(l)"
   ]
  },
  {
   "cell_type": "markdown",
   "id": "2c37fcc6-7f13-45b7-ba22-855b6a8a82ac",
   "metadata": {},
   "source": [
    "### ANS 13\n",
    "covaraince only the direction of the of the relationship it can have value between from positive and negative number, but correlation shows directions and strength between two variables. it can have value betweem -1 and 1."
   ]
  },
  {
   "cell_type": "markdown",
   "id": "80ffef5b-e77e-4f00-9e32-e303c9bb0134",
   "metadata": {},
   "source": [
    "### Ans 10\n",
    "1) covaraince tells us aboout the realtionship between two data on how much strognly there are interelated it is only directional. \n",
    "2) correlation shows directions and strength of the intrelation between two data.\n",
    "These measures are helps us to remove the coulumns which  do not have significance impact with the repsect to data. "
   ]
  },
  {
   "cell_type": "markdown",
   "id": "e6002837-9c8f-4467-a0c2-ef26ef92cd7f",
   "metadata": {},
   "source": [
    "### ANS 5\n",
    "1) range= it tells us the distribution of data between maximum value and minimum value and it is greatly affected by outliners\n",
    "2) variance= It also tells us about the distribution of data and are also affected by the ouliners but not as range.\n",
    "3) standard deviation= It tells us about the spread of the data between mean. \n",
    "These are used to tells us about the spread of the database and can be used to to find the missing value of the data. for example by measuring the standard deviation we can find the value around the mean.more the varaince or range more the graph will be stretched or more the data is distributed. it helps us in detecting ouliners and helps in making decision of the final overview."
   ]
  },
  {
   "cell_type": "code",
   "execution_count": null,
   "id": "b9940932-c44a-47e7-a7cf-4a541db567ad",
   "metadata": {},
   "outputs": [],
   "source": []
  }
 ],
 "metadata": {
  "kernelspec": {
   "display_name": "Python 3 (ipykernel)",
   "language": "python",
   "name": "python3"
  },
  "language_info": {
   "codemirror_mode": {
    "name": "ipython",
    "version": 3
   },
   "file_extension": ".py",
   "mimetype": "text/x-python",
   "name": "python",
   "nbconvert_exporter": "python",
   "pygments_lexer": "ipython3",
   "version": "3.10.8"
  }
 },
 "nbformat": 4,
 "nbformat_minor": 5
}
