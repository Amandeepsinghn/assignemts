{
 "cells": [
  {
   "cell_type": "markdown",
   "id": "5b5f96fd-4574-414b-98e1-d300ad2794e8",
   "metadata": {},
   "source": [
    "### ANS 1\n",
    "web scrapping is the extraction of data from the websites. it is used for analayzing,data collection, resarch etc.The area in which it is used:\n",
    "1)  market trends\n",
    "2) stock prices\n",
    "3) social media "
   ]
  },
  {
   "cell_type": "markdown",
   "id": "a9d38fcd-ec88-4c5d-86f3-4365a570e6fd",
   "metadata": {},
   "source": [
    "### ANS 2\n",
    "1) manual copy pasting \n",
    "2) flask \n",
    "3) different libraries \n",
    "4) request method \n",
    "5) API \n"
   ]
  },
  {
   "cell_type": "markdown",
   "id": "d8363df0-b83a-4e5c-9a50-56604ecd801f",
   "metadata": {},
   "source": [
    "### ANS 3\n",
    "BeautifulSoup is a module imported from bs4 library. it is used to simplify the complex html to human readable form \n",
    "for example:\n",
    "BeuatifulSoup(__.content,'html.parser')\n",
    "\n"
   ]
  },
  {
   "cell_type": "markdown",
   "id": "ade6f8db-c113-41be-81db-b6447111295a",
   "metadata": {},
   "source": [
    "### ANS 4\n",
    "Flask is a framework which is used to make web application and API. flask is used in web scrapping for various reasons like:\n",
    "1) flask can be used to create user intefrace\n",
    "2) it can be used to make api which help you to expose your websites to multiple individuals.\n",
    "3) it also provide us the ease to store multiple data in many databases like mongodb,sql etc."
   ]
  },
  {
   "cell_type": "markdown",
   "id": "2dce04b5-ae5e-4b71-b042-65c82249c223",
   "metadata": {},
   "source": [
    "### ANS 5\n",
    "amazon and azure aws services are used in this project.\n",
    "1) amanzon it is divided into two section one help us to connect github account and other one is the actual server which the host application. it goes like this github is connected to pipline and pipline is connected to the beanstalk \n",
    "2) azure is very simple to work with it only connects with git hub. Its process is azure help you to host your website in the internet it directly connects your code through git hub and provide your server which run the application and host it on the internet.\n"
   ]
  },
  {
   "cell_type": "code",
   "execution_count": null,
   "id": "c36d2928-4174-4c4c-88b1-8499c89d2b61",
   "metadata": {},
   "outputs": [],
   "source": []
  }
 ],
 "metadata": {
  "kernelspec": {
   "display_name": "Python 3 (ipykernel)",
   "language": "python",
   "name": "python3"
  },
  "language_info": {
   "codemirror_mode": {
    "name": "ipython",
    "version": 3
   },
   "file_extension": ".py",
   "mimetype": "text/x-python",
   "name": "python",
   "nbconvert_exporter": "python",
   "pygments_lexer": "ipython3",
   "version": "3.10.8"
  }
 },
 "nbformat": 4,
 "nbformat_minor": 5
}
