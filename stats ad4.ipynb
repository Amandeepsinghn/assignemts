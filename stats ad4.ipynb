{
 "cells": [
  {
   "cell_type": "code",
   "execution_count": null,
   "id": "16470093-7c08-4f31-b100-e2f5ca20ec69",
   "metadata": {},
   "outputs": [],
   "source": [
    "\n"
   ]
  },
  {
   "cell_type": "markdown",
   "id": "effd2208-5c20-4d9b-b157-1b4f690f4867",
   "metadata": {},
   "source": [
    "### ANS1 \n",
    "difference between t-test and z-test\n",
    "***\n",
    
    "2) t-test is used when we do not know population standard deviation or sample size is less than 30 and we use z-test when we know the population standard devaition and sample size is greater than or equals to 30.\n",
    "*** \n",
    "examples:\n",
    "lets suppose standard devation of population mean is given and sample size is less than 30,sample mean is also given.\n",
    "1) in this secaniro we will use t-test because although population standard deviation is given but the sample size is less 30 so we cannot z-test."
   ]
  },
  {
   "cell_type": "markdown",
   "id": "ce15bf0a-120f-4443-8288-7bd5ed87adac",
   "metadata": {},
   "source": [
    "### ANS 2\n",
    "Differnce between one tail and two tailed test:\n",
    "1) one tail is defined when alternate hypotheis is either big or less than null hypothesis while two tailed test is used when alternate hypothesis is both less and bigger than null hypothesis."
   ]
  },
  {
   "cell_type": "markdown",
   "id": "1c99a665-0136-4390-8d55-5ebb20ef4c6f",
   "metadata": {},
   "source": [
    "### ANS 3\n",
    "1) type 1 error state that when we reject the null hypotheis when in reality it is true\n",
    "2) type 2 error state that when we accept the null hypothesis when in reality it is false "
   ]
  },
  {
   "cell_type": "markdown",
   "id": "4b917448-7080-4739-b4c3-e22c0ba74697",
   "metadata": {},
   "source": [
    "### ANS 4\n",
    "bayes theorem is used on dependent event. it is used to find the probabiliity of event where atleast one event already occured.\n",
    "for example:\n",
    "1) there are 6 balls of 4 red ball and 2 white ball and we want to find the probability of red ball where white ball event is already occured.here we use bayes thereom to calcualte the probability."
   ]
  },
  {
   "cell_type": "markdown",
   "id": "73cae815-a88e-45c6-bba1-70b7e6a0fd28",
   "metadata": {},
   "source": [
    "### ANS 5\n",
    "confidence interval is used to calcuate the actual value of unknown parementer of population mean.\n",
    "*** \n",
    "formula to calcuate the confidence interval is: sample_mean +-two tail ztest* standard deviation of population/sqrt(number of sample)\n",
    "*** \n",
    "for example:\n",
    "we have standard deviation=100,sample_size=25,mean=520,ci=98%\n"
   ]
  },
  {
   "cell_type": "code",
   "execution_count": 1,
   "id": "121c65ad-1cd4-4507-967b-147c15ccf3e6",
   "metadata": {},
   "outputs": [
    {
     "name": "stdout",
     "output_type": "stream",
     "text": [
      "473.4 566.6\n"
     ]
    }
   ],
   "source": [
    "import math \n",
    "s=100\n",
    "n=25\n",
    "x=520 \n",
    "z_test=2.33\n",
    "l_ci=520-((2.33)*(100/math.sqrt(25)))\n",
    "U_ci=520+((2.33)*(100/math.sqrt(25)))\n",
    "print(l_ci,U_ci)"
   ]
  },
  {
   "cell_type": "markdown",
   "id": "cc97639b-acbe-498a-a81c-4632c3415d96",
   "metadata": {},
   "source": [
    "### ANS 7"
   ]
  },
  {
   "cell_type": "code",
   "execution_count": 2,
   "id": "c985fbfd-050b-4c51-9b1a-03773bc68a9c",
   "metadata": {},
   "outputs": [
    {
     "name": "stdout",
     "output_type": "stream",
     "text": [
      "48.04 51.96\n"
     ]
    }
   ],
   "source": [
    "ci=0.95\n",
    "x=50\n",
    "s=5\n",
    "z_test=1.96\n",
    "l_ci=50-((1.96)*(5/math.sqrt(25)))\n",
    "U_ci=50+((1.96)*(5/math.sqrt(25)))\n",
    "print(l_ci,U_ci)"
   ]
  },
  {
   "cell_type": "markdown",
   "id": "8dfdf510-5264-44e9-9b43-aec6888bc820",
   "metadata": {},
   "source": [
    "### ANS 9\n"
   ]
  },
  {
   "cell_type": "code",
   "execution_count": 4,
   "id": "8441cc6d-4638-440f-a2a5-5e28affc18bd",
   "metadata": {},
   "outputs": [
    {
     "name": "stdout",
     "output_type": "stream",
     "text": [
      "1.0\n",
      "point is one standard deviation away from the mean\n"
     ]
    }
   ],
   "source": [
    "x=75\n",
    "u=70\n",
    "s=5\n",
    "z_score=(x-u)/s\n",
    "print(z_score)\n",
    "print('point is one standard deviation away from the mean')"
   ]
  },
  {
   "cell_type": "markdown",
   "id": "f24601b5-4eed-46cd-a4fb-136fa75cb8d2",
   "metadata": {},
   "source": [
    "### ANS 8\n",
    "margin of error is the number of sampling error for we estimate a mean but we cannot find the exact mean so we give range between point from whcih mean can be found mean=2,4 here mean cannot be higher than 4 or less than 2.\n",
    "***\n",
    "MOE is inversily propotional to the inverse of sqrt(n) so as the sample size increases the margin of error also decreases.\n",
    "for example lets take a sample size of 900 by the above statement we can say that moe is going to be less."
   ]
  },
  {
   "cell_type": "markdown",
   "id": "a67e7fda-05ee-4590-a0fc-5f5ff03ee5a4",
   "metadata": {},
   "source": [
    "### ANS 13"
   ]
  },
  {
   "cell_type": "code",
   "execution_count": 3,
   "id": "f5da97f8-8d4d-4c88-a3b5-9cc6001b1642",
   "metadata": {},
   "outputs": [
    {
     "name": "stdout",
     "output_type": "stream",
     "text": [
      "63.133238097667515 66.86676190233248\n"
     ]
    }
   ],
   "source": [
    "import math \n",
    "u=60\n",
    "s=8\n",
    "n=50\n",
    "x=65\n",
    "ci=0.90\n",
    "sign=0.10\n",
    "z_value=1.65\n",
    "l_ci=65-((1.65)*(8/math.sqrt(50)))\n",
    "h_ci=65+((1.65)*(8/math.sqrt(50)))\n",
    "print(l_ci,h_ci)"
   ]
  },
  {
   "cell_type": "markdown",
   "id": "3c576550-50b2-4d71-8944-3945ac9a5686",
   "metadata": {},
   "source": [
    "### ANS 14"
   ]
  },
  {
   "cell_type": "code",
   "execution_count": 27,
   "id": "95534343-b46e-4c2a-8223-541681110704",
   "metadata": {},
   "outputs": [
    {
     "name": "stdout",
     "output_type": "stream",
     "text": [
      "confidence range is 0.2349832732150667 0.2650167267849333\n",
      " value for t_test is 1.3693063937629153\n",
      "it is less than 1.699\n",
      "we cannot reject the null hypotheis\n"
     ]
    }
   ],
   "source": [
    "n=30\n",
    "x=0.25\n",
    "s=0.05\n",
    "ci=0.90\n",
    "sign=0.10\n",
    "t_value=(1.699,-1.699)\n",
    "z_value=1.645\n",
    "l_ci=x-((z_value)*(s/math.sqrt(30)))\n",
    "h_ci=x+((z_value)*(s/math.sqrt(30)))\n",
    "print(f'confidence range is {l_ci} {h_ci}')\n",
    "t_test=(0.25-0/0.50)*math.sqrt(30)\n",
    "print(f' value for t_test is {t_test}')\n",
    "print('it is less than 1.699')\n",
    "print('we cannot reject the null hypotheis')\n"
   ]
  },
  {
   "cell_type": "markdown",
   "id": "954dc590-360e-48f6-bd98-e8121391bc5d",
   "metadata": {},
   "source": [
    "### ANS 10"
   ]
  },
  {
   "cell_type": "code",
   "execution_count": 46,
   "id": "b71a3bf6-5676-4392-9361-71faae5f83e5",
   "metadata": {},
   "outputs": [
    {
     "name": "stdout",
     "output_type": "stream",
     "text": [
      "42.42640687119285\n",
      "here t_test value is greater than t_value so we reject the null hypotheis\n"
     ]
    }
   ],
   "source": [
    "n=50\n",
    "x=6\n",
    "s=2.5\n",
    "ci=0.95\n",
    "sign=0.05\n",
    "z_value=1.96 \n",
    "l_ci=x-((z_value)*(s/math.sqrt(n)))\n",
    "h_ci=x+((z_value)*(s/math.sqrt(n)))\n",
    "t_value=2.009\n",
    "t_tes=6-0/2.5\n",
    "t_test=t_tes*math.sqrt(50)\n",
    "print(t_test)\n",
    "print('here t_test value is greater than t_value so we reject the null hypotheis')"
   ]
  },
  {
   "cell_type": "markdown",
   "id": "7b7d0f70-4c17-45cf-884e-cc94aa7e16ba",
   "metadata": {},
   "source": [
    "### ANS 12\n",
    "we cannot perform t test without having sample size."
   ]
  },
  {
   "cell_type": "markdown",
   "id": "ba03c60a-02af-40a5-bfac-88ccbf7e649b",
   "metadata": {},
   "source": [
    "### ANS 11"
   ]
  },
  {
   "cell_type": "code",
   "execution_count": 6,
   "id": "fa40cc31-3e4a-4710-b8ab-ce92e2b725f5",
   "metadata": {},
   "outputs": [
    {
     "name": "stdout",
     "output_type": "stream",
     "text": [
      "0.608191771144905 0.6918082288550951\n"
     ]
    }
   ],
   "source": [
    "import math \n",
    "\n",
    "p = 0.65\n",
    "z_value = 1.96\n",
    "n = 500\n",
    "\n",
    "margin_of_error = z_value * math.sqrt((p * (1 - p)) / n)\n",
    "lower_ci = p - margin_of_error\n",
    "upper_ci = p + margin_of_error\n",
    "\n",
    "print(lower_ci, upper_ci)"
   ]
  },
  {
   "cell_type": "markdown",
   "id": "769c7817-454c-4f19-8b50-1f094d238c16",
   "metadata": {},
   "source": [
    "### ANS 6\n",
    "for example we want to find the probability of of red ball in which one blue ball is already drawn out there are 6 balls out which 4 are red balls and 2 are blue .find the probablity of red ball."
   ]
  },
  {
   "cell_type": "code",
   "execution_count": 11,
   "id": "391bdb71-e451-4d97-80b1-1ac59877a83e",
   "metadata": {},
   "outputs": [
    {
     "name": "stdout",
     "output_type": "stream",
     "text": [
      "0.4\n"
     ]
    }
   ],
   "source": [
    "p=((2/6)*(4/5))/(4/6)\n",
    "print(p)"
   ]
  },
  {
   "cell_type": "code",
   "execution_count": null,
   "id": "65ce2e9a-b7a3-424a-af59-8961d540f624",
   "metadata": {},
   "outputs": [],
   "source": []
  }
 ],
 "metadata": {
  "kernelspec": {
   "display_name": "Python 3 (ipykernel)",
   "language": "python",
   "name": "python3"
  },
  "language_info": {
   "codemirror_mode": {
    "name": "ipython",
    "version": 3
   },
   "file_extension": ".py",
   "mimetype": "text/x-python",
   "name": "python",
   "nbconvert_exporter": "python",
   "pygments_lexer": "ipython3",
   "version": "3.10.8"
  }
 },
 "nbformat": 4,
 "nbformat_minor": 5
}
