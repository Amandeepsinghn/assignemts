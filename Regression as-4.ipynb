{
 "cells": [
  {
   "cell_type": "markdown",
   "id": "f310ed5a-b89d-4183-9dfe-347c7d92d700",
   "metadata": {},
   "source": [
    "### ANS 1\n",
    "lasso regression is specifically used for feature selection.features which are not coreleated with depedent feature are trhown out by the lasso regression. it adjust the lambda and make coef 0 which are not correlated with output feature. it differ from other regression because it makes the coef zero by adjusting lambda value if the feature is not that correlated with other tehcnique."
   ]
  },
  {
   "cell_type": "markdown",
   "id": "a862dae8-cc8a-4e90-ac30-fb684eb9990b",
   "metadata": {},
   "source": [
    "### ANS 2\n",
    "advantages of lasso regression:\n",
    "1) Automatic feature Selection:\n",
    "it automatically slects a subset of the most relevant feature by driving thr coefficients of irrelevant or less important features to zero.\n",
    "2) it is robust to the ouliers\n",
    "3) it can help in reducing multicollinearity by selecting one feature from a group of highly correlated feature while setting others to zero.\n"
   ]
  },
  {
   "cell_type": "markdown",
   "id": "482149a0-3efa-4b7c-98e6-ba6d80a0a34d",
   "metadata": {},
   "source": [
    "### ANS 3\n",
    "coefficients of a lasso regression as lamda increases the cofficient decreases feature which are not that correlated with the output feature gets coefficient zero which is no use for model."
   ]
  },
  {
   "cell_type": "markdown",
   "id": "29271ce8-062c-4198-80f2-a6b874046257",
   "metadata": {},
   "source": [
    "### ANS 6\n",
    "1) Ridge Regression is used to reduce overfitting and Lasso Regression is used for the feature selection. \n",
    "2) coeficient can be zero in lasso regression but in ridge regression it cannot be zero.\n",
    "\n"
   ]
  },
  {
   "cell_type": "markdown",
   "id": "470544b7-3d56-4206-bf38-509c5019cd0a",
   "metadata": {},
   "source": [
    "### ANS 8\n",
    "we can use different lambda like going from lower to higher features which coeficient gets zero afet adjusting lambda it diselected this process goes and less significant feature is thrown out from the model."
   ]
  },
  {
   "cell_type": "markdown",
   "id": "dbe9e68f-ba1f-4d02-a0b2-14d8579fb444",
   "metadata": {},
   "source": [
    "### ANS 7\n",
    "yes lasso regression can handle multicollinearity by selecting one feature which is correlated and assigning other feature coeficient zero. "
   ]
  },
  {
   "cell_type": "markdown",
   "id": "0756c943-a436-4080-8ac0-d0e97dec25d7",
   "metadata": {},
   "source": [
    "### ANS 5\n",
    "Lasso Regression can be used for non-linear regression problems by adapting it with feature enginerring or combining it with kernel methods."
   ]
  },
  {
   "cell_type": "markdown",
   "id": "570baa19-bdd3-4961-a5f3-7f7cf2cd6fdb",
   "metadata": {},
   "source": [
    "### ANS 4\n",
    "1) alpha parameter: it is a non negative value that contorls the amount of rehularization applied to the model.\n",
    "2) feature selection: as the alpha increases coeficient decreases finding the coefficients close to zero are effectively removed.\n",
    "3) Reducing Overfiting as increasing alpha helps prevent overfitting by discouraging the model from fitting noise in the data.\n",
    "4) smaller effect sizes: feature with larger coefficient have more significant effect on the predicted outcome. as the lambda increases coefficient decreases making it less valueable to the predicted outcome.\n"
   ]
  },
  {
   "cell_type": "code",
   "execution_count": null,
   "id": "e0550f15-3afe-411b-a519-ee80a72651cf",
   "metadata": {},
   "outputs": [],
   "source": []
  }
 ],
 "metadata": {
  "kernelspec": {
   "display_name": "Python 3 (ipykernel)",
   "language": "python",
   "name": "python3"
  },
  "language_info": {
   "codemirror_mode": {
    "name": "ipython",
    "version": 3
   },
   "file_extension": ".py",
   "mimetype": "text/x-python",
   "name": "python",
   "nbconvert_exporter": "python",
   "pygments_lexer": "ipython3",
   "version": "3.11.4"
  }
 },
 "nbformat": 4,
 "nbformat_minor": 5
}
