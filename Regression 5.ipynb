{
 "cells": [
  {
   "cell_type": "markdown",
   "id": "070dad62-a361-466c-9917-c88d208e148f",
   "metadata": {},
   "source": [
    "### ANS 1\n",
    "Elastic Net Regression is regression model that combines the l1 regularization of lasso regression and the l2 regularization of ridge regression.  it differ from other regression techniques because while regularizing the model it helps in dealing with multicollinearity and perform feature selection."
   ]
  },
  {
   "cell_type": "markdown",
   "id": "0f1215ca-bff5-41d8-8652-8e47c1d481d5",
   "metadata": {},
   "source": [
    "### ANS 2\n",
    "finding optimal values for regulariztion parameters in elastic net regression involves a process called hyperparameter tuning or model selection. \n",
    "***\n",
    "1) cross validation \n",
    "2) random search \n"
   ]
  },
  {
   "cell_type": "markdown",
   "id": "9ace3dd9-6f0b-4a99-8797-68c47b280b5d",
   "metadata": {},
   "source": [
    "### ANS 3\n",
    "advantages of elastic net regression:\n",
    "1) it combines the l1 regularization and l2 regularization.\n",
    "2) it reduces the overfitting \n",
    "3) it helps in feature selection \n",
    "4) it is robust to outliers.\n",
    "5) it has a parameter alpha which the help in control the l1 and l2 regularization.\n",
    "***\n",
    "disadvantages of elastic net regression: \n",
    "1) not suitable for non linear relationship \n",
    "2) complexity of hyperparameter tuning finding the alpha and lambda hyperparameters in elastic net can be challenging."
   ]
  },
  {
   "cell_type": "markdown",
   "id": "8f27342e-43bb-4b06-91aa-e87eed72e4ba",
   "metadata": {},
   "source": [
    "### ANS 4\n",
    "common use: \n",
    "1) feature selection \n",
    "2) reduction of overfiting \n",
    "3) predictive model for predicting house price\n",
    "4) it can also be used image processing"
   ]
  },
  {
   "cell_type": "markdown",
   "id": "29949109-57f4-471f-95f8-6b069785275c",
   "metadata": {},
   "source": [
    "### ANS 5\n",
    "interpretiing the value of coefficient can be complex in because in elastic net regression coefficient can be zero.\n",
    "1) magnitude of coefficient indicates the strength of the realtionship between the corresponding predictor and target varaible.\n",
    "2) it can be positive or negative based on the realionship \n",
    "3) Zero coefficients can be zero due to feature selection capabilities."
   ]
  },
  {
   "cell_type": "markdown",
   "id": "77d6b375-12d0-49c6-a4ca-9940433b53a5",
   "metadata": {},
   "source": [
    "### ANS 6\n",
    "we handle missing values:\n",
    "1) by replacing mean with missing value in case of numerical data\n",
    "2) by replacing medain with missing value in case there are ouliers in numerical data \n",
    "3) by replacing mode with missing value in case if the dtpype is categorical.\n",
    "4) removing rows which have missing value."
   ]
  },
  {
   "cell_type": "markdown",
   "id": "4817946d-f4b5-4369-8f8d-28e82ae01efc",
   "metadata": {},
   "source": [
    "### ANS 7\n",
    "we can use elastic net regression for feature selection while adjusting the lambda parameter if the coefficient becomes of feature the we can eleminate that feature beacuse it show it is not that much correlated with the indpendent feature."
   ]
  },
  {
   "cell_type": "markdown",
   "id": "78e768a1-f6fb-4b3e-acb3-167663b12290",
   "metadata": {},
   "source": [
    "#### ANS 9\n",
    "purpose of pickling is to store the model so that it can be used agian and agian instead of writing whole code again and agian."
   ]
  },
  {
   "cell_type": "markdown",
   "id": "3383f0ec-7f5d-468d-b247-191b92f5a5c4",
   "metadata": {},
   "source": [
    "### ANS 8\n",
    "we can use picke and unpickle of trained elastic net regression model first we have to import pickle module for example "
   ]
  },
  {
   "cell_type": "code",
   "execution_count": 3,
   "id": "7c0cc273-4819-4fc2-93c9-1816f986f3ed",
   "metadata": {},
   "outputs": [],
   "source": [
    "import pickle "
   ]
  },
  {
   "cell_type": "raw",
   "id": "694dc282-1f0a-4140-ace1-c3d7fea21403",
   "metadata": {},
   "source": [
    "pickle.dump('model_varaible name',open('filename','mode'))"
   ]
  },
  {
   "cell_type": "markdown",
   "id": "49e63772-696b-4d35-85ba-595499062fc6",
   "metadata": {},
   "source": [
    "to load the model:\n"
   ]
  },
  {
   "cell_type": "raw",
   "id": "928989d0-f6bf-454e-a43c-921535440a97",
   "metadata": {},
   "source": [
    "vatra"
   ]
  }
 ],
 "metadata": {
  "kernelspec": {
   "display_name": "Python 3 (ipykernel)",
   "language": "python",
   "name": "python3"
  },
  "language_info": {
   "codemirror_mode": {
    "name": "ipython",
    "version": 3
   },
   "file_extension": ".py",
   "mimetype": "text/x-python",
   "name": "python",
   "nbconvert_exporter": "python",
   "pygments_lexer": "ipython3",
   "version": "3.10.8"
  }
 },
 "nbformat": 4,
 "nbformat_minor": 5
}
