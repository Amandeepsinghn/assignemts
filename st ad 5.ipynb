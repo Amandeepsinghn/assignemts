{
 "cells": [
  {
   "cell_type": "code",
   "execution_count": 9,
   "id": "fd9cb733-0ddf-41a0-a912-99000f349bc8",
   "metadata": {},
   "outputs": [],
   "source": [
    "import math"
   ]
  },
  {
   "cell_type": "markdown",
   "id": "a51a5204-afc6-40e3-84a6-fb5304480049",
   "metadata": {},
   "source": [
    "### ANS 2"
   ]
  },
  {
   "cell_type": "code",
   "execution_count": 17,
   "id": "64968d6a-ad36-4273-a9dd-6eaddd7f5b6c",
   "metadata": {},
   "outputs": [],
   "source": [
    "import scipy.stats as stat"
   ]
  },
  {
   "cell_type": "code",
   "execution_count": 68,
   "id": "c88e5f35-ed81-46a5-a44e-ee556e238d92",
   "metadata": {},
   "outputs": [],
   "source": [
    "o=[20,40,50,50,40,70]\n",
    "percent=[0.2,0.2,0.2,0.1,0.1,0.2]\n",
    "e=[sum(o)*i for i in percent]\n",
    "sign=0.05\n",
    "dof=len(o)-1"
   ]
  },
  {
   "cell_type": "code",
   "execution_count": 67,
   "id": "034d8165-b423-4a0d-a1cb-188ccb230f20",
   "metadata": {},
   "outputs": [],
   "source": [
    "chi_sq,p_value=stat.chisquare(o,e)"
   ]
  },
  {
   "cell_type": "code",
   "execution_count": 69,
   "id": "2b477590-5139-49ae-8358-1c8bbd9099bd",
   "metadata": {},
   "outputs": [],
   "source": [
    "ch_critical_value=stat.chi2.ppf(1-sign,dof)"
   ]
  },
  {
   "cell_type": "code",
   "execution_count": 73,
   "id": "e9abe21c-8ee6-46c7-a456-d242858d2149",
   "metadata": {},
   "outputs": [
    {
     "name": "stdout",
     "output_type": "stream",
     "text": [
      "we reject the null hypotheis\n"
     ]
    }
   ],
   "source": [
    "if chi_sq>ch_critical_value:\n",
    "    print('we reject the null hypotheis')\n",
    "else:\n",
    "    print('we accept the null hypothesis')"
   ]
  },
  {
   "cell_type": "markdown",
   "id": "efca2402-2e6b-4ebf-b680-1fad789c8087",
   "metadata": {},
   "source": [
    "### ANS 3\n",
    "null_hypothesis=no association \n",
    "alternate_hypotheis=assocaition \n",
    "***\n",
    "1) a larger chi_square value suggest the stronger association\n",
    "2) a smaller p _value suggest stronger alternate hypothesis"
   ]
  },
  {
   "cell_type": "code",
   "execution_count": 22,
   "id": "3452b16d-02ef-4589-81ac-1d20e4c0d678",
   "metadata": {},
   "outputs": [],
   "source": [
    "import numpy as np \n",
    "sign=0.05"
   ]
  },
  {
   "cell_type": "code",
   "execution_count": 2,
   "id": "46713bee-8797-4d7c-bf2c-317408312181",
   "metadata": {},
   "outputs": [],
   "source": [
    "data=([[20,15],\n",
    "       [10,25],\n",
    "       [15,20]])"
   ]
  },
  {
   "cell_type": "code",
   "execution_count": 21,
   "id": "29709f17-6b1c-4f0e-9ac4-b342592eeef0",
   "metadata": {},
   "outputs": [],
   "source": [
    "chi_square,p_value,_,_=stat.chi2_contingency(data)"
   ]
  },
  {
   "cell_type": "code",
   "execution_count": 23,
   "id": "2972d8d9-5be0-4b02-bdd8-4f6b8ca8b9e5",
   "metadata": {},
   "outputs": [
    {
     "name": "stdout",
     "output_type": "stream",
     "text": [
      "we fail to reject the null hypotheis\n"
     ]
    }
   ],
   "source": [
    "if p_value>sign:\n",
    "    print('we fail to reject the null hypotheis')\n",
    "else:\n",
    "    print('we reject the null hypothesis')"
   ]
  },
  {
   "cell_type": "markdown",
   "id": "0204b9f2-1d99-4107-88c8-528cc1cca12e",
   "metadata": {},
   "source": [
    "### ANS 4"
   ]
  },
  {
   "cell_type": "code",
   "execution_count": 27,
   "id": "2253d5a8-1644-42e6-bc7c-b494fc382567",
   "metadata": {},
   "outputs": [
    {
     "name": "stdout",
     "output_type": "stream",
     "text": [
      "0.09151586546865079 0.1484841345313492\n"
     ]
    }
   ],
   "source": [
    "n=500\n",
    "ci=0.95\n",
    "sign=0.05\n",
    "z_value=1.96\n",
    "p=0.12\n",
    "\n",
    "margin_error=z_value*math.sqrt((p *(1-p)) /n)\n",
    "lower_ci=p - margin_error \n",
    "upper_ci=p + margin_error \n",
    "print(lower_ci,upper_ci)"
   ]
  },
  {
   "cell_type": "markdown",
   "id": "b775f1a3-2e2f-4c84-8922-1d47f6e703d3",
   "metadata": {},
   "source": [
    "### ANS 7"
   ]
  },
  {
   "cell_type": "code",
   "execution_count": 31,
   "id": "7f180242-6c20-489d-967e-e52737a9da3b",
   "metadata": {},
   "outputs": [
    {
     "name": "stdout",
     "output_type": "stream",
     "text": [
      "0.4792392659536166 0.5607607340463834\n"
     ]
    }
   ],
   "source": [
    "n=1000\n",
    "ci=0.99\n",
    "sign=0.01\n",
    "z_value=2.58\n",
    "p=0.52\n",
    "margin_error=z_value*math.sqrt((p *(1-p))/n)\n",
    "lower_ci=p - margin_error \n",
    "upper_ci=p + margin_error \n",
    "print(lower_ci,upper_ci)"
   ]
  },
  {
   "cell_type": "markdown",
   "id": "023f0334-1f8e-40d7-a744-f6e0b269a8f4",
   "metadata": {},
   "source": [
    "### ANS 8\n"
   ]
  },
  {
   "cell_type": "code",
   "execution_count": 39,
   "id": "adb8d0f8-dc62-4c63-8bae-0eec3e784862",
   "metadata": {},
   "outputs": [
    {
     "name": "stdout",
     "output_type": "stream",
     "text": [
      "we fail reject the null hypotheis\n"
     ]
    }
   ],
   "source": [
    "o=[45,55]\n",
    "e=[50,50]\n",
    "ci=0.95\n",
    "sign=0.05\n",
    "z_value=1.96\n",
    "dof=len(o)-1\n",
    "chi_squre,p_value=stat.chisquare(o,e)\n",
    "\n",
    "ch_critical_value=stat.chi2.ppf(1-sign,dof)\n",
    "\n",
    "if chi_squre>ch_critical_value:\n",
    "    print('we  reject the null hypotheis')\n",
    "else:\n",
    "    print('we fail reject the null hypotheis')\n"
   ]
  },
  {
   "cell_type": "markdown",
   "id": "773c24b3-9c14-45bd-b4ad-9f5757fecd79",
   "metadata": {},
   "source": [
    "### ANS 9"
   ]
  },
  {
   "cell_type": "code",
   "execution_count": 6,
   "id": "07faa7a8-2ec5-4728-8b2f-6882a29acea1",
   "metadata": {},
   "outputs": [
    {
     "name": "stdout",
     "output_type": "stream",
     "text": [
      "we reject the null hypothesis\n"
     ]
    }
   ],
   "source": [
    "import numpy as np \n",
    "\n",
    "data=([[60,140],\n",
    "          [30,170]]\n",
    "        )\n",
    "\n",
    "ch_square,p_value,_,_=stat.chi2_contingency(data)\n",
    "\n",
    "sign=0.05\n",
    "\n",
    "if p_value>sign:\n",
    "    print('we fail to reject the null hypothesis')\n",
    "else:\n",
    "    print('we reject the null hypothesis')"
   ]
  },
  {
   "cell_type": "markdown",
   "id": "9fb93d85-5605-414c-80c5-5dbf76b5cfe6",
   "metadata": {},
   "source": [
    "### ANS 10"
   ]
  },
  {
   "cell_type": "code",
   "execution_count": 7,
   "id": "37074275-502f-423a-b3da-44fcbe1a9a16",
   "metadata": {},
   "outputs": [
    {
     "name": "stdout",
     "output_type": "stream",
     "text": [
      "we reject the null hypothesis\n"
     ]
    }
   ],
   "source": [
    "data=([[200,150,150],\n",
    "       [225,175,100]]\n",
    "     )\n",
    "\n",
    "ch_square,p_value,_,_=stat.chi2_contingency(data)\n",
    "\n",
    "sign=0.01 \n",
    "\n",
    "if p_value>sign:\n",
    "    print('we fail to reject the null hypothesis')\n",
    "else:\n",
    "    print('we reject the null hypothesis')"
   ]
  },
  {
   "cell_type": "markdown",
   "id": "4f7cd795-f9f5-4101-901e-6fbe2505f90b",
   "metadata": {},
   "source": [
    "### ANS 11"
   ]
  },
  {
   "cell_type": "code",
   "execution_count": 14,
   "id": "74f8be5a-da09-4546-98b9-a7badf6badef",
   "metadata": {},
   "outputs": [
    {
     "name": "stdout",
     "output_type": "stream",
     "text": [
      "1.0954451150103324\n",
      "we fail to reject the null hypothesis\n"
     ]
    }
   ],
   "source": [
    "n=30\n",
    "x=72\n",
    "s=10\n",
    "x1=70\n",
    "sign=0.05\n",
    "z_value=1.96\n",
    "t=((x-x1)/10)*math.sqrt(30)\n",
    "dof=n-1\n",
    "critical_value=+2.045\n",
    "critical_value2=-2.045\n",
    "print(t)\n",
    "\n",
    "if t<critical_value and t>critical_value2:\n",
    "    print('we fail to reject the null hypothesis')\n",
    "    \n",
    "else:\n",
    "    print('we reject the null hypothesis')"
   ]
  },
  {
   "cell_type": "markdown",
   "id": "704b1cf3-5ed3-4a00-a429-88982b5439c3",
   "metadata": {},
   "source": [
    "\n"
   ]
  },
  {
   "cell_type": "markdown",
   "id": "b206bc89-5de7-432a-a273-54fef812f177",
   "metadata": {},
   "source": [
    "### ANS 1\n"
   ]
  },
  {
   "cell_type": "code",
   "execution_count": 19,
   "id": "613ffe23-05ee-486c-a0b6-e4149717b072",
   "metadata": {},
   "outputs": [
    {
     "name": "stdout",
     "output_type": "stream",
     "text": [
      "40.200180077299734 59.799819922700266\n"
     ]
    }
   ],
   "source": [
    "ci=0.95\n",
    "x1=50\n",
    "s=5\n",
    "sign=0.05\n",
    "z_value=1.96\n",
    "sample_size=None \n",
    "\n",
    "if sample_size:\n",
    "    sem =s/(sample_size)\n",
    "else:\n",
    "    sem=s\n",
    "    \n",
    "margin_of_error=stat.norm.ppf((1+ci)/2)*sem \n",
    "\n",
    "l_ci=x1-margin_of_error\n",
    "u_ci=x1+margin_of_error\n",
    "print(l_ci,u_ci)"
   ]
  },
  {
   "cell_type": "markdown",
   "id": "972af3ff-6f8a-46a3-9bbd-85948d62f135",
   "metadata": {},
   "source": [
    "### ANS 5"
   ]
  },
  {
   "cell_type": "code",
   "execution_count": 20,
   "id": "014b3a90-1e22-49a5-857c-016c01998a40",
   "metadata": {},
   "outputs": [
    {
     "name": "stdout",
     "output_type": "stream",
     "text": [
      "55.261756476582335 94.73824352341767\n"
     ]
    }
   ],
   "source": [
    "ci=0.90\n",
    "x1=75\n",
    "s=12\n",
    "sign=0.10\n",
    "sample_size=None \n",
    "\n",
    "if sample_size:\n",
    "    sem= s/(sample_size)\n",
    "    \n",
    "else:\n",
    "    sem=s\n",
    "    \n",
    "margin_of_error=stat.norm.ppf((1+ci)/2)*sem \n",
    "\n",
    "l_ci=x1-margin_of_error\n",
    "u_ci=x1+margin_of_error\n",
    "print(l_ci,u_ci)\n"
   ]
  },
  {
   "cell_type": "markdown",
   "id": "9398128c-88de-471f-ae99-b1cb53d2c020",
   "metadata": {},
   "source": [
    "### ANS 6"
   ]
  },
  {
   "cell_type": "code",
   "execution_count": 21,
   "id": "2506d213-2ebf-4c4b-ab8e-493a3bab7e02",
   "metadata": {},
   "outputs": [
    {
     "data": {
      "image/png": "[encoded data removed]",
      "text/plain": [
       "<Figure size 640x480 with 1 Axes>"
      ]
     },
     "metadata": {},
     "output_type": "display_data"
    }
   ],
   "source": [
    "import numpy as np\n",
    "import matplotlib.pyplot as plt \n",
    "import scipy.stats as stats\n",
    "\n",
    "df=10\n",
    "\n",
    "x=np.linspace(0,30,400)\n",
    "\n",
    "pdf=stats.chi2.pdf(x,df)\n",
    "\n",
    "plt.plot(x,pdf,label='chi-square distribution',color='b')\n",
    "\n",
    "x_fill=np.linspace(0,15,400)\n",
    "pdf_fill=stats.chi2.pdf(x_fill,df)\n",
    "plt.fill_between(x_fill,pdf_fill,color='red',label='chi-square>15')\n",
    "plt.xlabel('chi-squre')\n",
    "plt.ylabel('probability density')\n",
    "plt.title('chi-square distribution with shaded area')\n",
    "plt.show()"
   ]
  },
  {
   "cell_type": "code",
   "execution_count": null,
   "id": "bc68dc88-2763-40c3-a1db-c2e8451e517f",
   "metadata": {},
   "outputs": [],
   "source": []
  },
  {
   "cell_type": "code",
   "execution_count": null,
   "id": "9dcdd5d5-2f0e-4f83-90ba-19c254dbff28",
   "metadata": {},
   "outputs": [],
   "source": []
  }
 ],
 "metadata": {
  "kernelspec": {
   "display_name": "Python 3 (ipykernel)",
   "language": "python",
   "name": "python3"
  },
  "language_info": {
   "codemirror_mode": {
    "name": "ipython",
    "version": 3
   },
   "file_extension": ".py",
   "mimetype": "text/x-python",
   "name": "python",
   "nbconvert_exporter": "python",
   "pygments_lexer": "ipython3",
   "version": "3.10.8"
  }
 },
 "nbformat": 4,
 "nbformat_minor": 5
}
