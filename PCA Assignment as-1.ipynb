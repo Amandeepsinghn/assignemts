{
 "cells": [
  {
   "cell_type": "markdown",
   "id": "d19afc48",
   "metadata": {},
   "source": [
    "### ANS 1\n",
    "curse of dimensionality reduction means reducing the number of feature to remove uneccessary feature. It is very important in machine learning as more number of feature confuses the model which leads overfitting hence reucing the accuracy of the model."
   ]
  },
  {
   "cell_type": "markdown",
   "id": "0691ff31",
   "metadata": {},
   "source": [
    "### ANS 2\n",
    "curse of dimensionality impact the performance as it leads to overfitting hence it reduce the accuracy of the model."
   ]
  },
  {
   "cell_type": "markdown",
   "id": "ae59c6d8",
   "metadata": {},
   "source": [
    "### ANS 4 \n",
    "feature selection is the selection of feature based on the correlation with the dependent feature or making feature out of exisiting feature and deleting the previous feature."
   ]
  },
  {
   "cell_type": "markdown",
   "id": "c352ce88",
   "metadata": {},
   "source": [
    "### ANS 3\n",
    "consequences of curse of dimensionality:\n",
    "1) it leads of overfitting. \n",
    "2) it can make the model confuse. \n",
    "3) model may also cover noise in the data. \n",
    "4) it can lead low varaince.\n",
    "5) most relevant feature are hard to select because of curse of dimensionality.\n",
    "6) it can increase computional complexity  \n",
    "***\n",
    "it leads to less accuaracy,presion and f1 score etc."
   ]
  },
  {
   "cell_type": "markdown",
   "id": "ed50cc5d",
   "metadata": {},
   "source": [
    "### ANS 5\n",
    "1) it can lead to information loss. technique like pca can may not be able to all the varaince of the data.\n",
    "2) it is very computationally expensive.\n",
    "3) dimensionality reduction may be sensitive to noise and outlier.\n",
    "4) realtionship between reduced feature and orginal feature may be harder to interpret.\n"
   ]
  },
  {
   "cell_type": "markdown",
   "id": "74ca56a3",
   "metadata": {},
   "source": [
    "### ANS 6\n",
    "1) curse of dimensionality leads to overfitting of the model as it may capture the noise and outlier.\n",
    "2) curse of dimensionality may also lead to underfitting as the number of dimension increases and the data is insufficient it may become challenging for model to capture and learn the complex realtionship it may underfit the model."
   ]
  },
  {
   "cell_type": "markdown",
   "id": "a48e5452",
   "metadata": {},
   "source": [
    "### ANS 7\n",
    "We can capture important PCA based over which cover highest varaince and then perform cross validation on differnt number of pca and slecting number of pca based on the accuracy of the model."
   ]
  },
  {
   "cell_type": "code",
   "execution_count": null,
   "id": "9db605a7",
   "metadata": {},
   "outputs": [],
   "source": []
  }
 ],
 "metadata": {
  "kernelspec": {
   "display_name": "Python 3 (ipykernel)",
   "language": "python",
   "name": "python3"
  },
  "language_info": {
   "codemirror_mode": {
    "name": "ipython",
    "version": 3
   },
   "file_extension": ".py",
   "mimetype": "text/x-python",
   "name": "python",
   "nbconvert_exporter": "python",
   "pygments_lexer": "ipython3",
   "version": "3.11.4"
  }
 },
 "nbformat": 4,
 "nbformat_minor": 5
}
