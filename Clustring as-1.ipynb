{
 "cells": [
  {
   "cell_type": "markdown",
   "id": "4040974e",
   "metadata": {},
   "source": [
    "### ANS 1\n",
    "there are many types of different clusters:\n",
    "1) KMeans: it first intialize some centroids and select points nearest to centroid and calcuate the mean from the centroid and move centroid according to it.\n",
    "2) Hierarichal: for each point it intialize a cluster and find the nearest cluster and keep on doing unitl we get the single cluster. we use dindogram to select the preffered k value.\n",
    "3) DBSCAN: we intialize 3 points each having E radius and we intialize minpoints we intialize red point if it has minipoints greater than intialize, blue if has less than red points and vlue if it has no points(outlier)."
   ]
  },
  {
   "cell_type": "markdown",
   "id": "a740ca72",
   "metadata": {},
   "source": [
    "### ANS 2\n",
    "K-means clustring:\n",
    "K-means is a clusting algorithim which is used to make clusters.\n",
    "it first intialize some centroids and select points nearest to centroid and calcuate the mean from the centroid and move centroid according to it. it repeats processes again and again.\n"
   ]
  },
  {
   "cell_type": "markdown",
   "id": "90332215",
   "metadata": {},
   "source": [
    "### ANS 4\n",
    "we determine the optimal number of cluster by calculating the wcss for every k(it intializese the number of cluster). we make the graph of wcss with k and we select the elbow value because after that curve goes straight. \n"
   ]
  },
  {
   "cell_type": "markdown",
   "id": "41b93cb2",
   "metadata": {},
   "source": [
    "### ANS 5\n",
    "some application of k-means clusting:\n",
    "1) targeting specific audience for giving discount. \n",
    "2) giving high dosage to specific age people according to thier deceases.\n",
    "3) investing in things that are high in demand and are cheaper."
   ]
  },
  {
   "cell_type": "markdown",
   "id": "647261f5",
   "metadata": {},
   "source": [
    "### ANS 6\n",
    "we can interpret the output of k-means by making graph with color parameter=kmeans.labels_.according to the graph we target the specific results."
   ]
  },
  {
   "cell_type": "markdown",
   "id": "7d968a2a",
   "metadata": {},
   "source": [
    "### ANS 7\n",
    "some common chalanges in k-means clustring:\n",
    "1) it may sometimes adress or make the wrong cluster to mitigate this problem we intialize K++ in init paramter to avoid this problem.\n",
    "2) finding k value can take time by going by graph appraoch so can usee kneelocater by giving range of k value to get the best k value."
   ]
  },
  {
   "cell_type": "markdown",
   "id": "45228dde",
   "metadata": {},
   "source": [
    "### ANS 3\n",
    "advantages of k-means:\n",
    "1) It is robust \n",
    "2) it produces tighter cluster.\n",
    "3) suitable for large dataset as compared to heirarichal clustring.\n",
    "4) it can handle unbalanced dataset.\n",
    "*** \n",
    "limitations of k-means:\n",
    "1) difficult to choose k value.\n",
    "2) dataset first need to be scaled.\n",
    "3) sensitive to outliers."
   ]
  },
  {
   "cell_type": "code",
   "execution_count": null,
   "id": "83952934",
   "metadata": {},
   "outputs": [],
   "source": []
  }
 ],
 "metadata": {
  "kernelspec": {
   "display_name": "Python 3 (ipykernel)",
   "language": "python",
   "name": "python3"
  },
  "language_info": {
   "codemirror_mode": {
    "name": "ipython",
    "version": 3
   },
   "file_extension": ".py",
   "mimetype": "text/x-python",
   "name": "python",
   "nbconvert_exporter": "python",
   "pygments_lexer": "ipython3",
   "version": "3.11.4"
  }
 },
 "nbformat": 4,
 "nbformat_minor": 5
}
